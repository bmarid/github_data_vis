{
 "cells": [
  {
   "cell_type": "raw",
   "id": "afc79161-f047-4925-83bf-da1305760781",
   "metadata": {},
   "source": [
    "Full description of notebook\n",
    "*\n",
    "*"
   ]
  },
  {
   "cell_type": "markdown",
   "id": "af04fe50-3db9-496e-8e98-5e3cdf163178",
   "metadata": {},
   "source": [
    "# imports"
   ]
  },
  {
   "cell_type": "code",
   "execution_count": 277,
   "id": "65ee03e9-41a4-4e4a-94a0-e317be12703a",
   "metadata": {},
   "outputs": [],
   "source": [
    "import pandas as pd\n",
    "import matplotlib.pyplot as plt\n",
    "import networkx as nx"
   ]
  },
  {
   "cell_type": "code",
   "execution_count": null,
   "id": "1d78d893-61a6-4114-939b-79779474f003",
   "metadata": {},
   "outputs": [],
   "source": [
    "# read files"
   ]
  },
  {
   "cell_type": "code",
   "execution_count": 184,
   "id": "534aa363-8bc1-4ac5-b23a-34315faa686b",
   "metadata": {},
   "outputs": [],
   "source": [
    "file_comments = 'github_1000stars_comments.csv'\n",
    "file_issues = 'github_1000stars_issues.csv'\n",
    "file_rep = 'mrdoob_three.js.csv'"
   ]
  },
  {
   "cell_type": "code",
   "execution_count": 185,
   "id": "4bf9de29-45eb-4ad9-a7be-2fc294edd08c",
   "metadata": {},
   "outputs": [],
   "source": [
    "df_comments = pd.read_csv(file_comments)\n",
    "df_issues = pd.read_csv(file_issues)\n",
    "df_rep = pd.read_csv(file_rep)"
   ]
  },
  {
   "cell_type": "code",
   "execution_count": 186,
   "id": "23f84d45-9137-4314-9268-49506b394c5e",
   "metadata": {},
   "outputs": [],
   "source": [
    "df_comments_copy = df_comments.copy()\n",
    "df_issues_copy = df_issues.copy()\n",
    "df_rep_copy = df_rep.copy()"
   ]
  },
  {
   "cell_type": "code",
   "execution_count": 439,
   "id": "38ad862b-0695-4c31-965c-24529a9ae448",
   "metadata": {},
   "outputs": [],
   "source": [
    "path = 'data/'"
   ]
  },
  {
   "cell_type": "code",
   "execution_count": 442,
   "id": "287d5813-0d22-459c-9f93-26f9ca4e07f6",
   "metadata": {},
   "outputs": [],
   "source": [
    "def save_graph(G, graph_name):\n",
    "    filepath = path + 'graph/' + graph_name + '.gexf'\n",
    "    nx.write_gexf(G, filepath)"
   ]
  },
  {
   "cell_type": "code",
   "execution_count": 443,
   "id": "a596699a-025e-4213-ab1a-7787417f1bf7",
   "metadata": {},
   "outputs": [],
   "source": [
    "def save_csv(df, file_name):\n",
    "    filepath = path + file_name + '.csv'\n",
    "    df.to_csv(filepath, index = False)  "
   ]
  },
  {
   "cell_type": "markdown",
   "id": "3f52ca32-8500-4cc5-8737-1f57ee1183f9",
   "metadata": {},
   "source": [
    "# all reposistories"
   ]
  },
  {
   "cell_type": "code",
   "execution_count": 187,
   "id": "b09a19b8-f0a0-4c59-a6b5-866ab3f9ed17",
   "metadata": {},
   "outputs": [
    {
     "data": {
      "text/plain": [
       "[freeCodeCamp]freeCodeCamp                 10000\n",
       "[mrdoob]three.js                           10000\n",
       "[microsoft]terminal                        10000\n",
       "[angular]angular                           10000\n",
       "[kubernetes]kubernetes                     10000\n",
       "[nodejs]node                               10000\n",
       "[golang]go                                 10000\n",
       "[ytdl-org]youtube-dl                       10000\n",
       "[facebook]create-react-app                 10000\n",
       "[vuejs]vue                                 10000\n",
       "[microsoft]TypeScript                      10000\n",
       "[facebook]react-native                     10000\n",
       "[denoland]deno                             10000\n",
       "[ohmyzsh]ohmyzsh                           10000\n",
       "[microsoft]vscode                          10000\n",
       "[facebook]react                            10000\n",
       "[tensorflow]tensorflow                     10000\n",
       "[twbs]bootstrap                            10000\n",
       "[flutter]flutter                           10000\n",
       "[ant-design]ant-design                     10000\n",
       "[mui]material-ui                           10000\n",
       "[tensorflow]models                          9474\n",
       "[puppeteer]puppeteer                        9037\n",
       "[TheAlgorithms]Python                       7778\n",
       "[axios]axios                                4957\n",
       "[electron]electron                          4838\n",
       "[d3]d3                                      3232\n",
       "[kamranahmedse]developer-roadmap            2485\n",
       "[airbnb]javascript                          2448\n",
       "[Snailclimb]JavaGuide                       1763\n",
       "[30-seconds]30-seconds-of-code              1759\n",
       "[getify]You-Dont-Know-JS                    1642\n",
       "[animate-css]animate.css                    1565\n",
       "[jwasham]coding-interview-university        1170\n",
       "[laravel]laravel                            1145\n",
       "[CyC2018]CS-Notes                            973\n",
       "[ossu]computer-science                       960\n",
       "[labuladong]fucking-algorithm                816\n",
       "[trekhleb]javascript-algorithms              655\n",
       "[jlevy]the-art-of-command-line               566\n",
       "[codecrafters-io]build-your-own-x            528\n",
       "[torvalds]linux                              449\n",
       "[justjavac]free-programming-books-zh_CN      424\n",
       "[donnemartin]system-design-primer            343\n",
       "[jackfrued]Python-100-Days                   225\n",
       "Name: Repository, dtype: int64"
      ]
     },
     "execution_count": 187,
     "metadata": {},
     "output_type": "execute_result"
    }
   ],
   "source": [
    " df_issues['Repository'].value_counts()"
   ]
  },
  {
   "cell_type": "code",
   "execution_count": 188,
   "id": "4745d500-b7a3-4691-a7a5-4187259a54a7",
   "metadata": {},
   "outputs": [],
   "source": [
    "repository = '[golang]go'\n",
    "# repository = '[mrdoob]three.js'\n",
    "# repositiry = '[donnemartin]system-design-primer'\n",
    "#repository = '[torvalds]linux'"
   ]
  },
  {
   "cell_type": "code",
   "execution_count": 189,
   "id": "3b548c13-4204-43b5-8368-1dde37c7948c",
   "metadata": {},
   "outputs": [],
   "source": [
    "df_go_comments = df_comments[df_comments['Repository'] == repository]\n",
    "df_go_issues = df_issues[df_issues['Repository'] == repository]"
   ]
  },
  {
   "cell_type": "code",
   "execution_count": null,
   "id": "9d260b67-78ce-4a20-96e0-1ef33b56b050",
   "metadata": {},
   "outputs": [],
   "source": []
  },
  {
   "cell_type": "code",
   "execution_count": 450,
   "id": "fb44b986-8b7f-4e27-871e-7b9342b11de4",
   "metadata": {},
   "outputs": [],
   "source": [
    "# df_issues.head()"
   ]
  },
  {
   "cell_type": "code",
   "execution_count": 190,
   "id": "db0d56b5-9893-49d3-811c-30dd573b8ea9",
   "metadata": {},
   "outputs": [
    {
     "data": {
      "text/plain": [
       "56868"
      ]
     },
     "execution_count": 190,
     "metadata": {},
     "output_type": "execute_result"
    }
   ],
   "source": [
    "len(df_go_comments['ID'].values)"
   ]
  },
  {
   "cell_type": "code",
   "execution_count": 191,
   "id": "17cae00a-f922-48e4-8074-835405bd25d7",
   "metadata": {},
   "outputs": [
    {
     "data": {
      "text/plain": [
       "10000"
      ]
     },
     "execution_count": 191,
     "metadata": {},
     "output_type": "execute_result"
    }
   ],
   "source": [
    "len(df_go_issues['ID'].values)"
   ]
  },
  {
   "cell_type": "code",
   "execution_count": 192,
   "id": "0c8af356-0c37-4895-851b-1b76215c6159",
   "metadata": {},
   "outputs": [],
   "source": [
    "# list(df_go_comments['ID'].value_counts())"
   ]
  },
  {
   "cell_type": "code",
   "execution_count": 193,
   "id": "f2e1d032-a818-48d8-a9d2-3cbfe02f84f1",
   "metadata": {},
   "outputs": [
    {
     "data": {
      "text/plain": [
       "9       1095\n",
       "2981     125\n",
       "395      118\n",
       "4373     116\n",
       "1435     105\n",
       "        ... \n",
       "263        1\n",
       "5101       1\n",
       "7091       1\n",
       "3089       1\n",
       "6096       1\n",
       "Name: ID, Length: 9898, dtype: int64"
      ]
     },
     "execution_count": 193,
     "metadata": {},
     "output_type": "execute_result"
    }
   ],
   "source": [
    "df_go_comments['ID'].value_counts()"
   ]
  },
  {
   "cell_type": "code",
   "execution_count": 194,
   "id": "b526cdc6-ab29-4e41-b52d-b551504309d2",
   "metadata": {},
   "outputs": [
    {
     "data": {
      "text/plain": [
       "1        1\n",
       "6847     1\n",
       "6838     1\n",
       "6839     1\n",
       "6841     1\n",
       "        ..\n",
       "3372     1\n",
       "3373     1\n",
       "3374     1\n",
       "3375     1\n",
       "10430    1\n",
       "Name: ID, Length: 10000, dtype: int64"
      ]
     },
     "execution_count": 194,
     "metadata": {},
     "output_type": "execute_result"
    }
   ],
   "source": [
    "df_go_issues['ID'].value_counts()"
   ]
  },
  {
   "cell_type": "markdown",
   "id": "d82a524d-7c56-4ef7-8248-0493607b7748",
   "metadata": {},
   "source": [
    "# Three repository"
   ]
  },
  {
   "cell_type": "markdown",
   "id": "ba84ae16-fb2d-41f7-9356-2d11188c67af",
   "metadata": {},
   "source": [
    "## Comments"
   ]
  },
  {
   "cell_type": "code",
   "execution_count": 195,
   "id": "36136568-5b76-4529-a13d-8cd118f2c453",
   "metadata": {},
   "outputs": [],
   "source": [
    "df_three_comments = df_comments[df_comments['Repository'] == '[mrdoob]three.js']"
   ]
  },
  {
   "cell_type": "code",
   "execution_count": 196,
   "id": "75e63997-7d10-4e31-b014-213181f6f4c9",
   "metadata": {},
   "outputs": [
    {
     "data": {
      "text/html": [
       "<div>\n",
       "<style scoped>\n",
       "    .dataframe tbody tr th:only-of-type {\n",
       "        vertical-align: middle;\n",
       "    }\n",
       "\n",
       "    .dataframe tbody tr th {\n",
       "        vertical-align: top;\n",
       "    }\n",
       "\n",
       "    .dataframe thead th {\n",
       "        text-align: right;\n",
       "    }\n",
       "</style>\n",
       "<table border=\"1\" class=\"dataframe\">\n",
       "  <thead>\n",
       "    <tr style=\"text-align: right;\">\n",
       "      <th></th>\n",
       "      <th>Repository</th>\n",
       "      <th>ID</th>\n",
       "      <th>User</th>\n",
       "      <th>CreatedAt</th>\n",
       "      <th>CountReactions</th>\n",
       "      <th>CountLike</th>\n",
       "      <th>CountDislike</th>\n",
       "      <th>Sentiment</th>\n",
       "      <th>SentimentScore</th>\n",
       "    </tr>\n",
       "  </thead>\n",
       "  <tbody>\n",
       "    <tr>\n",
       "      <th>1063146</th>\n",
       "      <td>[mrdoob]three.js</td>\n",
       "      <td>1</td>\n",
       "      <td>mrdoob</td>\n",
       "      <td>2010-04-25</td>\n",
       "      <td>0</td>\n",
       "      <td>0</td>\n",
       "      <td>0</td>\n",
       "      <td>POSITIVE</td>\n",
       "      <td>0.9977</td>\n",
       "    </tr>\n",
       "    <tr>\n",
       "      <th>1063147</th>\n",
       "      <td>[mrdoob]three.js</td>\n",
       "      <td>1</td>\n",
       "      <td>splatcollision</td>\n",
       "      <td>2011-01-10</td>\n",
       "      <td>0</td>\n",
       "      <td>0</td>\n",
       "      <td>0</td>\n",
       "      <td>POSITIVE</td>\n",
       "      <td>0.9990</td>\n",
       "    </tr>\n",
       "    <tr>\n",
       "      <th>1063148</th>\n",
       "      <td>[mrdoob]three.js</td>\n",
       "      <td>2</td>\n",
       "      <td>mrdoob</td>\n",
       "      <td>2010-04-26</td>\n",
       "      <td>0</td>\n",
       "      <td>0</td>\n",
       "      <td>0</td>\n",
       "      <td>POSITIVE</td>\n",
       "      <td>0.7345</td>\n",
       "    </tr>\n",
       "    <tr>\n",
       "      <th>1063149</th>\n",
       "      <td>[mrdoob]three.js</td>\n",
       "      <td>2</td>\n",
       "      <td>Ovid</td>\n",
       "      <td>2010-04-26</td>\n",
       "      <td>0</td>\n",
       "      <td>0</td>\n",
       "      <td>0</td>\n",
       "      <td>POSITIVE</td>\n",
       "      <td>0.9975</td>\n",
       "    </tr>\n",
       "    <tr>\n",
       "      <th>1063150</th>\n",
       "      <td>[mrdoob]three.js</td>\n",
       "      <td>2</td>\n",
       "      <td>jurjen</td>\n",
       "      <td>2010-04-30</td>\n",
       "      <td>0</td>\n",
       "      <td>0</td>\n",
       "      <td>0</td>\n",
       "      <td>POSITIVE</td>\n",
       "      <td>0.9921</td>\n",
       "    </tr>\n",
       "  </tbody>\n",
       "</table>\n",
       "</div>"
      ],
      "text/plain": [
       "               Repository  ID            User   CreatedAt  CountReactions  \\\n",
       "1063146  [mrdoob]three.js   1          mrdoob  2010-04-25               0   \n",
       "1063147  [mrdoob]three.js   1  splatcollision  2011-01-10               0   \n",
       "1063148  [mrdoob]three.js   2          mrdoob  2010-04-26               0   \n",
       "1063149  [mrdoob]three.js   2            Ovid  2010-04-26               0   \n",
       "1063150  [mrdoob]three.js   2          jurjen  2010-04-30               0   \n",
       "\n",
       "         CountLike  CountDislike Sentiment  SentimentScore  \n",
       "1063146          0             0  POSITIVE          0.9977  \n",
       "1063147          0             0  POSITIVE          0.9990  \n",
       "1063148          0             0  POSITIVE          0.7345  \n",
       "1063149          0             0  POSITIVE          0.9975  \n",
       "1063150          0             0  POSITIVE          0.9921  "
      ]
     },
     "execution_count": 196,
     "metadata": {},
     "output_type": "execute_result"
    }
   ],
   "source": [
    "df_three_comments.head()"
   ]
  },
  {
   "cell_type": "code",
   "execution_count": 451,
   "id": "382d79c7-c8dd-4bee-a64b-80329643ab72",
   "metadata": {},
   "outputs": [
    {
     "data": {
      "text/html": [
       "<div>\n",
       "<style scoped>\n",
       "    .dataframe tbody tr th:only-of-type {\n",
       "        vertical-align: middle;\n",
       "    }\n",
       "\n",
       "    .dataframe tbody tr th {\n",
       "        vertical-align: top;\n",
       "    }\n",
       "\n",
       "    .dataframe thead th {\n",
       "        text-align: right;\n",
       "    }\n",
       "</style>\n",
       "<table border=\"1\" class=\"dataframe\">\n",
       "  <thead>\n",
       "    <tr style=\"text-align: right;\">\n",
       "      <th></th>\n",
       "      <th>Repository</th>\n",
       "      <th>ID</th>\n",
       "      <th>User</th>\n",
       "      <th>Type</th>\n",
       "      <th>State</th>\n",
       "      <th>CommitId</th>\n",
       "      <th>CreatedAt</th>\n",
       "      <th>ClosedAt</th>\n",
       "      <th>IsMerged</th>\n",
       "      <th>CountReactions</th>\n",
       "      <th>CountLike</th>\n",
       "      <th>CountDislike</th>\n",
       "    </tr>\n",
       "  </thead>\n",
       "  <tbody>\n",
       "    <tr>\n",
       "      <th>238087</th>\n",
       "      <td>[mrdoob]three.js</td>\n",
       "      <td>1</td>\n",
       "      <td>chrislloyd</td>\n",
       "      <td>issue</td>\n",
       "      <td>closed</td>\n",
       "      <td>NaN</td>\n",
       "      <td>2010-04-25</td>\n",
       "      <td>2010-04-26</td>\n",
       "      <td>False</td>\n",
       "      <td>0</td>\n",
       "      <td>0</td>\n",
       "      <td>0</td>\n",
       "    </tr>\n",
       "    <tr>\n",
       "      <th>238088</th>\n",
       "      <td>[mrdoob]three.js</td>\n",
       "      <td>2</td>\n",
       "      <td>Ovid</td>\n",
       "      <td>issue</td>\n",
       "      <td>closed</td>\n",
       "      <td>NaN</td>\n",
       "      <td>2010-04-26</td>\n",
       "      <td>2010-11-04</td>\n",
       "      <td>False</td>\n",
       "      <td>0</td>\n",
       "      <td>0</td>\n",
       "      <td>0</td>\n",
       "    </tr>\n",
       "    <tr>\n",
       "      <th>238089</th>\n",
       "      <td>[mrdoob]three.js</td>\n",
       "      <td>3</td>\n",
       "      <td>icidasset</td>\n",
       "      <td>issue</td>\n",
       "      <td>closed</td>\n",
       "      <td>NaN</td>\n",
       "      <td>2010-06-20</td>\n",
       "      <td>2010-06-21</td>\n",
       "      <td>False</td>\n",
       "      <td>0</td>\n",
       "      <td>0</td>\n",
       "      <td>0</td>\n",
       "    </tr>\n",
       "    <tr>\n",
       "      <th>238090</th>\n",
       "      <td>[mrdoob]three.js</td>\n",
       "      <td>4</td>\n",
       "      <td>SignpostMarv</td>\n",
       "      <td>issue</td>\n",
       "      <td>closed</td>\n",
       "      <td>NaN</td>\n",
       "      <td>2010-06-23</td>\n",
       "      <td>2010-06-24</td>\n",
       "      <td>False</td>\n",
       "      <td>0</td>\n",
       "      <td>0</td>\n",
       "      <td>0</td>\n",
       "    </tr>\n",
       "    <tr>\n",
       "      <th>238091</th>\n",
       "      <td>[mrdoob]three.js</td>\n",
       "      <td>5</td>\n",
       "      <td>SignpostMarv</td>\n",
       "      <td>issue</td>\n",
       "      <td>closed</td>\n",
       "      <td>NaN</td>\n",
       "      <td>2010-06-23</td>\n",
       "      <td>2010-06-23</td>\n",
       "      <td>False</td>\n",
       "      <td>0</td>\n",
       "      <td>0</td>\n",
       "      <td>0</td>\n",
       "    </tr>\n",
       "  </tbody>\n",
       "</table>\n",
       "</div>"
      ],
      "text/plain": [
       "              Repository  ID          User   Type   State CommitId  \\\n",
       "238087  [mrdoob]three.js   1    chrislloyd  issue  closed      NaN   \n",
       "238088  [mrdoob]three.js   2          Ovid  issue  closed      NaN   \n",
       "238089  [mrdoob]three.js   3     icidasset  issue  closed      NaN   \n",
       "238090  [mrdoob]three.js   4  SignpostMarv  issue  closed      NaN   \n",
       "238091  [mrdoob]three.js   5  SignpostMarv  issue  closed      NaN   \n",
       "\n",
       "         CreatedAt    ClosedAt  IsMerged  CountReactions  CountLike  \\\n",
       "238087  2010-04-25  2010-04-26     False               0          0   \n",
       "238088  2010-04-26  2010-11-04     False               0          0   \n",
       "238089  2010-06-20  2010-06-21     False               0          0   \n",
       "238090  2010-06-23  2010-06-24     False               0          0   \n",
       "238091  2010-06-23  2010-06-23     False               0          0   \n",
       "\n",
       "        CountDislike  \n",
       "238087             0  \n",
       "238088             0  \n",
       "238089             0  \n",
       "238090             0  \n",
       "238091             0  "
      ]
     },
     "execution_count": 451,
     "metadata": {},
     "output_type": "execute_result"
    }
   ],
   "source": [
    "df_three.head()"
   ]
  },
  {
   "cell_type": "code",
   "execution_count": 197,
   "id": "68bc617c-c4fb-4b6f-9567-85a4a288a19a",
   "metadata": {},
   "outputs": [
    {
     "data": {
      "text/plain": [
       "9562     339\n",
       "9754     237\n",
       "7522     165\n",
       "5835     158\n",
       "4776     153\n",
       "        ... \n",
       "7418       1\n",
       "3810       1\n",
       "3807       1\n",
       "7423       1\n",
       "10049      1\n",
       "Name: ID, Length: 9364, dtype: int64"
      ]
     },
     "execution_count": 197,
     "metadata": {},
     "output_type": "execute_result"
    }
   ],
   "source": [
    "df_three_comments['ID'].value_counts()"
   ]
  },
  {
   "cell_type": "code",
   "execution_count": 198,
   "id": "2c600ac8-679f-4a50-8245-56c84ae44d42",
   "metadata": {},
   "outputs": [
    {
     "data": {
      "text/plain": [
       "1        1\n",
       "6685     1\n",
       "6678     1\n",
       "6679     1\n",
       "6680     1\n",
       "        ..\n",
       "3338     1\n",
       "3339     1\n",
       "3340     1\n",
       "3341     1\n",
       "10049    1\n",
       "Name: ID, Length: 10000, dtype: int64"
      ]
     },
     "execution_count": 198,
     "metadata": {},
     "output_type": "execute_result"
    }
   ],
   "source": [
    "df_three['ID'].value_counts()"
   ]
  },
  {
   "cell_type": "markdown",
   "id": "1f2390ed-e6cb-481e-b2bc-98b8295f9856",
   "metadata": {},
   "source": [
    "Checking numbers of ID_comments == ID_pri"
   ]
  },
  {
   "cell_type": "code",
   "execution_count": 199,
   "id": "8046819d-9c15-42e6-8cdb-64b3f201b100",
   "metadata": {},
   "outputs": [
    {
     "name": "stdout",
     "output_type": "stream",
     "text": [
      "in df_three_comments we have len(ID) = \n",
      "9364\n"
     ]
    }
   ],
   "source": [
    "print(\"in df_three_comments we have len(ID) = \")\n",
    "print(len(df_three_comments['ID'].value_counts()))"
   ]
  },
  {
   "cell_type": "code",
   "execution_count": 200,
   "id": "0ab53afe-8726-4f8d-90fe-7b316b04719f",
   "metadata": {},
   "outputs": [
    {
     "name": "stdout",
     "output_type": "stream",
     "text": [
      "in df_three pr/i we have len(ID) = \n",
      "10000\n"
     ]
    }
   ],
   "source": [
    "print(\"in df_three pr/i we have len(ID) = \")\n",
    "print(len(df_three['ID'].value_counts()))"
   ]
  },
  {
   "cell_type": "code",
   "execution_count": 201,
   "id": "715603c0-7f28-496b-941b-ae56ed6465c9",
   "metadata": {},
   "outputs": [
    {
     "name": "stdout",
     "output_type": "stream",
     "text": [
      "1\n",
      "10049\n"
     ]
    }
   ],
   "source": [
    "print(min(df_three_comments['ID'].values))\n",
    "print(max(df_three_comments['ID'].values))"
   ]
  },
  {
   "cell_type": "code",
   "execution_count": 202,
   "id": "29431b32-2f02-4182-9f55-296128925bfc",
   "metadata": {},
   "outputs": [
    {
     "name": "stdout",
     "output_type": "stream",
     "text": [
      "1\n",
      "10049\n"
     ]
    }
   ],
   "source": [
    "print(min(df_three['ID'].values))\n",
    "print(max(df_three['ID'].values))"
   ]
  },
  {
   "cell_type": "code",
   "execution_count": 203,
   "id": "ac8975bd-c2e1-4649-ac57-7f7ffa9f40c8",
   "metadata": {},
   "outputs": [],
   "source": [
    "df_check_id = df_three_comments['ID'].value_counts().to_frame('nb_actions_c').reset_index()\n",
    "df_check_id = df_check_id_c.rename(columns={\"index\": \"id_comments\"})"
   ]
  },
  {
   "cell_type": "code",
   "execution_count": 204,
   "id": "cc8cc072-0a5f-4249-95de-3e6c277ebef4",
   "metadata": {},
   "outputs": [],
   "source": [
    "df_check_id = df_check_id.sort_values(by='id_comments', ascending=True)"
   ]
  },
  {
   "cell_type": "code",
   "execution_count": 205,
   "id": "444992f4-57f7-4c6e-a30d-ed0919ff3690",
   "metadata": {},
   "outputs": [
    {
     "data": {
      "text/html": [
       "<div>\n",
       "<style scoped>\n",
       "    .dataframe tbody tr th:only-of-type {\n",
       "        vertical-align: middle;\n",
       "    }\n",
       "\n",
       "    .dataframe tbody tr th {\n",
       "        vertical-align: top;\n",
       "    }\n",
       "\n",
       "    .dataframe thead th {\n",
       "        text-align: right;\n",
       "    }\n",
       "</style>\n",
       "<table border=\"1\" class=\"dataframe\">\n",
       "  <thead>\n",
       "    <tr style=\"text-align: right;\">\n",
       "      <th></th>\n",
       "      <th>id_comments</th>\n",
       "      <th>nb_actions_c</th>\n",
       "    </tr>\n",
       "  </thead>\n",
       "  <tbody>\n",
       "    <tr>\n",
       "      <th>5564</th>\n",
       "      <td>1</td>\n",
       "      <td>2</td>\n",
       "    </tr>\n",
       "    <tr>\n",
       "      <th>136</th>\n",
       "      <td>2</td>\n",
       "      <td>32</td>\n",
       "    </tr>\n",
       "    <tr>\n",
       "      <th>6210</th>\n",
       "      <td>3</td>\n",
       "      <td>2</td>\n",
       "    </tr>\n",
       "    <tr>\n",
       "      <th>3319</th>\n",
       "      <td>4</td>\n",
       "      <td>4</td>\n",
       "    </tr>\n",
       "    <tr>\n",
       "      <th>2720</th>\n",
       "      <td>5</td>\n",
       "      <td>6</td>\n",
       "    </tr>\n",
       "  </tbody>\n",
       "</table>\n",
       "</div>"
      ],
      "text/plain": [
       "      id_comments  nb_actions_c\n",
       "5564            1             2\n",
       "136             2            32\n",
       "6210            3             2\n",
       "3319            4             4\n",
       "2720            5             6"
      ]
     },
     "execution_count": 205,
     "metadata": {},
     "output_type": "execute_result"
    }
   ],
   "source": [
    "df_check_id.head()"
   ]
  },
  {
   "cell_type": "markdown",
   "id": "7a3c813d-df21-4599-9656-4d6794f1f16b",
   "metadata": {},
   "source": [
    "## Full list of users (actions"
   ]
  },
  {
   "cell_type": "code",
   "execution_count": 245,
   "id": "2445ce63-4d49-417f-9d64-5c06e6d59acc",
   "metadata": {},
   "outputs": [],
   "source": [
    "df_three_users_ac = df_three.copy()"
   ]
  },
  {
   "cell_type": "code",
   "execution_count": 253,
   "id": "139f742b-2ce7-47a5-af90-b4abb8719dfd",
   "metadata": {},
   "outputs": [],
   "source": [
    "to_drop = ['Repository', 'Type', 'State', 'CommitId', 'CreatedAt', 'ClosedAt', 'IsMerged', 'CountReactions', 'CountLike', 'CountDislike']"
   ]
  },
  {
   "cell_type": "code",
   "execution_count": 254,
   "id": "bcac80e5-e155-43fc-b3be-9fe8084da160",
   "metadata": {},
   "outputs": [],
   "source": [
    "df_three_users_ac = df_three_users_ac.drop(columns = to_drop)"
   ]
  },
  {
   "cell_type": "code",
   "execution_count": 255,
   "id": "abd9f01e-9dd4-4c5b-99b1-3340e927ab47",
   "metadata": {},
   "outputs": [
    {
     "data": {
      "text/html": [
       "<div>\n",
       "<style scoped>\n",
       "    .dataframe tbody tr th:only-of-type {\n",
       "        vertical-align: middle;\n",
       "    }\n",
       "\n",
       "    .dataframe tbody tr th {\n",
       "        vertical-align: top;\n",
       "    }\n",
       "\n",
       "    .dataframe thead th {\n",
       "        text-align: right;\n",
       "    }\n",
       "</style>\n",
       "<table border=\"1\" class=\"dataframe\">\n",
       "  <thead>\n",
       "    <tr style=\"text-align: right;\">\n",
       "      <th></th>\n",
       "      <th>ID</th>\n",
       "      <th>User</th>\n",
       "    </tr>\n",
       "  </thead>\n",
       "  <tbody>\n",
       "    <tr>\n",
       "      <th>238087</th>\n",
       "      <td>1</td>\n",
       "      <td>chrislloyd</td>\n",
       "    </tr>\n",
       "    <tr>\n",
       "      <th>238088</th>\n",
       "      <td>2</td>\n",
       "      <td>Ovid</td>\n",
       "    </tr>\n",
       "    <tr>\n",
       "      <th>238089</th>\n",
       "      <td>3</td>\n",
       "      <td>icidasset</td>\n",
       "    </tr>\n",
       "    <tr>\n",
       "      <th>238090</th>\n",
       "      <td>4</td>\n",
       "      <td>SignpostMarv</td>\n",
       "    </tr>\n",
       "    <tr>\n",
       "      <th>238091</th>\n",
       "      <td>5</td>\n",
       "      <td>SignpostMarv</td>\n",
       "    </tr>\n",
       "  </tbody>\n",
       "</table>\n",
       "</div>"
      ],
      "text/plain": [
       "        ID          User\n",
       "238087   1    chrislloyd\n",
       "238088   2          Ovid\n",
       "238089   3     icidasset\n",
       "238090   4  SignpostMarv\n",
       "238091   5  SignpostMarv"
      ]
     },
     "execution_count": 255,
     "metadata": {},
     "output_type": "execute_result"
    }
   ],
   "source": [
    "df_three_users_ac.head()"
   ]
  },
  {
   "cell_type": "code",
   "execution_count": 259,
   "id": "b3f10ee0-5fb4-4b4e-8412-96b6c9515d4f",
   "metadata": {},
   "outputs": [],
   "source": [
    "df_three_users_c = df_three_comments.copy()"
   ]
  },
  {
   "cell_type": "code",
   "execution_count": 261,
   "id": "f7676554-7c70-4d8e-8829-5283ec7482db",
   "metadata": {},
   "outputs": [
    {
     "data": {
      "text/plain": [
       "Index(['Repository', 'ID', 'User', 'CreatedAt', 'CountReactions', 'CountLike',\n",
       "       'CountDislike', 'Sentiment', 'SentimentScore'],\n",
       "      dtype='object')"
      ]
     },
     "execution_count": 261,
     "metadata": {},
     "output_type": "execute_result"
    }
   ],
   "source": [
    "df_three_users_c.columns"
   ]
  },
  {
   "cell_type": "code",
   "execution_count": 262,
   "id": "deadc1ca-1651-4dca-a59b-f21b0531cc57",
   "metadata": {},
   "outputs": [],
   "source": [
    "\n",
    "to_drop = ['Repository', 'CreatedAt', 'CountReactions', 'CountLike', 'CountDislike', 'Sentiment', 'SentimentScore']"
   ]
  },
  {
   "cell_type": "code",
   "execution_count": 263,
   "id": "e70f06ac-fa4e-4386-8893-8c874ca1eb4c",
   "metadata": {},
   "outputs": [],
   "source": [
    "\n",
    "df_three_users_c = df_three_users_c.drop(columns = to_drop)"
   ]
  },
  {
   "cell_type": "code",
   "execution_count": 186,
   "id": "cec84d5b-a9d9-4ccf-ab7e-f109a7606629",
   "metadata": {},
   "outputs": [
    {
     "data": {
      "text/html": [
       "<div>\n",
       "<style scoped>\n",
       "    .dataframe tbody tr th:only-of-type {\n",
       "        vertical-align: middle;\n",
       "    }\n",
       "\n",
       "    .dataframe tbody tr th {\n",
       "        vertical-align: top;\n",
       "    }\n",
       "\n",
       "    .dataframe thead th {\n",
       "        text-align: right;\n",
       "    }\n",
       "</style>\n",
       "<table border=\"1\" class=\"dataframe\">\n",
       "  <thead>\n",
       "    <tr style=\"text-align: right;\">\n",
       "      <th></th>\n",
       "      <th>ID</th>\n",
       "      <th>User</th>\n",
       "    </tr>\n",
       "  </thead>\n",
       "  <tbody>\n",
       "    <tr>\n",
       "      <th>1063146</th>\n",
       "      <td>1</td>\n",
       "      <td>mrdoob</td>\n",
       "    </tr>\n",
       "    <tr>\n",
       "      <th>1063147</th>\n",
       "      <td>1</td>\n",
       "      <td>splatcollision</td>\n",
       "    </tr>\n",
       "    <tr>\n",
       "      <th>1063148</th>\n",
       "      <td>2</td>\n",
       "      <td>mrdoob</td>\n",
       "    </tr>\n",
       "    <tr>\n",
       "      <th>1063149</th>\n",
       "      <td>2</td>\n",
       "      <td>Ovid</td>\n",
       "    </tr>\n",
       "    <tr>\n",
       "      <th>1063150</th>\n",
       "      <td>2</td>\n",
       "      <td>jurjen</td>\n",
       "    </tr>\n",
       "  </tbody>\n",
       "</table>\n",
       "</div>"
      ],
      "text/plain": [
       "         ID            User\n",
       "1063146   1          mrdoob\n",
       "1063147   1  splatcollision\n",
       "1063148   2          mrdoob\n",
       "1063149   2            Ovid\n",
       "1063150   2          jurjen"
      ]
     },
     "execution_count": 186,
     "metadata": {},
     "output_type": "execute_result"
    }
   ],
   "source": [
    "df_three_users_c.head()"
   ]
  },
  {
   "cell_type": "code",
   "execution_count": 268,
   "id": "e0545f75-f18d-477e-9645-5ae77060782b",
   "metadata": {},
   "outputs": [],
   "source": [
    "frames = [df_three_users_ac, df_three_users_c]"
   ]
  },
  {
   "cell_type": "code",
   "execution_count": 273,
   "id": "ed50d0b3-990c-4021-9f0b-4577f7925e17",
   "metadata": {},
   "outputs": [],
   "source": [
    "\n",
    "df_three_users_merged = pd.concat(frames)"
   ]
  },
  {
   "cell_type": "code",
   "execution_count": 274,
   "id": "62cd4b11-47c6-4f43-9ebb-705ade51c053",
   "metadata": {},
   "outputs": [],
   "source": [
    "\n",
    "df_three_users_merged = df_three_users_merged.sort_values(by='ID', ascending = True)"
   ]
  },
  {
   "cell_type": "code",
   "execution_count": 194,
   "id": "2b01e3a0-a32d-4110-95c1-339cbe15d3ef",
   "metadata": {},
   "outputs": [
    {
     "data": {
      "text/html": [
       "<div>\n",
       "<style scoped>\n",
       "    .dataframe tbody tr th:only-of-type {\n",
       "        vertical-align: middle;\n",
       "    }\n",
       "\n",
       "    .dataframe tbody tr th {\n",
       "        vertical-align: top;\n",
       "    }\n",
       "\n",
       "    .dataframe thead th {\n",
       "        text-align: right;\n",
       "    }\n",
       "</style>\n",
       "<table border=\"1\" class=\"dataframe\">\n",
       "  <thead>\n",
       "    <tr style=\"text-align: right;\">\n",
       "      <th></th>\n",
       "      <th>ID</th>\n",
       "      <th>User</th>\n",
       "    </tr>\n",
       "  </thead>\n",
       "  <tbody>\n",
       "    <tr>\n",
       "      <th>238087</th>\n",
       "      <td>1</td>\n",
       "      <td>chrislloyd</td>\n",
       "    </tr>\n",
       "    <tr>\n",
       "      <th>1063147</th>\n",
       "      <td>1</td>\n",
       "      <td>splatcollision</td>\n",
       "    </tr>\n",
       "    <tr>\n",
       "      <th>1063146</th>\n",
       "      <td>1</td>\n",
       "      <td>mrdoob</td>\n",
       "    </tr>\n",
       "    <tr>\n",
       "      <th>1063148</th>\n",
       "      <td>2</td>\n",
       "      <td>mrdoob</td>\n",
       "    </tr>\n",
       "    <tr>\n",
       "      <th>1063149</th>\n",
       "      <td>2</td>\n",
       "      <td>Ovid</td>\n",
       "    </tr>\n",
       "    <tr>\n",
       "      <th>1063179</th>\n",
       "      <td>2</td>\n",
       "      <td>mrdoob</td>\n",
       "    </tr>\n",
       "    <tr>\n",
       "      <th>1063178</th>\n",
       "      <td>2</td>\n",
       "      <td>mindlapse</td>\n",
       "    </tr>\n",
       "    <tr>\n",
       "      <th>1063177</th>\n",
       "      <td>2</td>\n",
       "      <td>mrdoob</td>\n",
       "    </tr>\n",
       "    <tr>\n",
       "      <th>1063176</th>\n",
       "      <td>2</td>\n",
       "      <td>sr3d</td>\n",
       "    </tr>\n",
       "    <tr>\n",
       "      <th>1063175</th>\n",
       "      <td>2</td>\n",
       "      <td>mrdoob</td>\n",
       "    </tr>\n",
       "    <tr>\n",
       "      <th>1063174</th>\n",
       "      <td>2</td>\n",
       "      <td>sr3d</td>\n",
       "    </tr>\n",
       "    <tr>\n",
       "      <th>1063173</th>\n",
       "      <td>2</td>\n",
       "      <td>mrdoob</td>\n",
       "    </tr>\n",
       "    <tr>\n",
       "      <th>1063172</th>\n",
       "      <td>2</td>\n",
       "      <td>D1plo1d</td>\n",
       "    </tr>\n",
       "    <tr>\n",
       "      <th>1063171</th>\n",
       "      <td>2</td>\n",
       "      <td>mrdoob</td>\n",
       "    </tr>\n",
       "    <tr>\n",
       "      <th>1063170</th>\n",
       "      <td>2</td>\n",
       "      <td>D1plo1d</td>\n",
       "    </tr>\n",
       "  </tbody>\n",
       "</table>\n",
       "</div>"
      ],
      "text/plain": [
       "         ID            User\n",
       "238087    1      chrislloyd\n",
       "1063147   1  splatcollision\n",
       "1063146   1          mrdoob\n",
       "1063148   2          mrdoob\n",
       "1063149   2            Ovid\n",
       "1063179   2          mrdoob\n",
       "1063178   2       mindlapse\n",
       "1063177   2          mrdoob\n",
       "1063176   2            sr3d\n",
       "1063175   2          mrdoob\n",
       "1063174   2            sr3d\n",
       "1063173   2          mrdoob\n",
       "1063172   2         D1plo1d\n",
       "1063171   2          mrdoob\n",
       "1063170   2         D1plo1d"
      ]
     },
     "execution_count": 194,
     "metadata": {},
     "output_type": "execute_result"
    }
   ],
   "source": [
    "df_three_users_merged.head(15)"
   ]
  },
  {
   "cell_type": "code",
   "execution_count": 195,
   "id": "a93fa139-362c-49a9-820e-53df354e7b77",
   "metadata": {},
   "outputs": [],
   "source": [
    "df_three_users_merged_no_dupl = df_three_users_merged.drop_duplicates()"
   ]
  },
  {
   "cell_type": "code",
   "execution_count": 196,
   "id": "df9869cd-e1ca-4411-b3b0-005adef25e3e",
   "metadata": {},
   "outputs": [
    {
     "data": {
      "text/html": [
       "<div>\n",
       "<style scoped>\n",
       "    .dataframe tbody tr th:only-of-type {\n",
       "        vertical-align: middle;\n",
       "    }\n",
       "\n",
       "    .dataframe tbody tr th {\n",
       "        vertical-align: top;\n",
       "    }\n",
       "\n",
       "    .dataframe thead th {\n",
       "        text-align: right;\n",
       "    }\n",
       "</style>\n",
       "<table border=\"1\" class=\"dataframe\">\n",
       "  <thead>\n",
       "    <tr style=\"text-align: right;\">\n",
       "      <th></th>\n",
       "      <th>ID</th>\n",
       "      <th>User</th>\n",
       "    </tr>\n",
       "  </thead>\n",
       "  <tbody>\n",
       "    <tr>\n",
       "      <th>238087</th>\n",
       "      <td>1</td>\n",
       "      <td>chrislloyd</td>\n",
       "    </tr>\n",
       "    <tr>\n",
       "      <th>1063147</th>\n",
       "      <td>1</td>\n",
       "      <td>splatcollision</td>\n",
       "    </tr>\n",
       "    <tr>\n",
       "      <th>1063146</th>\n",
       "      <td>1</td>\n",
       "      <td>mrdoob</td>\n",
       "    </tr>\n",
       "    <tr>\n",
       "      <th>1063148</th>\n",
       "      <td>2</td>\n",
       "      <td>mrdoob</td>\n",
       "    </tr>\n",
       "    <tr>\n",
       "      <th>1063149</th>\n",
       "      <td>2</td>\n",
       "      <td>Ovid</td>\n",
       "    </tr>\n",
       "    <tr>\n",
       "      <th>1063178</th>\n",
       "      <td>2</td>\n",
       "      <td>mindlapse</td>\n",
       "    </tr>\n",
       "    <tr>\n",
       "      <th>1063176</th>\n",
       "      <td>2</td>\n",
       "      <td>sr3d</td>\n",
       "    </tr>\n",
       "    <tr>\n",
       "      <th>1063172</th>\n",
       "      <td>2</td>\n",
       "      <td>D1plo1d</td>\n",
       "    </tr>\n",
       "    <tr>\n",
       "      <th>1063150</th>\n",
       "      <td>2</td>\n",
       "      <td>jurjen</td>\n",
       "    </tr>\n",
       "    <tr>\n",
       "      <th>1063180</th>\n",
       "      <td>3</td>\n",
       "      <td>mrdoob</td>\n",
       "    </tr>\n",
       "  </tbody>\n",
       "</table>\n",
       "</div>"
      ],
      "text/plain": [
       "         ID            User\n",
       "238087    1      chrislloyd\n",
       "1063147   1  splatcollision\n",
       "1063146   1          mrdoob\n",
       "1063148   2          mrdoob\n",
       "1063149   2            Ovid\n",
       "1063178   2       mindlapse\n",
       "1063176   2            sr3d\n",
       "1063172   2         D1plo1d\n",
       "1063150   2          jurjen\n",
       "1063180   3          mrdoob"
      ]
     },
     "execution_count": 196,
     "metadata": {},
     "output_type": "execute_result"
    }
   ],
   "source": [
    "df_three_users_merged_no_dupl.head(10)"
   ]
  },
  {
   "cell_type": "markdown",
   "id": "b3ca44eb-69fc-4a67-aab3-c6c96361bda1",
   "metadata": {},
   "source": [
    "# networkx"
   ]
  },
  {
   "cell_type": "code",
   "execution_count": 390,
   "id": "f07ad937-1642-4ba4-929d-eba37628901b",
   "metadata": {},
   "outputs": [],
   "source": [
    "import networkx as nx\n",
    "from networkx.algorithms import bipartite\n",
    "import matplotlib.pyplot as plt"
   ]
  },
  {
   "cell_type": "code",
   "execution_count": 392,
   "id": "1b3170c5-306b-478e-81a4-beaa89878573",
   "metadata": {},
   "outputs": [
    {
     "data": {
      "text/plain": [
       "27548"
      ]
     },
     "execution_count": 392,
     "metadata": {},
     "output_type": "execute_result"
    }
   ],
   "source": [
    "len(df_three_users_merged_no_dupl)"
   ]
  },
  {
   "cell_type": "markdown",
   "id": "9a6df0fc-e0a7-4069-9ba7-b850f013cb65",
   "metadata": {},
   "source": [
    "# Example on 14 connections\n",
    "\n"
   ]
  },
  {
   "cell_type": "code",
   "execution_count": null,
   "id": "4d802f55-683f-4910-a8b3-88dfeb45f4d5",
   "metadata": {},
   "outputs": [],
   "source": [
    "df_tmp = df_three_users_merged_no_dupl[:14]"
   ]
  },
  {
   "cell_type": "code",
   "execution_count": 394,
   "id": "eddedc32-c3a8-479a-8060-42a389e2d94d",
   "metadata": {},
   "outputs": [
    {
     "data": {
      "text/html": [
       "<div>\n",
       "<style scoped>\n",
       "    .dataframe tbody tr th:only-of-type {\n",
       "        vertical-align: middle;\n",
       "    }\n",
       "\n",
       "    .dataframe tbody tr th {\n",
       "        vertical-align: top;\n",
       "    }\n",
       "\n",
       "    .dataframe thead th {\n",
       "        text-align: right;\n",
       "    }\n",
       "</style>\n",
       "<table border=\"1\" class=\"dataframe\">\n",
       "  <thead>\n",
       "    <tr style=\"text-align: right;\">\n",
       "      <th></th>\n",
       "      <th>ID</th>\n",
       "      <th>User</th>\n",
       "    </tr>\n",
       "  </thead>\n",
       "  <tbody>\n",
       "    <tr>\n",
       "      <th>238087</th>\n",
       "      <td>1</td>\n",
       "      <td>chrislloyd</td>\n",
       "    </tr>\n",
       "    <tr>\n",
       "      <th>1063147</th>\n",
       "      <td>1</td>\n",
       "      <td>splatcollision</td>\n",
       "    </tr>\n",
       "    <tr>\n",
       "      <th>1063146</th>\n",
       "      <td>1</td>\n",
       "      <td>mrdoob</td>\n",
       "    </tr>\n",
       "    <tr>\n",
       "      <th>1063148</th>\n",
       "      <td>2</td>\n",
       "      <td>mrdoob</td>\n",
       "    </tr>\n",
       "    <tr>\n",
       "      <th>1063149</th>\n",
       "      <td>2</td>\n",
       "      <td>Ovid</td>\n",
       "    </tr>\n",
       "    <tr>\n",
       "      <th>1063178</th>\n",
       "      <td>2</td>\n",
       "      <td>mindlapse</td>\n",
       "    </tr>\n",
       "    <tr>\n",
       "      <th>1063176</th>\n",
       "      <td>2</td>\n",
       "      <td>sr3d</td>\n",
       "    </tr>\n",
       "    <tr>\n",
       "      <th>1063172</th>\n",
       "      <td>2</td>\n",
       "      <td>D1plo1d</td>\n",
       "    </tr>\n",
       "    <tr>\n",
       "      <th>1063150</th>\n",
       "      <td>2</td>\n",
       "      <td>jurjen</td>\n",
       "    </tr>\n",
       "    <tr>\n",
       "      <th>1063180</th>\n",
       "      <td>3</td>\n",
       "      <td>mrdoob</td>\n",
       "    </tr>\n",
       "    <tr>\n",
       "      <th>1063181</th>\n",
       "      <td>3</td>\n",
       "      <td>icidasset</td>\n",
       "    </tr>\n",
       "    <tr>\n",
       "      <th>1063182</th>\n",
       "      <td>4</td>\n",
       "      <td>mrdoob</td>\n",
       "    </tr>\n",
       "    <tr>\n",
       "      <th>1063183</th>\n",
       "      <td>4</td>\n",
       "      <td>SignpostMarv</td>\n",
       "    </tr>\n",
       "    <tr>\n",
       "      <th>1063189</th>\n",
       "      <td>5</td>\n",
       "      <td>SignpostMarv</td>\n",
       "    </tr>\n",
       "  </tbody>\n",
       "</table>\n",
       "</div>"
      ],
      "text/plain": [
       "         ID            User\n",
       "238087    1      chrislloyd\n",
       "1063147   1  splatcollision\n",
       "1063146   1          mrdoob\n",
       "1063148   2          mrdoob\n",
       "1063149   2            Ovid\n",
       "1063178   2       mindlapse\n",
       "1063176   2            sr3d\n",
       "1063172   2         D1plo1d\n",
       "1063150   2          jurjen\n",
       "1063180   3          mrdoob\n",
       "1063181   3       icidasset\n",
       "1063182   4          mrdoob\n",
       "1063183   4    SignpostMarv\n",
       "1063189   5    SignpostMarv"
      ]
     },
     "execution_count": 394,
     "metadata": {},
     "output_type": "execute_result"
    }
   ],
   "source": [
    "df_tmp"
   ]
  },
  {
   "cell_type": "code",
   "execution_count": 395,
   "id": "ec5ce54d-ec23-460d-93bc-d6767b99aab0",
   "metadata": {},
   "outputs": [],
   "source": [
    "id_pri = list(df_tmp[\"ID\"].unique())\n",
    "id_user = list(df_tmp[\"User\"].unique())\n",
    "nb_links = len(df_tmp)"
   ]
  },
  {
   "cell_type": "code",
   "execution_count": 396,
   "id": "257045ee-f46b-4d70-8a07-8dcd0ce3cbdd",
   "metadata": {},
   "outputs": [
    {
     "data": {
      "text/plain": [
       "[1, 2, 3, 4, 5]"
      ]
     },
     "execution_count": 396,
     "metadata": {},
     "output_type": "execute_result"
    }
   ],
   "source": [
    "id_pri"
   ]
  },
  {
   "cell_type": "code",
   "execution_count": 397,
   "id": "ebd23388-9e2f-4879-ac2c-d4dafc08d443",
   "metadata": {},
   "outputs": [
    {
     "data": {
      "text/plain": [
       "['chrislloyd',\n",
       " 'splatcollision',\n",
       " 'mrdoob',\n",
       " 'Ovid',\n",
       " 'mindlapse',\n",
       " 'sr3d',\n",
       " 'D1plo1d',\n",
       " 'jurjen',\n",
       " 'icidasset',\n",
       " 'SignpostMarv']"
      ]
     },
     "execution_count": 397,
     "metadata": {},
     "output_type": "execute_result"
    }
   ],
   "source": [
    "id_user"
   ]
  },
  {
   "cell_type": "code",
   "execution_count": 398,
   "id": "5c88e8d4-68c1-48d4-9948-83fd72ba6590",
   "metadata": {},
   "outputs": [
    {
     "data": {
      "text/plain": [
       "14"
      ]
     },
     "execution_count": 398,
     "metadata": {},
     "output_type": "execute_result"
    }
   ],
   "source": [
    "nb_links"
   ]
  },
  {
   "cell_type": "code",
   "execution_count": 399,
   "id": "e8cec019-a590-4753-af42-b9abc3f6d8f2",
   "metadata": {},
   "outputs": [],
   "source": [
    "size = range(0, nb_links)\n",
    "# size = range(0, 15)\n",
    "\n",
    "edge_list = []\n",
    "for i in size:\n",
    "    left = df_tmp['ID'].iloc[i]\n",
    "    right = df_tmp['User'].iloc[i]\n",
    "    pair = (left, right)\n",
    "    edge_list.append(pair)"
   ]
  },
  {
   "cell_type": "code",
   "execution_count": 400,
   "id": "8c3e2a09-3c7e-4fba-8650-378d503da613",
   "metadata": {},
   "outputs": [
    {
     "data": {
      "text/plain": [
       "14"
      ]
     },
     "execution_count": 400,
     "metadata": {},
     "output_type": "execute_result"
    }
   ],
   "source": [
    "len(edge_list)"
   ]
  },
  {
   "cell_type": "code",
   "execution_count": 370,
   "id": "b2a14827-3911-4ecc-b2e8-0bb1896b17b6",
   "metadata": {},
   "outputs": [],
   "source": [
    "# nx.is_connected(G)"
   ]
  },
  {
   "cell_type": "markdown",
   "id": "50266df8-c1be-47ec-9171-445264768e4b",
   "metadata": {},
   "source": [
    "## Bipartite graph"
   ]
  },
  {
   "cell_type": "code",
   "execution_count": 418,
   "id": "6b2d981f-eafc-4e07-84db-13168daa853a",
   "metadata": {},
   "outputs": [],
   "source": [
    "# Create a bipartite graph\n",
    "B = nx.Graph()\n",
    "B.add_nodes_from(id_pri, node_type = \"PRI\", bipartite = 0)\n",
    "B.add_nodes_from(id_user, node_type = \"User\", bipartite = 1)\n",
    "B.add_edges_from(edge_list)"
   ]
  },
  {
   "cell_type": "code",
   "execution_count": 419,
   "id": "2104a7ee-9b9a-4a15-aa29-d69cca1e078d",
   "metadata": {},
   "outputs": [
    {
     "data": {
      "text/plain": [
       "True"
      ]
     },
     "execution_count": 419,
     "metadata": {},
     "output_type": "execute_result"
    }
   ],
   "source": [
    "bipartite.is_bipartite(B)"
   ]
  },
  {
   "cell_type": "code",
   "execution_count": 404,
   "id": "a3fd5da8-fd7d-4350-90df-a2b9d4c7a7e2",
   "metadata": {},
   "outputs": [
    {
     "data": {
      "image/png": "[encoded data removed]",
      "text/plain": [
       "<Figure size 640x480 with 1 Axes>"
      ]
     },
     "metadata": {},
     "output_type": "display_data"
    }
   ],
   "source": [
    "# Get the sets of nodes\n",
    "left_nodes_pri, right_nodes_user = nx.bipartite.sets(B)\n",
    "\n",
    "# horisontal - 0/index #vertical - index/0\n",
    "\n",
    "# Draw the graph\n",
    "pos = dict()\n",
    "pos.update((node, (0, index)) for index, node in enumerate(left_nodes_pri))\n",
    "pos.update((node, (1, index)) for index, node in enumerate(right_nodes_user))\n",
    "nx.draw(B, pos=pos, with_labels=True)\n",
    "\n",
    "# Show the plot\n",
    "plt.show()"
   ]
  },
  {
   "cell_type": "code",
   "execution_count": 405,
   "id": "362844cc-7ef5-4388-9aa5-494f4adf5ae1",
   "metadata": {},
   "outputs": [],
   "source": [
    "# import networkx as nx\n",
    "# import matplotlib.pyplot as plt\n",
    "\n",
    "# G = nx.Graph()\n",
    "# G.add_edge(1, 2, bipartite = 0)\n",
    "# G.add_edge(1, 3, bipartite = 0)\n",
    "# G.add_edge(1, 5, bipartite = 0)\n",
    "# G.add_edge(2, 3, bipartite = 1)\n",
    "# G.add_edge(3, 4, bipartite = 1)\n",
    "# G.add_edge(4, 5, bipartite = 1)\n",
    "\n",
    "# # explicitly set positions\n",
    "# pos = {1: (0, 0), 2: (-1, 0.3), 3: (2, 0.17), 4: (4, 0.255), 5: (5, 0.03)}\n",
    "## SIZE example\n",
    "# options = {\n",
    "#     \"font_size\": 12,\n",
    "#     \"node_size\": 300,\n",
    "#     \"node_color\": \"white\",\n",
    "#     \"edgecolors\": \"black\",\n",
    "#     \"linewidths\": 1,\n",
    "#     \"width\": 1,\n",
    "# }\n",
    "# nx.draw_networkx(G, pos, **options)\n",
    "\n",
    "# # Set margins for the axes so that nodes aren't clipped\n",
    "# ax = plt.gca()\n",
    "# ax.margins(0.20)\n",
    "# plt.axis(\"off\")\n",
    "# plt.show()"
   ]
  },
  {
   "cell_type": "code",
   "execution_count": 389,
   "id": "f6f1ed99-fd1a-4881-a59a-f2e6473371ce",
   "metadata": {},
   "outputs": [],
   "source": [
    "# # Get the sets of nodes\n",
    "# left_nodes_pri, right_nodes_user = nx.bipartite.sets(G)\n",
    "\n",
    "# # horisontal - 0/index #vertical - index/0\n",
    "\n",
    "# # Draw the graph\n",
    "# pos = dict()\n",
    "# pos.update((node, (0, index)) for index, node in enumerate(left_nodes_pri))\n",
    "# pos.update((node, (1, index)) for index, node in enumerate(right_nodes_user))\n",
    "# nx.draw(G, pos=pos, with_labels=True)\n",
    "\n",
    "# # Show the plot\n",
    "# plt.show()"
   ]
  },
  {
   "cell_type": "markdown",
   "id": "41203c2b-37f6-4640-a40a-3f6d4fa78ef4",
   "metadata": {},
   "source": [
    "## Full graph"
   ]
  },
  {
   "cell_type": "code",
   "execution_count": 406,
   "id": "cb05ff2c-5643-40c1-a13e-0644a1d2188d",
   "metadata": {},
   "outputs": [
    {
     "data": {
      "image/png": "[encoded data removed]",
      "text/plain": [
       "<Figure size 640x480 with 1 Axes>"
      ]
     },
     "metadata": {},
     "output_type": "display_data"
    }
   ],
   "source": [
    "from networkx.algorithms import bipartite\n",
    "# B = G\n",
    "nx.draw(B, with_labels=True)"
   ]
  },
  {
   "cell_type": "markdown",
   "id": "c0019cdb-349f-4f65-b92a-bccd67e6fbd8",
   "metadata": {
    "tags": []
   },
   "source": [
    "### Projection on users"
   ]
  },
  {
   "cell_type": "code",
   "execution_count": 410,
   "id": "174bf192-8064-4fc0-93bd-b81ffa0c26fd",
   "metadata": {},
   "outputs": [
    {
     "data": {
      "image/png": "[encoded data removed]",
      "text/plain": [
       "<Figure size 640x480 with 1 Axes>"
      ]
     },
     "metadata": {},
     "output_type": "display_data"
    }
   ],
   "source": [
    "G = bipartite.projected_graph(B, id_user)\n",
    "nx.draw(G, with_labels=True)\n",
    "# list(G.edges())"
   ]
  },
  {
   "cell_type": "markdown",
   "id": "f2df149f-0774-4b5b-884a-ae78de72c861",
   "metadata": {},
   "source": [
    "### Projection on tasks/comments"
   ]
  },
  {
   "cell_type": "code",
   "execution_count": 411,
   "id": "104295f5-3357-4d07-a1c5-a27852ffdaf7",
   "metadata": {},
   "outputs": [
    {
     "data": {
      "image/png": "[encoded data removed]",
      "text/plain": [
       "<Figure size 640x480 with 1 Axes>"
      ]
     },
     "metadata": {},
     "output_type": "display_data"
    }
   ],
   "source": [
    "G = bipartite.projected_graph(B, id_pri)\n",
    "nx.draw(G, with_labels=True)\n",
    "# list(G.edges())"
   ]
  },
  {
   "cell_type": "markdown",
   "id": "b012ed3f-7608-40fe-acbb-35adc1fbfcbb",
   "metadata": {},
   "source": [
    "# Full data"
   ]
  },
  {
   "cell_type": "code",
   "execution_count": 424,
   "id": "2ace0528-f17f-4aec-8085-799619f5c4c0",
   "metadata": {},
   "outputs": [],
   "source": [
    "df_tmp = df_three_users_merged_no_dupl"
   ]
  },
  {
   "cell_type": "code",
   "execution_count": 425,
   "id": "08f1a50f-5630-42c1-8763-38f600bd9ed4",
   "metadata": {},
   "outputs": [],
   "source": [
    "\n",
    "id_pri = list(df_tmp[\"ID\"].unique())\n",
    "id_user = list(df_tmp[\"User\"].unique())\n",
    "nb_links = len(df_tmp)"
   ]
  },
  {
   "cell_type": "code",
   "execution_count": 426,
   "id": "b470b3c9-6637-4f23-9d4c-a770ec3424e1",
   "metadata": {},
   "outputs": [
    {
     "data": {
      "text/plain": [
       "27548"
      ]
     },
     "execution_count": 426,
     "metadata": {},
     "output_type": "execute_result"
    }
   ],
   "source": [
    "nb_links"
   ]
  },
  {
   "cell_type": "code",
   "execution_count": 427,
   "id": "4f01249a-da9e-4478-8218-06ceefb1e524",
   "metadata": {},
   "outputs": [],
   "source": [
    "size = range(0, nb_links)\n",
    "\n",
    "edge_list = []\n",
    "for i in size:\n",
    "    left = df_tmp['ID'].iloc[i]\n",
    "    right = df_tmp['User'].iloc[i]\n",
    "    pair = (left, right)\n",
    "    edge_list.append(pair)"
   ]
  },
  {
   "cell_type": "code",
   "execution_count": 428,
   "id": "d2b1655a-2c58-4285-a0f3-06c5160ee613",
   "metadata": {},
   "outputs": [
    {
     "data": {
      "text/plain": [
       "27548"
      ]
     },
     "execution_count": 428,
     "metadata": {},
     "output_type": "execute_result"
    }
   ],
   "source": [
    "len(edge_list)"
   ]
  },
  {
   "cell_type": "markdown",
   "id": "ef89fbf8-36c9-4d93-990f-b41a40844fdf",
   "metadata": {},
   "source": [
    "## Bipartite graph"
   ]
  },
  {
   "cell_type": "code",
   "execution_count": 429,
   "id": "8ffec479-9135-45cc-ab19-6edd993e75a8",
   "metadata": {},
   "outputs": [],
   "source": [
    "# Create a bipartite graph\n",
    "B = nx.Graph()\n",
    "B.add_nodes_from(id_pri, node_type = \"PRI\", bipartite = 0)\n",
    "B.add_nodes_from(id_user, node_type = \"User\", bipartite = 1)\n",
    "B.add_edges_from(edge_list)"
   ]
  },
  {
   "cell_type": "code",
   "execution_count": 433,
   "id": "8107d3d9-f50b-49e9-a943-ee2c80061564",
   "metadata": {},
   "outputs": [
    {
     "data": {
      "text/plain": [
       "True"
      ]
     },
     "execution_count": 433,
     "metadata": {},
     "output_type": "execute_result"
    }
   ],
   "source": [
    "bipartite.is_bipartite(B)"
   ]
  },
  {
   "cell_type": "markdown",
   "id": "7927983b-b7bf-436e-b0bc-7ee8f9e82084",
   "metadata": {},
   "source": [
    "### Projection on users"
   ]
  },
  {
   "cell_type": "code",
   "execution_count": 447,
   "id": "f6d29463-660d-4301-b946-271587e2f730",
   "metadata": {},
   "outputs": [],
   "source": [
    "# G_users = bipartite.projected_graph(B, id_user)\n",
    "G_users = bipartite.weighted_projected_graph(B, id_user)"
   ]
  },
  {
   "cell_type": "markdown",
   "id": "9da73930-1a1d-493d-865d-8133438d709e",
   "metadata": {
    "tags": []
   },
   "source": [
    "### Projection on tasks/comments"
   ]
  },
  {
   "cell_type": "code",
   "execution_count": 434,
   "id": "a464db08-da14-45a1-9dc5-6044965b44f7",
   "metadata": {},
   "outputs": [],
   "source": [
    "# G_pri = bipartite.projected_graph(B, id_pri)"
   ]
  },
  {
   "cell_type": "markdown",
   "id": "43818051-9e6f-4b4f-818c-51115826b327",
   "metadata": {},
   "source": [
    "# Save graphs"
   ]
  },
  {
   "cell_type": "code",
   "execution_count": 445,
   "id": "85e18ef8-b2ec-4c4d-b1ea-e3f056044e1a",
   "metadata": {},
   "outputs": [],
   "source": [
    "save_graph(B, 'graph_full')"
   ]
  },
  {
   "cell_type": "code",
   "execution_count": 448,
   "id": "b111d95e-01be-4eb0-9545-f0e3da2fb35b",
   "metadata": {},
   "outputs": [],
   "source": [
    "save_graph(G_users, 'graph_users')"
   ]
  },
  {
   "cell_type": "code",
   "execution_count": null,
   "id": "39a56403-6c33-47e3-bcd7-d0b1c025952a",
   "metadata": {},
   "outputs": [],
   "source": []
  },
  {
   "cell_type": "markdown",
   "id": "a9e568f7-cac2-4e35-8169-69990ee67164",
   "metadata": {},
   "source": [
    "# test microsoft"
   ]
  },
  {
   "cell_type": "code",
   "execution_count": null,
   "id": "56da072f-f92a-49d3-86ad-909c2fd13eaf",
   "metadata": {},
   "outputs": [],
   "source": []
  },
  {
   "cell_type": "code",
   "execution_count": 455,
   "id": "9da5fb53-6a00-4b20-9bb0-8d4f54642172",
   "metadata": {},
   "outputs": [],
   "source": [
    "# df_three_comments = df_comments[df_comments['Repository'] == \n",
    "repository = '[microsoft]TypeScript'"
   ]
  },
  {
   "cell_type": "code",
   "execution_count": 456,
   "id": "d62a19a5-52b3-4ad5-ada8-316311dfa5fc",
   "metadata": {},
   "outputs": [],
   "source": [
    "df_three_comments = df_comments[df_comments['Repository'] == repository]\n",
    "df_three = df_issues[df_issues['Repository'] == repository]"
   ]
  },
  {
   "cell_type": "code",
   "execution_count": 457,
   "id": "06003554-82ac-4bd9-b7d3-85c87866b8f8",
   "metadata": {},
   "outputs": [
    {
     "data": {
      "text/html": [
       "<div>\n",
       "<style scoped>\n",
       "    .dataframe tbody tr th:only-of-type {\n",
       "        vertical-align: middle;\n",
       "    }\n",
       "\n",
       "    .dataframe tbody tr th {\n",
       "        vertical-align: top;\n",
       "    }\n",
       "\n",
       "    .dataframe thead th {\n",
       "        text-align: right;\n",
       "    }\n",
       "</style>\n",
       "<table border=\"1\" class=\"dataframe\">\n",
       "  <thead>\n",
       "    <tr style=\"text-align: right;\">\n",
       "      <th></th>\n",
       "      <th>Repository</th>\n",
       "      <th>ID</th>\n",
       "      <th>User</th>\n",
       "      <th>Type</th>\n",
       "      <th>State</th>\n",
       "      <th>CommitId</th>\n",
       "      <th>CreatedAt</th>\n",
       "      <th>ClosedAt</th>\n",
       "      <th>IsMerged</th>\n",
       "      <th>CountReactions</th>\n",
       "      <th>CountLike</th>\n",
       "      <th>CountDislike</th>\n",
       "    </tr>\n",
       "  </thead>\n",
       "  <tbody>\n",
       "    <tr>\n",
       "      <th>226328</th>\n",
       "      <td>[microsoft]TypeScript</td>\n",
       "      <td>1</td>\n",
       "      <td>RyanCavanaugh</td>\n",
       "      <td>issue</td>\n",
       "      <td>closed</td>\n",
       "      <td>NaN</td>\n",
       "      <td>2014-07-14</td>\n",
       "      <td>2014-09-19</td>\n",
       "      <td>False</td>\n",
       "      <td>0</td>\n",
       "      <td>0</td>\n",
       "      <td>0</td>\n",
       "    </tr>\n",
       "    <tr>\n",
       "      <th>226329</th>\n",
       "      <td>[microsoft]TypeScript</td>\n",
       "      <td>2</td>\n",
       "      <td>danquirk</td>\n",
       "      <td>pull</td>\n",
       "      <td>closed</td>\n",
       "      <td>e9cd8a0e884d5c363b00facd5c6cf26045f46432</td>\n",
       "      <td>2014-07-14</td>\n",
       "      <td>2014-07-15</td>\n",
       "      <td>True</td>\n",
       "      <td>0</td>\n",
       "      <td>0</td>\n",
       "      <td>0</td>\n",
       "    </tr>\n",
       "    <tr>\n",
       "      <th>226330</th>\n",
       "      <td>[microsoft]TypeScript</td>\n",
       "      <td>3</td>\n",
       "      <td>danquirk</td>\n",
       "      <td>pull</td>\n",
       "      <td>closed</td>\n",
       "      <td>e9cd8a0e884d5c363b00facd5c6cf26045f46432</td>\n",
       "      <td>2014-07-15</td>\n",
       "      <td>2014-07-15</td>\n",
       "      <td>False</td>\n",
       "      <td>0</td>\n",
       "      <td>0</td>\n",
       "      <td>0</td>\n",
       "    </tr>\n",
       "    <tr>\n",
       "      <th>226331</th>\n",
       "      <td>[microsoft]TypeScript</td>\n",
       "      <td>4</td>\n",
       "      <td>DanielRosenwasser</td>\n",
       "      <td>pull</td>\n",
       "      <td>closed</td>\n",
       "      <td>455364cf5a2e4f9cece69599475677bb41e2ac36</td>\n",
       "      <td>2014-07-15</td>\n",
       "      <td>2014-07-15</td>\n",
       "      <td>False</td>\n",
       "      <td>0</td>\n",
       "      <td>0</td>\n",
       "      <td>0</td>\n",
       "    </tr>\n",
       "    <tr>\n",
       "      <th>226332</th>\n",
       "      <td>[microsoft]TypeScript</td>\n",
       "      <td>5</td>\n",
       "      <td>RyanCavanaugh</td>\n",
       "      <td>issue</td>\n",
       "      <td>closed</td>\n",
       "      <td>NaN</td>\n",
       "      <td>2014-07-15</td>\n",
       "      <td>2015-01-14</td>\n",
       "      <td>False</td>\n",
       "      <td>0</td>\n",
       "      <td>0</td>\n",
       "      <td>0</td>\n",
       "    </tr>\n",
       "  </tbody>\n",
       "</table>\n",
       "</div>"
      ],
      "text/plain": [
       "                   Repository  ID               User   Type   State  \\\n",
       "226328  [microsoft]TypeScript   1      RyanCavanaugh  issue  closed   \n",
       "226329  [microsoft]TypeScript   2           danquirk   pull  closed   \n",
       "226330  [microsoft]TypeScript   3           danquirk   pull  closed   \n",
       "226331  [microsoft]TypeScript   4  DanielRosenwasser   pull  closed   \n",
       "226332  [microsoft]TypeScript   5      RyanCavanaugh  issue  closed   \n",
       "\n",
       "                                        CommitId   CreatedAt    ClosedAt  \\\n",
       "226328                                       NaN  2014-07-14  2014-09-19   \n",
       "226329  e9cd8a0e884d5c363b00facd5c6cf26045f46432  2014-07-14  2014-07-15   \n",
       "226330  e9cd8a0e884d5c363b00facd5c6cf26045f46432  2014-07-15  2014-07-15   \n",
       "226331  455364cf5a2e4f9cece69599475677bb41e2ac36  2014-07-15  2014-07-15   \n",
       "226332                                       NaN  2014-07-15  2015-01-14   \n",
       "\n",
       "        IsMerged  CountReactions  CountLike  CountDislike  \n",
       "226328     False               0          0             0  \n",
       "226329      True               0          0             0  \n",
       "226330     False               0          0             0  \n",
       "226331     False               0          0             0  \n",
       "226332     False               0          0             0  "
      ]
     },
     "execution_count": 457,
     "metadata": {},
     "output_type": "execute_result"
    }
   ],
   "source": [
    "df_three.head()"
   ]
  },
  {
   "cell_type": "code",
   "execution_count": 458,
   "id": "0befc4af-34ee-41c2-ae85-9a83e1eed0a3",
   "metadata": {},
   "outputs": [
    {
     "data": {
      "text/html": [
       "<div>\n",
       "<style scoped>\n",
       "    .dataframe tbody tr th:only-of-type {\n",
       "        vertical-align: middle;\n",
       "    }\n",
       "\n",
       "    .dataframe tbody tr th {\n",
       "        vertical-align: top;\n",
       "    }\n",
       "\n",
       "    .dataframe thead th {\n",
       "        text-align: right;\n",
       "    }\n",
       "</style>\n",
       "<table border=\"1\" class=\"dataframe\">\n",
       "  <thead>\n",
       "    <tr style=\"text-align: right;\">\n",
       "      <th></th>\n",
       "      <th>Repository</th>\n",
       "      <th>ID</th>\n",
       "      <th>User</th>\n",
       "      <th>CreatedAt</th>\n",
       "      <th>CountReactions</th>\n",
       "      <th>CountLike</th>\n",
       "      <th>CountDislike</th>\n",
       "      <th>Sentiment</th>\n",
       "      <th>SentimentScore</th>\n",
       "    </tr>\n",
       "  </thead>\n",
       "  <tbody>\n",
       "    <tr>\n",
       "      <th>1007222</th>\n",
       "      <td>[microsoft]TypeScript</td>\n",
       "      <td>1</td>\n",
       "      <td>RyanCavanaugh</td>\n",
       "      <td>2014-07-28</td>\n",
       "      <td>0</td>\n",
       "      <td>0</td>\n",
       "      <td>0</td>\n",
       "      <td>POSITIVE</td>\n",
       "      <td>0.9978</td>\n",
       "    </tr>\n",
       "    <tr>\n",
       "      <th>1007223</th>\n",
       "      <td>[microsoft]TypeScript</td>\n",
       "      <td>1</td>\n",
       "      <td>philipbulley</td>\n",
       "      <td>2014-08-08</td>\n",
       "      <td>0</td>\n",
       "      <td>0</td>\n",
       "      <td>0</td>\n",
       "      <td>POSITIVE</td>\n",
       "      <td>0.9945</td>\n",
       "    </tr>\n",
       "    <tr>\n",
       "      <th>1007224</th>\n",
       "      <td>[microsoft]TypeScript</td>\n",
       "      <td>1</td>\n",
       "      <td>basarat</td>\n",
       "      <td>2014-08-11</td>\n",
       "      <td>0</td>\n",
       "      <td>0</td>\n",
       "      <td>0</td>\n",
       "      <td>POSITIVE</td>\n",
       "      <td>0.9945</td>\n",
       "    </tr>\n",
       "    <tr>\n",
       "      <th>1007225</th>\n",
       "      <td>[microsoft]TypeScript</td>\n",
       "      <td>1</td>\n",
       "      <td>diverted247</td>\n",
       "      <td>2014-08-12</td>\n",
       "      <td>0</td>\n",
       "      <td>0</td>\n",
       "      <td>0</td>\n",
       "      <td>POSITIVE</td>\n",
       "      <td>0.9988</td>\n",
       "    </tr>\n",
       "    <tr>\n",
       "      <th>1007226</th>\n",
       "      <td>[microsoft]TypeScript</td>\n",
       "      <td>1</td>\n",
       "      <td>galloscript</td>\n",
       "      <td>2014-08-23</td>\n",
       "      <td>0</td>\n",
       "      <td>0</td>\n",
       "      <td>0</td>\n",
       "      <td>NEGATIVE</td>\n",
       "      <td>0.9996</td>\n",
       "    </tr>\n",
       "  </tbody>\n",
       "</table>\n",
       "</div>"
      ],
      "text/plain": [
       "                    Repository  ID           User   CreatedAt  CountReactions  \\\n",
       "1007222  [microsoft]TypeScript   1  RyanCavanaugh  2014-07-28               0   \n",
       "1007223  [microsoft]TypeScript   1   philipbulley  2014-08-08               0   \n",
       "1007224  [microsoft]TypeScript   1        basarat  2014-08-11               0   \n",
       "1007225  [microsoft]TypeScript   1    diverted247  2014-08-12               0   \n",
       "1007226  [microsoft]TypeScript   1    galloscript  2014-08-23               0   \n",
       "\n",
       "         CountLike  CountDislike Sentiment  SentimentScore  \n",
       "1007222          0             0  POSITIVE          0.9978  \n",
       "1007223          0             0  POSITIVE          0.9945  \n",
       "1007224          0             0  POSITIVE          0.9945  \n",
       "1007225          0             0  POSITIVE          0.9988  \n",
       "1007226          0             0  NEGATIVE          0.9996  "
      ]
     },
     "execution_count": 458,
     "metadata": {},
     "output_type": "execute_result"
    }
   ],
   "source": [
    "df_three_comments.head()"
   ]
  },
  {
   "cell_type": "code",
   "execution_count": 459,
   "id": "c1d3eeb2-c2ce-4095-b07e-10d95b2d892e",
   "metadata": {},
   "outputs": [],
   "source": [
    "df_three_users_ac = df_three.copy()\n",
    "to_drop = ['Repository', 'Type', 'State', 'CommitId', 'CreatedAt', 'ClosedAt', 'IsMerged', 'CountReactions', 'CountLike', 'CountDislike']\n",
    "df_three_users_ac = df_three_users_ac.drop(columns = to_drop)"
   ]
  },
  {
   "cell_type": "code",
   "execution_count": 460,
   "id": "fabe0b31-c7b1-41ca-bb3d-a4e34b47d487",
   "metadata": {},
   "outputs": [
    {
     "data": {
      "text/html": [
       "<div>\n",
       "<style scoped>\n",
       "    .dataframe tbody tr th:only-of-type {\n",
       "        vertical-align: middle;\n",
       "    }\n",
       "\n",
       "    .dataframe tbody tr th {\n",
       "        vertical-align: top;\n",
       "    }\n",
       "\n",
       "    .dataframe thead th {\n",
       "        text-align: right;\n",
       "    }\n",
       "</style>\n",
       "<table border=\"1\" class=\"dataframe\">\n",
       "  <thead>\n",
       "    <tr style=\"text-align: right;\">\n",
       "      <th></th>\n",
       "      <th>ID</th>\n",
       "      <th>User</th>\n",
       "    </tr>\n",
       "  </thead>\n",
       "  <tbody>\n",
       "    <tr>\n",
       "      <th>226328</th>\n",
       "      <td>1</td>\n",
       "      <td>RyanCavanaugh</td>\n",
       "    </tr>\n",
       "    <tr>\n",
       "      <th>226329</th>\n",
       "      <td>2</td>\n",
       "      <td>danquirk</td>\n",
       "    </tr>\n",
       "    <tr>\n",
       "      <th>226330</th>\n",
       "      <td>3</td>\n",
       "      <td>danquirk</td>\n",
       "    </tr>\n",
       "    <tr>\n",
       "      <th>226331</th>\n",
       "      <td>4</td>\n",
       "      <td>DanielRosenwasser</td>\n",
       "    </tr>\n",
       "    <tr>\n",
       "      <th>226332</th>\n",
       "      <td>5</td>\n",
       "      <td>RyanCavanaugh</td>\n",
       "    </tr>\n",
       "  </tbody>\n",
       "</table>\n",
       "</div>"
      ],
      "text/plain": [
       "        ID               User\n",
       "226328   1      RyanCavanaugh\n",
       "226329   2           danquirk\n",
       "226330   3           danquirk\n",
       "226331   4  DanielRosenwasser\n",
       "226332   5      RyanCavanaugh"
      ]
     },
     "execution_count": 460,
     "metadata": {},
     "output_type": "execute_result"
    }
   ],
   "source": [
    "df_three_users_ac.head()"
   ]
  },
  {
   "cell_type": "code",
   "execution_count": 461,
   "id": "837cff81-53ed-43e4-8dd2-195ee4aea298",
   "metadata": {},
   "outputs": [],
   "source": [
    "df_three_users_c = df_three_comments.copy()\n",
    "to_drop = ['Repository', 'CreatedAt', 'CountReactions', 'CountLike', 'CountDislike', 'Sentiment', 'SentimentScore']\n",
    "df_three_users_c = df_three_users_c.drop(columns = to_drop)"
   ]
  },
  {
   "cell_type": "code",
   "execution_count": 462,
   "id": "ef070475-6f5d-409a-8df9-5e14b28cf9d2",
   "metadata": {},
   "outputs": [
    {
     "data": {
      "text/html": [
       "<div>\n",
       "<style scoped>\n",
       "    .dataframe tbody tr th:only-of-type {\n",
       "        vertical-align: middle;\n",
       "    }\n",
       "\n",
       "    .dataframe tbody tr th {\n",
       "        vertical-align: top;\n",
       "    }\n",
       "\n",
       "    .dataframe thead th {\n",
       "        text-align: right;\n",
       "    }\n",
       "</style>\n",
       "<table border=\"1\" class=\"dataframe\">\n",
       "  <thead>\n",
       "    <tr style=\"text-align: right;\">\n",
       "      <th></th>\n",
       "      <th>ID</th>\n",
       "      <th>User</th>\n",
       "    </tr>\n",
       "  </thead>\n",
       "  <tbody>\n",
       "    <tr>\n",
       "      <th>1007222</th>\n",
       "      <td>1</td>\n",
       "      <td>RyanCavanaugh</td>\n",
       "    </tr>\n",
       "    <tr>\n",
       "      <th>1007223</th>\n",
       "      <td>1</td>\n",
       "      <td>philipbulley</td>\n",
       "    </tr>\n",
       "    <tr>\n",
       "      <th>1007224</th>\n",
       "      <td>1</td>\n",
       "      <td>basarat</td>\n",
       "    </tr>\n",
       "    <tr>\n",
       "      <th>1007225</th>\n",
       "      <td>1</td>\n",
       "      <td>diverted247</td>\n",
       "    </tr>\n",
       "    <tr>\n",
       "      <th>1007226</th>\n",
       "      <td>1</td>\n",
       "      <td>galloscript</td>\n",
       "    </tr>\n",
       "  </tbody>\n",
       "</table>\n",
       "</div>"
      ],
      "text/plain": [
       "         ID           User\n",
       "1007222   1  RyanCavanaugh\n",
       "1007223   1   philipbulley\n",
       "1007224   1        basarat\n",
       "1007225   1    diverted247\n",
       "1007226   1    galloscript"
      ]
     },
     "execution_count": 462,
     "metadata": {},
     "output_type": "execute_result"
    }
   ],
   "source": [
    "df_three_users_c.head()"
   ]
  },
  {
   "cell_type": "code",
   "execution_count": 463,
   "id": "bb4f747b-025e-4cd4-bf5f-1445a4731c32",
   "metadata": {},
   "outputs": [],
   "source": [
    "frames = [df_three_users_ac, df_three_users_c]\n",
    "df_three_users_merged = pd.concat(frames)\n",
    "df_three_users_merged = df_three_users_merged.sort_values(by='ID', ascending = True)"
   ]
  },
  {
   "cell_type": "markdown",
   "id": "344cab31-0a59-446c-853a-15b69639703b",
   "metadata": {},
   "source": [
    "## Merged"
   ]
  },
  {
   "cell_type": "code",
   "execution_count": 464,
   "id": "b881cf7c-ad64-4113-a348-3f1826de4d94",
   "metadata": {},
   "outputs": [
    {
     "data": {
      "text/html": [
       "<div>\n",
       "<style scoped>\n",
       "    .dataframe tbody tr th:only-of-type {\n",
       "        vertical-align: middle;\n",
       "    }\n",
       "\n",
       "    .dataframe tbody tr th {\n",
       "        vertical-align: top;\n",
       "    }\n",
       "\n",
       "    .dataframe thead th {\n",
       "        text-align: right;\n",
       "    }\n",
       "</style>\n",
       "<table border=\"1\" class=\"dataframe\">\n",
       "  <thead>\n",
       "    <tr style=\"text-align: right;\">\n",
       "      <th></th>\n",
       "      <th>ID</th>\n",
       "      <th>User</th>\n",
       "    </tr>\n",
       "  </thead>\n",
       "  <tbody>\n",
       "    <tr>\n",
       "      <th>226328</th>\n",
       "      <td>1</td>\n",
       "      <td>RyanCavanaugh</td>\n",
       "    </tr>\n",
       "    <tr>\n",
       "      <th>1007247</th>\n",
       "      <td>1</td>\n",
       "      <td>ahejlsberg</td>\n",
       "    </tr>\n",
       "    <tr>\n",
       "      <th>1007246</th>\n",
       "      <td>1</td>\n",
       "      <td>jntrnr</td>\n",
       "    </tr>\n",
       "    <tr>\n",
       "      <th>1007245</th>\n",
       "      <td>1</td>\n",
       "      <td>NoelAbrahams</td>\n",
       "    </tr>\n",
       "    <tr>\n",
       "      <th>1007244</th>\n",
       "      <td>1</td>\n",
       "      <td>RyanCavanaugh</td>\n",
       "    </tr>\n",
       "  </tbody>\n",
       "</table>\n",
       "</div>"
      ],
      "text/plain": [
       "         ID           User\n",
       "226328    1  RyanCavanaugh\n",
       "1007247   1     ahejlsberg\n",
       "1007246   1         jntrnr\n",
       "1007245   1   NoelAbrahams\n",
       "1007244   1  RyanCavanaugh"
      ]
     },
     "execution_count": 464,
     "metadata": {},
     "output_type": "execute_result"
    }
   ],
   "source": [
    "df_three_users_merged.head()"
   ]
  },
  {
   "cell_type": "code",
   "execution_count": 465,
   "id": "45914763-5183-47ed-9b3c-25755fd356c6",
   "metadata": {},
   "outputs": [],
   "source": [
    "df_three_users_merged_no_dupl = df_three_users_merged.drop_duplicates()"
   ]
  },
  {
   "cell_type": "code",
   "execution_count": 466,
   "id": "ce6c7873-6709-4189-8c5e-84b42e483fac",
   "metadata": {},
   "outputs": [
    {
     "data": {
      "text/html": [
       "<div>\n",
       "<style scoped>\n",
       "    .dataframe tbody tr th:only-of-type {\n",
       "        vertical-align: middle;\n",
       "    }\n",
       "\n",
       "    .dataframe tbody tr th {\n",
       "        vertical-align: top;\n",
       "    }\n",
       "\n",
       "    .dataframe thead th {\n",
       "        text-align: right;\n",
       "    }\n",
       "</style>\n",
       "<table border=\"1\" class=\"dataframe\">\n",
       "  <thead>\n",
       "    <tr style=\"text-align: right;\">\n",
       "      <th></th>\n",
       "      <th>ID</th>\n",
       "      <th>User</th>\n",
       "    </tr>\n",
       "  </thead>\n",
       "  <tbody>\n",
       "    <tr>\n",
       "      <th>226328</th>\n",
       "      <td>1</td>\n",
       "      <td>RyanCavanaugh</td>\n",
       "    </tr>\n",
       "    <tr>\n",
       "      <th>1007247</th>\n",
       "      <td>1</td>\n",
       "      <td>ahejlsberg</td>\n",
       "    </tr>\n",
       "    <tr>\n",
       "      <th>1007246</th>\n",
       "      <td>1</td>\n",
       "      <td>jntrnr</td>\n",
       "    </tr>\n",
       "    <tr>\n",
       "      <th>1007245</th>\n",
       "      <td>1</td>\n",
       "      <td>NoelAbrahams</td>\n",
       "    </tr>\n",
       "    <tr>\n",
       "      <th>1007243</th>\n",
       "      <td>1</td>\n",
       "      <td>csnover</td>\n",
       "    </tr>\n",
       "  </tbody>\n",
       "</table>\n",
       "</div>"
      ],
      "text/plain": [
       "         ID           User\n",
       "226328    1  RyanCavanaugh\n",
       "1007247   1     ahejlsberg\n",
       "1007246   1         jntrnr\n",
       "1007245   1   NoelAbrahams\n",
       "1007243   1        csnover"
      ]
     },
     "execution_count": 466,
     "metadata": {},
     "output_type": "execute_result"
    }
   ],
   "source": [
    "df_three_users_merged_no_dupl.head()"
   ]
  },
  {
   "cell_type": "code",
   "execution_count": 467,
   "id": "24637f54-673e-451b-92ac-e06e93520aba",
   "metadata": {},
   "outputs": [
    {
     "data": {
      "text/plain": [
       "33389"
      ]
     },
     "execution_count": 467,
     "metadata": {},
     "output_type": "execute_result"
    }
   ],
   "source": [
    "len(df_three_users_merged_no_dupl)"
   ]
  },
  {
   "cell_type": "markdown",
   "id": "06e1ddfb-9baf-4ae6-9fbe-889061aca6ea",
   "metadata": {},
   "source": [
    "## prepare data"
   ]
  },
  {
   "cell_type": "code",
   "execution_count": 468,
   "id": "ab4f0944-deaf-4a8c-bff4-8ce4b7a14642",
   "metadata": {},
   "outputs": [],
   "source": [
    "df_tmp = df_three_users_merged_no_dupl\n",
    "id_pri = list(df_tmp[\"ID\"].unique())\n",
    "id_user = list(df_tmp[\"User\"].unique())\n",
    "nb_links = len(df_tmp)"
   ]
  },
  {
   "cell_type": "code",
   "execution_count": 469,
   "id": "69a1daa4-29d7-4269-9c81-bddaec16752f",
   "metadata": {},
   "outputs": [],
   "source": [
    "size = range(0, nb_links)\n",
    "\n",
    "edge_list = []\n",
    "for i in size:\n",
    "    left = df_tmp['ID'].iloc[i]\n",
    "    right = df_tmp['User'].iloc[i]\n",
    "    pair = (left, right)\n",
    "    edge_list.append(pair)"
   ]
  },
  {
   "cell_type": "markdown",
   "id": "12b00705-7aff-494d-8f1a-76917a7ca9cd",
   "metadata": {},
   "source": [
    "### bipartite graph microsoft"
   ]
  },
  {
   "cell_type": "code",
   "execution_count": 470,
   "id": "e7c570f4-1598-4f1e-a5f6-5cd790f5e8af",
   "metadata": {},
   "outputs": [],
   "source": [
    "# Create a bipartite graph\n",
    "B = nx.Graph()\n",
    "B.add_nodes_from(id_pri, node_type = \"PRI\", bipartite = 0)\n",
    "B.add_nodes_from(id_user, node_type = \"User\", bipartite = 1)\n",
    "B.add_edges_from(edge_list)"
   ]
  },
  {
   "cell_type": "code",
   "execution_count": 471,
   "id": "7015ecf9-d567-40b2-8bf1-d0e484e8fa56",
   "metadata": {},
   "outputs": [],
   "source": [
    "### users"
   ]
  },
  {
   "cell_type": "code",
   "execution_count": 472,
   "id": "9ac443e2-6918-43ad-a29f-55bd261cc139",
   "metadata": {},
   "outputs": [],
   "source": [
    "G_users = bipartite.weighted_projected_graph(B, id_user)"
   ]
  },
  {
   "cell_type": "code",
   "execution_count": 473,
   "id": "884ce229-3fd3-4de6-b8bd-5c04f95a97f5",
   "metadata": {},
   "outputs": [],
   "source": [
    "save_graph(G_users, 'graph_users_microsoft')"
   ]
  },
  {
   "cell_type": "code",
   "execution_count": null,
   "id": "106c4ba2-3852-4c49-8289-a62e9f591c4f",
   "metadata": {},
   "outputs": [],
   "source": []
  },
  {
   "cell_type": "code",
   "execution_count": null,
   "id": "e33b905f-b763-4d2d-97a3-f1c060857b7c",
   "metadata": {},
   "outputs": [],
   "source": []
  },
  {
   "cell_type": "code",
   "execution_count": null,
   "id": "7eea29d8-d5f5-4293-b714-657c995147f0",
   "metadata": {},
   "outputs": [],
   "source": []
  },
  {
   "cell_type": "code",
   "execution_count": null,
   "id": "19e7d5eb-0ec1-4e92-bc2b-2f390d094e76",
   "metadata": {},
   "outputs": [],
   "source": [
    "# # test for graph\n",
    "# # Create a bipartite graph\n",
    "# T = nx.Graph()\n",
    "# T.add_nodes_from([1, 2, 3], bipartite=0)\n",
    "# T.add_nodes_from(['a', 'b', 'c'], bipartite=1)\n",
    "# T.add_edges_from([(1, 'a'), (1, 'c'),  (1, 'b'), \n",
    "#                   (2, 'b'),  \n",
    "#                   (3, 'a'), (3, 'b'),\n",
    "#                  ])\n",
    "\n",
    "# # Get the sets of nodes\n",
    "# left_nodes, right_nodes = nx.bipartite.sets(T)\n",
    "\n",
    "# # Draw the graph\n",
    "# pos = dict()\n",
    "# pos.update((node, (1, index)) for index, node in enumerate(left_nodes))\n",
    "# pos.update((node, (2, index)) for index, node in enumerate(right_nodes))\n",
    "# nx.draw(T, pos=pos, with_labels=True)\n",
    "\n",
    "# # Show the plot\n",
    "# plt.show()"
   ]
  },
  {
   "cell_type": "code",
   "execution_count": 256,
   "id": "56fe9289-8d20-4198-9a7a-f858315037cc",
   "metadata": {},
   "outputs": [
    {
     "data": {
      "image/png": "[encoded data removed]",
      "text/plain": [
       "<Figure size 640x480 with 1 Axes>"
      ]
     },
     "metadata": {},
     "output_type": "display_data"
    }
   ],
   "source": [
    "nx.draw_networkx(\n",
    "    B, with_labels=True,\n",
    "    pos = nx.drawing.layout.bipartite_layout(B, left_nodes), \n",
    "    width = edge_widths*1) "
   ]
  },
  {
   "cell_type": "code",
   "execution_count": 73,
   "id": "65a97de9-6398-4507-9b5c-2cfd7cc683b4",
   "metadata": {},
   "outputs": [],
   "source": [
    "# for id_user in df_three_users_merged[\"ID\"].unique():\n",
    "#     G.add_node(id_user, node_type=\"PR-issue\", bipartite=0)"
   ]
  },
  {
   "cell_type": "code",
   "execution_count": 65,
   "id": "f8283b95-94be-433d-874e-2b55aa744ab8",
   "metadata": {},
   "outputs": [],
   "source": [
    "# for id_pri in df_three_users_merged[\"User\"].unique():\n",
    "#     G.add_node(id_pri, node_type=\"User\", bipartite=1)"
   ]
  },
  {
   "cell_type": "code",
   "execution_count": null,
   "id": "bf15e559-669a-49d5-beb9-b37a041a8260",
   "metadata": {},
   "outputs": [],
   "source": [
    "# G.add_edges_from()"
   ]
  },
  {
   "cell_type": "code",
   "execution_count": 93,
   "id": "cb7a7486-f39f-4e9f-8962-3cf1a913b7b9",
   "metadata": {},
   "outputs": [],
   "source": [
    "# G = nx.from_pandas_edgelist(df_three_users_merged, 'ID', 'User')"
   ]
  },
  {
   "cell_type": "code",
   "execution_count": 98,
   "id": "5ac98b3d-a67b-414c-9d93-a9a23037d8d4",
   "metadata": {},
   "outputs": [],
   "source": [
    "# G = nx.bipartite.gnmk_random_graph(3, 5, 10, seed=123)\n",
    "# top = nx.bipartite.sets(G)[0]\n",
    "# pos = nx.bipartite_layout(G, top)"
   ]
  },
  {
   "cell_type": "code",
   "execution_count": 68,
   "id": "103a1d6b-7f1f-415f-a069-3bb8f9471731",
   "metadata": {},
   "outputs": [],
   "source": [
    "first = len(df_three_users_merged[\"ID\"].unique())\n",
    "second = len(df_three_users_merged[\"User\"].unique())\n",
    "nb_links = len(df_three_users_merged)"
   ]
  },
  {
   "cell_type": "code",
   "execution_count": 74,
   "id": "919f4674-307b-4a16-96c6-1423b59edd4d",
   "metadata": {},
   "outputs": [
    {
     "data": {
      "text/plain": [
       "{'node_type': 'PR-issue', 'bipartite': 0}"
      ]
     },
     "execution_count": 74,
     "metadata": {},
     "output_type": "execute_result"
    }
   ],
   "source": [
    "G.nodes[1]"
   ]
  },
  {
   "cell_type": "code",
   "execution_count": null,
   "id": "695ed506-679d-4c65-ac53-6817e2bb9f78",
   "metadata": {},
   "outputs": [],
   "source": [
    "# # B = nx.Graph()\n",
    "# # Add nodes with the node attribute \"bipartite\"\n",
    "# B.add_nodes_from([1, 2, 3, 4], bipartite=0)\n",
    "# B.add_nodes_from([\"a\", \"b\", \"c\"], bipartite=1)\n",
    "# # Add edges only between nodes of opposite node sets\n",
    "# B.add_edges_from(\n",
    "# [(1, \"a\"), \n",
    "#  (1, \"b\"), (2, \"b\"), (2, \"c\"), (3, \"c\"), (4, \"a\")\n",
    "# ])"
   ]
  },
  {
   "cell_type": "code",
   "execution_count": null,
   "id": "d7f2cc8e-00ea-4c66-a2da-1035e62c80b9",
   "metadata": {},
   "outputs": [],
   "source": [
    "# G = nx.bipartite.gnmk_random_graph(first, second, nb_links, seed=0)\n",
    "# top = nx.bipartite.sets(G)[0]\n",
    "# pos = nx.bipartite_layout(G, top)"
   ]
  },
  {
   "cell_type": "code",
   "execution_count": null,
   "id": "72b94e52-2487-4bfa-a0a4-92aea992da54",
   "metadata": {},
   "outputs": [],
   "source": [
    "# from matplotlib.pyplot import figure\n",
    "# figure(figsize=(10, 8))\n",
    "# nx.draw_shell(G, with_labels=False)"
   ]
  },
  {
   "cell_type": "code",
   "execution_count": null,
   "id": "bb3c089d-c1be-4db6-ae73-de1b4809cb35",
   "metadata": {},
   "outputs": [],
   "source": []
  },
  {
   "cell_type": "code",
   "execution_count": null,
   "id": "4e523d8c-fc45-42dd-96d0-9ab18e53be06",
   "metadata": {},
   "outputs": [],
   "source": []
  },
  {
   "cell_type": "code",
   "execution_count": 258,
   "id": "bde458f4-a4db-4ae0-84b8-0f61f26cde48",
   "metadata": {},
   "outputs": [],
   "source": [
    "# G.nodes[1]"
   ]
  },
  {
   "cell_type": "code",
   "execution_count": 51,
   "id": "78bc3be0-3f55-4f7b-8bf6-ed45e1ec0baa",
   "metadata": {},
   "outputs": [],
   "source": [
    "for IDnode in df_three_users_merged[\"User\"].unique():\n",
    "    G.add_node(IDnode, node_type=\"User\")"
   ]
  },
  {
   "cell_type": "code",
   "execution_count": null,
   "id": "f36953cc-fe30-434d-87c1-3dc23be59886",
   "metadata": {},
   "outputs": [],
   "source": [
    "# for i in nb_links:\n",
    "#     left = df_three_users_merged['ID']\n",
    "#     right = df_three_users_merged['User']\n",
    "#     G.add_edges_from(left, right)"
   ]
  },
  {
   "cell_type": "code",
   "execution_count": null,
   "id": "5f64a0bc-bdcd-4fc3-9844-6472464ac735",
   "metadata": {},
   "outputs": [],
   "source": []
  },
  {
   "cell_type": "code",
   "execution_count": 257,
   "id": "b3f45f4c-c9aa-41fb-a83d-f21bd22ec8f1",
   "metadata": {},
   "outputs": [],
   "source": [
    "# G = nx.from_pandas_edgelist(df_three_users_merged, 'ID', 'User')"
   ]
  },
  {
   "cell_type": "code",
   "execution_count": 58,
   "id": "812eff25-4400-4d1c-a369-62fde28cd181",
   "metadata": {},
   "outputs": [
    {
     "data": {
      "image/png": "[encoded data removed]",
      "text/plain": [
       "<Figure size 1000x800 with 1 Axes>"
      ]
     },
     "metadata": {},
     "output_type": "display_data"
    }
   ],
   "source": [
    "from matplotlib.pyplot import figure\n",
    "figure(figsize=(10, 8))\n",
    "nx.draw_shell(G, with_labels=True)"
   ]
  },
  {
   "cell_type": "code",
   "execution_count": null,
   "id": "ee369175-e024-4f33-97b4-ce8b15ccb2b2",
   "metadata": {},
   "outputs": [],
   "source": []
  },
  {
   "cell_type": "code",
   "execution_count": null,
   "id": "4c17673a-7b3b-485c-b12c-d3e4952b24dc",
   "metadata": {},
   "outputs": [],
   "source": []
  },
  {
   "cell_type": "code",
   "execution_count": null,
   "id": "121c3a43-fe02-404d-a913-564717598cf7",
   "metadata": {},
   "outputs": [],
   "source": [
    "# todo: v1 - loop add node (add properties, edges)\n",
    "# v2  - xport biprototype"
   ]
  },
  {
   "cell_type": "code",
   "execution_count": 281,
   "id": "698c5e15-ea2c-442c-a9c1-fbb2c59fd141",
   "metadata": {},
   "outputs": [],
   "source": [
    "from matplotlib.pyplot import figure"
   ]
  },
  {
   "cell_type": "code",
   "execution_count": 289,
   "id": "1f51863a-bf08-42da-8ed0-17ebeeec3adb",
   "metadata": {},
   "outputs": [
    {
     "data": {
      "text/plain": [
       "{}"
      ]
     },
     "execution_count": 289,
     "metadata": {},
     "output_type": "execute_result"
    }
   ],
   "source": [
    "# G.nodes['chrislloyd']"
   ]
  },
  {
   "cell_type": "code",
   "execution_count": 285,
   "id": "b3a35a65-323e-4fba-949f-5f7b2ca77b73",
   "metadata": {},
   "outputs": [],
   "source": [
    "nb_connections = {}\n",
    "for x in G.nodes:\n",
    "    nb_connections[x] = len(G[x])\n",
    "s = pd.Series(nb_connections, name='connections')\n",
    "df_nb_connections = s.to_frame().sort_values('connections', ascending=False).reset_index()"
   ]
  },
  {
   "cell_type": "code",
   "execution_count": 286,
   "id": "eccbd4d1-e81f-42e0-839e-434a43274ab2",
   "metadata": {
    "tags": []
   },
   "outputs": [
    {
     "data": {
      "text/html": [
       "<div>\n",
       "<style scoped>\n",
       "    .dataframe tbody tr th:only-of-type {\n",
       "        vertical-align: middle;\n",
       "    }\n",
       "\n",
       "    .dataframe tbody tr th {\n",
       "        vertical-align: top;\n",
       "    }\n",
       "\n",
       "    .dataframe thead th {\n",
       "        text-align: right;\n",
       "    }\n",
       "</style>\n",
       "<table border=\"1\" class=\"dataframe\">\n",
       "  <thead>\n",
       "    <tr style=\"text-align: right;\">\n",
       "      <th></th>\n",
       "      <th>User</th>\n",
       "      <th>Label</th>\n",
       "    </tr>\n",
       "  </thead>\n",
       "  <tbody>\n",
       "    <tr>\n",
       "      <th>0</th>\n",
       "      <td>bhouston</td>\n",
       "      <td>bhouston</td>\n",
       "    </tr>\n",
       "    <tr>\n",
       "      <th>1</th>\n",
       "      <td>WestLangley</td>\n",
       "      <td>WestLangley</td>\n",
       "    </tr>\n",
       "    <tr>\n",
       "      <th>2</th>\n",
       "      <td>gero3</td>\n",
       "      <td>gero3</td>\n",
       "    </tr>\n",
       "    <tr>\n",
       "      <th>3</th>\n",
       "      <td>ghost</td>\n",
       "      <td>ghost</td>\n",
       "    </tr>\n",
       "    <tr>\n",
       "      <th>4</th>\n",
       "      <td>Mugen87</td>\n",
       "      <td>Mugen87</td>\n",
       "    </tr>\n",
       "  </tbody>\n",
       "</table>\n",
       "</div>"
      ],
      "text/plain": [
       "          User        Label\n",
       "0     bhouston     bhouston\n",
       "1  WestLangley  WestLangley\n",
       "2        gero3        gero3\n",
       "3        ghost        ghost\n",
       "4      Mugen87      Mugen87"
      ]
     },
     "execution_count": 286,
     "metadata": {},
     "output_type": "execute_result"
    }
   ],
   "source": [
    "df_nb_connections = df_three_users.rename(columns={\"index\": \"User\"})"
   ]
  },
  {
   "cell_type": "code",
   "execution_count": 287,
   "id": "619d19bf-a7ae-42e3-90c8-2142c6a1cc32",
   "metadata": {},
   "outputs": [
    {
     "data": {
      "text/html": [
       "<div>\n",
       "<style scoped>\n",
       "    .dataframe tbody tr th:only-of-type {\n",
       "        vertical-align: middle;\n",
       "    }\n",
       "\n",
       "    .dataframe tbody tr th {\n",
       "        vertical-align: top;\n",
       "    }\n",
       "\n",
       "    .dataframe thead th {\n",
       "        text-align: right;\n",
       "    }\n",
       "</style>\n",
       "<table border=\"1\" class=\"dataframe\">\n",
       "  <thead>\n",
       "    <tr style=\"text-align: right;\">\n",
       "      <th></th>\n",
       "      <th>User</th>\n",
       "      <th>Label</th>\n",
       "    </tr>\n",
       "  </thead>\n",
       "  <tbody>\n",
       "    <tr>\n",
       "      <th>0</th>\n",
       "      <td>bhouston</td>\n",
       "      <td>bhouston</td>\n",
       "    </tr>\n",
       "    <tr>\n",
       "      <th>1</th>\n",
       "      <td>WestLangley</td>\n",
       "      <td>WestLangley</td>\n",
       "    </tr>\n",
       "    <tr>\n",
       "      <th>2</th>\n",
       "      <td>gero3</td>\n",
       "      <td>gero3</td>\n",
       "    </tr>\n",
       "    <tr>\n",
       "      <th>3</th>\n",
       "      <td>ghost</td>\n",
       "      <td>ghost</td>\n",
       "    </tr>\n",
       "    <tr>\n",
       "      <th>4</th>\n",
       "      <td>Mugen87</td>\n",
       "      <td>Mugen87</td>\n",
       "    </tr>\n",
       "  </tbody>\n",
       "</table>\n",
       "</div>"
      ],
      "text/plain": [
       "          User        Label\n",
       "0     bhouston     bhouston\n",
       "1  WestLangley  WestLangley\n",
       "2        gero3        gero3\n",
       "3        ghost        ghost\n",
       "4      Mugen87      Mugen87"
      ]
     },
     "execution_count": 287,
     "metadata": {},
     "output_type": "execute_result"
    }
   ],
   "source": [
    "df_nb_connections.head()"
   ]
  },
  {
   "cell_type": "markdown",
   "id": "7a0835f1-b513-4c49-9683-6ede1f16b17e",
   "metadata": {},
   "source": [
    "## P/I - c - user"
   ]
  },
  {
   "cell_type": "code",
   "execution_count": 206,
   "id": "41caa118-af8f-4a8b-892d-765431b1aed4",
   "metadata": {},
   "outputs": [
    {
     "data": {
      "text/html": [
       "<div>\n",
       "<style scoped>\n",
       "    .dataframe tbody tr th:only-of-type {\n",
       "        vertical-align: middle;\n",
       "    }\n",
       "\n",
       "    .dataframe tbody tr th {\n",
       "        vertical-align: top;\n",
       "    }\n",
       "\n",
       "    .dataframe thead th {\n",
       "        text-align: right;\n",
       "    }\n",
       "</style>\n",
       "<table border=\"1\" class=\"dataframe\">\n",
       "  <thead>\n",
       "    <tr style=\"text-align: right;\">\n",
       "      <th></th>\n",
       "      <th>Repository</th>\n",
       "      <th>ID</th>\n",
       "      <th>User</th>\n",
       "      <th>Type</th>\n",
       "      <th>State</th>\n",
       "      <th>CommitId</th>\n",
       "      <th>CreatedAt</th>\n",
       "      <th>ClosedAt</th>\n",
       "      <th>IsMerged</th>\n",
       "      <th>CountReactions</th>\n",
       "      <th>CountLike</th>\n",
       "      <th>CountDislike</th>\n",
       "    </tr>\n",
       "  </thead>\n",
       "  <tbody>\n",
       "    <tr>\n",
       "      <th>238087</th>\n",
       "      <td>[mrdoob]three.js</td>\n",
       "      <td>1</td>\n",
       "      <td>chrislloyd</td>\n",
       "      <td>issue</td>\n",
       "      <td>closed</td>\n",
       "      <td>NaN</td>\n",
       "      <td>2010-04-25</td>\n",
       "      <td>2010-04-26</td>\n",
       "      <td>False</td>\n",
       "      <td>0</td>\n",
       "      <td>0</td>\n",
       "      <td>0</td>\n",
       "    </tr>\n",
       "    <tr>\n",
       "      <th>238088</th>\n",
       "      <td>[mrdoob]three.js</td>\n",
       "      <td>2</td>\n",
       "      <td>Ovid</td>\n",
       "      <td>issue</td>\n",
       "      <td>closed</td>\n",
       "      <td>NaN</td>\n",
       "      <td>2010-04-26</td>\n",
       "      <td>2010-11-04</td>\n",
       "      <td>False</td>\n",
       "      <td>0</td>\n",
       "      <td>0</td>\n",
       "      <td>0</td>\n",
       "    </tr>\n",
       "    <tr>\n",
       "      <th>238089</th>\n",
       "      <td>[mrdoob]three.js</td>\n",
       "      <td>3</td>\n",
       "      <td>icidasset</td>\n",
       "      <td>issue</td>\n",
       "      <td>closed</td>\n",
       "      <td>NaN</td>\n",
       "      <td>2010-06-20</td>\n",
       "      <td>2010-06-21</td>\n",
       "      <td>False</td>\n",
       "      <td>0</td>\n",
       "      <td>0</td>\n",
       "      <td>0</td>\n",
       "    </tr>\n",
       "    <tr>\n",
       "      <th>238090</th>\n",
       "      <td>[mrdoob]three.js</td>\n",
       "      <td>4</td>\n",
       "      <td>SignpostMarv</td>\n",
       "      <td>issue</td>\n",
       "      <td>closed</td>\n",
       "      <td>NaN</td>\n",
       "      <td>2010-06-23</td>\n",
       "      <td>2010-06-24</td>\n",
       "      <td>False</td>\n",
       "      <td>0</td>\n",
       "      <td>0</td>\n",
       "      <td>0</td>\n",
       "    </tr>\n",
       "    <tr>\n",
       "      <th>238091</th>\n",
       "      <td>[mrdoob]three.js</td>\n",
       "      <td>5</td>\n",
       "      <td>SignpostMarv</td>\n",
       "      <td>issue</td>\n",
       "      <td>closed</td>\n",
       "      <td>NaN</td>\n",
       "      <td>2010-06-23</td>\n",
       "      <td>2010-06-23</td>\n",
       "      <td>False</td>\n",
       "      <td>0</td>\n",
       "      <td>0</td>\n",
       "      <td>0</td>\n",
       "    </tr>\n",
       "  </tbody>\n",
       "</table>\n",
       "</div>"
      ],
      "text/plain": [
       "              Repository  ID          User   Type   State CommitId  \\\n",
       "238087  [mrdoob]three.js   1    chrislloyd  issue  closed      NaN   \n",
       "238088  [mrdoob]three.js   2          Ovid  issue  closed      NaN   \n",
       "238089  [mrdoob]three.js   3     icidasset  issue  closed      NaN   \n",
       "238090  [mrdoob]three.js   4  SignpostMarv  issue  closed      NaN   \n",
       "238091  [mrdoob]three.js   5  SignpostMarv  issue  closed      NaN   \n",
       "\n",
       "         CreatedAt    ClosedAt  IsMerged  CountReactions  CountLike  \\\n",
       "238087  2010-04-25  2010-04-26     False               0          0   \n",
       "238088  2010-04-26  2010-11-04     False               0          0   \n",
       "238089  2010-06-20  2010-06-21     False               0          0   \n",
       "238090  2010-06-23  2010-06-24     False               0          0   \n",
       "238091  2010-06-23  2010-06-23     False               0          0   \n",
       "\n",
       "        CountDislike  \n",
       "238087             0  \n",
       "238088             0  \n",
       "238089             0  \n",
       "238090             0  \n",
       "238091             0  "
      ]
     },
     "execution_count": 206,
     "metadata": {},
     "output_type": "execute_result"
    }
   ],
   "source": [
    "df_three.head()"
   ]
  },
  {
   "cell_type": "code",
   "execution_count": 207,
   "id": "b999c162-605b-4276-bcfd-f5484df5e62b",
   "metadata": {},
   "outputs": [
    {
     "data": {
      "text/plain": [
       "bhouston         313\n",
       "WestLangley      274\n",
       "gero3            208\n",
       "ghost            192\n",
       "Mugen87          126\n",
       "                ... \n",
       "simar88            1\n",
       "matter-io2         1\n",
       "erichanson         1\n",
       "Linjx80779921      1\n",
       "sam-g-steel        1\n",
       "Name: User, Length: 3701, dtype: int64"
      ]
     },
     "execution_count": 207,
     "metadata": {},
     "output_type": "execute_result"
    }
   ],
   "source": [
    "df_three['User'].value_counts()"
   ]
  },
  {
   "cell_type": "code",
   "execution_count": 208,
   "id": "879299fa-bffb-4edb-b196-2e3fdc3e5486",
   "metadata": {},
   "outputs": [
    {
     "data": {
      "text/html": [
       "<div>\n",
       "<style scoped>\n",
       "    .dataframe tbody tr th:only-of-type {\n",
       "        vertical-align: middle;\n",
       "    }\n",
       "\n",
       "    .dataframe tbody tr th {\n",
       "        vertical-align: top;\n",
       "    }\n",
       "\n",
       "    .dataframe thead th {\n",
       "        text-align: right;\n",
       "    }\n",
       "</style>\n",
       "<table border=\"1\" class=\"dataframe\">\n",
       "  <thead>\n",
       "    <tr style=\"text-align: right;\">\n",
       "      <th></th>\n",
       "      <th>Repository</th>\n",
       "      <th>ID</th>\n",
       "      <th>User</th>\n",
       "      <th>CreatedAt</th>\n",
       "      <th>CountReactions</th>\n",
       "      <th>CountLike</th>\n",
       "      <th>CountDislike</th>\n",
       "      <th>Sentiment</th>\n",
       "      <th>SentimentScore</th>\n",
       "    </tr>\n",
       "  </thead>\n",
       "  <tbody>\n",
       "    <tr>\n",
       "      <th>1063146</th>\n",
       "      <td>[mrdoob]three.js</td>\n",
       "      <td>1</td>\n",
       "      <td>mrdoob</td>\n",
       "      <td>2010-04-25</td>\n",
       "      <td>0</td>\n",
       "      <td>0</td>\n",
       "      <td>0</td>\n",
       "      <td>POSITIVE</td>\n",
       "      <td>0.9977</td>\n",
       "    </tr>\n",
       "    <tr>\n",
       "      <th>1063147</th>\n",
       "      <td>[mrdoob]three.js</td>\n",
       "      <td>1</td>\n",
       "      <td>splatcollision</td>\n",
       "      <td>2011-01-10</td>\n",
       "      <td>0</td>\n",
       "      <td>0</td>\n",
       "      <td>0</td>\n",
       "      <td>POSITIVE</td>\n",
       "      <td>0.9990</td>\n",
       "    </tr>\n",
       "    <tr>\n",
       "      <th>1063148</th>\n",
       "      <td>[mrdoob]three.js</td>\n",
       "      <td>2</td>\n",
       "      <td>mrdoob</td>\n",
       "      <td>2010-04-26</td>\n",
       "      <td>0</td>\n",
       "      <td>0</td>\n",
       "      <td>0</td>\n",
       "      <td>POSITIVE</td>\n",
       "      <td>0.7345</td>\n",
       "    </tr>\n",
       "    <tr>\n",
       "      <th>1063149</th>\n",
       "      <td>[mrdoob]three.js</td>\n",
       "      <td>2</td>\n",
       "      <td>Ovid</td>\n",
       "      <td>2010-04-26</td>\n",
       "      <td>0</td>\n",
       "      <td>0</td>\n",
       "      <td>0</td>\n",
       "      <td>POSITIVE</td>\n",
       "      <td>0.9975</td>\n",
       "    </tr>\n",
       "    <tr>\n",
       "      <th>1063150</th>\n",
       "      <td>[mrdoob]three.js</td>\n",
       "      <td>2</td>\n",
       "      <td>jurjen</td>\n",
       "      <td>2010-04-30</td>\n",
       "      <td>0</td>\n",
       "      <td>0</td>\n",
       "      <td>0</td>\n",
       "      <td>POSITIVE</td>\n",
       "      <td>0.9921</td>\n",
       "    </tr>\n",
       "  </tbody>\n",
       "</table>\n",
       "</div>"
      ],
      "text/plain": [
       "               Repository  ID            User   CreatedAt  CountReactions  \\\n",
       "1063146  [mrdoob]three.js   1          mrdoob  2010-04-25               0   \n",
       "1063147  [mrdoob]three.js   1  splatcollision  2011-01-10               0   \n",
       "1063148  [mrdoob]three.js   2          mrdoob  2010-04-26               0   \n",
       "1063149  [mrdoob]three.js   2            Ovid  2010-04-26               0   \n",
       "1063150  [mrdoob]three.js   2          jurjen  2010-04-30               0   \n",
       "\n",
       "         CountLike  CountDislike Sentiment  SentimentScore  \n",
       "1063146          0             0  POSITIVE          0.9977  \n",
       "1063147          0             0  POSITIVE          0.9990  \n",
       "1063148          0             0  POSITIVE          0.7345  \n",
       "1063149          0             0  POSITIVE          0.9975  \n",
       "1063150          0             0  POSITIVE          0.9921  "
      ]
     },
     "execution_count": 208,
     "metadata": {},
     "output_type": "execute_result"
    }
   ],
   "source": [
    "df_three_comments.head()"
   ]
  },
  {
   "cell_type": "markdown",
   "id": "e608d18e-0868-465a-9fd4-9f18f6896385",
   "metadata": {},
   "source": [
    "### Merge \n",
    "df_three and df_three_comments on ID, because Id from comments and pri are the same. "
   ]
  },
  {
   "cell_type": "code",
   "execution_count": 209,
   "id": "a3c081e9-6d3b-42ee-85b5-3475c1f17b22",
   "metadata": {},
   "outputs": [],
   "source": [
    "df_pri_c = df_three_comments.copy()"
   ]
  },
  {
   "cell_type": "code",
   "execution_count": 210,
   "id": "ac83e8c5-49bf-4355-91f8-a330abac82b0",
   "metadata": {},
   "outputs": [],
   "source": [
    "df_pri_c = df_pri_c.merge(df_three, left_on='ID', right_on='ID', suffixes=('_comm', '_pri'))"
   ]
  },
  {
   "cell_type": "code",
   "execution_count": 211,
   "id": "d09a8c77-f2a2-43f2-80f1-6c798583de87",
   "metadata": {},
   "outputs": [
    {
     "data": {
      "text/html": [
       "<div>\n",
       "<style scoped>\n",
       "    .dataframe tbody tr th:only-of-type {\n",
       "        vertical-align: middle;\n",
       "    }\n",
       "\n",
       "    .dataframe tbody tr th {\n",
       "        vertical-align: top;\n",
       "    }\n",
       "\n",
       "    .dataframe thead th {\n",
       "        text-align: right;\n",
       "    }\n",
       "</style>\n",
       "<table border=\"1\" class=\"dataframe\">\n",
       "  <thead>\n",
       "    <tr style=\"text-align: right;\">\n",
       "      <th></th>\n",
       "      <th>Repository_comm</th>\n",
       "      <th>ID</th>\n",
       "      <th>User_comm</th>\n",
       "      <th>CreatedAt_comm</th>\n",
       "      <th>CountReactions_comm</th>\n",
       "      <th>CountLike_comm</th>\n",
       "      <th>CountDislike_comm</th>\n",
       "      <th>Sentiment</th>\n",
       "      <th>SentimentScore</th>\n",
       "      <th>Repository_pri</th>\n",
       "      <th>User_pri</th>\n",
       "      <th>Type</th>\n",
       "      <th>State</th>\n",
       "      <th>CommitId</th>\n",
       "      <th>CreatedAt_pri</th>\n",
       "      <th>ClosedAt</th>\n",
       "      <th>IsMerged</th>\n",
       "      <th>CountReactions_pri</th>\n",
       "      <th>CountLike_pri</th>\n",
       "      <th>CountDislike_pri</th>\n",
       "    </tr>\n",
       "  </thead>\n",
       "  <tbody>\n",
       "    <tr>\n",
       "      <th>0</th>\n",
       "      <td>[mrdoob]three.js</td>\n",
       "      <td>1</td>\n",
       "      <td>mrdoob</td>\n",
       "      <td>2010-04-25</td>\n",
       "      <td>0</td>\n",
       "      <td>0</td>\n",
       "      <td>0</td>\n",
       "      <td>POSITIVE</td>\n",
       "      <td>0.9977</td>\n",
       "      <td>[mrdoob]three.js</td>\n",
       "      <td>chrislloyd</td>\n",
       "      <td>issue</td>\n",
       "      <td>closed</td>\n",
       "      <td>NaN</td>\n",
       "      <td>2010-04-25</td>\n",
       "      <td>2010-04-26</td>\n",
       "      <td>False</td>\n",
       "      <td>0</td>\n",
       "      <td>0</td>\n",
       "      <td>0</td>\n",
       "    </tr>\n",
       "    <tr>\n",
       "      <th>1</th>\n",
       "      <td>[mrdoob]three.js</td>\n",
       "      <td>1</td>\n",
       "      <td>splatcollision</td>\n",
       "      <td>2011-01-10</td>\n",
       "      <td>0</td>\n",
       "      <td>0</td>\n",
       "      <td>0</td>\n",
       "      <td>POSITIVE</td>\n",
       "      <td>0.9990</td>\n",
       "      <td>[mrdoob]three.js</td>\n",
       "      <td>chrislloyd</td>\n",
       "      <td>issue</td>\n",
       "      <td>closed</td>\n",
       "      <td>NaN</td>\n",
       "      <td>2010-04-25</td>\n",
       "      <td>2010-04-26</td>\n",
       "      <td>False</td>\n",
       "      <td>0</td>\n",
       "      <td>0</td>\n",
       "      <td>0</td>\n",
       "    </tr>\n",
       "    <tr>\n",
       "      <th>2</th>\n",
       "      <td>[mrdoob]three.js</td>\n",
       "      <td>2</td>\n",
       "      <td>mrdoob</td>\n",
       "      <td>2010-04-26</td>\n",
       "      <td>0</td>\n",
       "      <td>0</td>\n",
       "      <td>0</td>\n",
       "      <td>POSITIVE</td>\n",
       "      <td>0.7345</td>\n",
       "      <td>[mrdoob]three.js</td>\n",
       "      <td>Ovid</td>\n",
       "      <td>issue</td>\n",
       "      <td>closed</td>\n",
       "      <td>NaN</td>\n",
       "      <td>2010-04-26</td>\n",
       "      <td>2010-11-04</td>\n",
       "      <td>False</td>\n",
       "      <td>0</td>\n",
       "      <td>0</td>\n",
       "      <td>0</td>\n",
       "    </tr>\n",
       "    <tr>\n",
       "      <th>3</th>\n",
       "      <td>[mrdoob]three.js</td>\n",
       "      <td>2</td>\n",
       "      <td>Ovid</td>\n",
       "      <td>2010-04-26</td>\n",
       "      <td>0</td>\n",
       "      <td>0</td>\n",
       "      <td>0</td>\n",
       "      <td>POSITIVE</td>\n",
       "      <td>0.9975</td>\n",
       "      <td>[mrdoob]three.js</td>\n",
       "      <td>Ovid</td>\n",
       "      <td>issue</td>\n",
       "      <td>closed</td>\n",
       "      <td>NaN</td>\n",
       "      <td>2010-04-26</td>\n",
       "      <td>2010-11-04</td>\n",
       "      <td>False</td>\n",
       "      <td>0</td>\n",
       "      <td>0</td>\n",
       "      <td>0</td>\n",
       "    </tr>\n",
       "    <tr>\n",
       "      <th>4</th>\n",
       "      <td>[mrdoob]three.js</td>\n",
       "      <td>2</td>\n",
       "      <td>jurjen</td>\n",
       "      <td>2010-04-30</td>\n",
       "      <td>0</td>\n",
       "      <td>0</td>\n",
       "      <td>0</td>\n",
       "      <td>POSITIVE</td>\n",
       "      <td>0.9921</td>\n",
       "      <td>[mrdoob]three.js</td>\n",
       "      <td>Ovid</td>\n",
       "      <td>issue</td>\n",
       "      <td>closed</td>\n",
       "      <td>NaN</td>\n",
       "      <td>2010-04-26</td>\n",
       "      <td>2010-11-04</td>\n",
       "      <td>False</td>\n",
       "      <td>0</td>\n",
       "      <td>0</td>\n",
       "      <td>0</td>\n",
       "    </tr>\n",
       "  </tbody>\n",
       "</table>\n",
       "</div>"
      ],
      "text/plain": [
       "    Repository_comm  ID       User_comm CreatedAt_comm  CountReactions_comm  \\\n",
       "0  [mrdoob]three.js   1          mrdoob     2010-04-25                    0   \n",
       "1  [mrdoob]three.js   1  splatcollision     2011-01-10                    0   \n",
       "2  [mrdoob]three.js   2          mrdoob     2010-04-26                    0   \n",
       "3  [mrdoob]three.js   2            Ovid     2010-04-26                    0   \n",
       "4  [mrdoob]three.js   2          jurjen     2010-04-30                    0   \n",
       "\n",
       "   CountLike_comm  CountDislike_comm Sentiment  SentimentScore  \\\n",
       "0               0                  0  POSITIVE          0.9977   \n",
       "1               0                  0  POSITIVE          0.9990   \n",
       "2               0                  0  POSITIVE          0.7345   \n",
       "3               0                  0  POSITIVE          0.9975   \n",
       "4               0                  0  POSITIVE          0.9921   \n",
       "\n",
       "     Repository_pri    User_pri   Type   State CommitId CreatedAt_pri  \\\n",
       "0  [mrdoob]three.js  chrislloyd  issue  closed      NaN    2010-04-25   \n",
       "1  [mrdoob]three.js  chrislloyd  issue  closed      NaN    2010-04-25   \n",
       "2  [mrdoob]three.js        Ovid  issue  closed      NaN    2010-04-26   \n",
       "3  [mrdoob]three.js        Ovid  issue  closed      NaN    2010-04-26   \n",
       "4  [mrdoob]three.js        Ovid  issue  closed      NaN    2010-04-26   \n",
       "\n",
       "     ClosedAt  IsMerged  CountReactions_pri  CountLike_pri  CountDislike_pri  \n",
       "0  2010-04-26     False                   0              0                 0  \n",
       "1  2010-04-26     False                   0              0                 0  \n",
       "2  2010-11-04     False                   0              0                 0  \n",
       "3  2010-11-04     False                   0              0                 0  \n",
       "4  2010-11-04     False                   0              0                 0  "
      ]
     },
     "execution_count": 211,
     "metadata": {},
     "output_type": "execute_result"
    }
   ],
   "source": [
    "df_pri_c.head()"
   ]
  },
  {
   "cell_type": "code",
   "execution_count": 212,
   "id": "6db86d04-91dd-46ac-935f-89e00bf8cfd1",
   "metadata": {},
   "outputs": [
    {
     "data": {
      "text/plain": [
       "False    41609\n",
       "True      8920\n",
       "Name: IsMerged, dtype: int64"
      ]
     },
     "execution_count": 212,
     "metadata": {},
     "output_type": "execute_result"
    }
   ],
   "source": [
    "df_pri_c['IsMerged'].value_counts()"
   ]
  },
  {
   "cell_type": "code",
   "execution_count": 213,
   "id": "415e9d8f-c20d-4622-8ad5-2c3aebcad55b",
   "metadata": {},
   "outputs": [
    {
     "data": {
      "text/plain": [
       "Index(['Repository_comm', 'ID', 'User_comm', 'CreatedAt_comm',\n",
       "       'CountReactions_comm', 'CountLike_comm', 'CountDislike_comm',\n",
       "       'Sentiment', 'SentimentScore', 'Repository_pri', 'User_pri', 'Type',\n",
       "       'State', 'CommitId', 'CreatedAt_pri', 'ClosedAt', 'IsMerged',\n",
       "       'CountReactions_pri', 'CountLike_pri', 'CountDislike_pri'],\n",
       "      dtype='object')"
      ]
     },
     "execution_count": 213,
     "metadata": {},
     "output_type": "execute_result"
    }
   ],
   "source": [
    "df_pri_c.columns"
   ]
  },
  {
   "cell_type": "code",
   "execution_count": 214,
   "id": "7e29db59-3f05-488f-9139-00d46a7cd1f8",
   "metadata": {},
   "outputs": [],
   "source": [
    "# columns_merged = ['Repository', 'ID', 'User', 'com_CreatedAt', 'type', 'user'] #, 'user_id'"
   ]
  },
  {
   "cell_type": "code",
   "execution_count": 215,
   "id": "4b736714-81e8-45c3-9b1c-4bb29c41856f",
   "metadata": {},
   "outputs": [],
   "source": [
    "to_drop = ['Repository_pri', 'CountReactions_comm', 'CountDislike_comm', 'CountLike_comm', 'CountLike_comm', 'Sentiment', 'SentimentScore', 'CommitId', 'CountReactions_pri', 'CountLike_pri', 'CountDislike_pri']"
   ]
  },
  {
   "cell_type": "code",
   "execution_count": 216,
   "id": "7f4d827a-04aa-4154-a2a0-ed1281fa19f5",
   "metadata": {},
   "outputs": [],
   "source": [
    "df_pri_c = df_pri_c.drop(columns = to_drop)"
   ]
  },
  {
   "cell_type": "code",
   "execution_count": null,
   "id": "f73dd34b-c695-4a2c-b37c-03c6cd87a499",
   "metadata": {},
   "outputs": [],
   "source": [
    "#todo:  network-x"
   ]
  },
  {
   "cell_type": "code",
   "execution_count": 217,
   "id": "6840f60b-0369-45b6-8b8f-4699efa761dd",
   "metadata": {},
   "outputs": [
    {
     "data": {
      "text/html": [
       "<div>\n",
       "<style scoped>\n",
       "    .dataframe tbody tr th:only-of-type {\n",
       "        vertical-align: middle;\n",
       "    }\n",
       "\n",
       "    .dataframe tbody tr th {\n",
       "        vertical-align: top;\n",
       "    }\n",
       "\n",
       "    .dataframe thead th {\n",
       "        text-align: right;\n",
       "    }\n",
       "</style>\n",
       "<table border=\"1\" class=\"dataframe\">\n",
       "  <thead>\n",
       "    <tr style=\"text-align: right;\">\n",
       "      <th></th>\n",
       "      <th>Repository_comm</th>\n",
       "      <th>ID</th>\n",
       "      <th>User_comm</th>\n",
       "      <th>CreatedAt_comm</th>\n",
       "      <th>User_pri</th>\n",
       "      <th>Type</th>\n",
       "      <th>State</th>\n",
       "      <th>CreatedAt_pri</th>\n",
       "      <th>ClosedAt</th>\n",
       "      <th>IsMerged</th>\n",
       "    </tr>\n",
       "  </thead>\n",
       "  <tbody>\n",
       "    <tr>\n",
       "      <th>0</th>\n",
       "      <td>[mrdoob]three.js</td>\n",
       "      <td>1</td>\n",
       "      <td>mrdoob</td>\n",
       "      <td>2010-04-25</td>\n",
       "      <td>chrislloyd</td>\n",
       "      <td>issue</td>\n",
       "      <td>closed</td>\n",
       "      <td>2010-04-25</td>\n",
       "      <td>2010-04-26</td>\n",
       "      <td>False</td>\n",
       "    </tr>\n",
       "    <tr>\n",
       "      <th>1</th>\n",
       "      <td>[mrdoob]three.js</td>\n",
       "      <td>1</td>\n",
       "      <td>splatcollision</td>\n",
       "      <td>2011-01-10</td>\n",
       "      <td>chrislloyd</td>\n",
       "      <td>issue</td>\n",
       "      <td>closed</td>\n",
       "      <td>2010-04-25</td>\n",
       "      <td>2010-04-26</td>\n",
       "      <td>False</td>\n",
       "    </tr>\n",
       "    <tr>\n",
       "      <th>2</th>\n",
       "      <td>[mrdoob]three.js</td>\n",
       "      <td>2</td>\n",
       "      <td>mrdoob</td>\n",
       "      <td>2010-04-26</td>\n",
       "      <td>Ovid</td>\n",
       "      <td>issue</td>\n",
       "      <td>closed</td>\n",
       "      <td>2010-04-26</td>\n",
       "      <td>2010-11-04</td>\n",
       "      <td>False</td>\n",
       "    </tr>\n",
       "    <tr>\n",
       "      <th>3</th>\n",
       "      <td>[mrdoob]three.js</td>\n",
       "      <td>2</td>\n",
       "      <td>Ovid</td>\n",
       "      <td>2010-04-26</td>\n",
       "      <td>Ovid</td>\n",
       "      <td>issue</td>\n",
       "      <td>closed</td>\n",
       "      <td>2010-04-26</td>\n",
       "      <td>2010-11-04</td>\n",
       "      <td>False</td>\n",
       "    </tr>\n",
       "    <tr>\n",
       "      <th>4</th>\n",
       "      <td>[mrdoob]three.js</td>\n",
       "      <td>2</td>\n",
       "      <td>jurjen</td>\n",
       "      <td>2010-04-30</td>\n",
       "      <td>Ovid</td>\n",
       "      <td>issue</td>\n",
       "      <td>closed</td>\n",
       "      <td>2010-04-26</td>\n",
       "      <td>2010-11-04</td>\n",
       "      <td>False</td>\n",
       "    </tr>\n",
       "  </tbody>\n",
       "</table>\n",
       "</div>"
      ],
      "text/plain": [
       "    Repository_comm  ID       User_comm CreatedAt_comm    User_pri   Type  \\\n",
       "0  [mrdoob]three.js   1          mrdoob     2010-04-25  chrislloyd  issue   \n",
       "1  [mrdoob]three.js   1  splatcollision     2011-01-10  chrislloyd  issue   \n",
       "2  [mrdoob]three.js   2          mrdoob     2010-04-26        Ovid  issue   \n",
       "3  [mrdoob]three.js   2            Ovid     2010-04-26        Ovid  issue   \n",
       "4  [mrdoob]three.js   2          jurjen     2010-04-30        Ovid  issue   \n",
       "\n",
       "    State CreatedAt_pri    ClosedAt  IsMerged  \n",
       "0  closed    2010-04-25  2010-04-26     False  \n",
       "1  closed    2010-04-25  2010-04-26     False  \n",
       "2  closed    2010-04-26  2010-11-04     False  \n",
       "3  closed    2010-04-26  2010-11-04     False  \n",
       "4  closed    2010-04-26  2010-11-04     False  "
      ]
     },
     "execution_count": 217,
     "metadata": {},
     "output_type": "execute_result"
    }
   ],
   "source": [
    "df_pri_c.head()"
   ]
  },
  {
   "cell_type": "code",
   "execution_count": 218,
   "id": "0b7aaec9-6538-4ab2-8553-e686e5cd2c16",
   "metadata": {},
   "outputs": [],
   "source": [
    "# columns_merged = ['']\n",
    "# keep = ['Repository_comm', 'ID', 'User_comm', 'CreatedAt_comm', 'User_pri', 'Type', 'State', 'CreatedAt_pri', 'ClosedAt', 'IsMerged']"
   ]
  },
  {
   "cell_type": "markdown",
   "id": "b3e978e4-ba9a-4020-a1ee-109885485104",
   "metadata": {},
   "source": [
    "### Create user_id number"
   ]
  },
  {
   "cell_type": "code",
   "execution_count": 219,
   "id": "5b3b2d4a-63dd-4c77-84ab-41f350bbbe1b",
   "metadata": {},
   "outputs": [],
   "source": [
    "# we start from last id of comment - because I of issue and user should not be the same\n",
    "user_id_three_start = max(df_three['ID']) + 10"
   ]
  },
  {
   "cell_type": "code",
   "execution_count": 220,
   "id": "778cfe20-2638-4259-906a-a6f7aee2ad8e",
   "metadata": {},
   "outputs": [
    {
     "data": {
      "text/plain": [
       "10059"
      ]
     },
     "execution_count": 220,
     "metadata": {},
     "output_type": "execute_result"
    }
   ],
   "source": [
    "user_id_three_start"
   ]
  },
  {
   "cell_type": "markdown",
   "id": "118d718b-74f3-4d13-81b2-0386e727d447",
   "metadata": {},
   "source": [
    "### Find all members of project, give a user id"
   ]
  },
  {
   "cell_type": "code",
   "execution_count": 221,
   "id": "1725cc77-8d97-4e11-baa9-1413a14ea414",
   "metadata": {},
   "outputs": [],
   "source": [
    "# df_three_users = df_three['User'].value_counts().to_frame('nb_act').reset_index()\n",
    "# df_three_users = df_three_users.rename(columns={\"index\": \"User\"})"
   ]
  },
  {
   "cell_type": "code",
   "execution_count": 222,
   "id": "9aad38d1-c632-4863-a478-71aaff60689d",
   "metadata": {},
   "outputs": [],
   "source": [
    "user_id_three_start = max(df_linux['ID'])\n",
    "df_linux_users = df_three['User'].value_counts().to_frame('nb_act').reset_index()\n",
    "# df_linux_users = df_linux_users.rename(columns={\"index\": \"User\"})\n",
    "# users_id = list(range(user_id_start, len(df_linux_users)+user_id_start))\n",
    "# df_linux_users['user_id'] = users_id"
   ]
  },
  {
   "cell_type": "code",
   "execution_count": 223,
   "id": "ae8c26f6-f18b-4881-a357-4a781571e04c",
   "metadata": {},
   "outputs": [
    {
     "data": {
      "text/html": [
       "<div>\n",
       "<style scoped>\n",
       "    .dataframe tbody tr th:only-of-type {\n",
       "        vertical-align: middle;\n",
       "    }\n",
       "\n",
       "    .dataframe tbody tr th {\n",
       "        vertical-align: top;\n",
       "    }\n",
       "\n",
       "    .dataframe thead th {\n",
       "        text-align: right;\n",
       "    }\n",
       "</style>\n",
       "<table border=\"1\" class=\"dataframe\">\n",
       "  <thead>\n",
       "    <tr style=\"text-align: right;\">\n",
       "      <th></th>\n",
       "      <th>Repository_comm</th>\n",
       "      <th>ID</th>\n",
       "      <th>User_comm</th>\n",
       "      <th>CreatedAt_comm</th>\n",
       "      <th>User_pri</th>\n",
       "      <th>Type</th>\n",
       "      <th>State</th>\n",
       "      <th>CreatedAt_pri</th>\n",
       "      <th>ClosedAt</th>\n",
       "      <th>IsMerged</th>\n",
       "    </tr>\n",
       "  </thead>\n",
       "  <tbody>\n",
       "    <tr>\n",
       "      <th>0</th>\n",
       "      <td>[mrdoob]three.js</td>\n",
       "      <td>1</td>\n",
       "      <td>mrdoob</td>\n",
       "      <td>2010-04-25</td>\n",
       "      <td>chrislloyd</td>\n",
       "      <td>issue</td>\n",
       "      <td>closed</td>\n",
       "      <td>2010-04-25</td>\n",
       "      <td>2010-04-26</td>\n",
       "      <td>False</td>\n",
       "    </tr>\n",
       "    <tr>\n",
       "      <th>1</th>\n",
       "      <td>[mrdoob]three.js</td>\n",
       "      <td>1</td>\n",
       "      <td>splatcollision</td>\n",
       "      <td>2011-01-10</td>\n",
       "      <td>chrislloyd</td>\n",
       "      <td>issue</td>\n",
       "      <td>closed</td>\n",
       "      <td>2010-04-25</td>\n",
       "      <td>2010-04-26</td>\n",
       "      <td>False</td>\n",
       "    </tr>\n",
       "    <tr>\n",
       "      <th>2</th>\n",
       "      <td>[mrdoob]three.js</td>\n",
       "      <td>2</td>\n",
       "      <td>mrdoob</td>\n",
       "      <td>2010-04-26</td>\n",
       "      <td>Ovid</td>\n",
       "      <td>issue</td>\n",
       "      <td>closed</td>\n",
       "      <td>2010-04-26</td>\n",
       "      <td>2010-11-04</td>\n",
       "      <td>False</td>\n",
       "    </tr>\n",
       "    <tr>\n",
       "      <th>3</th>\n",
       "      <td>[mrdoob]three.js</td>\n",
       "      <td>2</td>\n",
       "      <td>Ovid</td>\n",
       "      <td>2010-04-26</td>\n",
       "      <td>Ovid</td>\n",
       "      <td>issue</td>\n",
       "      <td>closed</td>\n",
       "      <td>2010-04-26</td>\n",
       "      <td>2010-11-04</td>\n",
       "      <td>False</td>\n",
       "    </tr>\n",
       "    <tr>\n",
       "      <th>4</th>\n",
       "      <td>[mrdoob]three.js</td>\n",
       "      <td>2</td>\n",
       "      <td>jurjen</td>\n",
       "      <td>2010-04-30</td>\n",
       "      <td>Ovid</td>\n",
       "      <td>issue</td>\n",
       "      <td>closed</td>\n",
       "      <td>2010-04-26</td>\n",
       "      <td>2010-11-04</td>\n",
       "      <td>False</td>\n",
       "    </tr>\n",
       "  </tbody>\n",
       "</table>\n",
       "</div>"
      ],
      "text/plain": [
       "    Repository_comm  ID       User_comm CreatedAt_comm    User_pri   Type  \\\n",
       "0  [mrdoob]three.js   1          mrdoob     2010-04-25  chrislloyd  issue   \n",
       "1  [mrdoob]three.js   1  splatcollision     2011-01-10  chrislloyd  issue   \n",
       "2  [mrdoob]three.js   2          mrdoob     2010-04-26        Ovid  issue   \n",
       "3  [mrdoob]three.js   2            Ovid     2010-04-26        Ovid  issue   \n",
       "4  [mrdoob]three.js   2          jurjen     2010-04-30        Ovid  issue   \n",
       "\n",
       "    State CreatedAt_pri    ClosedAt  IsMerged  \n",
       "0  closed    2010-04-25  2010-04-26     False  \n",
       "1  closed    2010-04-25  2010-04-26     False  \n",
       "2  closed    2010-04-26  2010-11-04     False  \n",
       "3  closed    2010-04-26  2010-11-04     False  \n",
       "4  closed    2010-04-26  2010-11-04     False  "
      ]
     },
     "execution_count": 223,
     "metadata": {},
     "output_type": "execute_result"
    }
   ],
   "source": [
    "df_pri_c.head()"
   ]
  },
  {
   "cell_type": "code",
   "execution_count": 224,
   "id": "ae966fbb-3960-4893-910a-6672c0819d2f",
   "metadata": {},
   "outputs": [],
   "source": [
    "df_three_users = df_three['User'].value_counts().to_frame('nb_actions').reset_index()\n",
    "df_three_users = df_three_users.rename(columns={\"index\": \"User\"})"
   ]
  },
  {
   "cell_type": "code",
   "execution_count": 225,
   "id": "588585f2-3ad6-4ddf-93b6-4610d74adbf6",
   "metadata": {},
   "outputs": [],
   "source": [
    "df_three_users = df_three_users.drop(columns = 'nb_actions')"
   ]
  },
  {
   "cell_type": "code",
   "execution_count": 226,
   "id": "a098c59c-1e6a-4c0e-8681-c1ff8ffab644",
   "metadata": {},
   "outputs": [
    {
     "data": {
      "text/html": [
       "<div>\n",
       "<style scoped>\n",
       "    .dataframe tbody tr th:only-of-type {\n",
       "        vertical-align: middle;\n",
       "    }\n",
       "\n",
       "    .dataframe tbody tr th {\n",
       "        vertical-align: top;\n",
       "    }\n",
       "\n",
       "    .dataframe thead th {\n",
       "        text-align: right;\n",
       "    }\n",
       "</style>\n",
       "<table border=\"1\" class=\"dataframe\">\n",
       "  <thead>\n",
       "    <tr style=\"text-align: right;\">\n",
       "      <th></th>\n",
       "      <th>User</th>\n",
       "    </tr>\n",
       "  </thead>\n",
       "  <tbody>\n",
       "    <tr>\n",
       "      <th>0</th>\n",
       "      <td>bhouston</td>\n",
       "    </tr>\n",
       "    <tr>\n",
       "      <th>1</th>\n",
       "      <td>WestLangley</td>\n",
       "    </tr>\n",
       "    <tr>\n",
       "      <th>2</th>\n",
       "      <td>gero3</td>\n",
       "    </tr>\n",
       "    <tr>\n",
       "      <th>3</th>\n",
       "      <td>ghost</td>\n",
       "    </tr>\n",
       "    <tr>\n",
       "      <th>4</th>\n",
       "      <td>Mugen87</td>\n",
       "    </tr>\n",
       "  </tbody>\n",
       "</table>\n",
       "</div>"
      ],
      "text/plain": [
       "          User\n",
       "0     bhouston\n",
       "1  WestLangley\n",
       "2        gero3\n",
       "3        ghost\n",
       "4      Mugen87"
      ]
     },
     "execution_count": 226,
     "metadata": {},
     "output_type": "execute_result"
    }
   ],
   "source": [
    "df_three_users.head()"
   ]
  },
  {
   "cell_type": "code",
   "execution_count": 233,
   "id": "8941f2d7-bc61-40ef-bd84-ba15a0098adc",
   "metadata": {},
   "outputs": [],
   "source": [
    "# Rename"
   ]
  },
  {
   "cell_type": "code",
   "execution_count": null,
   "id": "f33d0626-6bfd-4d38-8c4f-28ea16b1373a",
   "metadata": {},
   "outputs": [],
   "source": [
    "# source - target\n",
    "# Label"
   ]
  },
  {
   "cell_type": "code",
   "execution_count": 234,
   "id": "9814bd79-34e8-462d-9059-4211213c4ba3",
   "metadata": {},
   "outputs": [],
   "source": [
    "df_three_users['Label'] = df_three_users['User']"
   ]
  },
  {
   "cell_type": "code",
   "execution_count": 235,
   "id": "2008599c-7416-4da4-9c04-5216789285d5",
   "metadata": {},
   "outputs": [
    {
     "data": {
      "text/html": [
       "<div>\n",
       "<style scoped>\n",
       "    .dataframe tbody tr th:only-of-type {\n",
       "        vertical-align: middle;\n",
       "    }\n",
       "\n",
       "    .dataframe tbody tr th {\n",
       "        vertical-align: top;\n",
       "    }\n",
       "\n",
       "    .dataframe thead th {\n",
       "        text-align: right;\n",
       "    }\n",
       "</style>\n",
       "<table border=\"1\" class=\"dataframe\">\n",
       "  <thead>\n",
       "    <tr style=\"text-align: right;\">\n",
       "      <th></th>\n",
       "      <th>User</th>\n",
       "      <th>Label</th>\n",
       "    </tr>\n",
       "  </thead>\n",
       "  <tbody>\n",
       "    <tr>\n",
       "      <th>0</th>\n",
       "      <td>bhouston</td>\n",
       "      <td>bhouston</td>\n",
       "    </tr>\n",
       "    <tr>\n",
       "      <th>1</th>\n",
       "      <td>WestLangley</td>\n",
       "      <td>WestLangley</td>\n",
       "    </tr>\n",
       "    <tr>\n",
       "      <th>2</th>\n",
       "      <td>gero3</td>\n",
       "      <td>gero3</td>\n",
       "    </tr>\n",
       "    <tr>\n",
       "      <th>3</th>\n",
       "      <td>ghost</td>\n",
       "      <td>ghost</td>\n",
       "    </tr>\n",
       "    <tr>\n",
       "      <th>4</th>\n",
       "      <td>Mugen87</td>\n",
       "      <td>Mugen87</td>\n",
       "    </tr>\n",
       "  </tbody>\n",
       "</table>\n",
       "</div>"
      ],
      "text/plain": [
       "          User        Label\n",
       "0     bhouston     bhouston\n",
       "1  WestLangley  WestLangley\n",
       "2        gero3        gero3\n",
       "3        ghost        ghost\n",
       "4      Mugen87      Mugen87"
      ]
     },
     "execution_count": 235,
     "metadata": {},
     "output_type": "execute_result"
    }
   ],
   "source": [
    "df_three_users.head()"
   ]
  },
  {
   "cell_type": "code",
   "execution_count": null,
   "id": "a2c714d8-e87f-4a3b-bc38-5a03e12e56c9",
   "metadata": {},
   "outputs": [],
   "source": [
    "df_pri_c = df_pri_c.rename(columns={\"User_comm\": \"Source\", \"User_pri\": \"Target\"})"
   ]
  },
  {
   "cell_type": "code",
   "execution_count": 240,
   "id": "50788742-9820-4d87-a759-1dccfc2c97eb",
   "metadata": {},
   "outputs": [],
   "source": [
    "df_pri_c = df_pri_c.drop(columns = 'ID')"
   ]
  },
  {
   "cell_type": "code",
   "execution_count": 241,
   "id": "6f55088a-063f-4dcb-b685-6c5ee3210d66",
   "metadata": {},
   "outputs": [
    {
     "data": {
      "text/html": [
       "<div>\n",
       "<style scoped>\n",
       "    .dataframe tbody tr th:only-of-type {\n",
       "        vertical-align: middle;\n",
       "    }\n",
       "\n",
       "    .dataframe tbody tr th {\n",
       "        vertical-align: top;\n",
       "    }\n",
       "\n",
       "    .dataframe thead th {\n",
       "        text-align: right;\n",
       "    }\n",
       "</style>\n",
       "<table border=\"1\" class=\"dataframe\">\n",
       "  <thead>\n",
       "    <tr style=\"text-align: right;\">\n",
       "      <th></th>\n",
       "      <th>Repository_comm</th>\n",
       "      <th>Source</th>\n",
       "      <th>CreatedAt_comm</th>\n",
       "      <th>Target</th>\n",
       "      <th>Type</th>\n",
       "      <th>State</th>\n",
       "      <th>CreatedAt_pri</th>\n",
       "      <th>ClosedAt</th>\n",
       "      <th>IsMerged</th>\n",
       "    </tr>\n",
       "  </thead>\n",
       "  <tbody>\n",
       "    <tr>\n",
       "      <th>0</th>\n",
       "      <td>[mrdoob]three.js</td>\n",
       "      <td>mrdoob</td>\n",
       "      <td>2010-04-25</td>\n",
       "      <td>chrislloyd</td>\n",
       "      <td>issue</td>\n",
       "      <td>closed</td>\n",
       "      <td>2010-04-25</td>\n",
       "      <td>2010-04-26</td>\n",
       "      <td>False</td>\n",
       "    </tr>\n",
       "    <tr>\n",
       "      <th>1</th>\n",
       "      <td>[mrdoob]three.js</td>\n",
       "      <td>splatcollision</td>\n",
       "      <td>2011-01-10</td>\n",
       "      <td>chrislloyd</td>\n",
       "      <td>issue</td>\n",
       "      <td>closed</td>\n",
       "      <td>2010-04-25</td>\n",
       "      <td>2010-04-26</td>\n",
       "      <td>False</td>\n",
       "    </tr>\n",
       "    <tr>\n",
       "      <th>2</th>\n",
       "      <td>[mrdoob]three.js</td>\n",
       "      <td>mrdoob</td>\n",
       "      <td>2010-04-26</td>\n",
       "      <td>Ovid</td>\n",
       "      <td>issue</td>\n",
       "      <td>closed</td>\n",
       "      <td>2010-04-26</td>\n",
       "      <td>2010-11-04</td>\n",
       "      <td>False</td>\n",
       "    </tr>\n",
       "    <tr>\n",
       "      <th>3</th>\n",
       "      <td>[mrdoob]three.js</td>\n",
       "      <td>Ovid</td>\n",
       "      <td>2010-04-26</td>\n",
       "      <td>Ovid</td>\n",
       "      <td>issue</td>\n",
       "      <td>closed</td>\n",
       "      <td>2010-04-26</td>\n",
       "      <td>2010-11-04</td>\n",
       "      <td>False</td>\n",
       "    </tr>\n",
       "    <tr>\n",
       "      <th>4</th>\n",
       "      <td>[mrdoob]three.js</td>\n",
       "      <td>jurjen</td>\n",
       "      <td>2010-04-30</td>\n",
       "      <td>Ovid</td>\n",
       "      <td>issue</td>\n",
       "      <td>closed</td>\n",
       "      <td>2010-04-26</td>\n",
       "      <td>2010-11-04</td>\n",
       "      <td>False</td>\n",
       "    </tr>\n",
       "  </tbody>\n",
       "</table>\n",
       "</div>"
      ],
      "text/plain": [
       "    Repository_comm          Source CreatedAt_comm      Target   Type   State  \\\n",
       "0  [mrdoob]three.js          mrdoob     2010-04-25  chrislloyd  issue  closed   \n",
       "1  [mrdoob]three.js  splatcollision     2011-01-10  chrislloyd  issue  closed   \n",
       "2  [mrdoob]three.js          mrdoob     2010-04-26        Ovid  issue  closed   \n",
       "3  [mrdoob]three.js            Ovid     2010-04-26        Ovid  issue  closed   \n",
       "4  [mrdoob]three.js          jurjen     2010-04-30        Ovid  issue  closed   \n",
       "\n",
       "  CreatedAt_pri    ClosedAt  IsMerged  \n",
       "0    2010-04-25  2010-04-26     False  \n",
       "1    2010-04-25  2010-04-26     False  \n",
       "2    2010-04-26  2010-11-04     False  \n",
       "3    2010-04-26  2010-11-04     False  \n",
       "4    2010-04-26  2010-11-04     False  "
      ]
     },
     "execution_count": 241,
     "metadata": {},
     "output_type": "execute_result"
    }
   ],
   "source": [
    "df_pri_c.head()"
   ]
  },
  {
   "cell_type": "code",
   "execution_count": null,
   "id": "54073036-d05c-492c-87f4-f66e0921b0f2",
   "metadata": {},
   "outputs": [],
   "source": []
  },
  {
   "cell_type": "code",
   "execution_count": null,
   "id": "dae80eb3-bdac-401a-bd4e-dc58346af9d3",
   "metadata": {},
   "outputs": [],
   "source": []
  },
  {
   "cell_type": "code",
   "execution_count": null,
   "id": "22e24b57-ce02-448f-9322-b7a6a052a16a",
   "metadata": {},
   "outputs": [],
   "source": []
  },
  {
   "cell_type": "code",
   "execution_count": null,
   "id": "ef56c870-5199-46bc-afec-abde9516f9ba",
   "metadata": {},
   "outputs": [],
   "source": []
  },
  {
   "cell_type": "code",
   "execution_count": null,
   "id": "ed211d9e-f806-43a4-b70d-b38f2841ac21",
   "metadata": {},
   "outputs": [],
   "source": []
  },
  {
   "cell_type": "markdown",
   "id": "1e9d2ccf-2e49-44cb-944c-5c8cc08740b4",
   "metadata": {},
   "source": [
    "### Save edge/node files"
   ]
  },
  {
   "cell_type": "code",
   "execution_count": 229,
   "id": "b6d63ae3-f182-4662-9032-1c309169170f",
   "metadata": {},
   "outputs": [],
   "source": []
  },
  {
   "cell_type": "code",
   "execution_count": 238,
   "id": "10760104-282a-4ab9-bc7e-3255a9025ca7",
   "metadata": {},
   "outputs": [],
   "source": [
    "# path = 'data/'\n",
    "filepath = path + '2_nodes.csv'\n",
    "df_three_users.to_csv(filepath, index = False)  "
   ]
  },
  {
   "cell_type": "code",
   "execution_count": 242,
   "id": "bd2599b5-2089-461c-9888-f23865d60f59",
   "metadata": {},
   "outputs": [],
   "source": [
    "filepath = path + '2_edges.csv'\n",
    "df_pri_c.to_csv(filepath, index = False)  "
   ]
  },
  {
   "cell_type": "code",
   "execution_count": null,
   "id": "16579847-e3dc-422c-9c3b-e9cdd68c2a1d",
   "metadata": {},
   "outputs": [],
   "source": [
    "# users_dict = df_linux_users.set_index('User')['user_id'].to_dict()\n",
    "# df_linux = df_linux.assign(user_id = df_linux['User'].map(users_dict))\n",
    "# df_linux_users = df_linux_users.rename(columns={\"User\": \"Label\", \"user_id\":\"Id\"})\n",
    "# new_cols = ['Id', 'Label'] #, 'nb_act']\n",
    "# df_linux_users = df_linux_users[new_cols]"
   ]
  },
  {
   "cell_type": "code",
   "execution_count": null,
   "id": "6c7b378b-863c-46ab-a44d-5a10dd247339",
   "metadata": {},
   "outputs": [],
   "source": []
  },
  {
   "cell_type": "markdown",
   "id": "80fc2a45-e0db-48c4-b418-2890e2ad418e",
   "metadata": {},
   "source": [
    "# Linuxrepository"
   ]
  },
  {
   "cell_type": "code",
   "execution_count": 11,
   "id": "1ccf1263-99ed-4010-98db-5ee32307fe27",
   "metadata": {},
   "outputs": [],
   "source": [
    "df_linux = df_issues[df_issues['Repository'] == repository]"
   ]
  },
  {
   "cell_type": "code",
   "execution_count": 12,
   "id": "8c523f28-c955-4c55-8981-147c233767a1",
   "metadata": {},
   "outputs": [],
   "source": [
    "df_linux_copy = df_linux.copy()"
   ]
  },
  {
   "cell_type": "code",
   "execution_count": 13,
   "id": "56d988b0-8241-41e6-aa84-f1cf2d1b961a",
   "metadata": {},
   "outputs": [
    {
     "data": {
      "text/plain": [
       "449"
      ]
     },
     "execution_count": 13,
     "metadata": {},
     "output_type": "execute_result"
    }
   ],
   "source": [
    "len(df_linux)"
   ]
  },
  {
   "cell_type": "code",
   "execution_count": 14,
   "id": "366298bf-ed93-4a95-a2b7-4c1444f0dd0d",
   "metadata": {},
   "outputs": [
    {
     "data": {
      "text/html": [
       "<div>\n",
       "<style scoped>\n",
       "    .dataframe tbody tr th:only-of-type {\n",
       "        vertical-align: middle;\n",
       "    }\n",
       "\n",
       "    .dataframe tbody tr th {\n",
       "        vertical-align: top;\n",
       "    }\n",
       "\n",
       "    .dataframe thead th {\n",
       "        text-align: right;\n",
       "    }\n",
       "</style>\n",
       "<table border=\"1\" class=\"dataframe\">\n",
       "  <thead>\n",
       "    <tr style=\"text-align: right;\">\n",
       "      <th></th>\n",
       "      <th>Repository</th>\n",
       "      <th>ID</th>\n",
       "      <th>User</th>\n",
       "      <th>Type</th>\n",
       "      <th>State</th>\n",
       "      <th>CommitId</th>\n",
       "      <th>CreatedAt</th>\n",
       "      <th>ClosedAt</th>\n",
       "      <th>IsMerged</th>\n",
       "      <th>CountReactions</th>\n",
       "      <th>CountLike</th>\n",
       "      <th>CountDislike</th>\n",
       "    </tr>\n",
       "  </thead>\n",
       "  <tbody>\n",
       "    <tr>\n",
       "      <th>89061</th>\n",
       "      <td>[torvalds]linux</td>\n",
       "      <td>6</td>\n",
       "      <td>leobalter</td>\n",
       "      <td>pull</td>\n",
       "      <td>closed</td>\n",
       "      <td>ddf28352b80c86754a6424e3a61e8bdf9213b3c7</td>\n",
       "      <td>2011-09-05</td>\n",
       "      <td>2011-09-06</td>\n",
       "      <td>False</td>\n",
       "      <td>5</td>\n",
       "      <td>0</td>\n",
       "      <td>0</td>\n",
       "    </tr>\n",
       "    <tr>\n",
       "      <th>89062</th>\n",
       "      <td>[torvalds]linux</td>\n",
       "      <td>7</td>\n",
       "      <td>Holek</td>\n",
       "      <td>pull</td>\n",
       "      <td>closed</td>\n",
       "      <td>ddf28352b80c86754a6424e3a61e8bdf9213b3c7</td>\n",
       "      <td>2011-09-05</td>\n",
       "      <td>2011-09-05</td>\n",
       "      <td>False</td>\n",
       "      <td>0</td>\n",
       "      <td>0</td>\n",
       "      <td>0</td>\n",
       "    </tr>\n",
       "    <tr>\n",
       "      <th>89063</th>\n",
       "      <td>[torvalds]linux</td>\n",
       "      <td>8</td>\n",
       "      <td>Spaceghost</td>\n",
       "      <td>pull</td>\n",
       "      <td>closed</td>\n",
       "      <td>ddf28352b80c86754a6424e3a61e8bdf9213b3c7</td>\n",
       "      <td>2011-09-05</td>\n",
       "      <td>2011-09-06</td>\n",
       "      <td>False</td>\n",
       "      <td>0</td>\n",
       "      <td>0</td>\n",
       "      <td>0</td>\n",
       "    </tr>\n",
       "    <tr>\n",
       "      <th>89064</th>\n",
       "      <td>[torvalds]linux</td>\n",
       "      <td>9</td>\n",
       "      <td>smartinez87</td>\n",
       "      <td>pull</td>\n",
       "      <td>closed</td>\n",
       "      <td>ddf28352b80c86754a6424e3a61e8bdf9213b3c7</td>\n",
       "      <td>2011-09-05</td>\n",
       "      <td>2011-09-06</td>\n",
       "      <td>False</td>\n",
       "      <td>0</td>\n",
       "      <td>0</td>\n",
       "      <td>0</td>\n",
       "    </tr>\n",
       "    <tr>\n",
       "      <th>89065</th>\n",
       "      <td>[torvalds]linux</td>\n",
       "      <td>10</td>\n",
       "      <td>ericvh</td>\n",
       "      <td>pull</td>\n",
       "      <td>closed</td>\n",
       "      <td>ddf28352b80c86754a6424e3a61e8bdf9213b3c7</td>\n",
       "      <td>2011-09-06</td>\n",
       "      <td>2011-09-07</td>\n",
       "      <td>True</td>\n",
       "      <td>0</td>\n",
       "      <td>0</td>\n",
       "      <td>0</td>\n",
       "    </tr>\n",
       "  </tbody>\n",
       "</table>\n",
       "</div>"
      ],
      "text/plain": [
       "            Repository  ID         User  Type   State  \\\n",
       "89061  [torvalds]linux   6    leobalter  pull  closed   \n",
       "89062  [torvalds]linux   7        Holek  pull  closed   \n",
       "89063  [torvalds]linux   8   Spaceghost  pull  closed   \n",
       "89064  [torvalds]linux   9  smartinez87  pull  closed   \n",
       "89065  [torvalds]linux  10       ericvh  pull  closed   \n",
       "\n",
       "                                       CommitId   CreatedAt    ClosedAt  \\\n",
       "89061  ddf28352b80c86754a6424e3a61e8bdf9213b3c7  2011-09-05  2011-09-06   \n",
       "89062  ddf28352b80c86754a6424e3a61e8bdf9213b3c7  2011-09-05  2011-09-05   \n",
       "89063  ddf28352b80c86754a6424e3a61e8bdf9213b3c7  2011-09-05  2011-09-06   \n",
       "89064  ddf28352b80c86754a6424e3a61e8bdf9213b3c7  2011-09-05  2011-09-06   \n",
       "89065  ddf28352b80c86754a6424e3a61e8bdf9213b3c7  2011-09-06  2011-09-07   \n",
       "\n",
       "       IsMerged  CountReactions  CountLike  CountDislike  \n",
       "89061     False               5          0             0  \n",
       "89062     False               0          0             0  \n",
       "89063     False               0          0             0  \n",
       "89064     False               0          0             0  \n",
       "89065      True               0          0             0  "
      ]
     },
     "execution_count": 14,
     "metadata": {},
     "output_type": "execute_result"
    }
   ],
   "source": [
    "df_linux.head()"
   ]
  },
  {
   "cell_type": "markdown",
   "id": "2fe84019-3457-4621-9dc6-7a3ee4498fac",
   "metadata": {},
   "source": [
    "### Users linux"
   ]
  },
  {
   "cell_type": "markdown",
   "id": "61de25f9-5bea-49da-a1fb-f01f9d4b9db5",
   "metadata": {},
   "source": [
    "Find all members of project, give a user id"
   ]
  },
  {
   "cell_type": "code",
   "execution_count": 17,
   "id": "a8477f89-06ce-466f-b150-adad92ad3df6",
   "metadata": {},
   "outputs": [],
   "source": [
    "# user_id_start = max(df_linux['ID'])\n",
    "# df_linux_users = df_linux['User'].value_counts().to_frame('nb_act').reset_index()\n",
    "# df_linux_users = df_linux_users.rename(columns={\"index\": \"User\"})\n",
    "# users_id = list(range(user_id_start, len(df_linux_users)+user_id_start))\n",
    "# df_linux_users['user_id'] = users_id"
   ]
  },
  {
   "cell_type": "code",
   "execution_count": 16,
   "id": "521c39dc-3cae-40ee-9d1b-ec996ec5307f",
   "metadata": {},
   "outputs": [
    {
     "data": {
      "text/plain": [
       "804"
      ]
     },
     "execution_count": 16,
     "metadata": {},
     "output_type": "execute_result"
    }
   ],
   "source": [
    "user_id_start"
   ]
  },
  {
   "cell_type": "code",
   "execution_count": 18,
   "id": "be563c01-5246-4d9c-839e-501f13b0a8bc",
   "metadata": {},
   "outputs": [],
   "source": []
  },
  {
   "cell_type": "code",
   "execution_count": 19,
   "id": "d21e2ff9-76dc-48a3-9e06-e87cd20ca978",
   "metadata": {},
   "outputs": [],
   "source": []
  },
  {
   "cell_type": "code",
   "execution_count": 20,
   "id": "bc51d7ac-8edd-4eb1-bb34-16344904ca2b",
   "metadata": {},
   "outputs": [],
   "source": [
    "# to_drop = ['nb_act']\n",
    "# df_linux.drop(to_drop)"
   ]
  },
  {
   "cell_type": "code",
   "execution_count": 21,
   "id": "b92ed9dc-0007-4f38-9d41-4c69b0f866a7",
   "metadata": {},
   "outputs": [
    {
     "data": {
      "text/html": [
       "<div>\n",
       "<style scoped>\n",
       "    .dataframe tbody tr th:only-of-type {\n",
       "        vertical-align: middle;\n",
       "    }\n",
       "\n",
       "    .dataframe tbody tr th {\n",
       "        vertical-align: top;\n",
       "    }\n",
       "\n",
       "    .dataframe thead th {\n",
       "        text-align: right;\n",
       "    }\n",
       "</style>\n",
       "<table border=\"1\" class=\"dataframe\">\n",
       "  <thead>\n",
       "    <tr style=\"text-align: right;\">\n",
       "      <th></th>\n",
       "      <th>User</th>\n",
       "      <th>nb_act</th>\n",
       "      <th>user_id</th>\n",
       "    </tr>\n",
       "  </thead>\n",
       "  <tbody>\n",
       "    <tr>\n",
       "      <th>0</th>\n",
       "      <td>ghost</td>\n",
       "      <td>30</td>\n",
       "      <td>804</td>\n",
       "    </tr>\n",
       "    <tr>\n",
       "      <th>1</th>\n",
       "      <td>dabrace</td>\n",
       "      <td>9</td>\n",
       "      <td>805</td>\n",
       "    </tr>\n",
       "    <tr>\n",
       "      <th>2</th>\n",
       "      <td>ippotim</td>\n",
       "      <td>4</td>\n",
       "      <td>806</td>\n",
       "    </tr>\n",
       "    <tr>\n",
       "      <th>3</th>\n",
       "      <td>arjun024</td>\n",
       "      <td>4</td>\n",
       "      <td>807</td>\n",
       "    </tr>\n",
       "    <tr>\n",
       "      <th>4</th>\n",
       "      <td>dautovri</td>\n",
       "      <td>4</td>\n",
       "      <td>808</td>\n",
       "    </tr>\n",
       "  </tbody>\n",
       "</table>\n",
       "</div>"
      ],
      "text/plain": [
       "       User  nb_act  user_id\n",
       "0     ghost      30      804\n",
       "1   dabrace       9      805\n",
       "2   ippotim       4      806\n",
       "3  arjun024       4      807\n",
       "4  dautovri       4      808"
      ]
     },
     "execution_count": 21,
     "metadata": {},
     "output_type": "execute_result"
    }
   ],
   "source": [
    "df_linux_users.head()"
   ]
  },
  {
   "cell_type": "code",
   "execution_count": 22,
   "id": "212cd1d8-a541-4135-98da-57ea756bf3b0",
   "metadata": {},
   "outputs": [
    {
     "data": {
      "text/html": [
       "<div>\n",
       "<style scoped>\n",
       "    .dataframe tbody tr th:only-of-type {\n",
       "        vertical-align: middle;\n",
       "    }\n",
       "\n",
       "    .dataframe tbody tr th {\n",
       "        vertical-align: top;\n",
       "    }\n",
       "\n",
       "    .dataframe thead th {\n",
       "        text-align: right;\n",
       "    }\n",
       "</style>\n",
       "<table border=\"1\" class=\"dataframe\">\n",
       "  <thead>\n",
       "    <tr style=\"text-align: right;\">\n",
       "      <th></th>\n",
       "      <th>Repository</th>\n",
       "      <th>ID</th>\n",
       "      <th>User</th>\n",
       "      <th>Type</th>\n",
       "      <th>State</th>\n",
       "      <th>CommitId</th>\n",
       "      <th>CreatedAt</th>\n",
       "      <th>ClosedAt</th>\n",
       "      <th>IsMerged</th>\n",
       "      <th>CountReactions</th>\n",
       "      <th>CountLike</th>\n",
       "      <th>CountDislike</th>\n",
       "    </tr>\n",
       "  </thead>\n",
       "  <tbody>\n",
       "    <tr>\n",
       "      <th>89061</th>\n",
       "      <td>[torvalds]linux</td>\n",
       "      <td>6</td>\n",
       "      <td>leobalter</td>\n",
       "      <td>pull</td>\n",
       "      <td>closed</td>\n",
       "      <td>ddf28352b80c86754a6424e3a61e8bdf9213b3c7</td>\n",
       "      <td>2011-09-05</td>\n",
       "      <td>2011-09-06</td>\n",
       "      <td>False</td>\n",
       "      <td>5</td>\n",
       "      <td>0</td>\n",
       "      <td>0</td>\n",
       "    </tr>\n",
       "    <tr>\n",
       "      <th>89062</th>\n",
       "      <td>[torvalds]linux</td>\n",
       "      <td>7</td>\n",
       "      <td>Holek</td>\n",
       "      <td>pull</td>\n",
       "      <td>closed</td>\n",
       "      <td>ddf28352b80c86754a6424e3a61e8bdf9213b3c7</td>\n",
       "      <td>2011-09-05</td>\n",
       "      <td>2011-09-05</td>\n",
       "      <td>False</td>\n",
       "      <td>0</td>\n",
       "      <td>0</td>\n",
       "      <td>0</td>\n",
       "    </tr>\n",
       "    <tr>\n",
       "      <th>89063</th>\n",
       "      <td>[torvalds]linux</td>\n",
       "      <td>8</td>\n",
       "      <td>Spaceghost</td>\n",
       "      <td>pull</td>\n",
       "      <td>closed</td>\n",
       "      <td>ddf28352b80c86754a6424e3a61e8bdf9213b3c7</td>\n",
       "      <td>2011-09-05</td>\n",
       "      <td>2011-09-06</td>\n",
       "      <td>False</td>\n",
       "      <td>0</td>\n",
       "      <td>0</td>\n",
       "      <td>0</td>\n",
       "    </tr>\n",
       "    <tr>\n",
       "      <th>89064</th>\n",
       "      <td>[torvalds]linux</td>\n",
       "      <td>9</td>\n",
       "      <td>smartinez87</td>\n",
       "      <td>pull</td>\n",
       "      <td>closed</td>\n",
       "      <td>ddf28352b80c86754a6424e3a61e8bdf9213b3c7</td>\n",
       "      <td>2011-09-05</td>\n",
       "      <td>2011-09-06</td>\n",
       "      <td>False</td>\n",
       "      <td>0</td>\n",
       "      <td>0</td>\n",
       "      <td>0</td>\n",
       "    </tr>\n",
       "    <tr>\n",
       "      <th>89065</th>\n",
       "      <td>[torvalds]linux</td>\n",
       "      <td>10</td>\n",
       "      <td>ericvh</td>\n",
       "      <td>pull</td>\n",
       "      <td>closed</td>\n",
       "      <td>ddf28352b80c86754a6424e3a61e8bdf9213b3c7</td>\n",
       "      <td>2011-09-06</td>\n",
       "      <td>2011-09-07</td>\n",
       "      <td>True</td>\n",
       "      <td>0</td>\n",
       "      <td>0</td>\n",
       "      <td>0</td>\n",
       "    </tr>\n",
       "  </tbody>\n",
       "</table>\n",
       "</div>"
      ],
      "text/plain": [
       "            Repository  ID         User  Type   State  \\\n",
       "89061  [torvalds]linux   6    leobalter  pull  closed   \n",
       "89062  [torvalds]linux   7        Holek  pull  closed   \n",
       "89063  [torvalds]linux   8   Spaceghost  pull  closed   \n",
       "89064  [torvalds]linux   9  smartinez87  pull  closed   \n",
       "89065  [torvalds]linux  10       ericvh  pull  closed   \n",
       "\n",
       "                                       CommitId   CreatedAt    ClosedAt  \\\n",
       "89061  ddf28352b80c86754a6424e3a61e8bdf9213b3c7  2011-09-05  2011-09-06   \n",
       "89062  ddf28352b80c86754a6424e3a61e8bdf9213b3c7  2011-09-05  2011-09-05   \n",
       "89063  ddf28352b80c86754a6424e3a61e8bdf9213b3c7  2011-09-05  2011-09-06   \n",
       "89064  ddf28352b80c86754a6424e3a61e8bdf9213b3c7  2011-09-05  2011-09-06   \n",
       "89065  ddf28352b80c86754a6424e3a61e8bdf9213b3c7  2011-09-06  2011-09-07   \n",
       "\n",
       "       IsMerged  CountReactions  CountLike  CountDislike  \n",
       "89061     False               5          0             0  \n",
       "89062     False               0          0             0  \n",
       "89063     False               0          0             0  \n",
       "89064     False               0          0             0  \n",
       "89065      True               0          0             0  "
      ]
     },
     "execution_count": 22,
     "metadata": {},
     "output_type": "execute_result"
    }
   ],
   "source": [
    "df_linux.head()"
   ]
  },
  {
   "cell_type": "code",
   "execution_count": 23,
   "id": "c397ebc0-31bd-4771-a939-13ddc59aa7b4",
   "metadata": {},
   "outputs": [
    {
     "name": "stderr",
     "output_type": "stream",
     "text": [
      "/var/folders/zy/0n165qy96vxgpv3m2z9_5tf00000gn/T/ipykernel_38513/1608257782.py:1: SettingWithCopyWarning: \n",
      "A value is trying to be set on a copy of a slice from a DataFrame.\n",
      "Try using .loc[row_indexer,col_indexer] = value instead\n",
      "\n",
      "See the caveats in the documentation: https://pandas.pydata.org/pandas-docs/stable/user_guide/indexing.html#returning-a-view-versus-a-copy\n",
      "  df_linux['user_id'] = df_linux_users['user_id']\n"
     ]
    }
   ],
   "source": [
    "df_linux['user_id'] = df_linux_users['user_id']"
   ]
  },
  {
   "cell_type": "code",
   "execution_count": 24,
   "id": "a0baa75b-ec59-498a-8930-df7bfaa2c9df",
   "metadata": {},
   "outputs": [],
   "source": [
    "users_dict = df_linux_users.set_index('User')['user_id'].to_dict()\n",
    "df_linux = df_linux.assign(user_id = df_linux['User'].map(users_dict))"
   ]
  },
  {
   "cell_type": "code",
   "execution_count": 72,
   "id": "972f4da4-3ece-4c96-91d2-3ea49f0a3d16",
   "metadata": {},
   "outputs": [],
   "source": [
    "df_linux_users = df_linux_users.rename(columns={\"User\": \"Label\", \"user_id\":\"Id\"})\n",
    "new_cols = ['Id', 'Label'] #, 'nb_act']\n",
    "df_linux_users = df_linux_users[new_cols]"
   ]
  },
  {
   "cell_type": "code",
   "execution_count": 99,
   "id": "0503987d-59be-4644-b6cf-16e6cefea14f",
   "metadata": {},
   "outputs": [
    {
     "data": {
      "text/html": [
       "<div>\n",
       "<style scoped>\n",
       "    .dataframe tbody tr th:only-of-type {\n",
       "        vertical-align: middle;\n",
       "    }\n",
       "\n",
       "    .dataframe tbody tr th {\n",
       "        vertical-align: top;\n",
       "    }\n",
       "\n",
       "    .dataframe thead th {\n",
       "        text-align: right;\n",
       "    }\n",
       "</style>\n",
       "<table border=\"1\" class=\"dataframe\">\n",
       "  <thead>\n",
       "    <tr style=\"text-align: right;\">\n",
       "      <th></th>\n",
       "      <th>Id</th>\n",
       "      <th>Label</th>\n",
       "    </tr>\n",
       "  </thead>\n",
       "  <tbody>\n",
       "    <tr>\n",
       "      <th>0</th>\n",
       "      <td>804</td>\n",
       "      <td>ghost</td>\n",
       "    </tr>\n",
       "    <tr>\n",
       "      <th>1</th>\n",
       "      <td>805</td>\n",
       "      <td>dabrace</td>\n",
       "    </tr>\n",
       "    <tr>\n",
       "      <th>2</th>\n",
       "      <td>806</td>\n",
       "      <td>ippotim</td>\n",
       "    </tr>\n",
       "    <tr>\n",
       "      <th>3</th>\n",
       "      <td>807</td>\n",
       "      <td>arjun024</td>\n",
       "    </tr>\n",
       "    <tr>\n",
       "      <th>4</th>\n",
       "      <td>808</td>\n",
       "      <td>dautovri</td>\n",
       "    </tr>\n",
       "  </tbody>\n",
       "</table>\n",
       "</div>"
      ],
      "text/plain": [
       "    Id     Label\n",
       "0  804     ghost\n",
       "1  805   dabrace\n",
       "2  806   ippotim\n",
       "3  807  arjun024\n",
       "4  808  dautovri"
      ]
     },
     "execution_count": 99,
     "metadata": {},
     "output_type": "execute_result"
    }
   ],
   "source": [
    "df_linux_users.head() #.drop(columns = 'nb_act')"
   ]
  },
  {
   "cell_type": "code",
   "execution_count": 100,
   "id": "64cf62e9-435f-4be3-b396-dd76351f8f56",
   "metadata": {},
   "outputs": [],
   "source": [
    "filepath = 'data/nodes.csv'\n",
    "df_linux_users.to_csv(filepath,index=False)  "
   ]
  },
  {
   "cell_type": "code",
   "execution_count": null,
   "id": "894f2849-bb16-4f6d-b867-9deee99c53df",
   "metadata": {},
   "outputs": [],
   "source": [
    "df_linux_column = df_linux.columns.to_list()"
   ]
  },
  {
   "cell_type": "code",
   "execution_count": 75,
   "id": "8978a64a-d910-47d2-bbdd-3dc544b73a1d",
   "metadata": {},
   "outputs": [],
   "source": [
    "new_cols = ['Repository', 'ID', 'User', 'user_id', 'Type', 'State', 'CommitId', 'CreatedAt', 'ClosedAt', 'IsMerged', 'CountReactions', 'CountLike', 'CountDislike']\n",
    "df_linux = df_linux[new_cols]"
   ]
  },
  {
   "cell_type": "code",
   "execution_count": null,
   "id": "412e6576-2cc9-4a72-8074-e9388654ca1f",
   "metadata": {},
   "outputs": [],
   "source": [
    "# df_linux = df_linux.astype({'ID': 'int32', 'CountReactions':'int32', 'CountLike':'int32', 'CountDislike':'int32','user_id': 'int32'}).dtypes\n",
    "# df_linux.astype({}).dtypes"
   ]
  },
  {
   "cell_type": "code",
   "execution_count": 76,
   "id": "042cfe95-3e3d-4c10-a195-598f733d7d30",
   "metadata": {},
   "outputs": [
    {
     "data": {
      "text/html": [
       "<div>\n",
       "<style scoped>\n",
       "    .dataframe tbody tr th:only-of-type {\n",
       "        vertical-align: middle;\n",
       "    }\n",
       "\n",
       "    .dataframe tbody tr th {\n",
       "        vertical-align: top;\n",
       "    }\n",
       "\n",
       "    .dataframe thead th {\n",
       "        text-align: right;\n",
       "    }\n",
       "</style>\n",
       "<table border=\"1\" class=\"dataframe\">\n",
       "  <thead>\n",
       "    <tr style=\"text-align: right;\">\n",
       "      <th></th>\n",
       "      <th>Repository</th>\n",
       "      <th>ID</th>\n",
       "      <th>User</th>\n",
       "      <th>user_id</th>\n",
       "      <th>Type</th>\n",
       "      <th>State</th>\n",
       "      <th>CommitId</th>\n",
       "      <th>CreatedAt</th>\n",
       "      <th>ClosedAt</th>\n",
       "      <th>IsMerged</th>\n",
       "      <th>CountReactions</th>\n",
       "      <th>CountLike</th>\n",
       "      <th>CountDislike</th>\n",
       "    </tr>\n",
       "  </thead>\n",
       "  <tbody>\n",
       "    <tr>\n",
       "      <th>89061</th>\n",
       "      <td>[torvalds]linux</td>\n",
       "      <td>6</td>\n",
       "      <td>leobalter</td>\n",
       "      <td>914</td>\n",
       "      <td>pull</td>\n",
       "      <td>closed</td>\n",
       "      <td>ddf28352b80c86754a6424e3a61e8bdf9213b3c7</td>\n",
       "      <td>2011-09-05</td>\n",
       "      <td>2011-09-06</td>\n",
       "      <td>False</td>\n",
       "      <td>5</td>\n",
       "      <td>0</td>\n",
       "      <td>0</td>\n",
       "    </tr>\n",
       "    <tr>\n",
       "      <th>89062</th>\n",
       "      <td>[torvalds]linux</td>\n",
       "      <td>7</td>\n",
       "      <td>Holek</td>\n",
       "      <td>1110</td>\n",
       "      <td>pull</td>\n",
       "      <td>closed</td>\n",
       "      <td>ddf28352b80c86754a6424e3a61e8bdf9213b3c7</td>\n",
       "      <td>2011-09-05</td>\n",
       "      <td>2011-09-05</td>\n",
       "      <td>False</td>\n",
       "      <td>0</td>\n",
       "      <td>0</td>\n",
       "      <td>0</td>\n",
       "    </tr>\n",
       "    <tr>\n",
       "      <th>89063</th>\n",
       "      <td>[torvalds]linux</td>\n",
       "      <td>8</td>\n",
       "      <td>Spaceghost</td>\n",
       "      <td>1054</td>\n",
       "      <td>pull</td>\n",
       "      <td>closed</td>\n",
       "      <td>ddf28352b80c86754a6424e3a61e8bdf9213b3c7</td>\n",
       "      <td>2011-09-05</td>\n",
       "      <td>2011-09-06</td>\n",
       "      <td>False</td>\n",
       "      <td>0</td>\n",
       "      <td>0</td>\n",
       "      <td>0</td>\n",
       "    </tr>\n",
       "    <tr>\n",
       "      <th>89064</th>\n",
       "      <td>[torvalds]linux</td>\n",
       "      <td>9</td>\n",
       "      <td>smartinez87</td>\n",
       "      <td>1053</td>\n",
       "      <td>pull</td>\n",
       "      <td>closed</td>\n",
       "      <td>ddf28352b80c86754a6424e3a61e8bdf9213b3c7</td>\n",
       "      <td>2011-09-05</td>\n",
       "      <td>2011-09-06</td>\n",
       "      <td>False</td>\n",
       "      <td>0</td>\n",
       "      <td>0</td>\n",
       "      <td>0</td>\n",
       "    </tr>\n",
       "    <tr>\n",
       "      <th>89065</th>\n",
       "      <td>[torvalds]linux</td>\n",
       "      <td>10</td>\n",
       "      <td>ericvh</td>\n",
       "      <td>1052</td>\n",
       "      <td>pull</td>\n",
       "      <td>closed</td>\n",
       "      <td>ddf28352b80c86754a6424e3a61e8bdf9213b3c7</td>\n",
       "      <td>2011-09-06</td>\n",
       "      <td>2011-09-07</td>\n",
       "      <td>True</td>\n",
       "      <td>0</td>\n",
       "      <td>0</td>\n",
       "      <td>0</td>\n",
       "    </tr>\n",
       "  </tbody>\n",
       "</table>\n",
       "</div>"
      ],
      "text/plain": [
       "            Repository  ID         User  user_id  Type   State  \\\n",
       "89061  [torvalds]linux   6    leobalter      914  pull  closed   \n",
       "89062  [torvalds]linux   7        Holek     1110  pull  closed   \n",
       "89063  [torvalds]linux   8   Spaceghost     1054  pull  closed   \n",
       "89064  [torvalds]linux   9  smartinez87     1053  pull  closed   \n",
       "89065  [torvalds]linux  10       ericvh     1052  pull  closed   \n",
       "\n",
       "                                       CommitId   CreatedAt    ClosedAt  \\\n",
       "89061  ddf28352b80c86754a6424e3a61e8bdf9213b3c7  2011-09-05  2011-09-06   \n",
       "89062  ddf28352b80c86754a6424e3a61e8bdf9213b3c7  2011-09-05  2011-09-05   \n",
       "89063  ddf28352b80c86754a6424e3a61e8bdf9213b3c7  2011-09-05  2011-09-06   \n",
       "89064  ddf28352b80c86754a6424e3a61e8bdf9213b3c7  2011-09-05  2011-09-06   \n",
       "89065  ddf28352b80c86754a6424e3a61e8bdf9213b3c7  2011-09-06  2011-09-07   \n",
       "\n",
       "       IsMerged  CountReactions  CountLike  CountDislike  \n",
       "89061     False               5          0             0  \n",
       "89062     False               0          0             0  \n",
       "89063     False               0          0             0  \n",
       "89064     False               0          0             0  \n",
       "89065      True               0          0             0  "
      ]
     },
     "execution_count": 76,
     "metadata": {},
     "output_type": "execute_result"
    }
   ],
   "source": [
    "df_linux.head()"
   ]
  },
  {
   "cell_type": "code",
   "execution_count": 77,
   "id": "c65e2acf-1e73-4268-896c-8479cd35c72a",
   "metadata": {},
   "outputs": [],
   "source": [
    "df_linux_edge_stw = df_linux.copy()"
   ]
  },
  {
   "cell_type": "code",
   "execution_count": 173,
   "id": "1a89ec07-1d83-49ba-908c-ee8c3138652d",
   "metadata": {},
   "outputs": [
    {
     "data": {
      "text/plain": [
       "Repository        object\n",
       "ID                 int32\n",
       "User              object\n",
       "user_id            int32\n",
       "Type              object\n",
       "State             object\n",
       "CommitId          object\n",
       "CreatedAt         object\n",
       "ClosedAt          object\n",
       "IsMerged            bool\n",
       "CountReactions     int32\n",
       "CountLike          int32\n",
       "CountDislike       int32\n",
       "dtype: object"
      ]
     },
     "execution_count": 173,
     "metadata": {},
     "output_type": "execute_result"
    }
   ],
   "source": [
    "# to_drop = ['Repository', 'User','State', 'CommitId', 'CreatedAt', 'ClosedAt', 'IsMerged', 'CountReactions', 'CountLike', 'CountDislike']\n",
    "# df_linux_edge_stw.drop(columns = to_drop)"
   ]
  },
  {
   "cell_type": "code",
   "execution_count": 78,
   "id": "2971e7ad-df5f-4093-a18a-6ede853f6833",
   "metadata": {},
   "outputs": [
    {
     "data": {
      "text/html": [
       "<div>\n",
       "<style scoped>\n",
       "    .dataframe tbody tr th:only-of-type {\n",
       "        vertical-align: middle;\n",
       "    }\n",
       "\n",
       "    .dataframe tbody tr th {\n",
       "        vertical-align: top;\n",
       "    }\n",
       "\n",
       "    .dataframe thead th {\n",
       "        text-align: right;\n",
       "    }\n",
       "</style>\n",
       "<table border=\"1\" class=\"dataframe\">\n",
       "  <thead>\n",
       "    <tr style=\"text-align: right;\">\n",
       "      <th></th>\n",
       "      <th>Repository</th>\n",
       "      <th>ID</th>\n",
       "      <th>User</th>\n",
       "      <th>user_id</th>\n",
       "      <th>Type</th>\n",
       "      <th>State</th>\n",
       "      <th>CommitId</th>\n",
       "      <th>CreatedAt</th>\n",
       "      <th>ClosedAt</th>\n",
       "      <th>IsMerged</th>\n",
       "      <th>CountReactions</th>\n",
       "      <th>CountLike</th>\n",
       "      <th>CountDislike</th>\n",
       "    </tr>\n",
       "  </thead>\n",
       "  <tbody>\n",
       "    <tr>\n",
       "      <th>89061</th>\n",
       "      <td>[torvalds]linux</td>\n",
       "      <td>6</td>\n",
       "      <td>leobalter</td>\n",
       "      <td>914</td>\n",
       "      <td>pull</td>\n",
       "      <td>closed</td>\n",
       "      <td>ddf28352b80c86754a6424e3a61e8bdf9213b3c7</td>\n",
       "      <td>2011-09-05</td>\n",
       "      <td>2011-09-06</td>\n",
       "      <td>False</td>\n",
       "      <td>5</td>\n",
       "      <td>0</td>\n",
       "      <td>0</td>\n",
       "    </tr>\n",
       "    <tr>\n",
       "      <th>89062</th>\n",
       "      <td>[torvalds]linux</td>\n",
       "      <td>7</td>\n",
       "      <td>Holek</td>\n",
       "      <td>1110</td>\n",
       "      <td>pull</td>\n",
       "      <td>closed</td>\n",
       "      <td>ddf28352b80c86754a6424e3a61e8bdf9213b3c7</td>\n",
       "      <td>2011-09-05</td>\n",
       "      <td>2011-09-05</td>\n",
       "      <td>False</td>\n",
       "      <td>0</td>\n",
       "      <td>0</td>\n",
       "      <td>0</td>\n",
       "    </tr>\n",
       "    <tr>\n",
       "      <th>89063</th>\n",
       "      <td>[torvalds]linux</td>\n",
       "      <td>8</td>\n",
       "      <td>Spaceghost</td>\n",
       "      <td>1054</td>\n",
       "      <td>pull</td>\n",
       "      <td>closed</td>\n",
       "      <td>ddf28352b80c86754a6424e3a61e8bdf9213b3c7</td>\n",
       "      <td>2011-09-05</td>\n",
       "      <td>2011-09-06</td>\n",
       "      <td>False</td>\n",
       "      <td>0</td>\n",
       "      <td>0</td>\n",
       "      <td>0</td>\n",
       "    </tr>\n",
       "    <tr>\n",
       "      <th>89064</th>\n",
       "      <td>[torvalds]linux</td>\n",
       "      <td>9</td>\n",
       "      <td>smartinez87</td>\n",
       "      <td>1053</td>\n",
       "      <td>pull</td>\n",
       "      <td>closed</td>\n",
       "      <td>ddf28352b80c86754a6424e3a61e8bdf9213b3c7</td>\n",
       "      <td>2011-09-05</td>\n",
       "      <td>2011-09-06</td>\n",
       "      <td>False</td>\n",
       "      <td>0</td>\n",
       "      <td>0</td>\n",
       "      <td>0</td>\n",
       "    </tr>\n",
       "    <tr>\n",
       "      <th>89065</th>\n",
       "      <td>[torvalds]linux</td>\n",
       "      <td>10</td>\n",
       "      <td>ericvh</td>\n",
       "      <td>1052</td>\n",
       "      <td>pull</td>\n",
       "      <td>closed</td>\n",
       "      <td>ddf28352b80c86754a6424e3a61e8bdf9213b3c7</td>\n",
       "      <td>2011-09-06</td>\n",
       "      <td>2011-09-07</td>\n",
       "      <td>True</td>\n",
       "      <td>0</td>\n",
       "      <td>0</td>\n",
       "      <td>0</td>\n",
       "    </tr>\n",
       "  </tbody>\n",
       "</table>\n",
       "</div>"
      ],
      "text/plain": [
       "            Repository  ID         User  user_id  Type   State  \\\n",
       "89061  [torvalds]linux   6    leobalter      914  pull  closed   \n",
       "89062  [torvalds]linux   7        Holek     1110  pull  closed   \n",
       "89063  [torvalds]linux   8   Spaceghost     1054  pull  closed   \n",
       "89064  [torvalds]linux   9  smartinez87     1053  pull  closed   \n",
       "89065  [torvalds]linux  10       ericvh     1052  pull  closed   \n",
       "\n",
       "                                       CommitId   CreatedAt    ClosedAt  \\\n",
       "89061  ddf28352b80c86754a6424e3a61e8bdf9213b3c7  2011-09-05  2011-09-06   \n",
       "89062  ddf28352b80c86754a6424e3a61e8bdf9213b3c7  2011-09-05  2011-09-05   \n",
       "89063  ddf28352b80c86754a6424e3a61e8bdf9213b3c7  2011-09-05  2011-09-06   \n",
       "89064  ddf28352b80c86754a6424e3a61e8bdf9213b3c7  2011-09-05  2011-09-06   \n",
       "89065  ddf28352b80c86754a6424e3a61e8bdf9213b3c7  2011-09-06  2011-09-07   \n",
       "\n",
       "       IsMerged  CountReactions  CountLike  CountDislike  \n",
       "89061     False               5          0             0  \n",
       "89062     False               0          0             0  \n",
       "89063     False               0          0             0  \n",
       "89064     False               0          0             0  \n",
       "89065      True               0          0             0  "
      ]
     },
     "execution_count": 78,
     "metadata": {},
     "output_type": "execute_result"
    }
   ],
   "source": [
    "df_linux_edge_stw.head()"
   ]
  },
  {
   "cell_type": "code",
   "execution_count": 115,
   "id": "8552a95f-026c-4e65-8aa3-e8248951a4a3",
   "metadata": {},
   "outputs": [
    {
     "data": {
      "text/plain": [
       "6      1\n",
       "352    1\n",
       "511    1\n",
       "510    1\n",
       "507    1\n",
       "      ..\n",
       "234    1\n",
       "233    1\n",
       "232    1\n",
       "231    1\n",
       "804    1\n",
       "Name: ID, Length: 449, dtype: int64"
      ]
     },
     "execution_count": 115,
     "metadata": {},
     "output_type": "execute_result"
    }
   ],
   "source": [
    "df_linux['ID'].value_counts()"
   ]
  },
  {
   "cell_type": "code",
   "execution_count": 79,
   "id": "850308fb-9b43-4ea2-8e4f-06a67a473fbc",
   "metadata": {},
   "outputs": [],
   "source": [
    "df_linux_edge_stw = df_linux_edge_stw.rename(columns={\"ID\": \"Target\", \"user_id\":\"Source\"})\n",
    "new_cols = ['Source', 'Target', 'Type']\n",
    "df_linux_edge_stw = df_linux_edge_stw[new_cols]"
   ]
  },
  {
   "cell_type": "code",
   "execution_count": 81,
   "id": "18c52242-4712-4f8a-86ad-c7c169456a8a",
   "metadata": {},
   "outputs": [],
   "source": [
    "df_linux_edge_stw.reset_index(inplace = True)\n",
    "df_linux_edge_stw = df_linux_edge_stw.drop(columns='index')"
   ]
  },
  {
   "cell_type": "code",
   "execution_count": 82,
   "id": "1bd58579-3a4e-4a61-a50a-36972dcdb7e4",
   "metadata": {},
   "outputs": [
    {
     "data": {
      "text/html": [
       "<div>\n",
       "<style scoped>\n",
       "    .dataframe tbody tr th:only-of-type {\n",
       "        vertical-align: middle;\n",
       "    }\n",
       "\n",
       "    .dataframe tbody tr th {\n",
       "        vertical-align: top;\n",
       "    }\n",
       "\n",
       "    .dataframe thead th {\n",
       "        text-align: right;\n",
       "    }\n",
       "</style>\n",
       "<table border=\"1\" class=\"dataframe\">\n",
       "  <thead>\n",
       "    <tr style=\"text-align: right;\">\n",
       "      <th></th>\n",
       "      <th>Source</th>\n",
       "      <th>Target</th>\n",
       "      <th>Type</th>\n",
       "    </tr>\n",
       "  </thead>\n",
       "  <tbody>\n",
       "    <tr>\n",
       "      <th>0</th>\n",
       "      <td>914</td>\n",
       "      <td>6</td>\n",
       "      <td>pull</td>\n",
       "    </tr>\n",
       "    <tr>\n",
       "      <th>1</th>\n",
       "      <td>1110</td>\n",
       "      <td>7</td>\n",
       "      <td>pull</td>\n",
       "    </tr>\n",
       "    <tr>\n",
       "      <th>2</th>\n",
       "      <td>1054</td>\n",
       "      <td>8</td>\n",
       "      <td>pull</td>\n",
       "    </tr>\n",
       "    <tr>\n",
       "      <th>3</th>\n",
       "      <td>1053</td>\n",
       "      <td>9</td>\n",
       "      <td>pull</td>\n",
       "    </tr>\n",
       "    <tr>\n",
       "      <th>4</th>\n",
       "      <td>1052</td>\n",
       "      <td>10</td>\n",
       "      <td>pull</td>\n",
       "    </tr>\n",
       "  </tbody>\n",
       "</table>\n",
       "</div>"
      ],
      "text/plain": [
       "   Source  Target  Type\n",
       "0     914       6  pull\n",
       "1    1110       7  pull\n",
       "2    1054       8  pull\n",
       "3    1053       9  pull\n",
       "4    1052      10  pull"
      ]
     },
     "execution_count": 82,
     "metadata": {},
     "output_type": "execute_result"
    }
   ],
   "source": [
    "df_linux_edge_stw.head()"
   ]
  },
  {
   "cell_type": "code",
   "execution_count": 83,
   "id": "009192e6-2334-49f5-bc3f-cf1c6592d2ba",
   "metadata": {},
   "outputs": [],
   "source": [
    "tmp = df_linux_edge_stw.copy()"
   ]
  },
  {
   "cell_type": "code",
   "execution_count": 110,
   "id": "f8a2c36d-8c1a-4d1c-9efb-025c336bacbe",
   "metadata": {},
   "outputs": [
    {
     "ename": "ValueError",
     "evalue": "The truth value of a Series is ambiguous. Use a.empty, a.bool(), a.item(), a.any() or a.all().",
     "output_type": "error",
     "traceback": [
      "\u001b[0;31m---------------------------------------------------------------------------\u001b[0m",
      "\u001b[0;31mValueError\u001b[0m                                Traceback (most recent call last)",
      "Cell \u001b[0;32mIn[110], line 6\u001b[0m\n\u001b[1;32m      1\u001b[0m \u001b[38;5;66;03m# for i in range(0, len(tmp)):\u001b[39;00m\n\u001b[1;32m      2\u001b[0m \u001b[38;5;66;03m#     if df_linux_edge_stw['Type'] == 'pull':\u001b[39;00m\n\u001b[1;32m      3\u001b[0m \u001b[38;5;66;03m#         tmp['Weight'] = 2\u001b[39;00m\n\u001b[1;32m      4\u001b[0m \u001b[38;5;66;03m#     else: 1\u001b[39;00m\n\u001b[0;32m----> 6\u001b[0m tmp[\u001b[38;5;124m'\u001b[39m\u001b[38;5;124mWeight\u001b[39m\u001b[38;5;124m'\u001b[39m] \u001b[38;5;241m=\u001b[39m \u001b[38;5;241m2\u001b[39m \u001b[38;5;28;01mif\u001b[39;00m df_linux_edge_stw[\u001b[38;5;124m'\u001b[39m\u001b[38;5;124mType\u001b[39m\u001b[38;5;124m'\u001b[39m] \u001b[38;5;241m==\u001b[39m \u001b[38;5;124m'\u001b[39m\u001b[38;5;124mpull\u001b[39m\u001b[38;5;124m'\u001b[39m \u001b[38;5;28;01melse\u001b[39;00m \u001b[38;5;241m1\u001b[39m\n",
      "File \u001b[0;32m~/opt/anaconda3/envs/DSCourse/lib/python3.10/site-packages/pandas/core/generic.py:1527\u001b[0m, in \u001b[0;36mNDFrame.__nonzero__\u001b[0;34m(self)\u001b[0m\n\u001b[1;32m   1525\u001b[0m \u001b[38;5;129m@final\u001b[39m\n\u001b[1;32m   1526\u001b[0m \u001b[38;5;28;01mdef\u001b[39;00m \u001b[38;5;21m__nonzero__\u001b[39m(\u001b[38;5;28mself\u001b[39m) \u001b[38;5;241m-\u001b[39m\u001b[38;5;241m>\u001b[39m NoReturn:\n\u001b[0;32m-> 1527\u001b[0m     \u001b[38;5;28;01mraise\u001b[39;00m \u001b[38;5;167;01mValueError\u001b[39;00m(\n\u001b[1;32m   1528\u001b[0m         \u001b[38;5;124mf\u001b[39m\u001b[38;5;124m\"\u001b[39m\u001b[38;5;124mThe truth value of a \u001b[39m\u001b[38;5;132;01m{\u001b[39;00m\u001b[38;5;28mtype\u001b[39m(\u001b[38;5;28mself\u001b[39m)\u001b[38;5;241m.\u001b[39m\u001b[38;5;18m__name__\u001b[39m\u001b[38;5;132;01m}\u001b[39;00m\u001b[38;5;124m is ambiguous. \u001b[39m\u001b[38;5;124m\"\u001b[39m\n\u001b[1;32m   1529\u001b[0m         \u001b[38;5;124m\"\u001b[39m\u001b[38;5;124mUse a.empty, a.bool(), a.item(), a.any() or a.all().\u001b[39m\u001b[38;5;124m\"\u001b[39m\n\u001b[1;32m   1530\u001b[0m     )\n",
      "\u001b[0;31mValueError\u001b[0m: The truth value of a Series is ambiguous. Use a.empty, a.bool(), a.item(), a.any() or a.all()."
     ]
    }
   ],
   "source": [
    "# for i in range(0, len(tmp)):\n",
    "#     if df_linux_edge_stw['Type'] == 'pull':\n",
    "#         tmp['Weight'] = 2\n",
    "#     else: 1\n",
    "    \n",
    "tmp['Weight'] = 2 if df_linux_edge_stw['Type'] == 'pull' else 1\n"
   ]
  },
  {
   "cell_type": "code",
   "execution_count": 105,
   "id": "e409cbb0-f291-4917-abf3-982133bd6945",
   "metadata": {},
   "outputs": [
    {
     "data": {
      "text/plain": [
       "1    449\n",
       "Name: Weight, dtype: int64"
      ]
     },
     "execution_count": 105,
     "metadata": {},
     "output_type": "execute_result"
    }
   ],
   "source": [
    "tmp['Weight'].value_counts()"
   ]
  },
  {
   "cell_type": "code",
   "execution_count": 113,
   "id": "f2021374-d67e-4fa0-beee-17ddece0836f",
   "metadata": {},
   "outputs": [
    {
     "ename": "KeyError",
     "evalue": "\"['Weight'] not in index\"",
     "output_type": "error",
     "traceback": [
      "\u001b[0;31m---------------------------------------------------------------------------\u001b[0m",
      "\u001b[0;31mKeyError\u001b[0m                                  Traceback (most recent call last)",
      "Cell \u001b[0;32mIn[113], line 2\u001b[0m\n\u001b[1;32m      1\u001b[0m new_cols \u001b[38;5;241m=\u001b[39m [\u001b[38;5;124m'\u001b[39m\u001b[38;5;124mSource\u001b[39m\u001b[38;5;124m'\u001b[39m, \u001b[38;5;124m'\u001b[39m\u001b[38;5;124mTarget\u001b[39m\u001b[38;5;124m'\u001b[39m, \u001b[38;5;124m'\u001b[39m\u001b[38;5;124mWeight\u001b[39m\u001b[38;5;124m'\u001b[39m]\n\u001b[0;32m----> 2\u001b[0m tmp \u001b[38;5;241m=\u001b[39m \u001b[43mtmp\u001b[49m\u001b[43m[\u001b[49m\u001b[43mnew_cols\u001b[49m\u001b[43m]\u001b[49m\n",
      "File \u001b[0;32m~/opt/anaconda3/envs/DSCourse/lib/python3.10/site-packages/pandas/core/frame.py:3811\u001b[0m, in \u001b[0;36mDataFrame.__getitem__\u001b[0;34m(self, key)\u001b[0m\n\u001b[1;32m   3809\u001b[0m     \u001b[38;5;28;01mif\u001b[39;00m is_iterator(key):\n\u001b[1;32m   3810\u001b[0m         key \u001b[38;5;241m=\u001b[39m \u001b[38;5;28mlist\u001b[39m(key)\n\u001b[0;32m-> 3811\u001b[0m     indexer \u001b[38;5;241m=\u001b[39m \u001b[38;5;28;43mself\u001b[39;49m\u001b[38;5;241;43m.\u001b[39;49m\u001b[43mcolumns\u001b[49m\u001b[38;5;241;43m.\u001b[39;49m\u001b[43m_get_indexer_strict\u001b[49m\u001b[43m(\u001b[49m\u001b[43mkey\u001b[49m\u001b[43m,\u001b[49m\u001b[43m \u001b[49m\u001b[38;5;124;43m\"\u001b[39;49m\u001b[38;5;124;43mcolumns\u001b[39;49m\u001b[38;5;124;43m\"\u001b[39;49m\u001b[43m)\u001b[49m[\u001b[38;5;241m1\u001b[39m]\n\u001b[1;32m   3813\u001b[0m \u001b[38;5;66;03m# take() does not accept boolean indexers\u001b[39;00m\n\u001b[1;32m   3814\u001b[0m \u001b[38;5;28;01mif\u001b[39;00m \u001b[38;5;28mgetattr\u001b[39m(indexer, \u001b[38;5;124m\"\u001b[39m\u001b[38;5;124mdtype\u001b[39m\u001b[38;5;124m\"\u001b[39m, \u001b[38;5;28;01mNone\u001b[39;00m) \u001b[38;5;241m==\u001b[39m \u001b[38;5;28mbool\u001b[39m:\n",
      "File \u001b[0;32m~/opt/anaconda3/envs/DSCourse/lib/python3.10/site-packages/pandas/core/indexes/base.py:6113\u001b[0m, in \u001b[0;36mIndex._get_indexer_strict\u001b[0;34m(self, key, axis_name)\u001b[0m\n\u001b[1;32m   6110\u001b[0m \u001b[38;5;28;01melse\u001b[39;00m:\n\u001b[1;32m   6111\u001b[0m     keyarr, indexer, new_indexer \u001b[38;5;241m=\u001b[39m \u001b[38;5;28mself\u001b[39m\u001b[38;5;241m.\u001b[39m_reindex_non_unique(keyarr)\n\u001b[0;32m-> 6113\u001b[0m \u001b[38;5;28;43mself\u001b[39;49m\u001b[38;5;241;43m.\u001b[39;49m\u001b[43m_raise_if_missing\u001b[49m\u001b[43m(\u001b[49m\u001b[43mkeyarr\u001b[49m\u001b[43m,\u001b[49m\u001b[43m \u001b[49m\u001b[43mindexer\u001b[49m\u001b[43m,\u001b[49m\u001b[43m \u001b[49m\u001b[43maxis_name\u001b[49m\u001b[43m)\u001b[49m\n\u001b[1;32m   6115\u001b[0m keyarr \u001b[38;5;241m=\u001b[39m \u001b[38;5;28mself\u001b[39m\u001b[38;5;241m.\u001b[39mtake(indexer)\n\u001b[1;32m   6116\u001b[0m \u001b[38;5;28;01mif\u001b[39;00m \u001b[38;5;28misinstance\u001b[39m(key, Index):\n\u001b[1;32m   6117\u001b[0m     \u001b[38;5;66;03m# GH 42790 - Preserve name from an Index\u001b[39;00m\n",
      "File \u001b[0;32m~/opt/anaconda3/envs/DSCourse/lib/python3.10/site-packages/pandas/core/indexes/base.py:6176\u001b[0m, in \u001b[0;36mIndex._raise_if_missing\u001b[0;34m(self, key, indexer, axis_name)\u001b[0m\n\u001b[1;32m   6173\u001b[0m     \u001b[38;5;28;01mraise\u001b[39;00m \u001b[38;5;167;01mKeyError\u001b[39;00m(\u001b[38;5;124mf\u001b[39m\u001b[38;5;124m\"\u001b[39m\u001b[38;5;124mNone of [\u001b[39m\u001b[38;5;132;01m{\u001b[39;00mkey\u001b[38;5;132;01m}\u001b[39;00m\u001b[38;5;124m] are in the [\u001b[39m\u001b[38;5;132;01m{\u001b[39;00maxis_name\u001b[38;5;132;01m}\u001b[39;00m\u001b[38;5;124m]\u001b[39m\u001b[38;5;124m\"\u001b[39m)\n\u001b[1;32m   6175\u001b[0m not_found \u001b[38;5;241m=\u001b[39m \u001b[38;5;28mlist\u001b[39m(ensure_index(key)[missing_mask\u001b[38;5;241m.\u001b[39mnonzero()[\u001b[38;5;241m0\u001b[39m]]\u001b[38;5;241m.\u001b[39munique())\n\u001b[0;32m-> 6176\u001b[0m \u001b[38;5;28;01mraise\u001b[39;00m \u001b[38;5;167;01mKeyError\u001b[39;00m(\u001b[38;5;124mf\u001b[39m\u001b[38;5;124m\"\u001b[39m\u001b[38;5;132;01m{\u001b[39;00mnot_found\u001b[38;5;132;01m}\u001b[39;00m\u001b[38;5;124m not in index\u001b[39m\u001b[38;5;124m\"\u001b[39m)\n",
      "\u001b[0;31mKeyError\u001b[0m: \"['Weight'] not in index\""
     ]
    }
   ],
   "source": [
    "new_cols = ['Source', 'Target', 'Weight']\n",
    "tmp = tmp[new_cols]"
   ]
  },
  {
   "cell_type": "code",
   "execution_count": 112,
   "id": "48e2a711-280b-41ab-a5a5-b304ba9cbae5",
   "metadata": {},
   "outputs": [],
   "source": [
    "filename = 'data/edge_type.csv'\n",
    "tmp.to_csv(filename, index=False)"
   ]
  },
  {
   "cell_type": "code",
   "execution_count": null,
   "id": "13d85c85-73b7-4de5-a138-5e42c7c0c442",
   "metadata": {},
   "outputs": [],
   "source": []
  },
  {
   "cell_type": "code",
   "execution_count": null,
   "id": "a16cbf34-2f81-4e1e-9eea-d1a8d20a0f95",
   "metadata": {},
   "outputs": [],
   "source": [
    "# df_linux_issues = df_linux[df_linux['Type'] == 'issue']\n",
    "# df_linux_prs = df_linux[df_linux['Type'] == 'pull']\n",
    "\n",
    "# df_linux_issues = df_linux_issues.rename(columns={\"ID\": \"id_iss\"})\n",
    "# df_linux_prs = df_linux_prs.rename(columns={\"ID\": \"id_pr\"})"
   ]
  },
  {
   "cell_type": "code",
   "execution_count": null,
   "id": "fd1dccc9-860a-40fa-924a-b5002f235300",
   "metadata": {},
   "outputs": [],
   "source": []
  },
  {
   "cell_type": "code",
   "execution_count": null,
   "id": "18ce7c31-d805-46ef-860d-65f42538ec45",
   "metadata": {},
   "outputs": [],
   "source": []
  },
  {
   "cell_type": "code",
   "execution_count": null,
   "id": "33e8ea8d-1d05-47c0-994c-bb9ca0306dd4",
   "metadata": {},
   "outputs": [],
   "source": []
  },
  {
   "cell_type": "code",
   "execution_count": null,
   "id": "7cbac10c-359e-4512-9782-405cddf6899d",
   "metadata": {},
   "outputs": [],
   "source": []
  },
  {
   "cell_type": "markdown",
   "id": "fb2ce303-5e67-4b6a-a035-6a30fac923d0",
   "metadata": {},
   "source": [
    "# Issues"
   ]
  },
  {
   "cell_type": "code",
   "execution_count": 44,
   "id": "141e8bae-3cda-4566-9c98-f3be86a0a55e",
   "metadata": {},
   "outputs": [],
   "source": [
    "df_three = df_issues[df_issues['Repository'] == repository]"
   ]
  },
  {
   "cell_type": "code",
   "execution_count": 35,
   "id": "a6e2e44f-70be-4a0e-bf57-f7773d5cdd88",
   "metadata": {},
   "outputs": [
    {
     "data": {
      "text/plain": [
       "1        1\n",
       "6685     1\n",
       "6678     1\n",
       "6679     1\n",
       "6680     1\n",
       "        ..\n",
       "3338     1\n",
       "3339     1\n",
       "3340     1\n",
       "3341     1\n",
       "10049    1\n",
       "Name: ID, Length: 10000, dtype: int64"
      ]
     },
     "execution_count": 35,
     "metadata": {},
     "output_type": "execute_result"
    }
   ],
   "source": [
    "df_three['ID'].value_counts()"
   ]
  },
  {
   "cell_type": "code",
   "execution_count": 33,
   "id": "07db2f5e-ee16-4a22-9301-ceeb561e12f3",
   "metadata": {},
   "outputs": [
    {
     "data": {
      "text/html": [
       "<div>\n",
       "<style scoped>\n",
       "    .dataframe tbody tr th:only-of-type {\n",
       "        vertical-align: middle;\n",
       "    }\n",
       "\n",
       "    .dataframe tbody tr th {\n",
       "        vertical-align: top;\n",
       "    }\n",
       "\n",
       "    .dataframe thead th {\n",
       "        text-align: right;\n",
       "    }\n",
       "</style>\n",
       "<table border=\"1\" class=\"dataframe\">\n",
       "  <thead>\n",
       "    <tr style=\"text-align: right;\">\n",
       "      <th></th>\n",
       "      <th>Repository</th>\n",
       "      <th>ID</th>\n",
       "      <th>User</th>\n",
       "      <th>Type</th>\n",
       "      <th>State</th>\n",
       "      <th>CommitId</th>\n",
       "      <th>CreatedAt</th>\n",
       "      <th>ClosedAt</th>\n",
       "      <th>IsMerged</th>\n",
       "      <th>CountReactions</th>\n",
       "      <th>CountLike</th>\n",
       "      <th>CountDislike</th>\n",
       "    </tr>\n",
       "  </thead>\n",
       "  <tbody>\n",
       "    <tr>\n",
       "      <th>238087</th>\n",
       "      <td>[mrdoob]three.js</td>\n",
       "      <td>1</td>\n",
       "      <td>chrislloyd</td>\n",
       "      <td>issue</td>\n",
       "      <td>closed</td>\n",
       "      <td>NaN</td>\n",
       "      <td>2010-04-25</td>\n",
       "      <td>2010-04-26</td>\n",
       "      <td>False</td>\n",
       "      <td>0</td>\n",
       "      <td>0</td>\n",
       "      <td>0</td>\n",
       "    </tr>\n",
       "    <tr>\n",
       "      <th>238088</th>\n",
       "      <td>[mrdoob]three.js</td>\n",
       "      <td>2</td>\n",
       "      <td>Ovid</td>\n",
       "      <td>issue</td>\n",
       "      <td>closed</td>\n",
       "      <td>NaN</td>\n",
       "      <td>2010-04-26</td>\n",
       "      <td>2010-11-04</td>\n",
       "      <td>False</td>\n",
       "      <td>0</td>\n",
       "      <td>0</td>\n",
       "      <td>0</td>\n",
       "    </tr>\n",
       "    <tr>\n",
       "      <th>238089</th>\n",
       "      <td>[mrdoob]three.js</td>\n",
       "      <td>3</td>\n",
       "      <td>icidasset</td>\n",
       "      <td>issue</td>\n",
       "      <td>closed</td>\n",
       "      <td>NaN</td>\n",
       "      <td>2010-06-20</td>\n",
       "      <td>2010-06-21</td>\n",
       "      <td>False</td>\n",
       "      <td>0</td>\n",
       "      <td>0</td>\n",
       "      <td>0</td>\n",
       "    </tr>\n",
       "    <tr>\n",
       "      <th>238090</th>\n",
       "      <td>[mrdoob]three.js</td>\n",
       "      <td>4</td>\n",
       "      <td>SignpostMarv</td>\n",
       "      <td>issue</td>\n",
       "      <td>closed</td>\n",
       "      <td>NaN</td>\n",
       "      <td>2010-06-23</td>\n",
       "      <td>2010-06-24</td>\n",
       "      <td>False</td>\n",
       "      <td>0</td>\n",
       "      <td>0</td>\n",
       "      <td>0</td>\n",
       "    </tr>\n",
       "    <tr>\n",
       "      <th>238091</th>\n",
       "      <td>[mrdoob]three.js</td>\n",
       "      <td>5</td>\n",
       "      <td>SignpostMarv</td>\n",
       "      <td>issue</td>\n",
       "      <td>closed</td>\n",
       "      <td>NaN</td>\n",
       "      <td>2010-06-23</td>\n",
       "      <td>2010-06-23</td>\n",
       "      <td>False</td>\n",
       "      <td>0</td>\n",
       "      <td>0</td>\n",
       "      <td>0</td>\n",
       "    </tr>\n",
       "  </tbody>\n",
       "</table>\n",
       "</div>"
      ],
      "text/plain": [
       "              Repository  ID          User   Type   State CommitId  \\\n",
       "238087  [mrdoob]three.js   1    chrislloyd  issue  closed      NaN   \n",
       "238088  [mrdoob]three.js   2          Ovid  issue  closed      NaN   \n",
       "238089  [mrdoob]three.js   3     icidasset  issue  closed      NaN   \n",
       "238090  [mrdoob]three.js   4  SignpostMarv  issue  closed      NaN   \n",
       "238091  [mrdoob]three.js   5  SignpostMarv  issue  closed      NaN   \n",
       "\n",
       "         CreatedAt    ClosedAt  IsMerged  CountReactions  CountLike  \\\n",
       "238087  2010-04-25  2010-04-26     False               0          0   \n",
       "238088  2010-04-26  2010-11-04     False               0          0   \n",
       "238089  2010-06-20  2010-06-21     False               0          0   \n",
       "238090  2010-06-23  2010-06-24     False               0          0   \n",
       "238091  2010-06-23  2010-06-23     False               0          0   \n",
       "\n",
       "        CountDislike  \n",
       "238087             0  \n",
       "238088             0  \n",
       "238089             0  \n",
       "238090             0  \n",
       "238091             0  "
      ]
     },
     "execution_count": 33,
     "metadata": {},
     "output_type": "execute_result"
    }
   ],
   "source": [
    "len(df_three)\n",
    "df_three.head()"
   ]
  },
  {
   "cell_type": "code",
   "execution_count": 34,
   "id": "9d48acc4-ecfb-4a2a-a991-212bfb854e50",
   "metadata": {},
   "outputs": [],
   "source": [
    "df_three_users = df_three['User'].value_counts().to_frame('nb_act').reset_index()\n",
    "df_three_users = df_three_users.rename(columns={\"index\": \"user\"})"
   ]
  },
  {
   "cell_type": "code",
   "execution_count": 46,
   "id": "c1ee704b-9ce7-44d5-b785-9b07d080bfc5",
   "metadata": {},
   "outputs": [
    {
     "data": {
      "text/plain": [
       "3701"
      ]
     },
     "execution_count": 46,
     "metadata": {},
     "output_type": "execute_result"
    }
   ],
   "source": [
    "len(df_three_users)"
   ]
  },
  {
   "cell_type": "code",
   "execution_count": 45,
   "id": "4ae9f247-9898-43ae-834f-24fb17768880",
   "metadata": {},
   "outputs": [
    {
     "data": {
      "text/html": [
       "<div>\n",
       "<style scoped>\n",
       "    .dataframe tbody tr th:only-of-type {\n",
       "        vertical-align: middle;\n",
       "    }\n",
       "\n",
       "    .dataframe tbody tr th {\n",
       "        vertical-align: top;\n",
       "    }\n",
       "\n",
       "    .dataframe thead th {\n",
       "        text-align: right;\n",
       "    }\n",
       "</style>\n",
       "<table border=\"1\" class=\"dataframe\">\n",
       "  <thead>\n",
       "    <tr style=\"text-align: right;\">\n",
       "      <th></th>\n",
       "      <th>user</th>\n",
       "      <th>nb_act</th>\n",
       "    </tr>\n",
       "  </thead>\n",
       "  <tbody>\n",
       "    <tr>\n",
       "      <th>0</th>\n",
       "      <td>bhouston</td>\n",
       "      <td>313</td>\n",
       "    </tr>\n",
       "    <tr>\n",
       "      <th>1</th>\n",
       "      <td>WestLangley</td>\n",
       "      <td>274</td>\n",
       "    </tr>\n",
       "    <tr>\n",
       "      <th>2</th>\n",
       "      <td>gero3</td>\n",
       "      <td>208</td>\n",
       "    </tr>\n",
       "    <tr>\n",
       "      <th>3</th>\n",
       "      <td>ghost</td>\n",
       "      <td>192</td>\n",
       "    </tr>\n",
       "    <tr>\n",
       "      <th>4</th>\n",
       "      <td>Mugen87</td>\n",
       "      <td>126</td>\n",
       "    </tr>\n",
       "  </tbody>\n",
       "</table>\n",
       "</div>"
      ],
      "text/plain": [
       "          user  nb_act\n",
       "0     bhouston     313\n",
       "1  WestLangley     274\n",
       "2        gero3     208\n",
       "3        ghost     192\n",
       "4      Mugen87     126"
      ]
     },
     "execution_count": 45,
     "metadata": {},
     "output_type": "execute_result"
    }
   ],
   "source": [
    "df_three_users.head()"
   ]
  },
  {
   "cell_type": "code",
   "execution_count": 25,
   "id": "0f7e357f-43e4-46b5-9240-75136cc250d7",
   "metadata": {},
   "outputs": [],
   "source": [
    "df_three_issues = df_three[df_three['Type'] == 'issue']\n",
    "df_three_prs = df_three[df_three['Type'] == 'pull']"
   ]
  },
  {
   "cell_type": "code",
   "execution_count": 31,
   "id": "f505ff72-a7ff-47f0-8e63-79e43ea7813e",
   "metadata": {},
   "outputs": [],
   "source": [
    "df_three_issues = df_three_issues.rename(columns={\"ID\": \"id_iss\"})\n",
    "df_three_prs = df_three_prs.rename(columns={\"ID\": \"id_pr\"})"
   ]
  },
  {
   "cell_type": "code",
   "execution_count": 32,
   "id": "b3244ebb-1302-430f-acf5-34e887d2337b",
   "metadata": {},
   "outputs": [
    {
     "data": {
      "text/html": [
       "<div>\n",
       "<style scoped>\n",
       "    .dataframe tbody tr th:only-of-type {\n",
       "        vertical-align: middle;\n",
       "    }\n",
       "\n",
       "    .dataframe tbody tr th {\n",
       "        vertical-align: top;\n",
       "    }\n",
       "\n",
       "    .dataframe thead th {\n",
       "        text-align: right;\n",
       "    }\n",
       "</style>\n",
       "<table border=\"1\" class=\"dataframe\">\n",
       "  <thead>\n",
       "    <tr style=\"text-align: right;\">\n",
       "      <th></th>\n",
       "      <th>Repository</th>\n",
       "      <th>id_pr</th>\n",
       "      <th>User</th>\n",
       "      <th>Type</th>\n",
       "      <th>State</th>\n",
       "      <th>CommitId</th>\n",
       "      <th>CreatedAt</th>\n",
       "      <th>ClosedAt</th>\n",
       "      <th>IsMerged</th>\n",
       "      <th>CountReactions</th>\n",
       "      <th>CountLike</th>\n",
       "      <th>CountDislike</th>\n",
       "    </tr>\n",
       "  </thead>\n",
       "  <tbody>\n",
       "    <tr>\n",
       "      <th>238098</th>\n",
       "      <td>[mrdoob]three.js</td>\n",
       "      <td>12</td>\n",
       "      <td>philogb</td>\n",
       "      <td>pull</td>\n",
       "      <td>closed</td>\n",
       "      <td>216b4eeee20242b6b9773f30ca90e3295c313e60</td>\n",
       "      <td>2010-09-03</td>\n",
       "      <td>2010-09-03</td>\n",
       "      <td>False</td>\n",
       "      <td>0</td>\n",
       "      <td>0</td>\n",
       "      <td>0</td>\n",
       "    </tr>\n",
       "    <tr>\n",
       "      <th>238099</th>\n",
       "      <td>[mrdoob]three.js</td>\n",
       "      <td>13</td>\n",
       "      <td>philogb</td>\n",
       "      <td>pull</td>\n",
       "      <td>closed</td>\n",
       "      <td>a319fe3c7be08478b068b353a877857e0e0cd16d</td>\n",
       "      <td>2010-09-09</td>\n",
       "      <td>2010-09-09</td>\n",
       "      <td>False</td>\n",
       "      <td>0</td>\n",
       "      <td>0</td>\n",
       "      <td>0</td>\n",
       "    </tr>\n",
       "    <tr>\n",
       "      <th>238100</th>\n",
       "      <td>[mrdoob]three.js</td>\n",
       "      <td>14</td>\n",
       "      <td>philogb</td>\n",
       "      <td>pull</td>\n",
       "      <td>closed</td>\n",
       "      <td>14b5a3ebb50adc073048e50c70474f39d9ca3e2e</td>\n",
       "      <td>2010-09-17</td>\n",
       "      <td>2010-09-18</td>\n",
       "      <td>False</td>\n",
       "      <td>0</td>\n",
       "      <td>0</td>\n",
       "      <td>0</td>\n",
       "    </tr>\n",
       "    <tr>\n",
       "      <th>238103</th>\n",
       "      <td>[mrdoob]three.js</td>\n",
       "      <td>17</td>\n",
       "      <td>bnolan</td>\n",
       "      <td>pull</td>\n",
       "      <td>closed</td>\n",
       "      <td>5ce7a10bbbcfa0fa9cb10b1597034cbbfb1bccce</td>\n",
       "      <td>2010-09-27</td>\n",
       "      <td>2010-09-27</td>\n",
       "      <td>True</td>\n",
       "      <td>0</td>\n",
       "      <td>0</td>\n",
       "      <td>0</td>\n",
       "    </tr>\n",
       "    <tr>\n",
       "      <th>238105</th>\n",
       "      <td>[mrdoob]three.js</td>\n",
       "      <td>19</td>\n",
       "      <td>julianwa</td>\n",
       "      <td>pull</td>\n",
       "      <td>closed</td>\n",
       "      <td>0c6219b43f473b1f989aaf5b726763fa2b180be5</td>\n",
       "      <td>2010-09-28</td>\n",
       "      <td>2010-09-30</td>\n",
       "      <td>False</td>\n",
       "      <td>0</td>\n",
       "      <td>0</td>\n",
       "      <td>0</td>\n",
       "    </tr>\n",
       "  </tbody>\n",
       "</table>\n",
       "</div>"
      ],
      "text/plain": [
       "              Repository  id_pr      User  Type   State  \\\n",
       "238098  [mrdoob]three.js     12   philogb  pull  closed   \n",
       "238099  [mrdoob]three.js     13   philogb  pull  closed   \n",
       "238100  [mrdoob]three.js     14   philogb  pull  closed   \n",
       "238103  [mrdoob]three.js     17    bnolan  pull  closed   \n",
       "238105  [mrdoob]three.js     19  julianwa  pull  closed   \n",
       "\n",
       "                                        CommitId   CreatedAt    ClosedAt  \\\n",
       "238098  216b4eeee20242b6b9773f30ca90e3295c313e60  2010-09-03  2010-09-03   \n",
       "238099  a319fe3c7be08478b068b353a877857e0e0cd16d  2010-09-09  2010-09-09   \n",
       "238100  14b5a3ebb50adc073048e50c70474f39d9ca3e2e  2010-09-17  2010-09-18   \n",
       "238103  5ce7a10bbbcfa0fa9cb10b1597034cbbfb1bccce  2010-09-27  2010-09-27   \n",
       "238105  0c6219b43f473b1f989aaf5b726763fa2b180be5  2010-09-28  2010-09-30   \n",
       "\n",
       "        IsMerged  CountReactions  CountLike  CountDislike  \n",
       "238098     False               0          0             0  \n",
       "238099     False               0          0             0  \n",
       "238100     False               0          0             0  \n",
       "238103      True               0          0             0  \n",
       "238105     False               0          0             0  "
      ]
     },
     "execution_count": 32,
     "metadata": {},
     "output_type": "execute_result"
    }
   ],
   "source": [
    "# df_three_issues.head()\n",
    "df_three_prs.head()"
   ]
  },
  {
   "cell_type": "code",
   "execution_count": null,
   "id": "b3b9d916-f217-4da7-9988-afce7d731e03",
   "metadata": {},
   "outputs": [],
   "source": []
  },
  {
   "cell_type": "code",
   "execution_count": null,
   "id": "a9d2507d-b1e4-4a32-b8d5-16eaedd46780",
   "metadata": {},
   "outputs": [],
   "source": []
  },
  {
   "cell_type": "code",
   "execution_count": 38,
   "id": "4dcdf0ca-ca3f-46e9-a777-273a403f8b47",
   "metadata": {},
   "outputs": [],
   "source": [
    "# df_comments[df_is_c[7]].value_counts()"
   ]
  },
  {
   "cell_type": "code",
   "execution_count": 29,
   "id": "0d34b1eb-b7d0-4680-994a-d869940c5493",
   "metadata": {},
   "outputs": [
    {
     "data": {
      "text/plain": [
       "mrdoob                 14848\n",
       "ghost                  14832\n",
       "gaearon                13639\n",
       "rsc                    12961\n",
       "facebook-github-bot    12918\n",
       "                       ...  \n",
       "NelsonPetitos              1\n",
       "KarthickeyanSekar          1\n",
       "yray                       1\n",
       "deepankarsandy             1\n",
       "tusharvikky                1\n",
       "Name: User, Length: 143591, dtype: int64"
      ]
     },
     "execution_count": 29,
     "metadata": {},
     "output_type": "execute_result"
    }
   ],
   "source": [
    "df_comments['User'].value_counts()"
   ]
  },
  {
   "cell_type": "code",
   "execution_count": 17,
   "id": "2d78411a-ad36-44e4-83a9-908c50a1d0ca",
   "metadata": {},
   "outputs": [],
   "source": [
    "df_is_col = df_issues.columns #['ID'].value_somments()"
   ]
  },
  {
   "cell_type": "code",
   "execution_count": 27,
   "id": "1799b6f7-90d0-4932-b8a2-ce6627fc313b",
   "metadata": {},
   "outputs": [
    {
     "data": {
      "text/plain": [
       "14       45\n",
       "56       45\n",
       "57       45\n",
       "17       45\n",
       "126      45\n",
       "         ..\n",
       "11445     1\n",
       "11444     1\n",
       "11443     1\n",
       "11442     1\n",
       "10786     1\n",
       "Name: ID, Length: 11401, dtype: int64"
      ]
     },
     "execution_count": 27,
     "metadata": {},
     "output_type": "execute_result"
    }
   ],
   "source": [
    "df_issues['ID'].value_counts()"
   ]
  },
  {
   "cell_type": "code",
   "execution_count": 9,
   "id": "274acd4b-4b40-4a2e-bf25-914f0af3d601",
   "metadata": {},
   "outputs": [],
   "source": [
    "rep_headers = ['repository','user','contributor','resource','commit_user_date','size_additions','size_deletions','is_added','is_deleted','is_modified','is_renamed','is_changed','is_merged','is_unmerged','is_broken']"
   ]
  },
  {
   "cell_type": "code",
   "execution_count": 13,
   "id": "b6fdd56c-bf58-42b7-80db-e08873e1447c",
   "metadata": {},
   "outputs": [],
   "source": [
    "df_rep = pd.read_csv(file_rep,\n",
    "                  names=rep_headers)"
   ]
  },
  {
   "cell_type": "code",
   "execution_count": null,
   "id": "5fdea193-2c60-4fa9-9b64-66d5ed59f48d",
   "metadata": {},
   "outputs": [],
   "source": []
  },
  {
   "cell_type": "code",
   "execution_count": 14,
   "id": "f5ac5742-1456-4005-8c91-b12618c34d5b",
   "metadata": {},
   "outputs": [
    {
     "data": {
      "text/html": [
       "<div>\n",
       "<style scoped>\n",
       "    .dataframe tbody tr th:only-of-type {\n",
       "        vertical-align: middle;\n",
       "    }\n",
       "\n",
       "    .dataframe tbody tr th {\n",
       "        vertical-align: top;\n",
       "    }\n",
       "\n",
       "    .dataframe thead th {\n",
       "        text-align: right;\n",
       "    }\n",
       "</style>\n",
       "<table border=\"1\" class=\"dataframe\">\n",
       "  <thead>\n",
       "    <tr style=\"text-align: right;\">\n",
       "      <th></th>\n",
       "      <th>repository</th>\n",
       "      <th>user</th>\n",
       "      <th>contributor</th>\n",
       "      <th>resource</th>\n",
       "      <th>commit_user_date</th>\n",
       "      <th>size_additions</th>\n",
       "      <th>size_deletions</th>\n",
       "      <th>is_added</th>\n",
       "      <th>is_deleted</th>\n",
       "      <th>is_modified</th>\n",
       "      <th>is_renamed</th>\n",
       "      <th>is_changed</th>\n",
       "      <th>is_merged</th>\n",
       "      <th>is_unmerged</th>\n",
       "      <th>is_broken</th>\n",
       "    </tr>\n",
       "  </thead>\n",
       "  <tbody>\n",
       "    <tr>\n",
       "      <th>0</th>\n",
       "      <td>[mrdoob]three.js</td>\n",
       "      <td>Mr.doob</td>\n",
       "      <td>info@mrdoob.com</td>\n",
       "      <td>007ca1883b736a5e20d04523d67f56fa</td>\n",
       "      <td>2022-06-15T18:10:03+09:00</td>\n",
       "      <td>152</td>\n",
       "      <td>71</td>\n",
       "      <td>0</td>\n",
       "      <td>0</td>\n",
       "      <td>1</td>\n",
       "      <td>0</td>\n",
       "      <td>0</td>\n",
       "      <td>0</td>\n",
       "      <td>0</td>\n",
       "      <td>0</td>\n",
       "    </tr>\n",
       "    <tr>\n",
       "      <th>1</th>\n",
       "      <td>[mrdoob]three.js</td>\n",
       "      <td>Mr.doob</td>\n",
       "      <td>info@mrdoob.com</td>\n",
       "      <td>b455321d8b4c89085c9b935fb531c9f7</td>\n",
       "      <td>2022-06-15T18:10:03+09:00</td>\n",
       "      <td>152</td>\n",
       "      <td>71</td>\n",
       "      <td>0</td>\n",
       "      <td>0</td>\n",
       "      <td>1</td>\n",
       "      <td>0</td>\n",
       "      <td>0</td>\n",
       "      <td>0</td>\n",
       "      <td>0</td>\n",
       "      <td>0</td>\n",
       "    </tr>\n",
       "    <tr>\n",
       "      <th>2</th>\n",
       "      <td>[mrdoob]three.js</td>\n",
       "      <td>Mr.doob</td>\n",
       "      <td>info@mrdoob.com</td>\n",
       "      <td>f1608a2f6025f5f9d257246f3b29c11f</td>\n",
       "      <td>2022-06-15T18:10:03+09:00</td>\n",
       "      <td>1</td>\n",
       "      <td>1</td>\n",
       "      <td>0</td>\n",
       "      <td>0</td>\n",
       "      <td>1</td>\n",
       "      <td>0</td>\n",
       "      <td>0</td>\n",
       "      <td>0</td>\n",
       "      <td>0</td>\n",
       "      <td>0</td>\n",
       "    </tr>\n",
       "    <tr>\n",
       "      <th>3</th>\n",
       "      <td>[mrdoob]three.js</td>\n",
       "      <td>Mr.doob</td>\n",
       "      <td>info@mrdoob.com</td>\n",
       "      <td>762609dc5b3cd622df4ddeea27c0e7d2</td>\n",
       "      <td>2022-06-15T18:10:03+09:00</td>\n",
       "      <td>125</td>\n",
       "      <td>74</td>\n",
       "      <td>0</td>\n",
       "      <td>0</td>\n",
       "      <td>1</td>\n",
       "      <td>0</td>\n",
       "      <td>0</td>\n",
       "      <td>0</td>\n",
       "      <td>0</td>\n",
       "      <td>0</td>\n",
       "    </tr>\n",
       "    <tr>\n",
       "      <th>4</th>\n",
       "      <td>[mrdoob]three.js</td>\n",
       "      <td>Marco_Fugaro</td>\n",
       "      <td>marco.fugaro@gmail.com</td>\n",
       "      <td>e7bcba3862db524b0d09e8fad6d582ac</td>\n",
       "      <td>2022-06-15T02:07:53-07:00</td>\n",
       "      <td>31</td>\n",
       "      <td>0</td>\n",
       "      <td>0</td>\n",
       "      <td>0</td>\n",
       "      <td>1</td>\n",
       "      <td>0</td>\n",
       "      <td>0</td>\n",
       "      <td>0</td>\n",
       "      <td>0</td>\n",
       "      <td>0</td>\n",
       "    </tr>\n",
       "  </tbody>\n",
       "</table>\n",
       "</div>"
      ],
      "text/plain": [
       "         repository          user             contributor  \\\n",
       "0  [mrdoob]three.js       Mr.doob         info@mrdoob.com   \n",
       "1  [mrdoob]three.js       Mr.doob         info@mrdoob.com   \n",
       "2  [mrdoob]three.js       Mr.doob         info@mrdoob.com   \n",
       "3  [mrdoob]three.js       Mr.doob         info@mrdoob.com   \n",
       "4  [mrdoob]three.js  Marco_Fugaro  marco.fugaro@gmail.com   \n",
       "\n",
       "                           resource           commit_user_date  \\\n",
       "0  007ca1883b736a5e20d04523d67f56fa  2022-06-15T18:10:03+09:00   \n",
       "1  b455321d8b4c89085c9b935fb531c9f7  2022-06-15T18:10:03+09:00   \n",
       "2  f1608a2f6025f5f9d257246f3b29c11f  2022-06-15T18:10:03+09:00   \n",
       "3  762609dc5b3cd622df4ddeea27c0e7d2  2022-06-15T18:10:03+09:00   \n",
       "4  e7bcba3862db524b0d09e8fad6d582ac  2022-06-15T02:07:53-07:00   \n",
       "\n",
       "   size_additions  size_deletions  is_added  is_deleted  is_modified  \\\n",
       "0             152              71         0           0            1   \n",
       "1             152              71         0           0            1   \n",
       "2               1               1         0           0            1   \n",
       "3             125              74         0           0            1   \n",
       "4              31               0         0           0            1   \n",
       "\n",
       "   is_renamed  is_changed  is_merged  is_unmerged  is_broken  \n",
       "0           0           0          0            0          0  \n",
       "1           0           0          0            0          0  \n",
       "2           0           0          0            0          0  \n",
       "3           0           0          0            0          0  \n",
       "4           0           0          0            0          0  "
      ]
     },
     "execution_count": 14,
     "metadata": {},
     "output_type": "execute_result"
    }
   ],
   "source": [
    "df_rep.head()"
   ]
  },
  {
   "cell_type": "code",
   "execution_count": null,
   "id": "9add12aa-9599-4882-b133-c374ef8bc74b",
   "metadata": {},
   "outputs": [],
   "source": [
    "# questions \n",
    "# how project gtowing with time?\n",
    "# 1 year - 100 commits, 2 year - project grow and \n",
    "\n",
    "# network of issues?\n",
    "\n",
    "# what are tyhe people who work across th e project\n",
    "# how many comments/issues for this people\n",
    "\n",
    "# network of people in dif rep\n",
    "# --------------------\n",
    "\n",
    "# difference btw community \n",
    "workers PR / help Issuers\n",
    "dif btw this networks\n",
    "do we have dif community? topological struct\n",
    "\n",
    "pr: ifone person did evruthing\n",
    "data clean\n",
    "difference in comunity // in leadership?"
   ]
  }
 ],
 "metadata": {
  "kernelspec": {
   "display_name": "DSCourse",
   "language": "python",
   "name": "dscourse"
  },
  "language_info": {
   "codemirror_mode": {
    "name": "ipython",
    "version": 3
   },
   "file_extension": ".py",
   "mimetype": "text/x-python",
   "name": "python",
   "nbconvert_exporter": "python",
   "pygments_lexer": "ipython3",
   "version": "3.10.8"
  }
 },
 "nbformat": 4,
 "nbformat_minor": 5
}
