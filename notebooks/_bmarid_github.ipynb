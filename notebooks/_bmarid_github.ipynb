{
 "cells": [
  {
   "cell_type": "raw",
   "id": "afc79161-f047-4925-83bf-da1305760781",
   "metadata": {},
   "source": [
    "Full description of notebook\n",
    "* function to get graph for any repo (give it a name)\n",
    "*"
   ]
  },
  {
   "cell_type": "markdown",
   "id": "af04fe50-3db9-496e-8e98-5e3cdf163178",
   "metadata": {},
   "source": [
    "# imports"
   ]
  },
  {
   "cell_type": "code",
   "execution_count": 585,
   "id": "65ee03e9-41a4-4e4a-94a0-e317be12703a",
   "metadata": {},
   "outputs": [],
   "source": [
    "import pandas as pd\n",
    "import networkx as nx\n",
    "from networkx.algorithms import bipartite\n",
    "import matplotlib.pyplot as plt"
   ]
  },
  {
   "cell_type": "code",
   "execution_count": 586,
   "id": "1d78d893-61a6-4114-939b-79779474f003",
   "metadata": {},
   "outputs": [],
   "source": [
    "# read files"
   ]
  },
  {
   "cell_type": "code",
   "execution_count": 587,
   "id": "24164845-0130-4e8d-b2c6-909bb2f24aa7",
   "metadata": {},
   "outputs": [],
   "source": [
    "file_comments = './data_original/github_1000stars_comments.csv'\n",
    "file_issues = './data_original/github_1000stars_issues.csv'\n",
    "df_comments = pd.read_csv(file_comments)\n",
    "df_issues = pd.read_csv(file_issues)\n",
    "df_comments_copy = df_comments.copy()\n",
    "df_issues_copy = df_issues.copy()"
   ]
  },
  {
   "cell_type": "code",
   "execution_count": 588,
   "id": "38ad862b-0695-4c31-965c-24529a9ae448",
   "metadata": {},
   "outputs": [],
   "source": [
    "path = './results/'"
   ]
  },
  {
   "cell_type": "code",
   "execution_count": 589,
   "id": "287d5813-0d22-459c-9f93-26f9ca4e07f6",
   "metadata": {},
   "outputs": [],
   "source": [
    "def save_graph(G, graph_name):\n",
    "    filepath = path + 'graph/' + graph_name + '.gexf'\n",
    "    nx.write_gexf(G, filepath)"
   ]
  },
  {
   "cell_type": "code",
   "execution_count": 833,
   "id": "b72616cf-f067-451f-b1bf-a8b326beffc8",
   "metadata": {},
   "outputs": [],
   "source": [
    "def save_graph_pic(plt, pic_name):\n",
    "    filepath = './figures/' + 'plots/' + pic_name + '.png'\n",
    "    plt.savefig(filepath)"
   ]
  },
  {
   "cell_type": "code",
   "execution_count": 590,
   "id": "a596699a-025e-4213-ab1a-7787417f1bf7",
   "metadata": {},
   "outputs": [],
   "source": [
    "def save_csv(df, file_name):\n",
    "    filepath = path + 'data_created/' + file_name + '.csv'\n",
    "    df.to_csv(filepath, index = False)  "
   ]
  },
  {
   "cell_type": "code",
   "execution_count": 743,
   "id": "d3732e9e-a8f2-48ca-9608-62fe15388422",
   "metadata": {},
   "outputs": [],
   "source": [
    "def save_fig(fig, fig_name):\n",
    "    filepath = './figures/' + 'plots/' + fig_name + '.png'\n",
    "    fig.savefig(filepath)"
   ]
  },
  {
   "cell_type": "code",
   "execution_count": 591,
   "id": "1bf13072-8dcc-40f2-a244-f0f711fad085",
   "metadata": {},
   "outputs": [
    {
     "data": {
      "text/html": [
       "<div>\n",
       "<style scoped>\n",
       "    .dataframe tbody tr th:only-of-type {\n",
       "        vertical-align: middle;\n",
       "    }\n",
       "\n",
       "    .dataframe tbody tr th {\n",
       "        vertical-align: top;\n",
       "    }\n",
       "\n",
       "    .dataframe thead th {\n",
       "        text-align: right;\n",
       "    }\n",
       "</style>\n",
       "<table border=\"1\" class=\"dataframe\">\n",
       "  <thead>\n",
       "    <tr style=\"text-align: right;\">\n",
       "      <th></th>\n",
       "      <th>Repository</th>\n",
       "      <th>ID</th>\n",
       "      <th>User</th>\n",
       "      <th>CreatedAt</th>\n",
       "      <th>CountReactions</th>\n",
       "      <th>CountLike</th>\n",
       "      <th>CountDislike</th>\n",
       "      <th>Sentiment</th>\n",
       "      <th>SentimentScore</th>\n",
       "    </tr>\n",
       "  </thead>\n",
       "  <tbody>\n",
       "    <tr>\n",
       "      <th>0</th>\n",
       "      <td>[freeCodeCamp]freeCodeCamp</td>\n",
       "      <td>1</td>\n",
       "      <td>BerkeleyTrue</td>\n",
       "      <td>2014-12-24</td>\n",
       "      <td>0</td>\n",
       "      <td>0</td>\n",
       "      <td>0</td>\n",
       "      <td>NEGATIVE</td>\n",
       "      <td>0.9721</td>\n",
       "    </tr>\n",
       "    <tr>\n",
       "      <th>1</th>\n",
       "      <td>[freeCodeCamp]freeCodeCamp</td>\n",
       "      <td>1</td>\n",
       "      <td>BerkeleyTrue</td>\n",
       "      <td>2014-12-24</td>\n",
       "      <td>0</td>\n",
       "      <td>0</td>\n",
       "      <td>0</td>\n",
       "      <td>NEGATIVE</td>\n",
       "      <td>0.9990</td>\n",
       "    </tr>\n",
       "    <tr>\n",
       "      <th>2</th>\n",
       "      <td>[freeCodeCamp]freeCodeCamp</td>\n",
       "      <td>1</td>\n",
       "      <td>jonocosa</td>\n",
       "      <td>2014-12-24</td>\n",
       "      <td>0</td>\n",
       "      <td>0</td>\n",
       "      <td>0</td>\n",
       "      <td>POSITIVE</td>\n",
       "      <td>0.9945</td>\n",
       "    </tr>\n",
       "    <tr>\n",
       "      <th>3</th>\n",
       "      <td>[freeCodeCamp]freeCodeCamp</td>\n",
       "      <td>1</td>\n",
       "      <td>QuincyLarson</td>\n",
       "      <td>2014-12-24</td>\n",
       "      <td>0</td>\n",
       "      <td>0</td>\n",
       "      <td>0</td>\n",
       "      <td>NEGATIVE</td>\n",
       "      <td>0.9966</td>\n",
       "    </tr>\n",
       "    <tr>\n",
       "      <th>4</th>\n",
       "      <td>[freeCodeCamp]freeCodeCamp</td>\n",
       "      <td>1</td>\n",
       "      <td>QuincyLarson</td>\n",
       "      <td>2014-12-24</td>\n",
       "      <td>0</td>\n",
       "      <td>0</td>\n",
       "      <td>0</td>\n",
       "      <td>NEGATIVE</td>\n",
       "      <td>0.9988</td>\n",
       "    </tr>\n",
       "  </tbody>\n",
       "</table>\n",
       "</div>"
      ],
      "text/plain": [
       "                   Repository  ID          User   CreatedAt  CountReactions  \\\n",
       "0  [freeCodeCamp]freeCodeCamp   1  BerkeleyTrue  2014-12-24               0   \n",
       "1  [freeCodeCamp]freeCodeCamp   1  BerkeleyTrue  2014-12-24               0   \n",
       "2  [freeCodeCamp]freeCodeCamp   1      jonocosa  2014-12-24               0   \n",
       "3  [freeCodeCamp]freeCodeCamp   1  QuincyLarson  2014-12-24               0   \n",
       "4  [freeCodeCamp]freeCodeCamp   1  QuincyLarson  2014-12-24               0   \n",
       "\n",
       "   CountLike  CountDislike Sentiment  SentimentScore  \n",
       "0          0             0  NEGATIVE          0.9721  \n",
       "1          0             0  NEGATIVE          0.9990  \n",
       "2          0             0  POSITIVE          0.9945  \n",
       "3          0             0  NEGATIVE          0.9966  \n",
       "4          0             0  NEGATIVE          0.9988  "
      ]
     },
     "execution_count": 591,
     "metadata": {},
     "output_type": "execute_result"
    }
   ],
   "source": [
    "df_comments.head()"
   ]
  },
  {
   "cell_type": "code",
   "execution_count": 592,
   "id": "0080ed5b-2edb-4c51-b562-53fc824e3c82",
   "metadata": {},
   "outputs": [
    {
     "data": {
      "text/html": [
       "<div>\n",
       "<style scoped>\n",
       "    .dataframe tbody tr th:only-of-type {\n",
       "        vertical-align: middle;\n",
       "    }\n",
       "\n",
       "    .dataframe tbody tr th {\n",
       "        vertical-align: top;\n",
       "    }\n",
       "\n",
       "    .dataframe thead th {\n",
       "        text-align: right;\n",
       "    }\n",
       "</style>\n",
       "<table border=\"1\" class=\"dataframe\">\n",
       "  <thead>\n",
       "    <tr style=\"text-align: right;\">\n",
       "      <th></th>\n",
       "      <th>Repository</th>\n",
       "      <th>ID</th>\n",
       "      <th>User</th>\n",
       "      <th>Type</th>\n",
       "      <th>State</th>\n",
       "      <th>CommitId</th>\n",
       "      <th>CreatedAt</th>\n",
       "      <th>ClosedAt</th>\n",
       "      <th>IsMerged</th>\n",
       "      <th>CountReactions</th>\n",
       "      <th>CountLike</th>\n",
       "      <th>CountDislike</th>\n",
       "    </tr>\n",
       "  </thead>\n",
       "  <tbody>\n",
       "    <tr>\n",
       "      <th>0</th>\n",
       "      <td>[freeCodeCamp]freeCodeCamp</td>\n",
       "      <td>1</td>\n",
       "      <td>jonocosa</td>\n",
       "      <td>issue</td>\n",
       "      <td>closed</td>\n",
       "      <td>NaN</td>\n",
       "      <td>2014-12-24</td>\n",
       "      <td>2014-12-26</td>\n",
       "      <td>False</td>\n",
       "      <td>0</td>\n",
       "      <td>0</td>\n",
       "      <td>0</td>\n",
       "    </tr>\n",
       "    <tr>\n",
       "      <th>1</th>\n",
       "      <td>[freeCodeCamp]freeCodeCamp</td>\n",
       "      <td>2</td>\n",
       "      <td>BerkeleyTrue</td>\n",
       "      <td>pull</td>\n",
       "      <td>closed</td>\n",
       "      <td>4e24b90688fdf14d81b36e7f8866506f0425e6c7</td>\n",
       "      <td>2014-12-24</td>\n",
       "      <td>2014-12-27</td>\n",
       "      <td>True</td>\n",
       "      <td>0</td>\n",
       "      <td>0</td>\n",
       "      <td>0</td>\n",
       "    </tr>\n",
       "    <tr>\n",
       "      <th>2</th>\n",
       "      <td>[freeCodeCamp]freeCodeCamp</td>\n",
       "      <td>3</td>\n",
       "      <td>ghost</td>\n",
       "      <td>issue</td>\n",
       "      <td>closed</td>\n",
       "      <td>NaN</td>\n",
       "      <td>2014-12-26</td>\n",
       "      <td>2014-12-27</td>\n",
       "      <td>False</td>\n",
       "      <td>0</td>\n",
       "      <td>0</td>\n",
       "      <td>0</td>\n",
       "    </tr>\n",
       "    <tr>\n",
       "      <th>3</th>\n",
       "      <td>[freeCodeCamp]freeCodeCamp</td>\n",
       "      <td>4</td>\n",
       "      <td>brandenbyers</td>\n",
       "      <td>issue</td>\n",
       "      <td>closed</td>\n",
       "      <td>NaN</td>\n",
       "      <td>2014-12-28</td>\n",
       "      <td>2015-01-17</td>\n",
       "      <td>False</td>\n",
       "      <td>0</td>\n",
       "      <td>0</td>\n",
       "      <td>0</td>\n",
       "    </tr>\n",
       "    <tr>\n",
       "      <th>4</th>\n",
       "      <td>[freeCodeCamp]freeCodeCamp</td>\n",
       "      <td>5</td>\n",
       "      <td>QuincyLarson</td>\n",
       "      <td>pull</td>\n",
       "      <td>closed</td>\n",
       "      <td>3b7c34d442ea994d196fcaf719aaa3607503bf7c</td>\n",
       "      <td>2014-12-31</td>\n",
       "      <td>2014-12-31</td>\n",
       "      <td>True</td>\n",
       "      <td>0</td>\n",
       "      <td>0</td>\n",
       "      <td>0</td>\n",
       "    </tr>\n",
       "  </tbody>\n",
       "</table>\n",
       "</div>"
      ],
      "text/plain": [
       "                   Repository  ID          User   Type   State  \\\n",
       "0  [freeCodeCamp]freeCodeCamp   1      jonocosa  issue  closed   \n",
       "1  [freeCodeCamp]freeCodeCamp   2  BerkeleyTrue   pull  closed   \n",
       "2  [freeCodeCamp]freeCodeCamp   3         ghost  issue  closed   \n",
       "3  [freeCodeCamp]freeCodeCamp   4  brandenbyers  issue  closed   \n",
       "4  [freeCodeCamp]freeCodeCamp   5  QuincyLarson   pull  closed   \n",
       "\n",
       "                                   CommitId   CreatedAt    ClosedAt  IsMerged  \\\n",
       "0                                       NaN  2014-12-24  2014-12-26     False   \n",
       "1  4e24b90688fdf14d81b36e7f8866506f0425e6c7  2014-12-24  2014-12-27      True   \n",
       "2                                       NaN  2014-12-26  2014-12-27     False   \n",
       "3                                       NaN  2014-12-28  2015-01-17     False   \n",
       "4  3b7c34d442ea994d196fcaf719aaa3607503bf7c  2014-12-31  2014-12-31      True   \n",
       "\n",
       "   CountReactions  CountLike  CountDislike  \n",
       "0               0          0             0  \n",
       "1               0          0             0  \n",
       "2               0          0             0  \n",
       "3               0          0             0  \n",
       "4               0          0             0  "
      ]
     },
     "execution_count": 592,
     "metadata": {},
     "output_type": "execute_result"
    }
   ],
   "source": [
    "df_issues.head()"
   ]
  },
  {
   "cell_type": "code",
   "execution_count": 667,
   "id": "18d96e28-c2af-4ef8-ba19-3de0f546cb91",
   "metadata": {},
   "outputs": [],
   "source": [
    "fb_react_app = df_issues[df_issues['Repository'] == '[facebook]create-react-app']['User']"
   ]
  },
  {
   "cell_type": "code",
   "execution_count": 668,
   "id": "fc624110-83b0-4dfa-931e-00a4a0c9e39b",
   "metadata": {},
   "outputs": [
    {
     "data": {
      "text/plain": [
       "6274"
      ]
     },
     "execution_count": 669,
     "metadata": {},
     "output_type": "execute_result"
    }
   ],
   "source": [
    "len(fb_react_app.value_counts()"
   ]
  },
  {
   "cell_type": "markdown",
   "id": "91d5910d-f5b1-4898-a598-3e98c656f640",
   "metadata": {},
   "source": [
    "# all repositories"
   ]
  },
  {
   "cell_type": "code",
   "execution_count": 594,
   "id": "6a223fe4-cf09-45de-bf09-206f097426f6",
   "metadata": {},
   "outputs": [],
   "source": [
    "all_repositories = df_issues['Repository'].value_counts()"
   ]
  },
  {
   "cell_type": "code",
   "execution_count": 822,
   "id": "6d0022ab-7ced-4945-a385-013a5722bb53",
   "metadata": {},
   "outputs": [
    {
     "data": {
      "text/plain": [
       "45"
      ]
     },
     "execution_count": 822,
     "metadata": {},
     "output_type": "execute_result"
    }
   ],
   "source": [
    "len(all_repositories)"
   ]
  },
  {
   "cell_type": "code",
   "execution_count": 596,
   "id": "779ca3fa-e687-4b3b-ba64-8deef1cbaa6a",
   "metadata": {},
   "outputs": [
    {
     "data": {
      "text/plain": [
       "[freeCodeCamp]freeCodeCamp    10000\n",
       "[mrdoob]three.js              10000\n",
       "[microsoft]terminal           10000\n",
       "[angular]angular              10000\n",
       "[kubernetes]kubernetes        10000\n",
       "[nodejs]node                  10000\n",
       "[golang]go                    10000\n",
       "[ytdl-org]youtube-dl          10000\n",
       "[facebook]create-react-app    10000\n",
       "[vuejs]vue                    10000\n",
       "Name: Repository, dtype: int64"
      ]
     },
     "execution_count": 596,
     "metadata": {},
     "output_type": "execute_result"
    }
   ],
   "source": [
    "all_repositories[:10]"
   ]
  },
  {
   "cell_type": "code",
   "execution_count": 597,
   "id": "d382d209-ee42-405a-a3f0-892601ddc990",
   "metadata": {},
   "outputs": [
    {
     "data": {
      "text/plain": [
       "[CyC2018]CS-Notes                          973\n",
       "[ossu]computer-science                     960\n",
       "[labuladong]fucking-algorithm              816\n",
       "[trekhleb]javascript-algorithms            655\n",
       "[jlevy]the-art-of-command-line             566\n",
       "[codecrafters-io]build-your-own-x          528\n",
       "[torvalds]linux                            449\n",
       "[justjavac]free-programming-books-zh_CN    424\n",
       "[donnemartin]system-design-primer          343\n",
       "[jackfrued]Python-100-Days                 225\n",
       "Name: Repository, dtype: int64"
      ]
     },
     "execution_count": 597,
     "metadata": {},
     "output_type": "execute_result"
    }
   ],
   "source": [
    "all_repositories[-10:]"
   ]
  },
  {
   "cell_type": "code",
   "execution_count": 598,
   "id": "9642756e-ad0e-46d3-950f-436438ba8503",
   "metadata": {},
   "outputs": [],
   "source": [
    "# check_reps_full = ['[freeCodeCamp]freeCodeCamp','[mrdoob]three.js','[microsoft]terminal','[angular]angular','[kubernetes]kubernetes','[nodejs]node','[golang]go','[ytdl-org]youtube-dl','[facebook]create-react-app','[vuejs]vue']\n",
    "check_reps_test = ['[freeCodeCamp]freeCodeCamp','[microsoft]terminal']"
   ]
  },
  {
   "cell_type": "code",
   "execution_count": 749,
   "id": "18ef1046-da78-440b-a2a6-b481e163a5ee",
   "metadata": {},
   "outputs": [],
   "source": [
    "first_10 = ['[freeCodeCamp]freeCodeCamp','[mrdoob]three.js','[microsoft]terminal','[angular]angular','[kubernetes]kubernetes','[nodejs]node','[golang]go','[ytdl-org]youtube-dl','[facebook]create-react-app','[vuejs]vue']\n",
    "last_10 = ['[CyC2018]CS-Notes','[ossu]computer-science','[labuladong]fucking-algorithm','[trekhleb]javascript-algorithms','[jlevy]the-art-of-command-line','[codecrafters-io]build-your-own-x','[torvalds]linux','[justjavac]free-programming-books-zh_CN','[donnemartin]system-design-primer','[jackfrued]Python-100-Days']"
   ]
  },
  {
   "cell_type": "code",
   "execution_count": 750,
   "id": "779ca3f5-269b-4058-b0ee-bbb371dd3f03",
   "metadata": {},
   "outputs": [],
   "source": [
    "# df = last_10.copy()\n",
    "# size = len(df)-1\n",
    "# for i in range(0,size//2):\n",
    "#     tmp = df[i]\n",
    "#     df[i] = df[size-i]\n",
    "#     df[size-i] = tmp\n",
    "# last_10 = df.copy()"
   ]
  },
  {
   "cell_type": "code",
   "execution_count": 751,
   "id": "3a100e85-ccc6-4b19-b9fe-2e5d246142ac",
   "metadata": {},
   "outputs": [],
   "source": [
    "# last_10"
   ]
  },
  {
   "cell_type": "code",
   "execution_count": 752,
   "id": "0f9c7853-bda2-4337-95f4-1a6a7ccab741",
   "metadata": {},
   "outputs": [],
   "source": [
    "check_reps_full = first_10 + last_10"
   ]
  },
  {
   "cell_type": "code",
   "execution_count": 603,
   "id": "ad13d98f-d2d5-4211-901f-e4da6fc13afc",
   "metadata": {},
   "outputs": [],
   "source": [
    "def get_rep_info(rep_comments, rep_issues):    \n",
    "    # display(rep_comments.head())\n",
    "    # display(rep_issues.head())\n",
    "    print(\"rep_comments\")\n",
    "    display(rep_comments['ID'].value_counts())\n",
    "    print(\"rep_issues\")\n",
    "    display(rep_issues['ID'].value_counts())\n",
    "    \n",
    "    print(\"in \",repository,\" we have len(ID) = \", end=\"\")\n",
    "    print(len(rep_comments['ID'].value_counts()))\n",
    "    print(\"in \",repository,\" pr/i we have len(ID) = \", end=\"\")\n",
    "    print(len(rep_issues['ID'].value_counts()))\n",
    "\n",
    "    print(\"Max task id\", max(rep_issues['ID'].values))"
   ]
  },
  {
   "cell_type": "code",
   "execution_count": 604,
   "id": "67775b06-487d-4193-8d41-9845ee7714bf",
   "metadata": {},
   "outputs": [],
   "source": [
    "def get_users_network_df(repository):\n",
    "    \"\"\"\n",
    "        For given repository return all network of users\n",
    "    \"\"\"\n",
    "    \n",
    "    rep_comments = df_comments[df_comments['Repository'] == repository]\n",
    "    rep_issues = df_issues[df_issues['Repository'] == repository]\n",
    "    \n",
    "    get_rep_info(rep_comments, rep_issues)\n",
    "\n",
    "    # get all users from comments\n",
    "    df_three_users_c = rep_comments.copy()\n",
    "    to_drop = ['Repository', 'CreatedAt', 'CountReactions', 'CountLike', 'CountDislike', 'Sentiment', 'SentimentScore']\n",
    "    df_three_users_c = df_three_users_c.drop(columns = to_drop)\n",
    "\n",
    "    # get all tasks from pr/issue\n",
    "    df_three_users_ac = rep_issues.copy()\n",
    "    to_drop = ['Repository', 'Type', 'State', 'CommitId', 'CreatedAt', 'ClosedAt', 'IsMerged', 'CountReactions', 'CountLike', 'CountDislike']\n",
    "    df_three_users_ac = df_three_users_ac.drop(columns = to_drop)\n",
    "\n",
    "    frames = [df_three_users_ac, df_three_users_c]\n",
    "    df_three_users_merged = pd.concat(frames)\n",
    "    df_three_users_merged = df_three_users_merged.sort_values(by='ID', ascending = True)\n",
    "    df_three_users_merged_no_dupl = df_three_users_merged.drop_duplicates()\n",
    "    # display(df_three_users_merged_no_dupl.head(10))\n",
    "    # print(\"get graph func finished\")\n",
    "    \n",
    "    return df_three_users_merged_no_dupl\n"
   ]
  },
  {
   "cell_type": "markdown",
   "id": "b3ca44eb-69fc-4a67-aab3-c6c96361bda1",
   "metadata": {},
   "source": [
    "# networkx"
   ]
  },
  {
   "cell_type": "code",
   "execution_count": 605,
   "id": "4d802f55-683f-4910-a8b3-88dfeb45f4d5",
   "metadata": {},
   "outputs": [],
   "source": [
    "def prepare_data(nb_links, df):\n",
    "    \"\"\" \n",
    "    nb_links = 0 will proceed all data\n",
    "    nb_links != will take a part of data\n",
    "    \"\"\"\n",
    "    # nb_links = 14\n",
    "    if nb_links != 0:\n",
    "        df_tmp = df[:nb_links]\n",
    "    else:\n",
    "        df_tmp = df\n",
    "        nb_links = len(df)\n",
    "        \n",
    "    id_pri = list(df_tmp[\"ID\"].unique())\n",
    "    id_user = list(df_tmp[\"User\"].unique())\n",
    "    size = range(0, nb_links)\n",
    "\n",
    "    edge_list = []\n",
    "    for i in size:\n",
    "        left = df_tmp['ID'].iloc[i]\n",
    "        right = df_tmp['User'].iloc[i]\n",
    "        pair = (left, right)\n",
    "        edge_list.append(pair)\n",
    "    return id_pri, id_user, edge_list"
   ]
  },
  {
   "cell_type": "code",
   "execution_count": 606,
   "id": "e8cec019-a590-4753-af42-b9abc3f6d8f2",
   "metadata": {},
   "outputs": [],
   "source": [
    "def get_bipartite_graph(id_pri, id_user, edge_list):\n",
    "    B = nx.Graph()\n",
    "    B.add_nodes_from(id_pri, node_type = \"PRI\", bipartite = 0)\n",
    "    B.add_nodes_from(id_user, node_type = \"User\", bipartite = 1)\n",
    "    B.add_edges_from(edge_list)\n",
    "    return B"
   ]
  },
  {
   "cell_type": "code",
   "execution_count": 607,
   "id": "deacb8d4-ddde-4dde-a49e-7cd93c460bc7",
   "metadata": {},
   "outputs": [],
   "source": [
    "def get_graph_for_repository(repository):\n",
    "    print(\"working on \",repository,\"repository\")\n",
    "    users_network_df = get_users_network_df(repository)\n",
    "    id_pri, id_user, edge_list = prepare_data(0, users_network_df)\n",
    "\n",
    "    # Bipartite graph\n",
    "    B = get_bipartite_graph(id_pri, id_user, edge_list)\n",
    "    bipartite.is_bipartite(B)\n",
    "\n",
    "    # Projection on user\n",
    "    G_users = bipartite.weighted_projected_graph(B, id_user)\n",
    "\n",
    "    # save_graph(B, repository+'_graph_full')\n",
    "    save_graph(G_users, repository+'_graph_users')"
   ]
  },
  {
   "cell_type": "code",
   "execution_count": 608,
   "id": "b97bfea6-894d-4cc5-b6e7-faf089d63c77",
   "metadata": {},
   "outputs": [],
   "source": [
    "# # create gephi graphs\n",
    "# for repository in check_reps_full:\n",
    "# # for repository in check_reps_test:\n",
    "#     get_graph_for_repository(repository)"
   ]
  },
  {
   "cell_type": "code",
   "execution_count": 609,
   "id": "e8d0a993-960f-40c7-915f-143314cd5921",
   "metadata": {},
   "outputs": [],
   "source": [
    "def get_graphs(list_repositories):\n",
    "    G_users_all = list()\n",
    "    repositories = list()\n",
    "\n",
    "    for repository in list_repositories:\n",
    "        repositories.append(repository)\n",
    "        users_network_df = get_users_network_df(repository)\n",
    "        id_pri, id_user, edge_list = prepare_data(0, users_network_df)\n",
    "\n",
    "        # Bipartite graph\n",
    "        B = get_bipartite_graph(id_pri, id_user, edge_list)\n",
    "        bipartite.is_bipartite(B)\n",
    "\n",
    "        # Projection on user\n",
    "        G_users = bipartite.weighted_projected_graph(B, id_user)\n",
    "        print(\"saving graph for\",repository,\"repository\")\n",
    "        # save_graph(B, repository+'_graph_full')\n",
    "        save_graph(G_users, repository+'_graph_users')\n",
    "        G_users_all.append(G_users)\n",
    "    return G_users_all"
   ]
  },
  {
   "cell_type": "code",
   "execution_count": 755,
   "id": "deda4bb9-4e3a-4c28-a0cd-23bfb4697ec3",
   "metadata": {},
   "outputs": [
    {
     "name": "stdout",
     "output_type": "stream",
     "text": [
      "saving graph for [freeCodeCamp]freeCodeCamp repository\n",
      "saving graph for [mrdoob]three.js repository\n",
      "saving graph for [microsoft]terminal repository\n",
      "saving graph for [angular]angular repository\n",
      "saving graph for [kubernetes]kubernetes repository\n",
      "saving graph for [nodejs]node repository\n",
      "saving graph for [golang]go repository\n",
      "saving graph for [ytdl-org]youtube-dl repository\n",
      "saving graph for [facebook]create-react-app repository\n",
      "saving graph for [vuejs]vue repository\n"
     ]
    }
   ],
   "source": [
    "G_first_10 = get_graphs(first_10)"
   ]
  },
  {
   "cell_type": "code",
   "execution_count": 756,
   "id": "6a789edf-4233-4d9b-a8a4-e3a41b9ac297",
   "metadata": {},
   "outputs": [
    {
     "name": "stdout",
     "output_type": "stream",
     "text": [
      "saving graph for [CyC2018]CS-Notes repository\n",
      "saving graph for [ossu]computer-science repository\n",
      "saving graph for [labuladong]fucking-algorithm repository\n",
      "saving graph for [trekhleb]javascript-algorithms repository\n",
      "saving graph for [jlevy]the-art-of-command-line repository\n",
      "saving graph for [codecrafters-io]build-your-own-x repository\n",
      "saving graph for [torvalds]linux repository\n",
      "saving graph for [justjavac]free-programming-books-zh_CN repository\n",
      "saving graph for [donnemartin]system-design-primer repository\n",
      "saving graph for [jackfrued]Python-100-Days repository\n"
     ]
    }
   ],
   "source": [
    "G_last_10 = get_graphs(last_10)"
   ]
  },
  {
   "cell_type": "code",
   "execution_count": 757,
   "id": "d959e25b-2812-465e-aaad-4cecb28f899a",
   "metadata": {},
   "outputs": [],
   "source": [
    "G_all_users = G_first_10 + G_last_10"
   ]
  },
  {
   "cell_type": "code",
   "execution_count": 758,
   "id": "bc6ce17f-ba26-4dfd-b10b-e3521dc5cdf9",
   "metadata": {},
   "outputs": [
    {
     "data": {
      "text/plain": [
       "20"
      ]
     },
     "execution_count": 758,
     "metadata": {},
     "output_type": "execute_result"
    }
   ],
   "source": [
    " len(G_all_users)"
   ]
  },
  {
   "cell_type": "markdown",
   "id": "943b3c56-a112-4c67-91de-7e047596f325",
   "metadata": {},
   "source": [
    "# Cumulative Distribution"
   ]
  },
  {
   "cell_type": "code",
   "execution_count": 759,
   "id": "a298b176-a19d-4f19-a055-5e315e265465",
   "metadata": {},
   "outputs": [],
   "source": [
    "import matplotlib.pyplot as plt\n",
    "\n",
    "# Set the background color of the figure to white\n",
    "plt.style.use('default')\n",
    "plt.style.use({'figure.facecolor':'white'})\n",
    "# plt.grid(color='blue', linestyle='--', linewidth=0.5)\n",
    "# plt.show()"
   ]
  },
  {
   "cell_type": "code",
   "execution_count": 745,
   "id": "40950534-6a07-46da-9598-9e30d9be203f",
   "metadata": {},
   "outputs": [],
   "source": [
    "def plot_degree_c_dist(G_users_all, repositories, title_text):\n",
    "\n",
    "    # NUM_COLORS = len(G_users_all)\n",
    "    # cm = plt.get_cmap('gist_rainbow')\n",
    "    # fig, ax = plt.subplots(figsize=(12, 12))\n",
    "    fig, ax = plt.subplots(figsize=(12, 12))\n",
    "\n",
    "    labels = repositories\n",
    "    # colors = [ 'black', 'darkblue', 'blue', 'lightblue', 'lightgreen', 'Orange',\n",
    "    #           'darkgreen', 'yellow', 'lightyellow', 'brown', ]\n",
    "    index = 0\n",
    "    maxx = 0\n",
    "    # ax.set_prop_cycle(color=[cm(1.*i/NUM_COLORS) for i in range(NUM_COLORS,NUM_COLORS*2)])\n",
    "    \n",
    "    for G_users in G_users_all:\n",
    "        # Create an example graph\n",
    "        G = G_users\n",
    "        # Calculate the degree histogram\n",
    "        deg_hist = nx.degree_histogram(G)\n",
    "        if max(deg_hist) > maxx:\n",
    "            maxx = max(deg_hist)\n",
    "        # Calculate the cumulative distribution\n",
    "        \n",
    "        cumulative_dist = [sum(deg_hist[:i+1]) for i in range(len(deg_hist))]\n",
    "        if max(cumulative_dist) > maxx:\n",
    "            maxx = max(cumulative_dist)\n",
    "       \n",
    "        # Plot the cumulative distribution\n",
    "        plt.plot(cumulative_dist,'-', label=labels[index]) #, \n",
    "                 # color = colors[index]) \n",
    "        \n",
    "        # plt.loglog(range(len(in_degree_freq)), in_degree_freq, 'go-', label=labels[index], color = colors[index]) \n",
    "        index = index + 1\n",
    "    \n",
    "    start = maxx//28\n",
    "    finish = maxx//10\n",
    "    plt.xlim(-start, maxx+finish)\n",
    "    plt.ylim(-start, maxx+finish)\n",
    "    # ax.set_aspect(1) # x = y\n",
    "    ax.grid(True)\n",
    "\n",
    "    plt.legend(labels, loc=\"lower right\")\n",
    "    # plt.legend()\n",
    "    \n",
    "    #degree ditribution\n",
    "    full_title = 'Cumulative step histograms for ' + title_text + ' repositories'\n",
    "    plt.title(full_title)\n",
    "    plt.xlabel('Degree')\n",
    "    plt.ylabel('Frequency')\n",
    "    plt.show()\n",
    "    save_fig(fig, full_title)\n",
    "    "
   ]
  },
  {
   "cell_type": "code",
   "execution_count": 869,
   "id": "747ae888-f392-4933-93f6-fdefd9e76ea1",
   "metadata": {},
   "outputs": [
    {
     "data": {
      "image/png": "[encoded data removed]",
      "text/plain": [
       "<Figure size 1200x1200 with 1 Axes>"
      ]
     },
     "metadata": {},
     "output_type": "display_data"
    }
   ],
   "source": [
    "title = 'first 10'\n",
    "plot_degree_c_dist(G_users_all, first_10, title)"
   ]
  },
  {
   "cell_type": "code",
   "execution_count": 712,
   "id": "fb2b34fc-2d15-4b4e-91f2-7fa59f54e67d",
   "metadata": {},
   "outputs": [],
   "source": [
    "# degree / nb teams\n",
    "# 1000 - 10/10\n",
    "# 2000 - 7/10\n",
    "# 4000 - 5/10\n",
    "# 5000 - 3/10\n",
    "# 6000 - 2/10"
   ]
  },
  {
   "cell_type": "code",
   "execution_count": 761,
   "id": "3c096054-341c-4758-8671-70c1e4dbf912",
   "metadata": {},
   "outputs": [
    {
     "data": {
      "image/png": "[encoded data removed]",
      "text/plain": [
       "<Figure size 1200x1200 with 1 Axes>"
      ]
     },
     "metadata": {},
     "output_type": "display_data"
    }
   ],
   "source": [
    "plot_degree_c_dist(G_last_10, last_10, 'last 10')"
   ]
  },
  {
   "cell_type": "code",
   "execution_count": 762,
   "id": "eab1ce9f-f755-432e-81ea-8cd6b7dccea0",
   "metadata": {},
   "outputs": [
    {
     "data": {
      "image/png": "[encoded data removed]",
      "text/plain": [
       "<Figure size 1200x1200 with 1 Axes>"
      ]
     },
     "metadata": {},
     "output_type": "display_data"
    }
   ],
   "source": [
    "plot_degree_c_dist(G_all_users, check_reps_full, 'top +-10')"
   ]
  },
  {
   "cell_type": "code",
   "execution_count": 863,
   "id": "c8350343-f7ed-49b2-ae27-e137a2f8e374",
   "metadata": {},
   "outputs": [],
   "source": [
    "# log-test"
   ]
  },
  {
   "cell_type": "code",
   "execution_count": 866,
   "id": "2f158075-bd38-43b9-8adb-4306e764345f",
   "metadata": {},
   "outputs": [],
   "source": [
    "def plot_degree_c_log_dist(G_users_all, repositories, title_text):\n",
    "\n",
    "    # NUM_COLORS = len(G_users_all)\n",
    "    # cm = plt.get_cmap('gist_rainbow')\n",
    "    # fig, ax = plt.subplots(figsize=(12, 12))\n",
    "    fig, ax = plt.subplots(figsize=(12, 12))\n",
    "\n",
    "    labels = repositories\n",
    "    # colors = [ 'black', 'darkblue', 'blue', 'lightblue', 'lightgreen', 'Orange',\n",
    "    #           'darkgreen', 'yellow', 'lightyellow', 'brown', ]\n",
    "    index = 0\n",
    "    maxx = 0\n",
    "    # ax.set_prop_cycle(color=[cm(1.*i/NUM_COLORS) for i in range(NUM_COLORS,NUM_COLORS*2)])\n",
    "    \n",
    "    for G_users in G_users_all:\n",
    "        # Create an example graph\n",
    "        G = G_users\n",
    "        # Calculate the degree histogram\n",
    "        deg_hist = nx.degree_histogram(G)\n",
    "        if max(deg_hist) > maxx:\n",
    "            maxx = max(deg_hist)\n",
    "        # Calculate the cumulative distribution\n",
    "        \n",
    "        cumulative_dist = [sum(deg_hist[:i+1]) for i in range(len(deg_hist))]\n",
    "        if max(cumulative_dist) > maxx:\n",
    "            maxx = max(cumulative_dist)\n",
    "       \n",
    "        # Plot the cumulative distribution\n",
    "        plt.loglog(range(len(cumulative_dist)), cumulative_dist, '-', label=labels[index])\n",
    "\n",
    "        # plt.plot(cumulative_dist,'-', label=labels[index]) #, \n",
    "                 # color = colors[index]) \n",
    "        \n",
    "        # plt.loglog(range(len(in_degree_freq)), in_degree_freq, 'go-', label=labels[index], color = colors[index]) \n",
    "        index = index + 1\n",
    "    \n",
    "    start = maxx//28\n",
    "    finish = maxx//10\n",
    "    plt.xlim(-start, maxx+finish)\n",
    "    plt.ylim(-start, maxx+finish)\n",
    "    # ax.set_aspect(1) # x = y\n",
    "    ax.grid(True)\n",
    "\n",
    "    plt.legend(labels, loc=\"lower right\")\n",
    "    # plt.legend()\n",
    "    \n",
    "    #degree ditribution\n",
    "    full_title = 'Cumulative step histograms for ' + title_text + ' repositories'\n",
    "    plt.title(full_title)\n",
    "    plt.xlabel('Degree')\n",
    "    plt.ylabel('Frequency')\n",
    "    plt.show()\n",
    "    save_fig(fig, full_title)\n",
    "    "
   ]
  },
  {
   "cell_type": "code",
   "execution_count": 868,
   "id": "95afb8a9-a3ee-4dc9-a08f-e6322cf62d0c",
   "metadata": {},
   "outputs": [
    {
     "name": "stderr",
     "output_type": "stream",
     "text": [
      "/var/folders/zy/0n165qy96vxgpv3m2z9_5tf00000gn/T/ipykernel_9634/4244791501.py:39: UserWarning: Attempt to set non-positive xlim on a log-scaled axis will be ignored.\n",
      "  plt.xlim(-start, maxx+finish)\n",
      "/var/folders/zy/0n165qy96vxgpv3m2z9_5tf00000gn/T/ipykernel_9634/4244791501.py:40: UserWarning: Attempt to set non-positive ylim on a log-scaled axis will be ignored.\n",
      "  plt.ylim(-start, maxx+finish)\n"
     ]
    },
    {
     "data": {
      "image/png": "[encoded data removed]",
      "text/plain": [
       "<Figure size 1200x1200 with 1 Axes>"
      ]
     },
     "metadata": {},
     "output_type": "display_data"
    }
   ],
   "source": [
    "title = 'log first 10'\n",
    "plot_degree_c_log_dist(G_users_all, first_10, title)"
   ]
  },
  {
   "cell_type": "code",
   "execution_count": null,
   "id": "80ee1585-f8fc-4462-b3bd-4584861ebc0f",
   "metadata": {},
   "outputs": [],
   "source": []
  },
  {
   "cell_type": "code",
   "execution_count": null,
   "id": "6862e314-df6d-46cf-aaa2-2084a518bfb1",
   "metadata": {},
   "outputs": [],
   "source": [
    "# visualisation of diff commmunities"
   ]
  },
  {
   "cell_type": "code",
   "execution_count": null,
   "id": "65bc63ae-0c03-4f0d-afee-5d2cb7e592ed",
   "metadata": {},
   "outputs": [],
   "source": [
    "#todo: network analysys corness, k-core"
   ]
  },
  {
   "cell_type": "code",
   "execution_count": null,
   "id": "cdf32ba1-0751-444d-883e-a58dd4c78140",
   "metadata": {},
   "outputs": [],
   "source": [
    "# explane with data handling"
   ]
  },
  {
   "cell_type": "code",
   "execution_count": null,
   "id": "af2e92cf-960c-480e-8442-6d547059a8ad",
   "metadata": {},
   "outputs": [],
   "source": [
    "# interpritation (+perspective)\n",
    "# new way to work\n",
    "# limits/perspectivs\n",
    "# ethics aspect (boss fired person / best use)"
   ]
  },
  {
   "cell_type": "code",
   "execution_count": null,
   "id": "be44fbb4-de1f-4afb-ba4a-933954e9a0e2",
   "metadata": {},
   "outputs": [],
   "source": []
  },
  {
   "cell_type": "code",
   "execution_count": null,
   "id": "2ba96439-0721-4cbd-85a8-9007bda8ada8",
   "metadata": {},
   "outputs": [],
   "source": []
  },
  {
   "cell_type": "code",
   "execution_count": null,
   "id": "02c3d268-b2ca-4991-994c-7fdcbf8c5181",
   "metadata": {},
   "outputs": [],
   "source": []
  },
  {
   "cell_type": "code",
   "execution_count": null,
   "id": "d641d8ef-7747-4645-b6f4-3eb0fee8f013",
   "metadata": {},
   "outputs": [],
   "source": []
  },
  {
   "cell_type": "code",
   "execution_count": null,
   "id": "a1040f47-9a26-443e-aab6-a2bec04f7d0e",
   "metadata": {},
   "outputs": [],
   "source": []
  },
  {
   "cell_type": "code",
   "execution_count": null,
   "id": "755d2d91-a153-4fd8-9943-7f444e59ef46",
   "metadata": {},
   "outputs": [],
   "source": []
  },
  {
   "cell_type": "code",
   "execution_count": null,
   "id": "91e7292f-95e0-491e-bc3a-28c3c0159e98",
   "metadata": {},
   "outputs": [],
   "source": []
  },
  {
   "cell_type": "code",
   "execution_count": null,
   "id": "133edac1-f7d5-49ea-86c4-f23805327972",
   "metadata": {},
   "outputs": [],
   "source": []
  },
  {
   "cell_type": "code",
   "execution_count": null,
   "id": "4aacd318-b1fd-4660-b199-6e55fc46a12d",
   "metadata": {},
   "outputs": [],
   "source": []
  },
  {
   "cell_type": "code",
   "execution_count": null,
   "id": "73a05977-b407-4970-a6b1-8311b45fdc06",
   "metadata": {},
   "outputs": [],
   "source": []
  },
  {
   "cell_type": "code",
   "execution_count": null,
   "id": "9e88ea03-83a7-4210-9f15-798f0ff4f7a4",
   "metadata": {},
   "outputs": [],
   "source": []
  },
  {
   "cell_type": "code",
   "execution_count": null,
   "id": "a46a273f-ec14-49a8-a900-8be1d8c1e64e",
   "metadata": {},
   "outputs": [],
   "source": []
  },
  {
   "cell_type": "code",
   "execution_count": null,
   "id": "fddb2648-55cb-4d1f-a356-4f416ba4d198",
   "metadata": {},
   "outputs": [],
   "source": []
  },
  {
   "cell_type": "code",
   "execution_count": null,
   "id": "31965631-f62f-4e61-90ea-535363b53cc7",
   "metadata": {},
   "outputs": [],
   "source": []
  },
  {
   "cell_type": "code",
   "execution_count": 114,
   "id": "8d26ff60-2637-45b2-8b55-afd1e4882c17",
   "metadata": {},
   "outputs": [],
   "source": [
    "# todo: change color for bipartite graph"
   ]
  },
  {
   "cell_type": "markdown",
   "id": "9bf464fc-b8dc-4b6d-82df-a4bd67886893",
   "metadata": {},
   "source": [
    "# Example on 14"
   ]
  },
  {
   "cell_type": "code",
   "execution_count": 775,
   "id": "9c918e8f-b07e-4763-911d-48e8f4b59b09",
   "metadata": {},
   "outputs": [],
   "source": [
    "repository_threejs = '[mrdoob]three.js'"
   ]
  },
  {
   "cell_type": "code",
   "execution_count": 852,
   "id": "d6d59e8b-54d7-494e-a5fe-14d283533dfb",
   "metadata": {},
   "outputs": [
    {
     "data": {
      "text/plain": [
       "mrdoob             7257\n",
       "WestLangley        2270\n",
       "alteredq            885\n",
       "Mugen87             645\n",
       "bhouston            638\n",
       "                   ... \n",
       "bafla13               1\n",
       "MrSparkle-zz          1\n",
       "BlueMockingbird       1\n",
       "trousers              1\n",
       "Jude-Austin           1\n",
       "Name: User, Length: 5165, dtype: int64"
      ]
     },
     "execution_count": 852,
     "metadata": {},
     "output_type": "execute_result"
    }
   ],
   "source": [
    "users_network_df['User'].value_counts()"
   ]
  },
  {
   "cell_type": "code",
   "execution_count": 776,
   "id": "e914891f-12da-4abe-a850-93b978f47951",
   "metadata": {},
   "outputs": [],
   "source": [
    "users_network_df = get_users_network_df(repository_threejs)\n",
    "id_pri, id_user, edge_list = prepare_data(14, users_network_df)"
   ]
  },
  {
   "cell_type": "markdown",
   "id": "50266df8-c1be-47ec-9171-445264768e4b",
   "metadata": {},
   "source": [
    "## Bipartite graph"
   ]
  },
  {
   "cell_type": "code",
   "execution_count": 777,
   "id": "6b2d981f-eafc-4e07-84db-13168daa853a",
   "metadata": {},
   "outputs": [],
   "source": [
    "# Create a bipartite graph\n",
    "B = nx.Graph()\n",
    "B.add_nodes_from(id_pri, node_type = \"PRI\", bipartite = 0)\n",
    "B.add_nodes_from(id_user, node_type = \"User\", bipartite = 1)\n",
    "B.add_edges_from(edge_list)"
   ]
  },
  {
   "cell_type": "code",
   "execution_count": 778,
   "id": "2104a7ee-9b9a-4a15-aa29-d69cca1e078d",
   "metadata": {},
   "outputs": [
    {
     "data": {
      "text/plain": [
       "True"
      ]
     },
     "execution_count": 778,
     "metadata": {},
     "output_type": "execute_result"
    }
   ],
   "source": [
    "bipartite.is_bipartite(B)"
   ]
  },
  {
   "cell_type": "code",
   "execution_count": 856,
   "id": "a3fd5da8-fd7d-4350-90df-a2b9d4c7a7e2",
   "metadata": {},
   "outputs": [
    {
     "data": {
      "image/png": "[encoded data removed]",
      "text/plain": [
       "<Figure size 900x900 with 1 Axes>"
      ]
     },
     "metadata": {},
     "output_type": "display_data"
    }
   ],
   "source": [
    "# # Get the sets of nodes\n",
    "# left_nodes_pri, right_nodes_user = nx.bipartite.sets(B)\n",
    "\n",
    "# # horisontal - 0/index #vertical - index/0\n",
    "\n",
    "# # Draw the graph\n",
    "# pos = dict()\n",
    "# pos.update((node, (0, index)) for index, node in enumerate(left_nodes_pri))\n",
    "# pos.update((node, (1, index)) for index, node in enumerate(right_nodes_user))\n",
    "# nx.draw(B, pos=pos, with_labels=True)\n",
    "\n",
    "# # Show the plot\n",
    "# plt.show()\n",
    "plt.figure(figsize=(9, 9))\n",
    "\n",
    "# Get the sets of nodes\n",
    "left_nodes_pri, right_nodes_user = nx.bipartite.sets(B)\n",
    "\n",
    "# Define colors for the two types of nodes\n",
    "pri_colors = ['green' for node in left_nodes_pri]\n",
    "user_colors = ['lightblue' for node in right_nodes_user]\n",
    "\n",
    "# Define positions for the nodes\n",
    "pos = dict()\n",
    "pos.update((node, (0, index)) for index, node in enumerate(left_nodes_pri))\n",
    "pos.update((node, (1, index)) for index, node in enumerate(right_nodes_user))\n",
    "\n",
    "# Create a dictionary to map each node to its label\n",
    "labels = dict()\n",
    "for i,node in enumerate(left_nodes_pri):\n",
    "    labels[node] = id_pri[i]\n",
    "for i,node in enumerate(right_nodes_user):\n",
    "    labels[node] = id_user[i]\n",
    "\n",
    "# Draw the nodes separately, using the appropriate colors and labels\n",
    "nx.draw_networkx_nodes(B, pos, nodelist=left_nodes_pri, node_color=pri_colors, node_size=200)\n",
    "nx.draw_networkx_nodes(B, pos, nodelist=right_nodes_user, node_color=user_colors, node_size=200)\n",
    "\n",
    "# Draw the edges\n",
    "nx.draw_networkx_edges(B, pos, width=1.0, alpha=0.5)\n",
    "\n",
    "# Add the labels to the nodes\n",
    "nx.draw_networkx_labels(B, pos, labels)\n",
    "\n",
    "# Add a legend\n",
    "# plt.legend(['PRI','User'], loc='upper left')\n",
    "legend_elements = [Patch(facecolor='green', edgecolor='green', label='PRI'),\n",
    "                   Patch(facecolor='lightblue', edgecolor='lightblue', label='Users')]\n",
    "plt.legend(handles=legend_elements, bbox_to_anchor=(0, 1), loc='upper left')\n",
    "\n",
    "graph_name = 'Bipartite graph example on ' + repository_threejs + 'repository'\n",
    "plt.title(graph_name)\n",
    "\n",
    "# plt.show()\n",
    "save_graph_pic(plt, repository_threejs + '- bipartite graph')"
   ]
  },
  {
   "cell_type": "markdown",
   "id": "41203c2b-37f6-4640-a40a-3f6d4fa78ef4",
   "metadata": {},
   "source": [
    "## Full graph"
   ]
  },
  {
   "cell_type": "code",
   "execution_count": 855,
   "id": "cb05ff2c-5643-40c1-a13e-0644a1d2188d",
   "metadata": {},
   "outputs": [
    {
     "data": {
      "image/png": "[encoded data removed]",
      "text/plain": [
       "<Figure size 640x480 with 1 Axes>"
      ]
     },
     "metadata": {},
     "output_type": "display_data"
    }
   ],
   "source": [
    "from networkx.algorithms import bipartite\n",
    "# nx.draw(B, with_labels=True)\n",
    "\n",
    "labels = [\"Users\", \"PRI\"]\n",
    "users, pri = bipartite.sets(B)\n",
    "colors = ['green' if node in users else 'lightblue' for node in B.nodes()]\n",
    "nx.draw(B, with_labels=True, node_color=colors)\n",
    "# plt.legend(labels, bbox_to_anchor=(1, 1), loc='upper left')\n",
    "from matplotlib.patches import Patch\n",
    "\n",
    "legend_elements = [Patch(facecolor='green', edgecolor='green', label='PRI'),\n",
    "                   Patch(facecolor='lightblue', edgecolor='lightblue', label='Users')]\n",
    "plt.legend(handles=legend_elements, bbox_to_anchor=(0, 1), loc='upper left')\n",
    "\n",
    "\n",
    "graph_name = 'Full graph example on ' + repository_threejs + 'repository'\n",
    "plt.title(graph_name)\n",
    "# plt.show()\n",
    "\n",
    "save_graph_pic(plt, repository_threejs + '- full graph')"
   ]
  },
  {
   "cell_type": "markdown",
   "id": "c0019cdb-349f-4f65-b92a-bccd67e6fbd8",
   "metadata": {
    "tags": []
   },
   "source": [
    "### Projection on users"
   ]
  },
  {
   "cell_type": "code",
   "execution_count": 858,
   "id": "174bf192-8064-4fc0-93bd-b81ffa0c26fd",
   "metadata": {},
   "outputs": [
    {
     "data": {
      "image/png": "[encoded data removed]",
      "text/plain": [
       "<Figure size 640x480 with 1 Axes>"
      ]
     },
     "metadata": {},
     "output_type": "display_data"
    }
   ],
   "source": [
    "G = bipartite.projected_graph(B, id_user)\n",
    "nx.draw(G, with_labels=True,node_color='lightblue')\n",
    "\n",
    "legend_elements = [Patch(facecolor='lightblue', edgecolor='lightblue', label='Users')]\n",
    "plt.legend(handles=legend_elements, bbox_to_anchor=(0, 1), loc='upper left')\n",
    "\n",
    "graph_name = 'Projection on users, example on ' + repository_threejs + 'repository'\n",
    "plt.title(graph_name)\n",
    "\n",
    "save_graph_pic(plt, repository_threejs + '- projection on users')\n",
    "# list(G.edges())"
   ]
  },
  {
   "cell_type": "markdown",
   "id": "f2df149f-0774-4b5b-884a-ae78de72c861",
   "metadata": {},
   "source": [
    "### Projection on tasks/comments"
   ]
  },
  {
   "cell_type": "code",
   "execution_count": 108,
   "id": "104295f5-3357-4d07-a1c5-a27852ffdaf7",
   "metadata": {},
   "outputs": [
    {
     "data": {
      "image/png": "[encoded data removed]",
      "text/plain": [
       "<Figure size 640x480 with 1 Axes>"
      ]
     },
     "metadata": {},
     "output_type": "display_data"
    }
   ],
   "source": [
    "G = bipartite.projected_graph(B, id_pri)\n",
    "nx.draw(G, with_labels=True)\n",
    "# list(G.edges())"
   ]
  },
  {
   "cell_type": "markdown",
   "id": "b012ed3f-7608-40fe-acbb-35adc1fbfcbb",
   "metadata": {},
   "source": [
    "# Full data"
   ]
  },
  {
   "cell_type": "code",
   "execution_count": null,
   "id": "4999b163-ada6-4fe2-8dff-bc3a20202288",
   "metadata": {},
   "outputs": [],
   "source": []
  },
  {
   "cell_type": "code",
   "execution_count": 424,
   "id": "2ace0528-f17f-4aec-8085-799619f5c4c0",
   "metadata": {},
   "outputs": [],
   "source": [
    "df_tmp = users_network_df"
   ]
  },
  {
   "cell_type": "code",
   "execution_count": 425,
   "id": "08f1a50f-5630-42c1-8763-38f600bd9ed4",
   "metadata": {},
   "outputs": [],
   "source": [
    "id_pri = list(df_tmp[\"ID\"].unique())\n",
    "id_user = list(df_tmp[\"User\"].unique())\n",
    "nb_links = len(df_tmp)"
   ]
  },
  {
   "cell_type": "code",
   "execution_count": 426,
   "id": "b470b3c9-6637-4f23-9d4c-a770ec3424e1",
   "metadata": {},
   "outputs": [
    {
     "data": {
      "text/plain": [
       "27548"
      ]
     },
     "execution_count": 426,
     "metadata": {},
     "output_type": "execute_result"
    }
   ],
   "source": [
    "nb_links"
   ]
  },
  {
   "cell_type": "code",
   "execution_count": 427,
   "id": "4f01249a-da9e-4478-8218-06ceefb1e524",
   "metadata": {},
   "outputs": [],
   "source": [
    "size = range(0, nb_links)\n",
    "\n",
    "edge_list = []\n",
    "for i in size:\n",
    "    left = df_tmp['ID'].iloc[i]\n",
    "    right = df_tmp['User'].iloc[i]\n",
    "    pair = (left, right)\n",
    "    edge_list.append(pair)"
   ]
  },
  {
   "cell_type": "code",
   "execution_count": 428,
   "id": "d2b1655a-2c58-4285-a0f3-06c5160ee613",
   "metadata": {},
   "outputs": [
    {
     "data": {
      "text/plain": [
       "27548"
      ]
     },
     "execution_count": 428,
     "metadata": {},
     "output_type": "execute_result"
    }
   ],
   "source": [
    "len(edge_list)"
   ]
  },
  {
   "cell_type": "markdown",
   "id": "ef89fbf8-36c9-4d93-990f-b41a40844fdf",
   "metadata": {},
   "source": [
    "## Bipartite graph"
   ]
  },
  {
   "cell_type": "code",
   "execution_count": 429,
   "id": "8ffec479-9135-45cc-ab19-6edd993e75a8",
   "metadata": {},
   "outputs": [],
   "source": [
    "# Create a bipartite graph\n",
    "B = nx.Graph()\n",
    "B.add_nodes_from(id_pri, node_type = \"PRI\", bipartite = 0)\n",
    "B.add_nodes_from(id_user, node_type = \"User\", bipartite = 1)\n",
    "B.add_edges_from(edge_list)"
   ]
  },
  {
   "cell_type": "code",
   "execution_count": 433,
   "id": "8107d3d9-f50b-49e9-a943-ee2c80061564",
   "metadata": {},
   "outputs": [
    {
     "data": {
      "text/plain": [
       "True"
      ]
     },
     "execution_count": 433,
     "metadata": {},
     "output_type": "execute_result"
    }
   ],
   "source": [
    "bipartite.is_bipartite(B)"
   ]
  },
  {
   "cell_type": "markdown",
   "id": "7927983b-b7bf-436e-b0bc-7ee8f9e82084",
   "metadata": {},
   "source": [
    "### Projection on users"
   ]
  },
  {
   "cell_type": "code",
   "execution_count": 447,
   "id": "f6d29463-660d-4301-b946-271587e2f730",
   "metadata": {},
   "outputs": [],
   "source": [
    "G_users = bipartite.weighted_projected_graph(B, id_user)"
   ]
  },
  {
   "cell_type": "code",
   "execution_count": 912,
   "id": "2607c9b1-f9dd-4005-836d-fa602d215f45",
   "metadata": {},
   "outputs": [],
   "source": [
    "df_user_edjes = nx.to_pandas_edgelist(G_users)"
   ]
  },
  {
   "cell_type": "code",
   "execution_count": 916,
   "id": "d200b7f7-d071-41fa-90f9-98893c3d728f",
   "metadata": {},
   "outputs": [
    {
     "data": {
      "text/plain": [
       "yyx990803      4772\n",
       "posva          3323\n",
       "LinusBorg      1201\n",
       "vue-bot         915\n",
       "fnlctrl         792\n",
       "               ... \n",
       "suifeng123        1\n",
       "tomsseisums       1\n",
       "casbloem          1\n",
       "onlyurei          1\n",
       "wxs77577          1\n",
       "Name: source, Length: 3908, dtype: int64"
      ]
     },
     "execution_count": 916,
     "metadata": {},
     "output_type": "execute_result"
    }
   ],
   "source": [
    "df_user_edjes['source'].value_counts()"
   ]
  },
  {
   "cell_type": "markdown",
   "id": "9da73930-1a1d-493d-865d-8133438d709e",
   "metadata": {
    "tags": []
   },
   "source": [
    "### Projection on tasks/comments"
   ]
  },
  {
   "cell_type": "code",
   "execution_count": 434,
   "id": "a464db08-da14-45a1-9dc5-6044965b44f7",
   "metadata": {},
   "outputs": [],
   "source": [
    "# G_pri = bipartite.projected_graph(B, id_pri)"
   ]
  },
  {
   "cell_type": "markdown",
   "id": "43818051-9e6f-4b4f-818c-51115826b327",
   "metadata": {},
   "source": [
    "# Save graphs"
   ]
  },
  {
   "cell_type": "code",
   "execution_count": 445,
   "id": "85e18ef8-b2ec-4c4d-b1ea-e3f056044e1a",
   "metadata": {},
   "outputs": [],
   "source": [
    "save_graph(B, 'graph_full')"
   ]
  },
  {
   "cell_type": "code",
   "execution_count": 448,
   "id": "b111d95e-01be-4eb0-9545-f0e3da2fb35b",
   "metadata": {},
   "outputs": [],
   "source": [
    "save_graph(G_users, 'graph_users')"
   ]
  },
  {
   "cell_type": "markdown",
   "id": "a9e568f7-cac2-4e35-8169-69990ee67164",
   "metadata": {},
   "source": [
    "# test microsoft"
   ]
  },
  {
   "cell_type": "code",
   "execution_count": 455,
   "id": "9da5fb53-6a00-4b20-9bb0-8d4f54642172",
   "metadata": {},
   "outputs": [],
   "source": [
    "repository = '[microsoft]TypeScript'"
   ]
  },
  {
   "cell_type": "code",
   "execution_count": 456,
   "id": "d62a19a5-52b3-4ad5-ada8-316311dfa5fc",
   "metadata": {},
   "outputs": [],
   "source": [
    "df_three_comments = df_comments[df_comments['Repository'] == repository]\n",
    "df_three = df_issues[df_issues['Repository'] == repository]"
   ]
  },
  {
   "cell_type": "code",
   "execution_count": 457,
   "id": "06003554-82ac-4bd9-b7d3-85c87866b8f8",
   "metadata": {},
   "outputs": [
    {
     "data": {
      "text/html": [
       "<div>\n",
       "<style scoped>\n",
       "    .dataframe tbody tr th:only-of-type {\n",
       "        vertical-align: middle;\n",
       "    }\n",
       "\n",
       "    .dataframe tbody tr th {\n",
       "        vertical-align: top;\n",
       "    }\n",
       "\n",
       "    .dataframe thead th {\n",
       "        text-align: right;\n",
       "    }\n",
       "</style>\n",
       "<table border=\"1\" class=\"dataframe\">\n",
       "  <thead>\n",
       "    <tr style=\"text-align: right;\">\n",
       "      <th></th>\n",
       "      <th>Repository</th>\n",
       "      <th>ID</th>\n",
       "      <th>User</th>\n",
       "      <th>Type</th>\n",
       "      <th>State</th>\n",
       "      <th>CommitId</th>\n",
       "      <th>CreatedAt</th>\n",
       "      <th>ClosedAt</th>\n",
       "      <th>IsMerged</th>\n",
       "      <th>CountReactions</th>\n",
       "      <th>CountLike</th>\n",
       "      <th>CountDislike</th>\n",
       "    </tr>\n",
       "  </thead>\n",
       "  <tbody>\n",
       "    <tr>\n",
       "      <th>226328</th>\n",
       "      <td>[microsoft]TypeScript</td>\n",
       "      <td>1</td>\n",
       "      <td>RyanCavanaugh</td>\n",
       "      <td>issue</td>\n",
       "      <td>closed</td>\n",
       "      <td>NaN</td>\n",
       "      <td>2014-07-14</td>\n",
       "      <td>2014-09-19</td>\n",
       "      <td>False</td>\n",
       "      <td>0</td>\n",
       "      <td>0</td>\n",
       "      <td>0</td>\n",
       "    </tr>\n",
       "    <tr>\n",
       "      <th>226329</th>\n",
       "      <td>[microsoft]TypeScript</td>\n",
       "      <td>2</td>\n",
       "      <td>danquirk</td>\n",
       "      <td>pull</td>\n",
       "      <td>closed</td>\n",
       "      <td>e9cd8a0e884d5c363b00facd5c6cf26045f46432</td>\n",
       "      <td>2014-07-14</td>\n",
       "      <td>2014-07-15</td>\n",
       "      <td>True</td>\n",
       "      <td>0</td>\n",
       "      <td>0</td>\n",
       "      <td>0</td>\n",
       "    </tr>\n",
       "    <tr>\n",
       "      <th>226330</th>\n",
       "      <td>[microsoft]TypeScript</td>\n",
       "      <td>3</td>\n",
       "      <td>danquirk</td>\n",
       "      <td>pull</td>\n",
       "      <td>closed</td>\n",
       "      <td>e9cd8a0e884d5c363b00facd5c6cf26045f46432</td>\n",
       "      <td>2014-07-15</td>\n",
       "      <td>2014-07-15</td>\n",
       "      <td>False</td>\n",
       "      <td>0</td>\n",
       "      <td>0</td>\n",
       "      <td>0</td>\n",
       "    </tr>\n",
       "    <tr>\n",
       "      <th>226331</th>\n",
       "      <td>[microsoft]TypeScript</td>\n",
       "      <td>4</td>\n",
       "      <td>DanielRosenwasser</td>\n",
       "      <td>pull</td>\n",
       "      <td>closed</td>\n",
       "      <td>455364cf5a2e4f9cece69599475677bb41e2ac36</td>\n",
       "      <td>2014-07-15</td>\n",
       "      <td>2014-07-15</td>\n",
       "      <td>False</td>\n",
       "      <td>0</td>\n",
       "      <td>0</td>\n",
       "      <td>0</td>\n",
       "    </tr>\n",
       "    <tr>\n",
       "      <th>226332</th>\n",
       "      <td>[microsoft]TypeScript</td>\n",
       "      <td>5</td>\n",
       "      <td>RyanCavanaugh</td>\n",
       "      <td>issue</td>\n",
       "      <td>closed</td>\n",
       "      <td>NaN</td>\n",
       "      <td>2014-07-15</td>\n",
       "      <td>2015-01-14</td>\n",
       "      <td>False</td>\n",
       "      <td>0</td>\n",
       "      <td>0</td>\n",
       "      <td>0</td>\n",
       "    </tr>\n",
       "  </tbody>\n",
       "</table>\n",
       "</div>"
      ],
      "text/plain": [
       "                   Repository  ID               User   Type   State  \\\n",
       "226328  [microsoft]TypeScript   1      RyanCavanaugh  issue  closed   \n",
       "226329  [microsoft]TypeScript   2           danquirk   pull  closed   \n",
       "226330  [microsoft]TypeScript   3           danquirk   pull  closed   \n",
       "226331  [microsoft]TypeScript   4  DanielRosenwasser   pull  closed   \n",
       "226332  [microsoft]TypeScript   5      RyanCavanaugh  issue  closed   \n",
       "\n",
       "                                        CommitId   CreatedAt    ClosedAt  \\\n",
       "226328                                       NaN  2014-07-14  2014-09-19   \n",
       "226329  e9cd8a0e884d5c363b00facd5c6cf26045f46432  2014-07-14  2014-07-15   \n",
       "226330  e9cd8a0e884d5c363b00facd5c6cf26045f46432  2014-07-15  2014-07-15   \n",
       "226331  455364cf5a2e4f9cece69599475677bb41e2ac36  2014-07-15  2014-07-15   \n",
       "226332                                       NaN  2014-07-15  2015-01-14   \n",
       "\n",
       "        IsMerged  CountReactions  CountLike  CountDislike  \n",
       "226328     False               0          0             0  \n",
       "226329      True               0          0             0  \n",
       "226330     False               0          0             0  \n",
       "226331     False               0          0             0  \n",
       "226332     False               0          0             0  "
      ]
     },
     "execution_count": 457,
     "metadata": {},
     "output_type": "execute_result"
    }
   ],
   "source": [
    "df_three.head()"
   ]
  },
  {
   "cell_type": "code",
   "execution_count": 458,
   "id": "0befc4af-34ee-41c2-ae85-9a83e1eed0a3",
   "metadata": {},
   "outputs": [
    {
     "data": {
      "text/html": [
       "<div>\n",
       "<style scoped>\n",
       "    .dataframe tbody tr th:only-of-type {\n",
       "        vertical-align: middle;\n",
       "    }\n",
       "\n",
       "    .dataframe tbody tr th {\n",
       "        vertical-align: top;\n",
       "    }\n",
       "\n",
       "    .dataframe thead th {\n",
       "        text-align: right;\n",
       "    }\n",
       "</style>\n",
       "<table border=\"1\" class=\"dataframe\">\n",
       "  <thead>\n",
       "    <tr style=\"text-align: right;\">\n",
       "      <th></th>\n",
       "      <th>Repository</th>\n",
       "      <th>ID</th>\n",
       "      <th>User</th>\n",
       "      <th>CreatedAt</th>\n",
       "      <th>CountReactions</th>\n",
       "      <th>CountLike</th>\n",
       "      <th>CountDislike</th>\n",
       "      <th>Sentiment</th>\n",
       "      <th>SentimentScore</th>\n",
       "    </tr>\n",
       "  </thead>\n",
       "  <tbody>\n",
       "    <tr>\n",
       "      <th>1007222</th>\n",
       "      <td>[microsoft]TypeScript</td>\n",
       "      <td>1</td>\n",
       "      <td>RyanCavanaugh</td>\n",
       "      <td>2014-07-28</td>\n",
       "      <td>0</td>\n",
       "      <td>0</td>\n",
       "      <td>0</td>\n",
       "      <td>POSITIVE</td>\n",
       "      <td>0.9978</td>\n",
       "    </tr>\n",
       "    <tr>\n",
       "      <th>1007223</th>\n",
       "      <td>[microsoft]TypeScript</td>\n",
       "      <td>1</td>\n",
       "      <td>philipbulley</td>\n",
       "      <td>2014-08-08</td>\n",
       "      <td>0</td>\n",
       "      <td>0</td>\n",
       "      <td>0</td>\n",
       "      <td>POSITIVE</td>\n",
       "      <td>0.9945</td>\n",
       "    </tr>\n",
       "    <tr>\n",
       "      <th>1007224</th>\n",
       "      <td>[microsoft]TypeScript</td>\n",
       "      <td>1</td>\n",
       "      <td>basarat</td>\n",
       "      <td>2014-08-11</td>\n",
       "      <td>0</td>\n",
       "      <td>0</td>\n",
       "      <td>0</td>\n",
       "      <td>POSITIVE</td>\n",
       "      <td>0.9945</td>\n",
       "    </tr>\n",
       "    <tr>\n",
       "      <th>1007225</th>\n",
       "      <td>[microsoft]TypeScript</td>\n",
       "      <td>1</td>\n",
       "      <td>diverted247</td>\n",
       "      <td>2014-08-12</td>\n",
       "      <td>0</td>\n",
       "      <td>0</td>\n",
       "      <td>0</td>\n",
       "      <td>POSITIVE</td>\n",
       "      <td>0.9988</td>\n",
       "    </tr>\n",
       "    <tr>\n",
       "      <th>1007226</th>\n",
       "      <td>[microsoft]TypeScript</td>\n",
       "      <td>1</td>\n",
       "      <td>galloscript</td>\n",
       "      <td>2014-08-23</td>\n",
       "      <td>0</td>\n",
       "      <td>0</td>\n",
       "      <td>0</td>\n",
       "      <td>NEGATIVE</td>\n",
       "      <td>0.9996</td>\n",
       "    </tr>\n",
       "  </tbody>\n",
       "</table>\n",
       "</div>"
      ],
      "text/plain": [
       "                    Repository  ID           User   CreatedAt  CountReactions  \\\n",
       "1007222  [microsoft]TypeScript   1  RyanCavanaugh  2014-07-28               0   \n",
       "1007223  [microsoft]TypeScript   1   philipbulley  2014-08-08               0   \n",
       "1007224  [microsoft]TypeScript   1        basarat  2014-08-11               0   \n",
       "1007225  [microsoft]TypeScript   1    diverted247  2014-08-12               0   \n",
       "1007226  [microsoft]TypeScript   1    galloscript  2014-08-23               0   \n",
       "\n",
       "         CountLike  CountDislike Sentiment  SentimentScore  \n",
       "1007222          0             0  POSITIVE          0.9978  \n",
       "1007223          0             0  POSITIVE          0.9945  \n",
       "1007224          0             0  POSITIVE          0.9945  \n",
       "1007225          0             0  POSITIVE          0.9988  \n",
       "1007226          0             0  NEGATIVE          0.9996  "
      ]
     },
     "execution_count": 458,
     "metadata": {},
     "output_type": "execute_result"
    }
   ],
   "source": [
    "df_three_comments.head()"
   ]
  },
  {
   "cell_type": "code",
   "execution_count": 459,
   "id": "c1d3eeb2-c2ce-4095-b07e-10d95b2d892e",
   "metadata": {},
   "outputs": [],
   "source": [
    "df_three_users_ac = df_three.copy()\n",
    "to_drop = ['Repository', 'Type', 'State', 'CommitId', 'CreatedAt', 'ClosedAt', 'IsMerged', 'CountReactions', 'CountLike', 'CountDislike']\n",
    "df_three_users_ac = df_three_users_ac.drop(columns = to_drop)"
   ]
  },
  {
   "cell_type": "code",
   "execution_count": 460,
   "id": "fabe0b31-c7b1-41ca-bb3d-a4e34b47d487",
   "metadata": {},
   "outputs": [
    {
     "data": {
      "text/html": [
       "<div>\n",
       "<style scoped>\n",
       "    .dataframe tbody tr th:only-of-type {\n",
       "        vertical-align: middle;\n",
       "    }\n",
       "\n",
       "    .dataframe tbody tr th {\n",
       "        vertical-align: top;\n",
       "    }\n",
       "\n",
       "    .dataframe thead th {\n",
       "        text-align: right;\n",
       "    }\n",
       "</style>\n",
       "<table border=\"1\" class=\"dataframe\">\n",
       "  <thead>\n",
       "    <tr style=\"text-align: right;\">\n",
       "      <th></th>\n",
       "      <th>ID</th>\n",
       "      <th>User</th>\n",
       "    </tr>\n",
       "  </thead>\n",
       "  <tbody>\n",
       "    <tr>\n",
       "      <th>226328</th>\n",
       "      <td>1</td>\n",
       "      <td>RyanCavanaugh</td>\n",
       "    </tr>\n",
       "    <tr>\n",
       "      <th>226329</th>\n",
       "      <td>2</td>\n",
       "      <td>danquirk</td>\n",
       "    </tr>\n",
       "    <tr>\n",
       "      <th>226330</th>\n",
       "      <td>3</td>\n",
       "      <td>danquirk</td>\n",
       "    </tr>\n",
       "    <tr>\n",
       "      <th>226331</th>\n",
       "      <td>4</td>\n",
       "      <td>DanielRosenwasser</td>\n",
       "    </tr>\n",
       "    <tr>\n",
       "      <th>226332</th>\n",
       "      <td>5</td>\n",
       "      <td>RyanCavanaugh</td>\n",
       "    </tr>\n",
       "  </tbody>\n",
       "</table>\n",
       "</div>"
      ],
      "text/plain": [
       "        ID               User\n",
       "226328   1      RyanCavanaugh\n",
       "226329   2           danquirk\n",
       "226330   3           danquirk\n",
       "226331   4  DanielRosenwasser\n",
       "226332   5      RyanCavanaugh"
      ]
     },
     "execution_count": 460,
     "metadata": {},
     "output_type": "execute_result"
    }
   ],
   "source": [
    "df_three_users_ac.head()"
   ]
  },
  {
   "cell_type": "code",
   "execution_count": 461,
   "id": "837cff81-53ed-43e4-8dd2-195ee4aea298",
   "metadata": {},
   "outputs": [],
   "source": [
    "df_three_users_c = df_three_comments.copy()\n",
    "to_drop = ['Repository', 'CreatedAt', 'CountReactions', 'CountLike', 'CountDislike', 'Sentiment', 'SentimentScore']\n",
    "df_three_users_c = df_three_users_c.drop(columns = to_drop)"
   ]
  },
  {
   "cell_type": "code",
   "execution_count": 462,
   "id": "ef070475-6f5d-409a-8df9-5e14b28cf9d2",
   "metadata": {},
   "outputs": [
    {
     "data": {
      "text/html": [
       "<div>\n",
       "<style scoped>\n",
       "    .dataframe tbody tr th:only-of-type {\n",
       "        vertical-align: middle;\n",
       "    }\n",
       "\n",
       "    .dataframe tbody tr th {\n",
       "        vertical-align: top;\n",
       "    }\n",
       "\n",
       "    .dataframe thead th {\n",
       "        text-align: right;\n",
       "    }\n",
       "</style>\n",
       "<table border=\"1\" class=\"dataframe\">\n",
       "  <thead>\n",
       "    <tr style=\"text-align: right;\">\n",
       "      <th></th>\n",
       "      <th>ID</th>\n",
       "      <th>User</th>\n",
       "    </tr>\n",
       "  </thead>\n",
       "  <tbody>\n",
       "    <tr>\n",
       "      <th>1007222</th>\n",
       "      <td>1</td>\n",
       "      <td>RyanCavanaugh</td>\n",
       "    </tr>\n",
       "    <tr>\n",
       "      <th>1007223</th>\n",
       "      <td>1</td>\n",
       "      <td>philipbulley</td>\n",
       "    </tr>\n",
       "    <tr>\n",
       "      <th>1007224</th>\n",
       "      <td>1</td>\n",
       "      <td>basarat</td>\n",
       "    </tr>\n",
       "    <tr>\n",
       "      <th>1007225</th>\n",
       "      <td>1</td>\n",
       "      <td>diverted247</td>\n",
       "    </tr>\n",
       "    <tr>\n",
       "      <th>1007226</th>\n",
       "      <td>1</td>\n",
       "      <td>galloscript</td>\n",
       "    </tr>\n",
       "  </tbody>\n",
       "</table>\n",
       "</div>"
      ],
      "text/plain": [
       "         ID           User\n",
       "1007222   1  RyanCavanaugh\n",
       "1007223   1   philipbulley\n",
       "1007224   1        basarat\n",
       "1007225   1    diverted247\n",
       "1007226   1    galloscript"
      ]
     },
     "execution_count": 462,
     "metadata": {},
     "output_type": "execute_result"
    }
   ],
   "source": [
    "df_three_users_c.head()"
   ]
  },
  {
   "cell_type": "code",
   "execution_count": 463,
   "id": "bb4f747b-025e-4cd4-bf5f-1445a4731c32",
   "metadata": {},
   "outputs": [],
   "source": [
    "frames = [df_three_users_ac, df_three_users_c]\n",
    "df_three_users_merged = pd.concat(frames)\n",
    "df_three_users_merged = df_three_users_merged.sort_values(by='ID', ascending = True)"
   ]
  },
  {
   "cell_type": "markdown",
   "id": "344cab31-0a59-446c-853a-15b69639703b",
   "metadata": {},
   "source": [
    "## Merged"
   ]
  },
  {
   "cell_type": "code",
   "execution_count": 464,
   "id": "b881cf7c-ad64-4113-a348-3f1826de4d94",
   "metadata": {},
   "outputs": [
    {
     "data": {
      "text/html": [
       "<div>\n",
       "<style scoped>\n",
       "    .dataframe tbody tr th:only-of-type {\n",
       "        vertical-align: middle;\n",
       "    }\n",
       "\n",
       "    .dataframe tbody tr th {\n",
       "        vertical-align: top;\n",
       "    }\n",
       "\n",
       "    .dataframe thead th {\n",
       "        text-align: right;\n",
       "    }\n",
       "</style>\n",
       "<table border=\"1\" class=\"dataframe\">\n",
       "  <thead>\n",
       "    <tr style=\"text-align: right;\">\n",
       "      <th></th>\n",
       "      <th>ID</th>\n",
       "      <th>User</th>\n",
       "    </tr>\n",
       "  </thead>\n",
       "  <tbody>\n",
       "    <tr>\n",
       "      <th>226328</th>\n",
       "      <td>1</td>\n",
       "      <td>RyanCavanaugh</td>\n",
       "    </tr>\n",
       "    <tr>\n",
       "      <th>1007247</th>\n",
       "      <td>1</td>\n",
       "      <td>ahejlsberg</td>\n",
       "    </tr>\n",
       "    <tr>\n",
       "      <th>1007246</th>\n",
       "      <td>1</td>\n",
       "      <td>jntrnr</td>\n",
       "    </tr>\n",
       "    <tr>\n",
       "      <th>1007245</th>\n",
       "      <td>1</td>\n",
       "      <td>NoelAbrahams</td>\n",
       "    </tr>\n",
       "    <tr>\n",
       "      <th>1007244</th>\n",
       "      <td>1</td>\n",
       "      <td>RyanCavanaugh</td>\n",
       "    </tr>\n",
       "  </tbody>\n",
       "</table>\n",
       "</div>"
      ],
      "text/plain": [
       "         ID           User\n",
       "226328    1  RyanCavanaugh\n",
       "1007247   1     ahejlsberg\n",
       "1007246   1         jntrnr\n",
       "1007245   1   NoelAbrahams\n",
       "1007244   1  RyanCavanaugh"
      ]
     },
     "execution_count": 464,
     "metadata": {},
     "output_type": "execute_result"
    }
   ],
   "source": [
    "df_three_users_merged.head()"
   ]
  },
  {
   "cell_type": "code",
   "execution_count": 465,
   "id": "45914763-5183-47ed-9b3c-25755fd356c6",
   "metadata": {},
   "outputs": [],
   "source": [
    "df_three_users_merged_no_dupl = df_three_users_merged.drop_duplicates()"
   ]
  },
  {
   "cell_type": "code",
   "execution_count": 466,
   "id": "ce6c7873-6709-4189-8c5e-84b42e483fac",
   "metadata": {},
   "outputs": [
    {
     "data": {
      "text/html": [
       "<div>\n",
       "<style scoped>\n",
       "    .dataframe tbody tr th:only-of-type {\n",
       "        vertical-align: middle;\n",
       "    }\n",
       "\n",
       "    .dataframe tbody tr th {\n",
       "        vertical-align: top;\n",
       "    }\n",
       "\n",
       "    .dataframe thead th {\n",
       "        text-align: right;\n",
       "    }\n",
       "</style>\n",
       "<table border=\"1\" class=\"dataframe\">\n",
       "  <thead>\n",
       "    <tr style=\"text-align: right;\">\n",
       "      <th></th>\n",
       "      <th>ID</th>\n",
       "      <th>User</th>\n",
       "    </tr>\n",
       "  </thead>\n",
       "  <tbody>\n",
       "    <tr>\n",
       "      <th>226328</th>\n",
       "      <td>1</td>\n",
       "      <td>RyanCavanaugh</td>\n",
       "    </tr>\n",
       "    <tr>\n",
       "      <th>1007247</th>\n",
       "      <td>1</td>\n",
       "      <td>ahejlsberg</td>\n",
       "    </tr>\n",
       "    <tr>\n",
       "      <th>1007246</th>\n",
       "      <td>1</td>\n",
       "      <td>jntrnr</td>\n",
       "    </tr>\n",
       "    <tr>\n",
       "      <th>1007245</th>\n",
       "      <td>1</td>\n",
       "      <td>NoelAbrahams</td>\n",
       "    </tr>\n",
       "    <tr>\n",
       "      <th>1007243</th>\n",
       "      <td>1</td>\n",
       "      <td>csnover</td>\n",
       "    </tr>\n",
       "  </tbody>\n",
       "</table>\n",
       "</div>"
      ],
      "text/plain": [
       "         ID           User\n",
       "226328    1  RyanCavanaugh\n",
       "1007247   1     ahejlsberg\n",
       "1007246   1         jntrnr\n",
       "1007245   1   NoelAbrahams\n",
       "1007243   1        csnover"
      ]
     },
     "execution_count": 466,
     "metadata": {},
     "output_type": "execute_result"
    }
   ],
   "source": [
    "df_three_users_merged_no_dupl.head()"
   ]
  },
  {
   "cell_type": "code",
   "execution_count": 467,
   "id": "24637f54-673e-451b-92ac-e06e93520aba",
   "metadata": {},
   "outputs": [
    {
     "data": {
      "text/plain": [
       "33389"
      ]
     },
     "execution_count": 467,
     "metadata": {},
     "output_type": "execute_result"
    }
   ],
   "source": [
    "len(df_three_users_merged_no_dupl)"
   ]
  },
  {
   "cell_type": "markdown",
   "id": "06e1ddfb-9baf-4ae6-9fbe-889061aca6ea",
   "metadata": {},
   "source": [
    "## prepare data"
   ]
  },
  {
   "cell_type": "code",
   "execution_count": 468,
   "id": "ab4f0944-deaf-4a8c-bff4-8ce4b7a14642",
   "metadata": {},
   "outputs": [],
   "source": [
    "df_tmp = df_three_users_merged_no_dupl\n",
    "id_pri = list(df_tmp[\"ID\"].unique())\n",
    "id_user = list(df_tmp[\"User\"].unique())\n",
    "nb_links = len(df_tmp)"
   ]
  },
  {
   "cell_type": "code",
   "execution_count": 469,
   "id": "69a1daa4-29d7-4269-9c81-bddaec16752f",
   "metadata": {},
   "outputs": [],
   "source": [
    "size = range(0, nb_links)\n",
    "\n",
    "edge_list = []\n",
    "for i in size:\n",
    "    left = df_tmp['ID'].iloc[i]\n",
    "    right = df_tmp['User'].iloc[i]\n",
    "    pair = (left, right)\n",
    "    edge_list.append(pair)"
   ]
  },
  {
   "cell_type": "markdown",
   "id": "12b00705-7aff-494d-8f1a-76917a7ca9cd",
   "metadata": {},
   "source": [
    "### bipartite graph microsoft"
   ]
  },
  {
   "cell_type": "code",
   "execution_count": 470,
   "id": "e7c570f4-1598-4f1e-a5f6-5cd790f5e8af",
   "metadata": {},
   "outputs": [],
   "source": [
    "# Create a bipartite graph\n",
    "B = nx.Graph()\n",
    "B.add_nodes_from(id_pri, node_type = \"PRI\", bipartite = 0)\n",
    "B.add_nodes_from(id_user, node_type = \"User\", bipartite = 1)\n",
    "B.add_edges_from(edge_list)"
   ]
  },
  {
   "cell_type": "code",
   "execution_count": 471,
   "id": "7015ecf9-d567-40b2-8bf1-d0e484e8fa56",
   "metadata": {},
   "outputs": [],
   "source": [
    "### users"
   ]
  },
  {
   "cell_type": "code",
   "execution_count": 472,
   "id": "9ac443e2-6918-43ad-a29f-55bd261cc139",
   "metadata": {},
   "outputs": [],
   "source": [
    "G_users = bipartite.weighted_projected_graph(B, id_user)"
   ]
  },
  {
   "cell_type": "code",
   "execution_count": 473,
   "id": "884ce229-3fd3-4de6-b8bd-5c04f95a97f5",
   "metadata": {},
   "outputs": [],
   "source": [
    "save_graph(G_users, 'graph_users_microsoft')"
   ]
  },
  {
   "cell_type": "code",
   "execution_count": null,
   "id": "106c4ba2-3852-4c49-8289-a62e9f591c4f",
   "metadata": {},
   "outputs": [],
   "source": [
    "# todo: fini microsoft here?"
   ]
  },
  {
   "cell_type": "code",
   "execution_count": null,
   "id": "19e7d5eb-0ec1-4e92-bc2b-2f390d094e76",
   "metadata": {},
   "outputs": [],
   "source": [
    "# # test for graph\n",
    "# # Create a bipartite graph\n",
    "# T = nx.Graph()\n",
    "# T.add_nodes_from([1, 2, 3], bipartite=0)\n",
    "# T.add_nodes_from(['a', 'b', 'c'], bipartite=1)\n",
    "# T.add_edges_from([(1, 'a'), (1, 'c'),  (1, 'b'), \n",
    "#                   (2, 'b'),  \n",
    "#                   (3, 'a'), (3, 'b'),\n",
    "#                  ])\n",
    "\n",
    "# # Get the sets of nodes\n",
    "# left_nodes, right_nodes = nx.bipartite.sets(T)\n",
    "\n",
    "# # Draw the graph\n",
    "# pos = dict()\n",
    "# pos.update((node, (1, index)) for index, node in enumerate(left_nodes))\n",
    "# pos.update((node, (2, index)) for index, node in enumerate(right_nodes))\n",
    "# nx.draw(T, pos=pos, with_labels=True)\n",
    "\n",
    "# # Show the plot\n",
    "# plt.show()"
   ]
  },
  {
   "cell_type": "code",
   "execution_count": 860,
   "id": "56fe9289-8d20-4198-9a7a-f858315037cc",
   "metadata": {},
   "outputs": [],
   "source": [
    "# nx.draw_networkx(\n",
    "#     B, with_labels=True,\n",
    "#     pos = nx.drawing.layout.bipartite_layout(B, left_nodes), \n",
    "#     width = edge_widths*1) "
   ]
  },
  {
   "cell_type": "code",
   "execution_count": 73,
   "id": "65a97de9-6398-4507-9b5c-2cfd7cc683b4",
   "metadata": {},
   "outputs": [],
   "source": [
    "# for id_user in df_three_users_merged[\"ID\"].unique():\n",
    "#     G.add_node(id_user, node_type=\"PR-issue\", bipartite=0)"
   ]
  },
  {
   "cell_type": "code",
   "execution_count": 65,
   "id": "f8283b95-94be-433d-874e-2b55aa744ab8",
   "metadata": {},
   "outputs": [],
   "source": [
    "# for id_pri in df_three_users_merged[\"User\"].unique():\n",
    "#     G.add_node(id_pri, node_type=\"User\", bipartite=1)"
   ]
  },
  {
   "cell_type": "code",
   "execution_count": null,
   "id": "bf15e559-669a-49d5-beb9-b37a041a8260",
   "metadata": {},
   "outputs": [],
   "source": [
    "# G.add_edges_from()"
   ]
  },
  {
   "cell_type": "code",
   "execution_count": 93,
   "id": "cb7a7486-f39f-4e9f-8962-3cf1a913b7b9",
   "metadata": {},
   "outputs": [],
   "source": [
    "# G = nx.from_pandas_edgelist(df_three_users_merged, 'ID', 'User')"
   ]
  },
  {
   "cell_type": "code",
   "execution_count": 98,
   "id": "5ac98b3d-a67b-414c-9d93-a9a23037d8d4",
   "metadata": {},
   "outputs": [],
   "source": [
    "# G = nx.bipartite.gnmk_random_graph(3, 5, 10, seed=123)\n",
    "# top = nx.bipartite.sets(G)[0]\n",
    "# pos = nx.bipartite_layout(G, top)"
   ]
  },
  {
   "cell_type": "code",
   "execution_count": 68,
   "id": "103a1d6b-7f1f-415f-a069-3bb8f9471731",
   "metadata": {},
   "outputs": [],
   "source": [
    "first = len(df_three_users_merged[\"ID\"].unique())\n",
    "second = len(df_three_users_merged[\"User\"].unique())\n",
    "nb_links = len(df_three_users_merged)"
   ]
  },
  {
   "cell_type": "code",
   "execution_count": 74,
   "id": "919f4674-307b-4a16-96c6-1423b59edd4d",
   "metadata": {},
   "outputs": [
    {
     "data": {
      "text/plain": [
       "{'node_type': 'PR-issue', 'bipartite': 0}"
      ]
     },
     "execution_count": 74,
     "metadata": {},
     "output_type": "execute_result"
    }
   ],
   "source": [
    "G.nodes[1]"
   ]
  },
  {
   "cell_type": "code",
   "execution_count": null,
   "id": "695ed506-679d-4c65-ac53-6817e2bb9f78",
   "metadata": {},
   "outputs": [],
   "source": [
    "# # B = nx.Graph()\n",
    "# # Add nodes with the node attribute \"bipartite\"\n",
    "# B.add_nodes_from([1, 2, 3, 4], bipartite=0)\n",
    "# B.add_nodes_from([\"a\", \"b\", \"c\"], bipartite=1)\n",
    "# # Add edges only between nodes of opposite node sets\n",
    "# B.add_edges_from(\n",
    "# [(1, \"a\"), \n",
    "#  (1, \"b\"), (2, \"b\"), (2, \"c\"), (3, \"c\"), (4, \"a\")\n",
    "# ])"
   ]
  },
  {
   "cell_type": "code",
   "execution_count": null,
   "id": "d7f2cc8e-00ea-4c66-a2da-1035e62c80b9",
   "metadata": {},
   "outputs": [],
   "source": [
    "# G = nx.bipartite.gnmk_random_graph(first, second, nb_links, seed=0)\n",
    "# top = nx.bipartite.sets(G)[0]\n",
    "# pos = nx.bipartite_layout(G, top)"
   ]
  },
  {
   "cell_type": "code",
   "execution_count": null,
   "id": "72b94e52-2487-4bfa-a0a4-92aea992da54",
   "metadata": {},
   "outputs": [],
   "source": [
    "# from matplotlib.pyplot import figure\n",
    "# figure(figsize=(10, 8))\n",
    "# nx.draw_shell(G, with_labels=False)"
   ]
  },
  {
   "cell_type": "code",
   "execution_count": null,
   "id": "bb3c089d-c1be-4db6-ae73-de1b4809cb35",
   "metadata": {},
   "outputs": [],
   "source": []
  },
  {
   "cell_type": "code",
   "execution_count": null,
   "id": "4e523d8c-fc45-42dd-96d0-9ab18e53be06",
   "metadata": {},
   "outputs": [],
   "source": []
  },
  {
   "cell_type": "code",
   "execution_count": 258,
   "id": "bde458f4-a4db-4ae0-84b8-0f61f26cde48",
   "metadata": {},
   "outputs": [],
   "source": [
    "# G.nodes[1]"
   ]
  },
  {
   "cell_type": "code",
   "execution_count": 51,
   "id": "78bc3be0-3f55-4f7b-8bf6-ed45e1ec0baa",
   "metadata": {},
   "outputs": [],
   "source": [
    "for IDnode in df_three_users_merged[\"User\"].unique():\n",
    "    G.add_node(IDnode, node_type=\"User\")"
   ]
  },
  {
   "cell_type": "code",
   "execution_count": null,
   "id": "f36953cc-fe30-434d-87c1-3dc23be59886",
   "metadata": {},
   "outputs": [],
   "source": [
    "# for i in nb_links:\n",
    "#     left = df_three_users_merged['ID']\n",
    "#     right = df_three_users_merged['User']\n",
    "#     G.add_edges_from(left, right)"
   ]
  },
  {
   "cell_type": "code",
   "execution_count": null,
   "id": "5f64a0bc-bdcd-4fc3-9844-6472464ac735",
   "metadata": {},
   "outputs": [],
   "source": []
  },
  {
   "cell_type": "code",
   "execution_count": 257,
   "id": "b3f45f4c-c9aa-41fb-a83d-f21bd22ec8f1",
   "metadata": {},
   "outputs": [],
   "source": [
    "# G = nx.from_pandas_edgelist(df_three_users_merged, 'ID', 'User')"
   ]
  },
  {
   "cell_type": "code",
   "execution_count": 859,
   "id": "812eff25-4400-4d1c-a369-62fde28cd181",
   "metadata": {},
   "outputs": [],
   "source": [
    "# from matplotlib.pyplot import figure\n",
    "# figure(figsize=(10, 8))\n",
    "# nx.draw_shell(G, with_labels=True)"
   ]
  },
  {
   "cell_type": "code",
   "execution_count": null,
   "id": "121c3a43-fe02-404d-a913-564717598cf7",
   "metadata": {},
   "outputs": [],
   "source": [
    "# todo: v1 - loop add node (add properties, edges)\n",
    "# v2  - xport biprototype"
   ]
  },
  {
   "cell_type": "code",
   "execution_count": 281,
   "id": "698c5e15-ea2c-442c-a9c1-fbb2c59fd141",
   "metadata": {},
   "outputs": [],
   "source": [
    "from matplotlib.pyplot import figure"
   ]
  },
  {
   "cell_type": "code",
   "execution_count": 289,
   "id": "1f51863a-bf08-42da-8ed0-17ebeeec3adb",
   "metadata": {},
   "outputs": [
    {
     "data": {
      "text/plain": [
       "{}"
      ]
     },
     "execution_count": 289,
     "metadata": {},
     "output_type": "execute_result"
    }
   ],
   "source": [
    "# G.nodes['chrislloyd']"
   ]
  },
  {
   "cell_type": "code",
   "execution_count": 285,
   "id": "b3a35a65-323e-4fba-949f-5f7b2ca77b73",
   "metadata": {},
   "outputs": [],
   "source": [
    "nb_connections = {}\n",
    "for x in G.nodes:\n",
    "    nb_connections[x] = len(G[x])\n",
    "s = pd.Series(nb_connections, name='connections')\n",
    "df_nb_connections = s.to_frame().sort_values('connections', ascending=False).reset_index()"
   ]
  },
  {
   "cell_type": "markdown",
   "id": "7a0835f1-b513-4c49-9683-6ede1f16b17e",
   "metadata": {},
   "source": [
    "## P/I - c - user"
   ]
  },
  {
   "cell_type": "code",
   "execution_count": 206,
   "id": "41caa118-af8f-4a8b-892d-765431b1aed4",
   "metadata": {},
   "outputs": [
    {
     "data": {
      "text/html": [
       "<div>\n",
       "<style scoped>\n",
       "    .dataframe tbody tr th:only-of-type {\n",
       "        vertical-align: middle;\n",
       "    }\n",
       "\n",
       "    .dataframe tbody tr th {\n",
       "        vertical-align: top;\n",
       "    }\n",
       "\n",
       "    .dataframe thead th {\n",
       "        text-align: right;\n",
       "    }\n",
       "</style>\n",
       "<table border=\"1\" class=\"dataframe\">\n",
       "  <thead>\n",
       "    <tr style=\"text-align: right;\">\n",
       "      <th></th>\n",
       "      <th>Repository</th>\n",
       "      <th>ID</th>\n",
       "      <th>User</th>\n",
       "      <th>Type</th>\n",
       "      <th>State</th>\n",
       "      <th>CommitId</th>\n",
       "      <th>CreatedAt</th>\n",
       "      <th>ClosedAt</th>\n",
       "      <th>IsMerged</th>\n",
       "      <th>CountReactions</th>\n",
       "      <th>CountLike</th>\n",
       "      <th>CountDislike</th>\n",
       "    </tr>\n",
       "  </thead>\n",
       "  <tbody>\n",
       "    <tr>\n",
       "      <th>238087</th>\n",
       "      <td>[mrdoob]three.js</td>\n",
       "      <td>1</td>\n",
       "      <td>chrislloyd</td>\n",
       "      <td>issue</td>\n",
       "      <td>closed</td>\n",
       "      <td>NaN</td>\n",
       "      <td>2010-04-25</td>\n",
       "      <td>2010-04-26</td>\n",
       "      <td>False</td>\n",
       "      <td>0</td>\n",
       "      <td>0</td>\n",
       "      <td>0</td>\n",
       "    </tr>\n",
       "    <tr>\n",
       "      <th>238088</th>\n",
       "      <td>[mrdoob]three.js</td>\n",
       "      <td>2</td>\n",
       "      <td>Ovid</td>\n",
       "      <td>issue</td>\n",
       "      <td>closed</td>\n",
       "      <td>NaN</td>\n",
       "      <td>2010-04-26</td>\n",
       "      <td>2010-11-04</td>\n",
       "      <td>False</td>\n",
       "      <td>0</td>\n",
       "      <td>0</td>\n",
       "      <td>0</td>\n",
       "    </tr>\n",
       "    <tr>\n",
       "      <th>238089</th>\n",
       "      <td>[mrdoob]three.js</td>\n",
       "      <td>3</td>\n",
       "      <td>icidasset</td>\n",
       "      <td>issue</td>\n",
       "      <td>closed</td>\n",
       "      <td>NaN</td>\n",
       "      <td>2010-06-20</td>\n",
       "      <td>2010-06-21</td>\n",
       "      <td>False</td>\n",
       "      <td>0</td>\n",
       "      <td>0</td>\n",
       "      <td>0</td>\n",
       "    </tr>\n",
       "    <tr>\n",
       "      <th>238090</th>\n",
       "      <td>[mrdoob]three.js</td>\n",
       "      <td>4</td>\n",
       "      <td>SignpostMarv</td>\n",
       "      <td>issue</td>\n",
       "      <td>closed</td>\n",
       "      <td>NaN</td>\n",
       "      <td>2010-06-23</td>\n",
       "      <td>2010-06-24</td>\n",
       "      <td>False</td>\n",
       "      <td>0</td>\n",
       "      <td>0</td>\n",
       "      <td>0</td>\n",
       "    </tr>\n",
       "    <tr>\n",
       "      <th>238091</th>\n",
       "      <td>[mrdoob]three.js</td>\n",
       "      <td>5</td>\n",
       "      <td>SignpostMarv</td>\n",
       "      <td>issue</td>\n",
       "      <td>closed</td>\n",
       "      <td>NaN</td>\n",
       "      <td>2010-06-23</td>\n",
       "      <td>2010-06-23</td>\n",
       "      <td>False</td>\n",
       "      <td>0</td>\n",
       "      <td>0</td>\n",
       "      <td>0</td>\n",
       "    </tr>\n",
       "  </tbody>\n",
       "</table>\n",
       "</div>"
      ],
      "text/plain": [
       "              Repository  ID          User   Type   State CommitId  \\\n",
       "238087  [mrdoob]three.js   1    chrislloyd  issue  closed      NaN   \n",
       "238088  [mrdoob]three.js   2          Ovid  issue  closed      NaN   \n",
       "238089  [mrdoob]three.js   3     icidasset  issue  closed      NaN   \n",
       "238090  [mrdoob]three.js   4  SignpostMarv  issue  closed      NaN   \n",
       "238091  [mrdoob]three.js   5  SignpostMarv  issue  closed      NaN   \n",
       "\n",
       "         CreatedAt    ClosedAt  IsMerged  CountReactions  CountLike  \\\n",
       "238087  2010-04-25  2010-04-26     False               0          0   \n",
       "238088  2010-04-26  2010-11-04     False               0          0   \n",
       "238089  2010-06-20  2010-06-21     False               0          0   \n",
       "238090  2010-06-23  2010-06-24     False               0          0   \n",
       "238091  2010-06-23  2010-06-23     False               0          0   \n",
       "\n",
       "        CountDislike  \n",
       "238087             0  \n",
       "238088             0  \n",
       "238089             0  \n",
       "238090             0  \n",
       "238091             0  "
      ]
     },
     "execution_count": 206,
     "metadata": {},
     "output_type": "execute_result"
    }
   ],
   "source": [
    "df_three.head()"
   ]
  },
  {
   "cell_type": "code",
   "execution_count": 207,
   "id": "b999c162-605b-4276-bcfd-f5484df5e62b",
   "metadata": {},
   "outputs": [
    {
     "data": {
      "text/plain": [
       "bhouston         313\n",
       "WestLangley      274\n",
       "gero3            208\n",
       "ghost            192\n",
       "Mugen87          126\n",
       "                ... \n",
       "simar88            1\n",
       "matter-io2         1\n",
       "erichanson         1\n",
       "Linjx80779921      1\n",
       "sam-g-steel        1\n",
       "Name: User, Length: 3701, dtype: int64"
      ]
     },
     "execution_count": 207,
     "metadata": {},
     "output_type": "execute_result"
    }
   ],
   "source": [
    "df_three['User'].value_counts()"
   ]
  },
  {
   "cell_type": "code",
   "execution_count": 208,
   "id": "879299fa-bffb-4edb-b196-2e3fdc3e5486",
   "metadata": {},
   "outputs": [
    {
     "data": {
      "text/html": [
       "<div>\n",
       "<style scoped>\n",
       "    .dataframe tbody tr th:only-of-type {\n",
       "        vertical-align: middle;\n",
       "    }\n",
       "\n",
       "    .dataframe tbody tr th {\n",
       "        vertical-align: top;\n",
       "    }\n",
       "\n",
       "    .dataframe thead th {\n",
       "        text-align: right;\n",
       "    }\n",
       "</style>\n",
       "<table border=\"1\" class=\"dataframe\">\n",
       "  <thead>\n",
       "    <tr style=\"text-align: right;\">\n",
       "      <th></th>\n",
       "      <th>Repository</th>\n",
       "      <th>ID</th>\n",
       "      <th>User</th>\n",
       "      <th>CreatedAt</th>\n",
       "      <th>CountReactions</th>\n",
       "      <th>CountLike</th>\n",
       "      <th>CountDislike</th>\n",
       "      <th>Sentiment</th>\n",
       "      <th>SentimentScore</th>\n",
       "    </tr>\n",
       "  </thead>\n",
       "  <tbody>\n",
       "    <tr>\n",
       "      <th>1063146</th>\n",
       "      <td>[mrdoob]three.js</td>\n",
       "      <td>1</td>\n",
       "      <td>mrdoob</td>\n",
       "      <td>2010-04-25</td>\n",
       "      <td>0</td>\n",
       "      <td>0</td>\n",
       "      <td>0</td>\n",
       "      <td>POSITIVE</td>\n",
       "      <td>0.9977</td>\n",
       "    </tr>\n",
       "    <tr>\n",
       "      <th>1063147</th>\n",
       "      <td>[mrdoob]three.js</td>\n",
       "      <td>1</td>\n",
       "      <td>splatcollision</td>\n",
       "      <td>2011-01-10</td>\n",
       "      <td>0</td>\n",
       "      <td>0</td>\n",
       "      <td>0</td>\n",
       "      <td>POSITIVE</td>\n",
       "      <td>0.9990</td>\n",
       "    </tr>\n",
       "    <tr>\n",
       "      <th>1063148</th>\n",
       "      <td>[mrdoob]three.js</td>\n",
       "      <td>2</td>\n",
       "      <td>mrdoob</td>\n",
       "      <td>2010-04-26</td>\n",
       "      <td>0</td>\n",
       "      <td>0</td>\n",
       "      <td>0</td>\n",
       "      <td>POSITIVE</td>\n",
       "      <td>0.7345</td>\n",
       "    </tr>\n",
       "    <tr>\n",
       "      <th>1063149</th>\n",
       "      <td>[mrdoob]three.js</td>\n",
       "      <td>2</td>\n",
       "      <td>Ovid</td>\n",
       "      <td>2010-04-26</td>\n",
       "      <td>0</td>\n",
       "      <td>0</td>\n",
       "      <td>0</td>\n",
       "      <td>POSITIVE</td>\n",
       "      <td>0.9975</td>\n",
       "    </tr>\n",
       "    <tr>\n",
       "      <th>1063150</th>\n",
       "      <td>[mrdoob]three.js</td>\n",
       "      <td>2</td>\n",
       "      <td>jurjen</td>\n",
       "      <td>2010-04-30</td>\n",
       "      <td>0</td>\n",
       "      <td>0</td>\n",
       "      <td>0</td>\n",
       "      <td>POSITIVE</td>\n",
       "      <td>0.9921</td>\n",
       "    </tr>\n",
       "  </tbody>\n",
       "</table>\n",
       "</div>"
      ],
      "text/plain": [
       "               Repository  ID            User   CreatedAt  CountReactions  \\\n",
       "1063146  [mrdoob]three.js   1          mrdoob  2010-04-25               0   \n",
       "1063147  [mrdoob]three.js   1  splatcollision  2011-01-10               0   \n",
       "1063148  [mrdoob]three.js   2          mrdoob  2010-04-26               0   \n",
       "1063149  [mrdoob]three.js   2            Ovid  2010-04-26               0   \n",
       "1063150  [mrdoob]three.js   2          jurjen  2010-04-30               0   \n",
       "\n",
       "         CountLike  CountDislike Sentiment  SentimentScore  \n",
       "1063146          0             0  POSITIVE          0.9977  \n",
       "1063147          0             0  POSITIVE          0.9990  \n",
       "1063148          0             0  POSITIVE          0.7345  \n",
       "1063149          0             0  POSITIVE          0.9975  \n",
       "1063150          0             0  POSITIVE          0.9921  "
      ]
     },
     "execution_count": 208,
     "metadata": {},
     "output_type": "execute_result"
    }
   ],
   "source": [
    "df_three_comments.head()"
   ]
  },
  {
   "cell_type": "markdown",
   "id": "31f3aae0-2c33-426f-a299-27c8b7955021",
   "metadata": {},
   "source": [
    "# Microsoft"
   ]
  },
  {
   "cell_type": "code",
   "execution_count": 823,
   "id": "399d6ab3-e903-444f-a639-3495802b1a56",
   "metadata": {},
   "outputs": [],
   "source": [
    "microsoft_projects = ['[microsoft]terminal', '[microsoft]TypeScript', '[microsoft]vscode']"
   ]
  },
  {
   "cell_type": "code",
   "execution_count": 824,
   "id": "e25dadd1-1e03-45d8-929a-5445a768805b",
   "metadata": {},
   "outputs": [],
   "source": [
    "facebook_projects = ['[facebook]create-react-app', '[facebook]react-native', '[facebook]react']"
   ]
  },
  {
   "cell_type": "code",
   "execution_count": 861,
   "id": "a752ce17-b958-4c70-802f-902345d25675",
   "metadata": {},
   "outputs": [
    {
     "name": "stdout",
     "output_type": "stream",
     "text": [
      "saving graph for [microsoft]terminal repository\n",
      "saving graph for [microsoft]TypeScript repository\n",
      "saving graph for [microsoft]vscode repository\n"
     ]
    }
   ],
   "source": [
    "G_microsoft_projects = get_graphs(microsoft_projects)"
   ]
  },
  {
   "cell_type": "code",
   "execution_count": 862,
   "id": "80edb2ab-d727-4bf2-bef0-1582082c11db",
   "metadata": {},
   "outputs": [
    {
     "name": "stdout",
     "output_type": "stream",
     "text": [
      "saving graph for [facebook]create-react-app repository\n",
      "saving graph for [facebook]react-native repository\n",
      "saving graph for [facebook]react repository\n"
     ]
    }
   ],
   "source": [
    "G_microsoft_projects = get_graphs(facebook_projects)"
   ]
  },
  {
   "cell_type": "code",
   "execution_count": null,
   "id": "47cec415-c1b3-44e5-8416-f97fab433cbc",
   "metadata": {},
   "outputs": [],
   "source": []
  },
  {
   "cell_type": "markdown",
   "id": "28525ad0-5163-495a-86df-db9a226c4c4c",
   "metadata": {},
   "source": [
    "# three js"
   ]
  },
  {
   "cell_type": "code",
   "execution_count": 870,
   "id": "ddf6fd7e-4f1e-4c04-93c5-b352399badd6",
   "metadata": {},
   "outputs": [],
   "source": [
    "repository_threejs = '[mrdoob]three.js'"
   ]
  },
  {
   "cell_type": "code",
   "execution_count": 871,
   "id": "4ce9b63c-9379-43fb-9402-a688e087efc6",
   "metadata": {},
   "outputs": [],
   "source": [
    "df_three_comments = df_comments[df_comments['Repository'] == repository_threejs]\n",
    "df_three = df_issues[df_issues['Repository'] == repository_threejs]"
   ]
  },
  {
   "cell_type": "code",
   "execution_count": 873,
   "id": "caaa517b-e8c0-4019-8602-44866feb1f49",
   "metadata": {},
   "outputs": [
    {
     "data": {
      "text/html": [
       "<div>\n",
       "<style scoped>\n",
       "    .dataframe tbody tr th:only-of-type {\n",
       "        vertical-align: middle;\n",
       "    }\n",
       "\n",
       "    .dataframe tbody tr th {\n",
       "        vertical-align: top;\n",
       "    }\n",
       "\n",
       "    .dataframe thead th {\n",
       "        text-align: right;\n",
       "    }\n",
       "</style>\n",
       "<table border=\"1\" class=\"dataframe\">\n",
       "  <thead>\n",
       "    <tr style=\"text-align: right;\">\n",
       "      <th></th>\n",
       "      <th>Repository</th>\n",
       "      <th>ID</th>\n",
       "      <th>User</th>\n",
       "      <th>Type</th>\n",
       "      <th>State</th>\n",
       "      <th>CommitId</th>\n",
       "      <th>CreatedAt</th>\n",
       "      <th>ClosedAt</th>\n",
       "      <th>IsMerged</th>\n",
       "      <th>CountReactions</th>\n",
       "      <th>CountLike</th>\n",
       "      <th>CountDislike</th>\n",
       "    </tr>\n",
       "  </thead>\n",
       "  <tbody>\n",
       "    <tr>\n",
       "      <th>238087</th>\n",
       "      <td>[mrdoob]three.js</td>\n",
       "      <td>1</td>\n",
       "      <td>chrislloyd</td>\n",
       "      <td>issue</td>\n",
       "      <td>closed</td>\n",
       "      <td>NaN</td>\n",
       "      <td>2010-04-25</td>\n",
       "      <td>2010-04-26</td>\n",
       "      <td>False</td>\n",
       "      <td>0</td>\n",
       "      <td>0</td>\n",
       "      <td>0</td>\n",
       "    </tr>\n",
       "    <tr>\n",
       "      <th>238088</th>\n",
       "      <td>[mrdoob]three.js</td>\n",
       "      <td>2</td>\n",
       "      <td>Ovid</td>\n",
       "      <td>issue</td>\n",
       "      <td>closed</td>\n",
       "      <td>NaN</td>\n",
       "      <td>2010-04-26</td>\n",
       "      <td>2010-11-04</td>\n",
       "      <td>False</td>\n",
       "      <td>0</td>\n",
       "      <td>0</td>\n",
       "      <td>0</td>\n",
       "    </tr>\n",
       "    <tr>\n",
       "      <th>238089</th>\n",
       "      <td>[mrdoob]three.js</td>\n",
       "      <td>3</td>\n",
       "      <td>icidasset</td>\n",
       "      <td>issue</td>\n",
       "      <td>closed</td>\n",
       "      <td>NaN</td>\n",
       "      <td>2010-06-20</td>\n",
       "      <td>2010-06-21</td>\n",
       "      <td>False</td>\n",
       "      <td>0</td>\n",
       "      <td>0</td>\n",
       "      <td>0</td>\n",
       "    </tr>\n",
       "    <tr>\n",
       "      <th>238090</th>\n",
       "      <td>[mrdoob]three.js</td>\n",
       "      <td>4</td>\n",
       "      <td>SignpostMarv</td>\n",
       "      <td>issue</td>\n",
       "      <td>closed</td>\n",
       "      <td>NaN</td>\n",
       "      <td>2010-06-23</td>\n",
       "      <td>2010-06-24</td>\n",
       "      <td>False</td>\n",
       "      <td>0</td>\n",
       "      <td>0</td>\n",
       "      <td>0</td>\n",
       "    </tr>\n",
       "    <tr>\n",
       "      <th>238091</th>\n",
       "      <td>[mrdoob]three.js</td>\n",
       "      <td>5</td>\n",
       "      <td>SignpostMarv</td>\n",
       "      <td>issue</td>\n",
       "      <td>closed</td>\n",
       "      <td>NaN</td>\n",
       "      <td>2010-06-23</td>\n",
       "      <td>2010-06-23</td>\n",
       "      <td>False</td>\n",
       "      <td>0</td>\n",
       "      <td>0</td>\n",
       "      <td>0</td>\n",
       "    </tr>\n",
       "  </tbody>\n",
       "</table>\n",
       "</div>"
      ],
      "text/plain": [
       "              Repository  ID          User   Type   State CommitId  \\\n",
       "238087  [mrdoob]three.js   1    chrislloyd  issue  closed      NaN   \n",
       "238088  [mrdoob]three.js   2          Ovid  issue  closed      NaN   \n",
       "238089  [mrdoob]three.js   3     icidasset  issue  closed      NaN   \n",
       "238090  [mrdoob]three.js   4  SignpostMarv  issue  closed      NaN   \n",
       "238091  [mrdoob]three.js   5  SignpostMarv  issue  closed      NaN   \n",
       "\n",
       "         CreatedAt    ClosedAt  IsMerged  CountReactions  CountLike  \\\n",
       "238087  2010-04-25  2010-04-26     False               0          0   \n",
       "238088  2010-04-26  2010-11-04     False               0          0   \n",
       "238089  2010-06-20  2010-06-21     False               0          0   \n",
       "238090  2010-06-23  2010-06-24     False               0          0   \n",
       "238091  2010-06-23  2010-06-23     False               0          0   \n",
       "\n",
       "        CountDislike  \n",
       "238087             0  \n",
       "238088             0  \n",
       "238089             0  \n",
       "238090             0  \n",
       "238091             0  "
      ]
     },
     "execution_count": 873,
     "metadata": {},
     "output_type": "execute_result"
    }
   ],
   "source": [
    "df_three.head()"
   ]
  },
  {
   "cell_type": "code",
   "execution_count": 872,
   "id": "97928e42-0829-46bd-8163-622b1e19e752",
   "metadata": {},
   "outputs": [
    {
     "data": {
      "text/html": [
       "<div>\n",
       "<style scoped>\n",
       "    .dataframe tbody tr th:only-of-type {\n",
       "        vertical-align: middle;\n",
       "    }\n",
       "\n",
       "    .dataframe tbody tr th {\n",
       "        vertical-align: top;\n",
       "    }\n",
       "\n",
       "    .dataframe thead th {\n",
       "        text-align: right;\n",
       "    }\n",
       "</style>\n",
       "<table border=\"1\" class=\"dataframe\">\n",
       "  <thead>\n",
       "    <tr style=\"text-align: right;\">\n",
       "      <th></th>\n",
       "      <th>Repository</th>\n",
       "      <th>ID</th>\n",
       "      <th>User</th>\n",
       "      <th>CreatedAt</th>\n",
       "      <th>CountReactions</th>\n",
       "      <th>CountLike</th>\n",
       "      <th>CountDislike</th>\n",
       "      <th>Sentiment</th>\n",
       "      <th>SentimentScore</th>\n",
       "    </tr>\n",
       "  </thead>\n",
       "  <tbody>\n",
       "    <tr>\n",
       "      <th>1063146</th>\n",
       "      <td>[mrdoob]three.js</td>\n",
       "      <td>1</td>\n",
       "      <td>mrdoob</td>\n",
       "      <td>2010-04-25</td>\n",
       "      <td>0</td>\n",
       "      <td>0</td>\n",
       "      <td>0</td>\n",
       "      <td>POSITIVE</td>\n",
       "      <td>0.9977</td>\n",
       "    </tr>\n",
       "    <tr>\n",
       "      <th>1063147</th>\n",
       "      <td>[mrdoob]three.js</td>\n",
       "      <td>1</td>\n",
       "      <td>splatcollision</td>\n",
       "      <td>2011-01-10</td>\n",
       "      <td>0</td>\n",
       "      <td>0</td>\n",
       "      <td>0</td>\n",
       "      <td>POSITIVE</td>\n",
       "      <td>0.9990</td>\n",
       "    </tr>\n",
       "    <tr>\n",
       "      <th>1063148</th>\n",
       "      <td>[mrdoob]three.js</td>\n",
       "      <td>2</td>\n",
       "      <td>mrdoob</td>\n",
       "      <td>2010-04-26</td>\n",
       "      <td>0</td>\n",
       "      <td>0</td>\n",
       "      <td>0</td>\n",
       "      <td>POSITIVE</td>\n",
       "      <td>0.7345</td>\n",
       "    </tr>\n",
       "    <tr>\n",
       "      <th>1063149</th>\n",
       "      <td>[mrdoob]three.js</td>\n",
       "      <td>2</td>\n",
       "      <td>Ovid</td>\n",
       "      <td>2010-04-26</td>\n",
       "      <td>0</td>\n",
       "      <td>0</td>\n",
       "      <td>0</td>\n",
       "      <td>POSITIVE</td>\n",
       "      <td>0.9975</td>\n",
       "    </tr>\n",
       "    <tr>\n",
       "      <th>1063150</th>\n",
       "      <td>[mrdoob]three.js</td>\n",
       "      <td>2</td>\n",
       "      <td>jurjen</td>\n",
       "      <td>2010-04-30</td>\n",
       "      <td>0</td>\n",
       "      <td>0</td>\n",
       "      <td>0</td>\n",
       "      <td>POSITIVE</td>\n",
       "      <td>0.9921</td>\n",
       "    </tr>\n",
       "  </tbody>\n",
       "</table>\n",
       "</div>"
      ],
      "text/plain": [
       "               Repository  ID            User   CreatedAt  CountReactions  \\\n",
       "1063146  [mrdoob]three.js   1          mrdoob  2010-04-25               0   \n",
       "1063147  [mrdoob]three.js   1  splatcollision  2011-01-10               0   \n",
       "1063148  [mrdoob]three.js   2          mrdoob  2010-04-26               0   \n",
       "1063149  [mrdoob]three.js   2            Ovid  2010-04-26               0   \n",
       "1063150  [mrdoob]three.js   2          jurjen  2010-04-30               0   \n",
       "\n",
       "         CountLike  CountDislike Sentiment  SentimentScore  \n",
       "1063146          0             0  POSITIVE          0.9977  \n",
       "1063147          0             0  POSITIVE          0.9990  \n",
       "1063148          0             0  POSITIVE          0.7345  \n",
       "1063149          0             0  POSITIVE          0.9975  \n",
       "1063150          0             0  POSITIVE          0.9921  "
      ]
     },
     "execution_count": 872,
     "metadata": {},
     "output_type": "execute_result"
    }
   ],
   "source": [
    "df_three_comments.head()"
   ]
  },
  {
   "cell_type": "code",
   "execution_count": null,
   "id": "cb433153-26c2-45db-9af1-c3f8b111e53a",
   "metadata": {},
   "outputs": [],
   "source": []
  },
  {
   "cell_type": "code",
   "execution_count": 932,
   "id": "9b18f423-5586-4f3c-a2a9-70f578590926",
   "metadata": {},
   "outputs": [],
   "source": [
    "def get_df_user_nb_con_percent(repository):\n",
    "    df_three_users_origin = get_users_network_df(repository)\n",
    "\n",
    "    df_three_users = pd.DataFrame(df_three_users_origin['User'].value_counts())\n",
    "    df_three_users = df_three_users.reset_index(level=0, inplace=False)\n",
    "    df_three_users.columns = ['user_name', 'nb_connections']\n",
    "\n",
    "    total_connections = df_three_users['nb_connections'].sum()\n",
    "    # print(\"ttl nb=\", total_connections)\n",
    "    df_three_users['nb_connections_percent'] = df_three_users['nb_connections'].apply(lambda x: x/total_connections*100)\n",
    "\n",
    "    return df_three_users"
   ]
  },
  {
   "cell_type": "code",
   "execution_count": 928,
   "id": "7fab93c5-097b-4a66-bce1-ec3f8eb9a261",
   "metadata": {},
   "outputs": [],
   "source": [
    "df_three_users_origin = get_users_network_df(repository_threejs)\n",
    "# df_three_users = pd.DataFrame(df_three_users_origin['User'].value_counts())"
   ]
  },
  {
   "cell_type": "code",
   "execution_count": 934,
   "id": "22377263-cc4c-40d8-894f-857a37e6f431",
   "metadata": {},
   "outputs": [
    {
     "data": {
      "text/html": [
       "<div>\n",
       "<style scoped>\n",
       "    .dataframe tbody tr th:only-of-type {\n",
       "        vertical-align: middle;\n",
       "    }\n",
       "\n",
       "    .dataframe tbody tr th {\n",
       "        vertical-align: top;\n",
       "    }\n",
       "\n",
       "    .dataframe thead th {\n",
       "        text-align: right;\n",
       "    }\n",
       "</style>\n",
       "<table border=\"1\" class=\"dataframe\">\n",
       "  <thead>\n",
       "    <tr style=\"text-align: right;\">\n",
       "      <th></th>\n",
       "      <th>ID</th>\n",
       "      <th>User</th>\n",
       "    </tr>\n",
       "  </thead>\n",
       "  <tbody>\n",
       "    <tr>\n",
       "      <th>238087</th>\n",
       "      <td>1</td>\n",
       "      <td>chrislloyd</td>\n",
       "    </tr>\n",
       "    <tr>\n",
       "      <th>1063147</th>\n",
       "      <td>1</td>\n",
       "      <td>splatcollision</td>\n",
       "    </tr>\n",
       "    <tr>\n",
       "      <th>1063146</th>\n",
       "      <td>1</td>\n",
       "      <td>mrdoob</td>\n",
       "    </tr>\n",
       "    <tr>\n",
       "      <th>1063148</th>\n",
       "      <td>2</td>\n",
       "      <td>mrdoob</td>\n",
       "    </tr>\n",
       "    <tr>\n",
       "      <th>1063149</th>\n",
       "      <td>2</td>\n",
       "      <td>Ovid</td>\n",
       "    </tr>\n",
       "  </tbody>\n",
       "</table>\n",
       "</div>"
      ],
      "text/plain": [
       "         ID            User\n",
       "238087    1      chrislloyd\n",
       "1063147   1  splatcollision\n",
       "1063146   1          mrdoob\n",
       "1063148   2          mrdoob\n",
       "1063149   2            Ovid"
      ]
     },
     "execution_count": 934,
     "metadata": {},
     "output_type": "execute_result"
    }
   ],
   "source": [
    "df_three_users_origin.head()"
   ]
  },
  {
   "cell_type": "code",
   "execution_count": 933,
   "id": "a9def593-053c-41db-ac6c-6d747ebefe8a",
   "metadata": {},
   "outputs": [
    {
     "name": "stdout",
     "output_type": "stream",
     "text": [
      "ttl nb= 27548\n"
     ]
    }
   ],
   "source": [
    "df_three_users = get_df_user_nb_con_percent(repository_threejs)"
   ]
  },
  {
   "cell_type": "code",
   "execution_count": 926,
   "id": "932494a5-8710-4f6a-9bad-2831fda8924b",
   "metadata": {},
   "outputs": [],
   "source": [
    "total_nb_ppl_three = len(df_three_users['user_name'])"
   ]
  },
  {
   "cell_type": "code",
   "execution_count": 927,
   "id": "63c41269-15de-4daa-b6ac-69f0cede7d00",
   "metadata": {},
   "outputs": [
    {
     "data": {
      "text/plain": [
       "5165"
      ]
     },
     "execution_count": 927,
     "metadata": {},
     "output_type": "execute_result"
    }
   ],
   "source": [
    "total_nb_ppl_three"
   ]
  },
  {
   "cell_type": "code",
   "execution_count": null,
   "id": "bb9cc33e-07f9-4421-b4d1-6e3d39ec1665",
   "metadata": {},
   "outputs": [],
   "source": [
    "# How to diff?\n",
    "# take maximum presentage\n",
    "# if diff in precentag >= 10%"
   ]
  },
  {
   "cell_type": "code",
   "execution_count": 908,
   "id": "ac3efd70-78a2-4286-aafe-72dd19273c2c",
   "metadata": {},
   "outputs": [
    {
     "data": {
      "text/html": [
       "<div>\n",
       "<style scoped>\n",
       "    .dataframe tbody tr th:only-of-type {\n",
       "        vertical-align: middle;\n",
       "    }\n",
       "\n",
       "    .dataframe tbody tr th {\n",
       "        vertical-align: top;\n",
       "    }\n",
       "\n",
       "    .dataframe thead th {\n",
       "        text-align: right;\n",
       "    }\n",
       "</style>\n",
       "<table border=\"1\" class=\"dataframe\">\n",
       "  <thead>\n",
       "    <tr style=\"text-align: right;\">\n",
       "      <th></th>\n",
       "      <th>user_name</th>\n",
       "      <th>nb_connections</th>\n",
       "      <th>nb_connections_percent</th>\n",
       "    </tr>\n",
       "  </thead>\n",
       "  <tbody>\n",
       "    <tr>\n",
       "      <th>0</th>\n",
       "      <td>mrdoob</td>\n",
       "      <td>7257</td>\n",
       "      <td>26.343110</td>\n",
       "    </tr>\n",
       "    <tr>\n",
       "      <th>1</th>\n",
       "      <td>WestLangley</td>\n",
       "      <td>2270</td>\n",
       "      <td>8.240163</td>\n",
       "    </tr>\n",
       "    <tr>\n",
       "      <th>2</th>\n",
       "      <td>alteredq</td>\n",
       "      <td>885</td>\n",
       "      <td>3.212574</td>\n",
       "    </tr>\n",
       "    <tr>\n",
       "      <th>3</th>\n",
       "      <td>Mugen87</td>\n",
       "      <td>645</td>\n",
       "      <td>2.341368</td>\n",
       "    </tr>\n",
       "    <tr>\n",
       "      <th>4</th>\n",
       "      <td>bhouston</td>\n",
       "      <td>638</td>\n",
       "      <td>2.315958</td>\n",
       "    </tr>\n",
       "    <tr>\n",
       "      <th>5</th>\n",
       "      <td>gero3</td>\n",
       "      <td>503</td>\n",
       "      <td>1.825904</td>\n",
       "    </tr>\n",
       "    <tr>\n",
       "      <th>6</th>\n",
       "      <td>zz85</td>\n",
       "      <td>335</td>\n",
       "      <td>1.216059</td>\n",
       "    </tr>\n",
       "    <tr>\n",
       "      <th>7</th>\n",
       "      <td>makc</td>\n",
       "      <td>307</td>\n",
       "      <td>1.114418</td>\n",
       "    </tr>\n",
       "    <tr>\n",
       "      <th>8</th>\n",
       "      <td>ghost</td>\n",
       "      <td>296</td>\n",
       "      <td>1.074488</td>\n",
       "    </tr>\n",
       "    <tr>\n",
       "      <th>9</th>\n",
       "      <td>tschw</td>\n",
       "      <td>266</td>\n",
       "      <td>0.965587</td>\n",
       "    </tr>\n",
       "  </tbody>\n",
       "</table>\n",
       "</div>"
      ],
      "text/plain": [
       "     user_name  nb_connections  nb_connections_percent\n",
       "0       mrdoob            7257               26.343110\n",
       "1  WestLangley            2270                8.240163\n",
       "2     alteredq             885                3.212574\n",
       "3      Mugen87             645                2.341368\n",
       "4     bhouston             638                2.315958\n",
       "5        gero3             503                1.825904\n",
       "6         zz85             335                1.216059\n",
       "7         makc             307                1.114418\n",
       "8        ghost             296                1.074488\n",
       "9        tschw             266                0.965587"
      ]
     },
     "execution_count": 908,
     "metadata": {},
     "output_type": "execute_result"
    }
   ],
   "source": [
    "df_three_users.head(10)"
   ]
  },
  {
   "cell_type": "code",
   "execution_count": 894,
   "id": "0b0f7c3f-0ef9-4f4e-ab85-9b72cd0923a0",
   "metadata": {},
   "outputs": [],
   "source": [
    "# from all users takeonly significant part"
   ]
  },
  {
   "cell_type": "code",
   "execution_count": 937,
   "id": "10f984a8-5523-4d09-ac53-b8097c65fc1f",
   "metadata": {},
   "outputs": [],
   "source": [
    "df_tmp = df_three_users_origin\n",
    "id_pri = list(df_tmp[\"ID\"].unique())\n",
    "id_user = list(df_tmp[\"User\"].unique())\n",
    "nb_links = len(df_tmp)\n",
    "size = range(0, nb_links)\n",
    "\n",
    "edge_list = []\n",
    "for i in size:\n",
    "    left = df_tmp['ID'].iloc[i]\n",
    "    right = df_tmp['User'].iloc[i]\n",
    "    pair = (left, right)\n",
    "    edge_list.append(pair)"
   ]
  },
  {
   "cell_type": "code",
   "execution_count": 938,
   "id": "af2e79d3-67c1-4763-bf73-f92004b7c1bc",
   "metadata": {},
   "outputs": [],
   "source": [
    "B = get_bipartite_graph(id_pri, id_user, edge_list)\n",
    "G_users_three = bipartite.weighted_projected_graph(B, id_user)\n",
    "df_user_edjes = nx.to_pandas_edgelist(G_users_three)\n",
    "# df_user_edjes.head()"
   ]
  },
  {
   "cell_type": "code",
   "execution_count": 940,
   "id": "2611ac76-40c4-45dc-a015-43810bc02695",
   "metadata": {},
   "outputs": [],
   "source": [
    "df_user_edjes_cp = df_user_edjes.copy()"
   ]
  },
  {
   "cell_type": "code",
   "execution_count": 957,
   "id": "4d3cf140-a785-43f1-ba0d-aa0c12a7a265",
   "metadata": {},
   "outputs": [
    {
     "data": {
      "text/html": [
       "<div>\n",
       "<style scoped>\n",
       "    .dataframe tbody tr th:only-of-type {\n",
       "        vertical-align: middle;\n",
       "    }\n",
       "\n",
       "    .dataframe tbody tr th {\n",
       "        vertical-align: top;\n",
       "    }\n",
       "\n",
       "    .dataframe thead th {\n",
       "        text-align: right;\n",
       "    }\n",
       "</style>\n",
       "<table border=\"1\" class=\"dataframe\">\n",
       "  <thead>\n",
       "    <tr style=\"text-align: right;\">\n",
       "      <th></th>\n",
       "      <th>source</th>\n",
       "      <th>target</th>\n",
       "      <th>weight</th>\n",
       "    </tr>\n",
       "  </thead>\n",
       "  <tbody>\n",
       "    <tr>\n",
       "      <th>0</th>\n",
       "      <td>chrislloyd</td>\n",
       "      <td>mrdoob</td>\n",
       "      <td>1</td>\n",
       "    </tr>\n",
       "    <tr>\n",
       "      <th>1</th>\n",
       "      <td>chrislloyd</td>\n",
       "      <td>splatcollision</td>\n",
       "      <td>1</td>\n",
       "    </tr>\n",
       "    <tr>\n",
       "      <th>2</th>\n",
       "      <td>splatcollision</td>\n",
       "      <td>mrdoob</td>\n",
       "      <td>2</td>\n",
       "    </tr>\n",
       "    <tr>\n",
       "      <th>3</th>\n",
       "      <td>splatcollision</td>\n",
       "      <td>gero3</td>\n",
       "      <td>1</td>\n",
       "    </tr>\n",
       "    <tr>\n",
       "      <th>4</th>\n",
       "      <td>splatcollision</td>\n",
       "      <td>rastafermo</td>\n",
       "      <td>1</td>\n",
       "    </tr>\n",
       "  </tbody>\n",
       "</table>\n",
       "</div>"
      ],
      "text/plain": [
       "           source          target  weight\n",
       "0      chrislloyd          mrdoob       1\n",
       "1      chrislloyd  splatcollision       1\n",
       "2  splatcollision          mrdoob       2\n",
       "3  splatcollision           gero3       1\n",
       "4  splatcollision      rastafermo       1"
      ]
     },
     "execution_count": 957,
     "metadata": {},
     "output_type": "execute_result"
    }
   ],
   "source": [
    "df_user_edjes.head()"
   ]
  },
  {
   "cell_type": "code",
   "execution_count": 962,
   "id": "2d993927-17c2-474e-ad2b-a2a1f5d4a105",
   "metadata": {},
   "outputs": [
    {
     "data": {
      "text/plain": [
       "source\n",
       "0xor1           2\n",
       "1147079942      1\n",
       "180and170      18\n",
       "23d1            7\n",
       "2lost4u        45\n",
       "             ... \n",
       "zsitro          1\n",
       "ztxxxx0000      1\n",
       "zwcloud         6\n",
       "zydecode        4\n",
       "zz85          633\n",
       "Name: weight, Length: 1955, dtype: int64"
      ]
     },
     "execution_count": 962,
     "metadata": {},
     "output_type": "execute_result"
    }
   ],
   "source": [
    "# df_user_edjes[['source','target']].groupby(by=['source'])['weight'].sum()\n",
    "df_user_edjes.groupby(by=['source'])[['target','weight']].sum()"
   ]
  },
  {
   "cell_type": "code",
   "execution_count": 917,
   "id": "86a10913-7939-48fb-b88a-262fd9192359",
   "metadata": {},
   "outputs": [],
   "source": [
    "df = list()\n",
    "for rep in microsoft_projects:\n",
    "    df_microsoft = get_df_user_nb_con_percent(rep)\n",
    "    df.append(df_microsoft)"
   ]
  },
  {
   "cell_type": "code",
   "execution_count": 919,
   "id": "5a4ba634-f7eb-4ceb-93c5-75c31b4f3085",
   "metadata": {},
   "outputs": [
    {
     "data": {
      "text/html": [
       "<div>\n",
       "<style scoped>\n",
       "    .dataframe tbody tr th:only-of-type {\n",
       "        vertical-align: middle;\n",
       "    }\n",
       "\n",
       "    .dataframe tbody tr th {\n",
       "        vertical-align: top;\n",
       "    }\n",
       "\n",
       "    .dataframe thead th {\n",
       "        text-align: right;\n",
       "    }\n",
       "</style>\n",
       "<table border=\"1\" class=\"dataframe\">\n",
       "  <thead>\n",
       "    <tr style=\"text-align: right;\">\n",
       "      <th></th>\n",
       "      <th>user_name</th>\n",
       "      <th>nb_connections</th>\n",
       "      <th>nb_connections_percent</th>\n",
       "    </tr>\n",
       "  </thead>\n",
       "  <tbody>\n",
       "    <tr>\n",
       "      <th>0</th>\n",
       "      <td>msftbot[bot]</td>\n",
       "      <td>5026</td>\n",
       "      <td>14.266655</td>\n",
       "    </tr>\n",
       "    <tr>\n",
       "      <th>1</th>\n",
       "      <td>zadjii-msft</td>\n",
       "      <td>4649</td>\n",
       "      <td>13.196514</td>\n",
       "    </tr>\n",
       "    <tr>\n",
       "      <th>2</th>\n",
       "      <td>DHowett-MSFT</td>\n",
       "      <td>3227</td>\n",
       "      <td>9.160067</td>\n",
       "    </tr>\n",
       "    <tr>\n",
       "      <th>3</th>\n",
       "      <td>DHowett</td>\n",
       "      <td>2672</td>\n",
       "      <td>7.584660</td>\n",
       "    </tr>\n",
       "    <tr>\n",
       "      <th>4</th>\n",
       "      <td>miniksa</td>\n",
       "      <td>921</td>\n",
       "      <td>2.614323</td>\n",
       "    </tr>\n",
       "    <tr>\n",
       "      <th>5</th>\n",
       "      <td>carlos-zamora</td>\n",
       "      <td>649</td>\n",
       "      <td>1.842232</td>\n",
       "    </tr>\n",
       "    <tr>\n",
       "      <th>6</th>\n",
       "      <td>j4james</td>\n",
       "      <td>640</td>\n",
       "      <td>1.816685</td>\n",
       "    </tr>\n",
       "    <tr>\n",
       "      <th>7</th>\n",
       "      <td>skyline75489</td>\n",
       "      <td>568</td>\n",
       "      <td>1.612308</td>\n",
       "    </tr>\n",
       "    <tr>\n",
       "      <th>8</th>\n",
       "      <td>Don-Vito</td>\n",
       "      <td>314</td>\n",
       "      <td>0.891311</td>\n",
       "    </tr>\n",
       "    <tr>\n",
       "      <th>9</th>\n",
       "      <td>WSLUser</td>\n",
       "      <td>260</td>\n",
       "      <td>0.738028</td>\n",
       "    </tr>\n",
       "  </tbody>\n",
       "</table>\n",
       "</div>"
      ],
      "text/plain": [
       "       user_name  nb_connections  nb_connections_percent\n",
       "0   msftbot[bot]            5026               14.266655\n",
       "1    zadjii-msft            4649               13.196514\n",
       "2   DHowett-MSFT            3227                9.160067\n",
       "3        DHowett            2672                7.584660\n",
       "4        miniksa             921                2.614323\n",
       "5  carlos-zamora             649                1.842232\n",
       "6        j4james             640                1.816685\n",
       "7   skyline75489             568                1.612308\n",
       "8       Don-Vito             314                0.891311\n",
       "9        WSLUser             260                0.738028"
      ]
     },
     "execution_count": 919,
     "metadata": {},
     "output_type": "execute_result"
    }
   ],
   "source": [
    "df[0].head(10)"
   ]
  },
  {
   "cell_type": "code",
   "execution_count": 920,
   "id": "fa1bffbc-e5c0-4cd8-8edd-b4b2d3612fb8",
   "metadata": {},
   "outputs": [
    {
     "data": {
      "text/html": [
       "<div>\n",
       "<style scoped>\n",
       "    .dataframe tbody tr th:only-of-type {\n",
       "        vertical-align: middle;\n",
       "    }\n",
       "\n",
       "    .dataframe tbody tr th {\n",
       "        vertical-align: top;\n",
       "    }\n",
       "\n",
       "    .dataframe thead th {\n",
       "        text-align: right;\n",
       "    }\n",
       "</style>\n",
       "<table border=\"1\" class=\"dataframe\">\n",
       "  <thead>\n",
       "    <tr style=\"text-align: right;\">\n",
       "      <th></th>\n",
       "      <th>user_name</th>\n",
       "      <th>nb_connections</th>\n",
       "      <th>nb_connections_percent</th>\n",
       "    </tr>\n",
       "  </thead>\n",
       "  <tbody>\n",
       "    <tr>\n",
       "      <th>0</th>\n",
       "      <td>mhegazy</td>\n",
       "      <td>5023</td>\n",
       "      <td>15.043877</td>\n",
       "    </tr>\n",
       "    <tr>\n",
       "      <th>1</th>\n",
       "      <td>DanielRosenwasser</td>\n",
       "      <td>2511</td>\n",
       "      <td>7.520441</td>\n",
       "    </tr>\n",
       "    <tr>\n",
       "      <th>2</th>\n",
       "      <td>RyanCavanaugh</td>\n",
       "      <td>2241</td>\n",
       "      <td>6.711791</td>\n",
       "    </tr>\n",
       "    <tr>\n",
       "      <th>3</th>\n",
       "      <td>vladima</td>\n",
       "      <td>1071</td>\n",
       "      <td>3.207643</td>\n",
       "    </tr>\n",
       "    <tr>\n",
       "      <th>4</th>\n",
       "      <td>danquirk</td>\n",
       "      <td>891</td>\n",
       "      <td>2.668544</td>\n",
       "    </tr>\n",
       "    <tr>\n",
       "      <th>5</th>\n",
       "      <td>ahejlsberg</td>\n",
       "      <td>701</td>\n",
       "      <td>2.099494</td>\n",
       "    </tr>\n",
       "    <tr>\n",
       "      <th>6</th>\n",
       "      <td>JsonFreeman</td>\n",
       "      <td>595</td>\n",
       "      <td>1.782024</td>\n",
       "    </tr>\n",
       "    <tr>\n",
       "      <th>7</th>\n",
       "      <td>CyrusNajmabadi</td>\n",
       "      <td>591</td>\n",
       "      <td>1.770044</td>\n",
       "    </tr>\n",
       "    <tr>\n",
       "      <th>8</th>\n",
       "      <td>yuit</td>\n",
       "      <td>526</td>\n",
       "      <td>1.575369</td>\n",
       "    </tr>\n",
       "    <tr>\n",
       "      <th>9</th>\n",
       "      <td>sandersn</td>\n",
       "      <td>523</td>\n",
       "      <td>1.566384</td>\n",
       "    </tr>\n",
       "  </tbody>\n",
       "</table>\n",
       "</div>"
      ],
      "text/plain": [
       "           user_name  nb_connections  nb_connections_percent\n",
       "0            mhegazy            5023               15.043877\n",
       "1  DanielRosenwasser            2511                7.520441\n",
       "2      RyanCavanaugh            2241                6.711791\n",
       "3            vladima            1071                3.207643\n",
       "4           danquirk             891                2.668544\n",
       "5         ahejlsberg             701                2.099494\n",
       "6        JsonFreeman             595                1.782024\n",
       "7     CyrusNajmabadi             591                1.770044\n",
       "8               yuit             526                1.575369\n",
       "9           sandersn             523                1.566384"
      ]
     },
     "execution_count": 920,
     "metadata": {},
     "output_type": "execute_result"
    }
   ],
   "source": [
    "df[1].head(10)"
   ]
  },
  {
   "cell_type": "code",
   "execution_count": 921,
   "id": "d85e3183-8fe8-48ab-a769-68d548a250c0",
   "metadata": {},
   "outputs": [
    {
     "data": {
      "text/html": [
       "<div>\n",
       "<style scoped>\n",
       "    .dataframe tbody tr th:only-of-type {\n",
       "        vertical-align: middle;\n",
       "    }\n",
       "\n",
       "    .dataframe tbody tr th {\n",
       "        vertical-align: top;\n",
       "    }\n",
       "\n",
       "    .dataframe thead th {\n",
       "        text-align: right;\n",
       "    }\n",
       "</style>\n",
       "<table border=\"1\" class=\"dataframe\">\n",
       "  <thead>\n",
       "    <tr style=\"text-align: right;\">\n",
       "      <th></th>\n",
       "      <th>user_name</th>\n",
       "      <th>nb_connections</th>\n",
       "      <th>nb_connections_percent</th>\n",
       "    </tr>\n",
       "  </thead>\n",
       "  <tbody>\n",
       "    <tr>\n",
       "      <th>0</th>\n",
       "      <td>bpasero</td>\n",
       "      <td>2573</td>\n",
       "      <td>7.673267</td>\n",
       "    </tr>\n",
       "    <tr>\n",
       "      <th>1</th>\n",
       "      <td>joaomoreno</td>\n",
       "      <td>1515</td>\n",
       "      <td>4.518072</td>\n",
       "    </tr>\n",
       "    <tr>\n",
       "      <th>2</th>\n",
       "      <td>alexdima</td>\n",
       "      <td>1354</td>\n",
       "      <td>4.037934</td>\n",
       "    </tr>\n",
       "    <tr>\n",
       "      <th>3</th>\n",
       "      <td>Tyriar</td>\n",
       "      <td>1342</td>\n",
       "      <td>4.002147</td>\n",
       "    </tr>\n",
       "    <tr>\n",
       "      <th>4</th>\n",
       "      <td>aeschli</td>\n",
       "      <td>1226</td>\n",
       "      <td>3.656209</td>\n",
       "    </tr>\n",
       "    <tr>\n",
       "      <th>5</th>\n",
       "      <td>isidorn</td>\n",
       "      <td>1210</td>\n",
       "      <td>3.608493</td>\n",
       "    </tr>\n",
       "    <tr>\n",
       "      <th>6</th>\n",
       "      <td>jrieken</td>\n",
       "      <td>1191</td>\n",
       "      <td>3.551831</td>\n",
       "    </tr>\n",
       "    <tr>\n",
       "      <th>7</th>\n",
       "      <td>egamma</td>\n",
       "      <td>995</td>\n",
       "      <td>2.967315</td>\n",
       "    </tr>\n",
       "    <tr>\n",
       "      <th>8</th>\n",
       "      <td>dbaeumer</td>\n",
       "      <td>993</td>\n",
       "      <td>2.961350</td>\n",
       "    </tr>\n",
       "    <tr>\n",
       "      <th>9</th>\n",
       "      <td>weinand</td>\n",
       "      <td>757</td>\n",
       "      <td>2.257545</td>\n",
       "    </tr>\n",
       "  </tbody>\n",
       "</table>\n",
       "</div>"
      ],
      "text/plain": [
       "    user_name  nb_connections  nb_connections_percent\n",
       "0     bpasero            2573                7.673267\n",
       "1  joaomoreno            1515                4.518072\n",
       "2    alexdima            1354                4.037934\n",
       "3      Tyriar            1342                4.002147\n",
       "4     aeschli            1226                3.656209\n",
       "5     isidorn            1210                3.608493\n",
       "6     jrieken            1191                3.551831\n",
       "7      egamma             995                2.967315\n",
       "8    dbaeumer             993                2.961350\n",
       "9     weinand             757                2.257545"
      ]
     },
     "execution_count": 921,
     "metadata": {},
     "output_type": "execute_result"
    }
   ],
   "source": [
    "df[2].head(10)"
   ]
  },
  {
   "cell_type": "code",
   "execution_count": null,
   "id": "9b3fe8bb-0509-4288-8185-05fbe5a5f36d",
   "metadata": {},
   "outputs": [],
   "source": []
  }
 ],
 "metadata": {
  "kernelspec": {
   "display_name": "DSCourse",
   "language": "python",
   "name": "dscourse"
  },
  "language_info": {
   "codemirror_mode": {
    "name": "ipython",
    "version": 3
   },
   "file_extension": ".py",
   "mimetype": "text/x-python",
   "name": "python",
   "nbconvert_exporter": "python",
   "pygments_lexer": "ipython3",
   "version": "3.10.8"
  }
 },
 "nbformat": 4,
 "nbformat_minor": 5
}
