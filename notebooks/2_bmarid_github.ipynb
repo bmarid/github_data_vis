{
 "cells": [
  {
   "cell_type": "raw",
   "id": "afc79161-f047-4925-83bf-da1305760781",
   "metadata": {},
   "source": [
    "Full description of notebook\n",
    "* gathering data for three.js project \n",
    "* result - csv id_task - user"
   ]
  },
  {
   "cell_type": "markdown",
   "id": "af04fe50-3db9-496e-8e98-5e3cdf163178",
   "metadata": {},
   "source": [
    "# imports"
   ]
  },
  {
   "cell_type": "code",
   "execution_count": 2,
   "id": "65ee03e9-41a4-4e4a-94a0-e317be12703a",
   "metadata": {},
   "outputs": [],
   "source": [
    "import pandas as pd\n",
    "import matplotlib.pyplot as plt\n",
    "import networkx as nx"
   ]
  },
  {
   "cell_type": "code",
   "execution_count": 3,
   "id": "1d78d893-61a6-4114-939b-79779474f003",
   "metadata": {},
   "outputs": [],
   "source": [
    "# read files"
   ]
  },
  {
   "cell_type": "code",
   "execution_count": 4,
   "id": "534aa363-8bc1-4ac5-b23a-34315faa686b",
   "metadata": {},
   "outputs": [],
   "source": [
    "file_comments = 'github_1000stars_comments.csv'\n",
    "file_issues = 'github_1000stars_issues.csv'\n",
    "file_rep = 'mrdoob_three.js.csv'"
   ]
  },
  {
   "cell_type": "code",
   "execution_count": 5,
   "id": "4bf9de29-45eb-4ad9-a7be-2fc294edd08c",
   "metadata": {},
   "outputs": [],
   "source": [
    "df_comments = pd.read_csv(file_comments)\n",
    "df_issues = pd.read_csv(file_issues)\n",
    "df_rep = pd.read_csv(file_rep)"
   ]
  },
  {
   "cell_type": "code",
   "execution_count": 6,
   "id": "23f84d45-9137-4314-9268-49506b394c5e",
   "metadata": {},
   "outputs": [],
   "source": [
    "df_comments_copy = df_comments.copy()\n",
    "df_issues_copy = df_issues.copy()\n",
    "df_rep_copy = df_rep.copy()"
   ]
  },
  {
   "cell_type": "code",
   "execution_count": 7,
   "id": "38ad862b-0695-4c31-965c-24529a9ae448",
   "metadata": {},
   "outputs": [],
   "source": [
    "path = 'data/'"
   ]
  },
  {
   "cell_type": "code",
   "execution_count": 8,
   "id": "287d5813-0d22-459c-9f93-26f9ca4e07f6",
   "metadata": {},
   "outputs": [],
   "source": [
    "def save_graph(G, graph_name):\n",
    "    filepath = path + 'graph/' + graph_name + '.gexf'\n",
    "    nx.write_gexf(G, filepath)"
   ]
  },
  {
   "cell_type": "code",
   "execution_count": 22,
   "id": "a596699a-025e-4213-ab1a-7787417f1bf7",
   "metadata": {},
   "outputs": [],
   "source": [
    "def save_csv(df, file_name):\n",
    "    filepath = path + file_name + '.csv'\n",
    "    df.to_csv(filepath, index = False)  "
   ]
  },
  {
   "cell_type": "markdown",
   "id": "3f52ca32-8500-4cc5-8737-1f57ee1183f9",
   "metadata": {},
   "source": [
    "# all reposistories"
   ]
  },
  {
   "cell_type": "code",
   "execution_count": 10,
   "id": "b09a19b8-f0a0-4c59-a6b5-866ab3f9ed17",
   "metadata": {},
   "outputs": [
    {
     "data": {
      "text/plain": [
       "[freeCodeCamp]freeCodeCamp                 10000\n",
       "[mrdoob]three.js                           10000\n",
       "[microsoft]terminal                        10000\n",
       "[angular]angular                           10000\n",
       "[kubernetes]kubernetes                     10000\n",
       "[nodejs]node                               10000\n",
       "[golang]go                                 10000\n",
       "[ytdl-org]youtube-dl                       10000\n",
       "[facebook]create-react-app                 10000\n",
       "[vuejs]vue                                 10000\n",
       "[microsoft]TypeScript                      10000\n",
       "[facebook]react-native                     10000\n",
       "[denoland]deno                             10000\n",
       "[ohmyzsh]ohmyzsh                           10000\n",
       "[microsoft]vscode                          10000\n",
       "[facebook]react                            10000\n",
       "[tensorflow]tensorflow                     10000\n",
       "[twbs]bootstrap                            10000\n",
       "[flutter]flutter                           10000\n",
       "[ant-design]ant-design                     10000\n",
       "[mui]material-ui                           10000\n",
       "[tensorflow]models                          9474\n",
       "[puppeteer]puppeteer                        9037\n",
       "[TheAlgorithms]Python                       7778\n",
       "[axios]axios                                4957\n",
       "[electron]electron                          4838\n",
       "[d3]d3                                      3232\n",
       "[kamranahmedse]developer-roadmap            2485\n",
       "[airbnb]javascript                          2448\n",
       "[Snailclimb]JavaGuide                       1763\n",
       "[30-seconds]30-seconds-of-code              1759\n",
       "[getify]You-Dont-Know-JS                    1642\n",
       "[animate-css]animate.css                    1565\n",
       "[jwasham]coding-interview-university        1170\n",
       "[laravel]laravel                            1145\n",
       "[CyC2018]CS-Notes                            973\n",
       "[ossu]computer-science                       960\n",
       "[labuladong]fucking-algorithm                816\n",
       "[trekhleb]javascript-algorithms              655\n",
       "[jlevy]the-art-of-command-line               566\n",
       "[codecrafters-io]build-your-own-x            528\n",
       "[torvalds]linux                              449\n",
       "[justjavac]free-programming-books-zh_CN      424\n",
       "[donnemartin]system-design-primer            343\n",
       "[jackfrued]Python-100-Days                   225\n",
       "Name: Repository, dtype: int64"
      ]
     },
     "execution_count": 10,
     "metadata": {},
     "output_type": "execute_result"
    }
   ],
   "source": [
    " df_issues['Repository'].value_counts()"
   ]
  },
  {
   "cell_type": "code",
   "execution_count": 11,
   "id": "4745d500-b7a3-4691-a7a5-4187259a54a7",
   "metadata": {},
   "outputs": [],
   "source": [
    "# repository = '[golang]go'\n",
    "repository = '[mrdoob]three.js'\n",
    "# repositiry = '[donnemartin]system-design-primer'\n",
    "#repository = '[torvalds]linux'"
   ]
  },
  {
   "cell_type": "code",
   "execution_count": 12,
   "id": "3b548c13-4204-43b5-8368-1dde37c7948c",
   "metadata": {},
   "outputs": [],
   "source": [
    "df_go_comments = df_comments[df_comments['Repository'] == repository]\n",
    "df_go_issues = df_issues[df_issues['Repository'] == repository]"
   ]
  },
  {
   "cell_type": "code",
   "execution_count": 13,
   "id": "fb44b986-8b7f-4e27-871e-7b9342b11de4",
   "metadata": {},
   "outputs": [],
   "source": [
    "# df_issues.head()"
   ]
  },
  {
   "cell_type": "code",
   "execution_count": 14,
   "id": "db0d56b5-9893-49d3-811c-30dd573b8ea9",
   "metadata": {},
   "outputs": [
    {
     "data": {
      "text/plain": [
       "56868"
      ]
     },
     "execution_count": 14,
     "metadata": {},
     "output_type": "execute_result"
    }
   ],
   "source": [
    "len(df_go_comments['ID'].values)"
   ]
  },
  {
   "cell_type": "code",
   "execution_count": 15,
   "id": "17cae00a-f922-48e4-8074-835405bd25d7",
   "metadata": {},
   "outputs": [
    {
     "data": {
      "text/plain": [
       "10000"
      ]
     },
     "execution_count": 15,
     "metadata": {},
     "output_type": "execute_result"
    }
   ],
   "source": [
    "len(df_go_issues['ID'].values)"
   ]
  },
  {
   "cell_type": "code",
   "execution_count": 16,
   "id": "0c8af356-0c37-4895-851b-1b76215c6159",
   "metadata": {},
   "outputs": [],
   "source": [
    "# list(df_go_comments['ID'].value_counts())"
   ]
  },
  {
   "cell_type": "code",
   "execution_count": 17,
   "id": "f2e1d032-a818-48d8-a9d2-3cbfe02f84f1",
   "metadata": {},
   "outputs": [
    {
     "data": {
      "text/plain": [
       "9       1095\n",
       "2981     125\n",
       "395      118\n",
       "4373     116\n",
       "1435     105\n",
       "        ... \n",
       "263        1\n",
       "5101       1\n",
       "7091       1\n",
       "3089       1\n",
       "6096       1\n",
       "Name: ID, Length: 9898, dtype: int64"
      ]
     },
     "execution_count": 17,
     "metadata": {},
     "output_type": "execute_result"
    }
   ],
   "source": [
    "df_go_comments['ID'].value_counts()"
   ]
  },
  {
   "cell_type": "code",
   "execution_count": 18,
   "id": "b526cdc6-ab29-4e41-b52d-b551504309d2",
   "metadata": {},
   "outputs": [
    {
     "data": {
      "text/plain": [
       "1        1\n",
       "6847     1\n",
       "6838     1\n",
       "6839     1\n",
       "6841     1\n",
       "        ..\n",
       "3372     1\n",
       "3373     1\n",
       "3374     1\n",
       "3375     1\n",
       "10430    1\n",
       "Name: ID, Length: 10000, dtype: int64"
      ]
     },
     "execution_count": 18,
     "metadata": {},
     "output_type": "execute_result"
    }
   ],
   "source": [
    "df_go_issues['ID'].value_counts()"
   ]
  },
  {
   "cell_type": "markdown",
   "id": "d82a524d-7c56-4ef7-8248-0493607b7748",
   "metadata": {},
   "source": [
    "# Three repository"
   ]
  },
  {
   "cell_type": "code",
   "execution_count": 23,
   "id": "d615cc0f-f617-4f87-8102-d4203759cb73",
   "metadata": {},
   "outputs": [],
   "source": [
    "df_three = df_issues[df_issues['Repository'] == '[mrdoob]three.js']"
   ]
  },
  {
   "cell_type": "markdown",
   "id": "ba84ae16-fb2d-41f7-9356-2d11188c67af",
   "metadata": {},
   "source": [
    "## Comments"
   ]
  },
  {
   "cell_type": "code",
   "execution_count": 19,
   "id": "36136568-5b76-4529-a13d-8cd118f2c453",
   "metadata": {},
   "outputs": [],
   "source": [
    "df_three_comments = df_comments[df_comments['Repository'] == '[mrdoob]three.js']"
   ]
  },
  {
   "cell_type": "code",
   "execution_count": 20,
   "id": "75e63997-7d10-4e31-b014-213181f6f4c9",
   "metadata": {},
   "outputs": [
    {
     "data": {
      "text/html": [
       "<div>\n",
       "<style scoped>\n",
       "    .dataframe tbody tr th:only-of-type {\n",
       "        vertical-align: middle;\n",
       "    }\n",
       "\n",
       "    .dataframe tbody tr th {\n",
       "        vertical-align: top;\n",
       "    }\n",
       "\n",
       "    .dataframe thead th {\n",
       "        text-align: right;\n",
       "    }\n",
       "</style>\n",
       "<table border=\"1\" class=\"dataframe\">\n",
       "  <thead>\n",
       "    <tr style=\"text-align: right;\">\n",
       "      <th></th>\n",
       "      <th>Repository</th>\n",
       "      <th>ID</th>\n",
       "      <th>User</th>\n",
       "      <th>CreatedAt</th>\n",
       "      <th>CountReactions</th>\n",
       "      <th>CountLike</th>\n",
       "      <th>CountDislike</th>\n",
       "      <th>Sentiment</th>\n",
       "      <th>SentimentScore</th>\n",
       "    </tr>\n",
       "  </thead>\n",
       "  <tbody>\n",
       "    <tr>\n",
       "      <th>1063146</th>\n",
       "      <td>[mrdoob]three.js</td>\n",
       "      <td>1</td>\n",
       "      <td>mrdoob</td>\n",
       "      <td>2010-04-25</td>\n",
       "      <td>0</td>\n",
       "      <td>0</td>\n",
       "      <td>0</td>\n",
       "      <td>POSITIVE</td>\n",
       "      <td>0.9977</td>\n",
       "    </tr>\n",
       "    <tr>\n",
       "      <th>1063147</th>\n",
       "      <td>[mrdoob]three.js</td>\n",
       "      <td>1</td>\n",
       "      <td>splatcollision</td>\n",
       "      <td>2011-01-10</td>\n",
       "      <td>0</td>\n",
       "      <td>0</td>\n",
       "      <td>0</td>\n",
       "      <td>POSITIVE</td>\n",
       "      <td>0.9990</td>\n",
       "    </tr>\n",
       "    <tr>\n",
       "      <th>1063148</th>\n",
       "      <td>[mrdoob]three.js</td>\n",
       "      <td>2</td>\n",
       "      <td>mrdoob</td>\n",
       "      <td>2010-04-26</td>\n",
       "      <td>0</td>\n",
       "      <td>0</td>\n",
       "      <td>0</td>\n",
       "      <td>POSITIVE</td>\n",
       "      <td>0.7345</td>\n",
       "    </tr>\n",
       "    <tr>\n",
       "      <th>1063149</th>\n",
       "      <td>[mrdoob]three.js</td>\n",
       "      <td>2</td>\n",
       "      <td>Ovid</td>\n",
       "      <td>2010-04-26</td>\n",
       "      <td>0</td>\n",
       "      <td>0</td>\n",
       "      <td>0</td>\n",
       "      <td>POSITIVE</td>\n",
       "      <td>0.9975</td>\n",
       "    </tr>\n",
       "    <tr>\n",
       "      <th>1063150</th>\n",
       "      <td>[mrdoob]three.js</td>\n",
       "      <td>2</td>\n",
       "      <td>jurjen</td>\n",
       "      <td>2010-04-30</td>\n",
       "      <td>0</td>\n",
       "      <td>0</td>\n",
       "      <td>0</td>\n",
       "      <td>POSITIVE</td>\n",
       "      <td>0.9921</td>\n",
       "    </tr>\n",
       "  </tbody>\n",
       "</table>\n",
       "</div>"
      ],
      "text/plain": [
       "               Repository  ID            User   CreatedAt  CountReactions  \\\n",
       "1063146  [mrdoob]three.js   1          mrdoob  2010-04-25               0   \n",
       "1063147  [mrdoob]three.js   1  splatcollision  2011-01-10               0   \n",
       "1063148  [mrdoob]three.js   2          mrdoob  2010-04-26               0   \n",
       "1063149  [mrdoob]three.js   2            Ovid  2010-04-26               0   \n",
       "1063150  [mrdoob]three.js   2          jurjen  2010-04-30               0   \n",
       "\n",
       "         CountLike  CountDislike Sentiment  SentimentScore  \n",
       "1063146          0             0  POSITIVE          0.9977  \n",
       "1063147          0             0  POSITIVE          0.9990  \n",
       "1063148          0             0  POSITIVE          0.7345  \n",
       "1063149          0             0  POSITIVE          0.9975  \n",
       "1063150          0             0  POSITIVE          0.9921  "
      ]
     },
     "execution_count": 20,
     "metadata": {},
     "output_type": "execute_result"
    }
   ],
   "source": [
    "df_three_comments.head()"
   ]
  },
  {
   "cell_type": "code",
   "execution_count": 24,
   "id": "382d79c7-c8dd-4bee-a64b-80329643ab72",
   "metadata": {},
   "outputs": [
    {
     "data": {
      "text/html": [
       "<div>\n",
       "<style scoped>\n",
       "    .dataframe tbody tr th:only-of-type {\n",
       "        vertical-align: middle;\n",
       "    }\n",
       "\n",
       "    .dataframe tbody tr th {\n",
       "        vertical-align: top;\n",
       "    }\n",
       "\n",
       "    .dataframe thead th {\n",
       "        text-align: right;\n",
       "    }\n",
       "</style>\n",
       "<table border=\"1\" class=\"dataframe\">\n",
       "  <thead>\n",
       "    <tr style=\"text-align: right;\">\n",
       "      <th></th>\n",
       "      <th>Repository</th>\n",
       "      <th>ID</th>\n",
       "      <th>User</th>\n",
       "      <th>Type</th>\n",
       "      <th>State</th>\n",
       "      <th>CommitId</th>\n",
       "      <th>CreatedAt</th>\n",
       "      <th>ClosedAt</th>\n",
       "      <th>IsMerged</th>\n",
       "      <th>CountReactions</th>\n",
       "      <th>CountLike</th>\n",
       "      <th>CountDislike</th>\n",
       "    </tr>\n",
       "  </thead>\n",
       "  <tbody>\n",
       "    <tr>\n",
       "      <th>238087</th>\n",
       "      <td>[mrdoob]three.js</td>\n",
       "      <td>1</td>\n",
       "      <td>chrislloyd</td>\n",
       "      <td>issue</td>\n",
       "      <td>closed</td>\n",
       "      <td>NaN</td>\n",
       "      <td>2010-04-25</td>\n",
       "      <td>2010-04-26</td>\n",
       "      <td>False</td>\n",
       "      <td>0</td>\n",
       "      <td>0</td>\n",
       "      <td>0</td>\n",
       "    </tr>\n",
       "    <tr>\n",
       "      <th>238088</th>\n",
       "      <td>[mrdoob]three.js</td>\n",
       "      <td>2</td>\n",
       "      <td>Ovid</td>\n",
       "      <td>issue</td>\n",
       "      <td>closed</td>\n",
       "      <td>NaN</td>\n",
       "      <td>2010-04-26</td>\n",
       "      <td>2010-11-04</td>\n",
       "      <td>False</td>\n",
       "      <td>0</td>\n",
       "      <td>0</td>\n",
       "      <td>0</td>\n",
       "    </tr>\n",
       "    <tr>\n",
       "      <th>238089</th>\n",
       "      <td>[mrdoob]three.js</td>\n",
       "      <td>3</td>\n",
       "      <td>icidasset</td>\n",
       "      <td>issue</td>\n",
       "      <td>closed</td>\n",
       "      <td>NaN</td>\n",
       "      <td>2010-06-20</td>\n",
       "      <td>2010-06-21</td>\n",
       "      <td>False</td>\n",
       "      <td>0</td>\n",
       "      <td>0</td>\n",
       "      <td>0</td>\n",
       "    </tr>\n",
       "    <tr>\n",
       "      <th>238090</th>\n",
       "      <td>[mrdoob]three.js</td>\n",
       "      <td>4</td>\n",
       "      <td>SignpostMarv</td>\n",
       "      <td>issue</td>\n",
       "      <td>closed</td>\n",
       "      <td>NaN</td>\n",
       "      <td>2010-06-23</td>\n",
       "      <td>2010-06-24</td>\n",
       "      <td>False</td>\n",
       "      <td>0</td>\n",
       "      <td>0</td>\n",
       "      <td>0</td>\n",
       "    </tr>\n",
       "    <tr>\n",
       "      <th>238091</th>\n",
       "      <td>[mrdoob]three.js</td>\n",
       "      <td>5</td>\n",
       "      <td>SignpostMarv</td>\n",
       "      <td>issue</td>\n",
       "      <td>closed</td>\n",
       "      <td>NaN</td>\n",
       "      <td>2010-06-23</td>\n",
       "      <td>2010-06-23</td>\n",
       "      <td>False</td>\n",
       "      <td>0</td>\n",
       "      <td>0</td>\n",
       "      <td>0</td>\n",
       "    </tr>\n",
       "  </tbody>\n",
       "</table>\n",
       "</div>"
      ],
      "text/plain": [
       "              Repository  ID          User   Type   State CommitId  \\\n",
       "238087  [mrdoob]three.js   1    chrislloyd  issue  closed      NaN   \n",
       "238088  [mrdoob]three.js   2          Ovid  issue  closed      NaN   \n",
       "238089  [mrdoob]three.js   3     icidasset  issue  closed      NaN   \n",
       "238090  [mrdoob]three.js   4  SignpostMarv  issue  closed      NaN   \n",
       "238091  [mrdoob]three.js   5  SignpostMarv  issue  closed      NaN   \n",
       "\n",
       "         CreatedAt    ClosedAt  IsMerged  CountReactions  CountLike  \\\n",
       "238087  2010-04-25  2010-04-26     False               0          0   \n",
       "238088  2010-04-26  2010-11-04     False               0          0   \n",
       "238089  2010-06-20  2010-06-21     False               0          0   \n",
       "238090  2010-06-23  2010-06-24     False               0          0   \n",
       "238091  2010-06-23  2010-06-23     False               0          0   \n",
       "\n",
       "        CountDislike  \n",
       "238087             0  \n",
       "238088             0  \n",
       "238089             0  \n",
       "238090             0  \n",
       "238091             0  "
      ]
     },
     "execution_count": 24,
     "metadata": {},
     "output_type": "execute_result"
    }
   ],
   "source": [
    "df_three.head()"
   ]
  },
  {
   "cell_type": "code",
   "execution_count": 25,
   "id": "68bc617c-c4fb-4b6f-9567-85a4a288a19a",
   "metadata": {},
   "outputs": [
    {
     "data": {
      "text/plain": [
       "9562     339\n",
       "9754     237\n",
       "7522     165\n",
       "5835     158\n",
       "4776     153\n",
       "        ... \n",
       "7418       1\n",
       "3810       1\n",
       "3807       1\n",
       "7423       1\n",
       "10049      1\n",
       "Name: ID, Length: 9364, dtype: int64"
      ]
     },
     "execution_count": 25,
     "metadata": {},
     "output_type": "execute_result"
    }
   ],
   "source": [
    "df_three_comments['ID'].value_counts()"
   ]
  },
  {
   "cell_type": "code",
   "execution_count": 26,
   "id": "2c600ac8-679f-4a50-8245-56c84ae44d42",
   "metadata": {},
   "outputs": [
    {
     "data": {
      "text/plain": [
       "1        1\n",
       "6685     1\n",
       "6678     1\n",
       "6679     1\n",
       "6680     1\n",
       "        ..\n",
       "3338     1\n",
       "3339     1\n",
       "3340     1\n",
       "3341     1\n",
       "10049    1\n",
       "Name: ID, Length: 10000, dtype: int64"
      ]
     },
     "execution_count": 26,
     "metadata": {},
     "output_type": "execute_result"
    }
   ],
   "source": [
    "df_three['ID'].value_counts()"
   ]
  },
  {
   "cell_type": "markdown",
   "id": "1f2390ed-e6cb-481e-b2bc-98b8295f9856",
   "metadata": {},
   "source": [
    "Checking numbers of ID_comments == ID_pri"
   ]
  },
  {
   "cell_type": "code",
   "execution_count": 27,
   "id": "8046819d-9c15-42e6-8cdb-64b3f201b100",
   "metadata": {},
   "outputs": [
    {
     "name": "stdout",
     "output_type": "stream",
     "text": [
      "in df_three_comments we have len(ID) = \n",
      "9364\n"
     ]
    }
   ],
   "source": [
    "print(\"in df_three_comments we have len(ID) = \")\n",
    "print(len(df_three_comments['ID'].value_counts()))"
   ]
  },
  {
   "cell_type": "code",
   "execution_count": 28,
   "id": "0ab53afe-8726-4f8d-90fe-7b316b04719f",
   "metadata": {},
   "outputs": [
    {
     "name": "stdout",
     "output_type": "stream",
     "text": [
      "in df_three pr/i we have len(ID) = \n",
      "10000\n"
     ]
    }
   ],
   "source": [
    "print(\"in df_three pr/i we have len(ID) = \")\n",
    "print(len(df_three['ID'].value_counts()))"
   ]
  },
  {
   "cell_type": "code",
   "execution_count": 29,
   "id": "715603c0-7f28-496b-941b-ae56ed6465c9",
   "metadata": {},
   "outputs": [
    {
     "name": "stdout",
     "output_type": "stream",
     "text": [
      "1\n",
      "10049\n"
     ]
    }
   ],
   "source": [
    "print(min(df_three_comments['ID'].values))\n",
    "print(max(df_three_comments['ID'].values))"
   ]
  },
  {
   "cell_type": "code",
   "execution_count": 30,
   "id": "29431b32-2f02-4182-9f55-296128925bfc",
   "metadata": {},
   "outputs": [
    {
     "name": "stdout",
     "output_type": "stream",
     "text": [
      "1\n",
      "10049\n"
     ]
    }
   ],
   "source": [
    "print(min(df_three['ID'].values))\n",
    "print(max(df_three['ID'].values))"
   ]
  },
  {
   "cell_type": "code",
   "execution_count": 33,
   "id": "ac8975bd-c2e1-4649-ac57-7f7ffa9f40c8",
   "metadata": {},
   "outputs": [],
   "source": [
    "df_check_id = df_three_comments['ID'].value_counts().to_frame('nb_actions_c').reset_index()\n",
    "df_check_id = df_check_id.rename(columns={\"index\": \"id_comments\"})"
   ]
  },
  {
   "cell_type": "code",
   "execution_count": 34,
   "id": "cc8cc072-0a5f-4249-95de-3e6c277ebef4",
   "metadata": {},
   "outputs": [],
   "source": [
    "df_check_id = df_check_id.sort_values(by='id_comments', ascending=True)"
   ]
  },
  {
   "cell_type": "code",
   "execution_count": 35,
   "id": "444992f4-57f7-4c6e-a30d-ed0919ff3690",
   "metadata": {},
   "outputs": [
    {
     "data": {
      "text/html": [
       "<div>\n",
       "<style scoped>\n",
       "    .dataframe tbody tr th:only-of-type {\n",
       "        vertical-align: middle;\n",
       "    }\n",
       "\n",
       "    .dataframe tbody tr th {\n",
       "        vertical-align: top;\n",
       "    }\n",
       "\n",
       "    .dataframe thead th {\n",
       "        text-align: right;\n",
       "    }\n",
       "</style>\n",
       "<table border=\"1\" class=\"dataframe\">\n",
       "  <thead>\n",
       "    <tr style=\"text-align: right;\">\n",
       "      <th></th>\n",
       "      <th>id_comments</th>\n",
       "      <th>nb_actions_c</th>\n",
       "    </tr>\n",
       "  </thead>\n",
       "  <tbody>\n",
       "    <tr>\n",
       "      <th>5564</th>\n",
       "      <td>1</td>\n",
       "      <td>2</td>\n",
       "    </tr>\n",
       "    <tr>\n",
       "      <th>136</th>\n",
       "      <td>2</td>\n",
       "      <td>32</td>\n",
       "    </tr>\n",
       "    <tr>\n",
       "      <th>6210</th>\n",
       "      <td>3</td>\n",
       "      <td>2</td>\n",
       "    </tr>\n",
       "    <tr>\n",
       "      <th>3319</th>\n",
       "      <td>4</td>\n",
       "      <td>4</td>\n",
       "    </tr>\n",
       "    <tr>\n",
       "      <th>2720</th>\n",
       "      <td>5</td>\n",
       "      <td>6</td>\n",
       "    </tr>\n",
       "  </tbody>\n",
       "</table>\n",
       "</div>"
      ],
      "text/plain": [
       "      id_comments  nb_actions_c\n",
       "5564            1             2\n",
       "136             2            32\n",
       "6210            3             2\n",
       "3319            4             4\n",
       "2720            5             6"
      ]
     },
     "execution_count": 35,
     "metadata": {},
     "output_type": "execute_result"
    }
   ],
   "source": [
    "df_check_id.head()"
   ]
  },
  {
   "cell_type": "code",
   "execution_count": null,
   "id": "d0f749de-9483-4f67-8029-a5dcf8071520",
   "metadata": {},
   "outputs": [],
   "source": [
    "#todo: as 1st part?"
   ]
  },
  {
   "cell_type": "markdown",
   "id": "7a3c813d-df21-4599-9656-4d6794f1f16b",
   "metadata": {},
   "source": [
    "## Full list of users (actions"
   ]
  },
  {
   "cell_type": "code",
   "execution_count": 36,
   "id": "2445ce63-4d49-417f-9d64-5c06e6d59acc",
   "metadata": {},
   "outputs": [],
   "source": [
    "df_three_users_ac = df_three.copy()"
   ]
  },
  {
   "cell_type": "code",
   "execution_count": 37,
   "id": "139f742b-2ce7-47a5-af90-b4abb8719dfd",
   "metadata": {},
   "outputs": [],
   "source": [
    "to_drop = ['Repository', 'Type', 'State', 'CommitId', 'CreatedAt', 'ClosedAt', 'IsMerged', 'CountReactions', 'CountLike', 'CountDislike']"
   ]
  },
  {
   "cell_type": "code",
   "execution_count": 38,
   "id": "bcac80e5-e155-43fc-b3be-9fe8084da160",
   "metadata": {},
   "outputs": [],
   "source": [
    "df_three_users_ac = df_three_users_ac.drop(columns = to_drop)"
   ]
  },
  {
   "cell_type": "code",
   "execution_count": 39,
   "id": "abd9f01e-9dd4-4c5b-99b1-3340e927ab47",
   "metadata": {},
   "outputs": [
    {
     "data": {
      "text/html": [
       "<div>\n",
       "<style scoped>\n",
       "    .dataframe tbody tr th:only-of-type {\n",
       "        vertical-align: middle;\n",
       "    }\n",
       "\n",
       "    .dataframe tbody tr th {\n",
       "        vertical-align: top;\n",
       "    }\n",
       "\n",
       "    .dataframe thead th {\n",
       "        text-align: right;\n",
       "    }\n",
       "</style>\n",
       "<table border=\"1\" class=\"dataframe\">\n",
       "  <thead>\n",
       "    <tr style=\"text-align: right;\">\n",
       "      <th></th>\n",
       "      <th>ID</th>\n",
       "      <th>User</th>\n",
       "    </tr>\n",
       "  </thead>\n",
       "  <tbody>\n",
       "    <tr>\n",
       "      <th>238087</th>\n",
       "      <td>1</td>\n",
       "      <td>chrislloyd</td>\n",
       "    </tr>\n",
       "    <tr>\n",
       "      <th>238088</th>\n",
       "      <td>2</td>\n",
       "      <td>Ovid</td>\n",
       "    </tr>\n",
       "    <tr>\n",
       "      <th>238089</th>\n",
       "      <td>3</td>\n",
       "      <td>icidasset</td>\n",
       "    </tr>\n",
       "    <tr>\n",
       "      <th>238090</th>\n",
       "      <td>4</td>\n",
       "      <td>SignpostMarv</td>\n",
       "    </tr>\n",
       "    <tr>\n",
       "      <th>238091</th>\n",
       "      <td>5</td>\n",
       "      <td>SignpostMarv</td>\n",
       "    </tr>\n",
       "  </tbody>\n",
       "</table>\n",
       "</div>"
      ],
      "text/plain": [
       "        ID          User\n",
       "238087   1    chrislloyd\n",
       "238088   2          Ovid\n",
       "238089   3     icidasset\n",
       "238090   4  SignpostMarv\n",
       "238091   5  SignpostMarv"
      ]
     },
     "execution_count": 39,
     "metadata": {},
     "output_type": "execute_result"
    }
   ],
   "source": [
    "df_three_users_ac.head()"
   ]
  },
  {
   "cell_type": "code",
   "execution_count": 47,
   "id": "b3f10ee0-5fb4-4b4e-8412-96b6c9515d4f",
   "metadata": {},
   "outputs": [],
   "source": [
    "df_three_users_c = df_three_comments.copy()"
   ]
  },
  {
   "cell_type": "code",
   "execution_count": 48,
   "id": "f7676554-7c70-4d8e-8829-5283ec7482db",
   "metadata": {},
   "outputs": [
    {
     "data": {
      "text/plain": [
       "Index(['Repository', 'ID', 'User', 'CreatedAt', 'CountReactions', 'CountLike',\n",
       "       'CountDislike', 'Sentiment', 'SentimentScore'],\n",
       "      dtype='object')"
      ]
     },
     "execution_count": 48,
     "metadata": {},
     "output_type": "execute_result"
    }
   ],
   "source": [
    "df_three_users_c.columns"
   ]
  },
  {
   "cell_type": "code",
   "execution_count": 49,
   "id": "deadc1ca-1651-4dca-a59b-f21b0531cc57",
   "metadata": {},
   "outputs": [],
   "source": [
    "to_drop = ['Repository', 'CreatedAt', 'CountReactions', 'CountLike', 'CountDislike', 'Sentiment', 'SentimentScore']"
   ]
  },
  {
   "cell_type": "code",
   "execution_count": 50,
   "id": "e70f06ac-fa4e-4386-8893-8c874ca1eb4c",
   "metadata": {},
   "outputs": [],
   "source": [
    "df_three_users_c = df_three_users_c.drop(columns = to_drop)"
   ]
  },
  {
   "cell_type": "code",
   "execution_count": 51,
   "id": "cec84d5b-a9d9-4ccf-ab7e-f109a7606629",
   "metadata": {},
   "outputs": [
    {
     "data": {
      "text/html": [
       "<div>\n",
       "<style scoped>\n",
       "    .dataframe tbody tr th:only-of-type {\n",
       "        vertical-align: middle;\n",
       "    }\n",
       "\n",
       "    .dataframe tbody tr th {\n",
       "        vertical-align: top;\n",
       "    }\n",
       "\n",
       "    .dataframe thead th {\n",
       "        text-align: right;\n",
       "    }\n",
       "</style>\n",
       "<table border=\"1\" class=\"dataframe\">\n",
       "  <thead>\n",
       "    <tr style=\"text-align: right;\">\n",
       "      <th></th>\n",
       "      <th>ID</th>\n",
       "      <th>User</th>\n",
       "    </tr>\n",
       "  </thead>\n",
       "  <tbody>\n",
       "    <tr>\n",
       "      <th>1063146</th>\n",
       "      <td>1</td>\n",
       "      <td>mrdoob</td>\n",
       "    </tr>\n",
       "    <tr>\n",
       "      <th>1063147</th>\n",
       "      <td>1</td>\n",
       "      <td>splatcollision</td>\n",
       "    </tr>\n",
       "    <tr>\n",
       "      <th>1063148</th>\n",
       "      <td>2</td>\n",
       "      <td>mrdoob</td>\n",
       "    </tr>\n",
       "    <tr>\n",
       "      <th>1063149</th>\n",
       "      <td>2</td>\n",
       "      <td>Ovid</td>\n",
       "    </tr>\n",
       "    <tr>\n",
       "      <th>1063150</th>\n",
       "      <td>2</td>\n",
       "      <td>jurjen</td>\n",
       "    </tr>\n",
       "  </tbody>\n",
       "</table>\n",
       "</div>"
      ],
      "text/plain": [
       "         ID            User\n",
       "1063146   1          mrdoob\n",
       "1063147   1  splatcollision\n",
       "1063148   2          mrdoob\n",
       "1063149   2            Ovid\n",
       "1063150   2          jurjen"
      ]
     },
     "execution_count": 51,
     "metadata": {},
     "output_type": "execute_result"
    }
   ],
   "source": [
    "df_three_users_c.head()"
   ]
  },
  {
   "cell_type": "code",
   "execution_count": 52,
   "id": "e0545f75-f18d-477e-9645-5ae77060782b",
   "metadata": {},
   "outputs": [],
   "source": [
    "frames = [df_three_users_ac, df_three_users_c]"
   ]
  },
  {
   "cell_type": "code",
   "execution_count": 53,
   "id": "ed50d0b3-990c-4021-9f0b-4577f7925e17",
   "metadata": {},
   "outputs": [],
   "source": [
    "df_three_users_merged = pd.concat(frames)"
   ]
  },
  {
   "cell_type": "code",
   "execution_count": 54,
   "id": "62cd4b11-47c6-4f43-9ebb-705ade51c053",
   "metadata": {},
   "outputs": [],
   "source": [
    "df_three_users_merged = df_three_users_merged.sort_values(by='ID', ascending = True)"
   ]
  },
  {
   "cell_type": "code",
   "execution_count": 55,
   "id": "2b01e3a0-a32d-4110-95c1-339cbe15d3ef",
   "metadata": {},
   "outputs": [
    {
     "data": {
      "text/html": [
       "<div>\n",
       "<style scoped>\n",
       "    .dataframe tbody tr th:only-of-type {\n",
       "        vertical-align: middle;\n",
       "    }\n",
       "\n",
       "    .dataframe tbody tr th {\n",
       "        vertical-align: top;\n",
       "    }\n",
       "\n",
       "    .dataframe thead th {\n",
       "        text-align: right;\n",
       "    }\n",
       "</style>\n",
       "<table border=\"1\" class=\"dataframe\">\n",
       "  <thead>\n",
       "    <tr style=\"text-align: right;\">\n",
       "      <th></th>\n",
       "      <th>ID</th>\n",
       "      <th>User</th>\n",
       "    </tr>\n",
       "  </thead>\n",
       "  <tbody>\n",
       "    <tr>\n",
       "      <th>238087</th>\n",
       "      <td>1</td>\n",
       "      <td>chrislloyd</td>\n",
       "    </tr>\n",
       "    <tr>\n",
       "      <th>1063147</th>\n",
       "      <td>1</td>\n",
       "      <td>splatcollision</td>\n",
       "    </tr>\n",
       "    <tr>\n",
       "      <th>1063146</th>\n",
       "      <td>1</td>\n",
       "      <td>mrdoob</td>\n",
       "    </tr>\n",
       "    <tr>\n",
       "      <th>1063148</th>\n",
       "      <td>2</td>\n",
       "      <td>mrdoob</td>\n",
       "    </tr>\n",
       "    <tr>\n",
       "      <th>1063149</th>\n",
       "      <td>2</td>\n",
       "      <td>Ovid</td>\n",
       "    </tr>\n",
       "    <tr>\n",
       "      <th>1063179</th>\n",
       "      <td>2</td>\n",
       "      <td>mrdoob</td>\n",
       "    </tr>\n",
       "    <tr>\n",
       "      <th>1063178</th>\n",
       "      <td>2</td>\n",
       "      <td>mindlapse</td>\n",
       "    </tr>\n",
       "    <tr>\n",
       "      <th>1063177</th>\n",
       "      <td>2</td>\n",
       "      <td>mrdoob</td>\n",
       "    </tr>\n",
       "    <tr>\n",
       "      <th>1063176</th>\n",
       "      <td>2</td>\n",
       "      <td>sr3d</td>\n",
       "    </tr>\n",
       "    <tr>\n",
       "      <th>1063175</th>\n",
       "      <td>2</td>\n",
       "      <td>mrdoob</td>\n",
       "    </tr>\n",
       "    <tr>\n",
       "      <th>1063174</th>\n",
       "      <td>2</td>\n",
       "      <td>sr3d</td>\n",
       "    </tr>\n",
       "    <tr>\n",
       "      <th>1063173</th>\n",
       "      <td>2</td>\n",
       "      <td>mrdoob</td>\n",
       "    </tr>\n",
       "    <tr>\n",
       "      <th>1063172</th>\n",
       "      <td>2</td>\n",
       "      <td>D1plo1d</td>\n",
       "    </tr>\n",
       "    <tr>\n",
       "      <th>1063171</th>\n",
       "      <td>2</td>\n",
       "      <td>mrdoob</td>\n",
       "    </tr>\n",
       "    <tr>\n",
       "      <th>1063170</th>\n",
       "      <td>2</td>\n",
       "      <td>D1plo1d</td>\n",
       "    </tr>\n",
       "  </tbody>\n",
       "</table>\n",
       "</div>"
      ],
      "text/plain": [
       "         ID            User\n",
       "238087    1      chrislloyd\n",
       "1063147   1  splatcollision\n",
       "1063146   1          mrdoob\n",
       "1063148   2          mrdoob\n",
       "1063149   2            Ovid\n",
       "1063179   2          mrdoob\n",
       "1063178   2       mindlapse\n",
       "1063177   2          mrdoob\n",
       "1063176   2            sr3d\n",
       "1063175   2          mrdoob\n",
       "1063174   2            sr3d\n",
       "1063173   2          mrdoob\n",
       "1063172   2         D1plo1d\n",
       "1063171   2          mrdoob\n",
       "1063170   2         D1plo1d"
      ]
     },
     "execution_count": 55,
     "metadata": {},
     "output_type": "execute_result"
    }
   ],
   "source": [
    "df_three_users_merged.head(15)"
   ]
  },
  {
   "cell_type": "code",
   "execution_count": 56,
   "id": "a93fa139-362c-49a9-820e-53df354e7b77",
   "metadata": {},
   "outputs": [],
   "source": [
    "df_three_users_merged_no_dupl = df_three_users_merged.drop_duplicates()"
   ]
  },
  {
   "cell_type": "code",
   "execution_count": 57,
   "id": "df9869cd-e1ca-4411-b3b0-005adef25e3e",
   "metadata": {},
   "outputs": [
    {
     "data": {
      "text/html": [
       "<div>\n",
       "<style scoped>\n",
       "    .dataframe tbody tr th:only-of-type {\n",
       "        vertical-align: middle;\n",
       "    }\n",
       "\n",
       "    .dataframe tbody tr th {\n",
       "        vertical-align: top;\n",
       "    }\n",
       "\n",
       "    .dataframe thead th {\n",
       "        text-align: right;\n",
       "    }\n",
       "</style>\n",
       "<table border=\"1\" class=\"dataframe\">\n",
       "  <thead>\n",
       "    <tr style=\"text-align: right;\">\n",
       "      <th></th>\n",
       "      <th>ID</th>\n",
       "      <th>User</th>\n",
       "    </tr>\n",
       "  </thead>\n",
       "  <tbody>\n",
       "    <tr>\n",
       "      <th>238087</th>\n",
       "      <td>1</td>\n",
       "      <td>chrislloyd</td>\n",
       "    </tr>\n",
       "    <tr>\n",
       "      <th>1063147</th>\n",
       "      <td>1</td>\n",
       "      <td>splatcollision</td>\n",
       "    </tr>\n",
       "    <tr>\n",
       "      <th>1063146</th>\n",
       "      <td>1</td>\n",
       "      <td>mrdoob</td>\n",
       "    </tr>\n",
       "    <tr>\n",
       "      <th>1063148</th>\n",
       "      <td>2</td>\n",
       "      <td>mrdoob</td>\n",
       "    </tr>\n",
       "    <tr>\n",
       "      <th>1063149</th>\n",
       "      <td>2</td>\n",
       "      <td>Ovid</td>\n",
       "    </tr>\n",
       "    <tr>\n",
       "      <th>1063178</th>\n",
       "      <td>2</td>\n",
       "      <td>mindlapse</td>\n",
       "    </tr>\n",
       "    <tr>\n",
       "      <th>1063176</th>\n",
       "      <td>2</td>\n",
       "      <td>sr3d</td>\n",
       "    </tr>\n",
       "    <tr>\n",
       "      <th>1063172</th>\n",
       "      <td>2</td>\n",
       "      <td>D1plo1d</td>\n",
       "    </tr>\n",
       "    <tr>\n",
       "      <th>1063150</th>\n",
       "      <td>2</td>\n",
       "      <td>jurjen</td>\n",
       "    </tr>\n",
       "    <tr>\n",
       "      <th>1063180</th>\n",
       "      <td>3</td>\n",
       "      <td>mrdoob</td>\n",
       "    </tr>\n",
       "  </tbody>\n",
       "</table>\n",
       "</div>"
      ],
      "text/plain": [
       "         ID            User\n",
       "238087    1      chrislloyd\n",
       "1063147   1  splatcollision\n",
       "1063146   1          mrdoob\n",
       "1063148   2          mrdoob\n",
       "1063149   2            Ovid\n",
       "1063178   2       mindlapse\n",
       "1063176   2            sr3d\n",
       "1063172   2         D1plo1d\n",
       "1063150   2          jurjen\n",
       "1063180   3          mrdoob"
      ]
     },
     "execution_count": 57,
     "metadata": {},
     "output_type": "execute_result"
    }
   ],
   "source": [
    "df_three_users_merged_no_dupl.head(10)"
   ]
  },
  {
   "cell_type": "code",
   "execution_count": 58,
   "id": "8bd94ad0-2664-4c5a-9079-183e1639fd83",
   "metadata": {},
   "outputs": [],
   "source": [
    "save_csv(df_three_users_merged_no_dupl,'three.js-id_commit-user')"
   ]
  }
 ],
 "metadata": {
  "kernelspec": {
   "display_name": "DSCourse",
   "language": "python",
   "name": "dscourse"
  },
  "language_info": {
   "codemirror_mode": {
    "name": "ipython",
    "version": 3
   },
   "file_extension": ".py",
   "mimetype": "text/x-python",
   "name": "python",
   "nbconvert_exporter": "python",
   "pygments_lexer": "ipython3",
   "version": "3.10.8"
  }
 },
 "nbformat": 4,
 "nbformat_minor": 5
}
