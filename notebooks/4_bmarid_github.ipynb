{
 "cells": [
  {
   "cell_type": "raw",
   "id": "afc79161-f047-4925-83bf-da1305760781",
   "metadata": {},
   "source": [
    "Full description of notebook\n",
    "* Microsoft data"
   ]
  },
  {
   "cell_type": "markdown",
   "id": "af04fe50-3db9-496e-8e98-5e3cdf163178",
   "metadata": {},
   "source": [
    "# imports"
   ]
  },
  {
   "cell_type": "code",
   "execution_count": 78,
   "id": "65ee03e9-41a4-4e4a-94a0-e317be12703a",
   "metadata": {},
   "outputs": [],
   "source": [
    "import pandas as pd\n",
    "import networkx as nx\n",
    "from networkx.algorithms import bipartite\n",
    "import matplotlib.pyplot as plt"
   ]
  },
  {
   "cell_type": "code",
   "execution_count": 69,
   "id": "1d78d893-61a6-4114-939b-79779474f003",
   "metadata": {},
   "outputs": [],
   "source": [
    "# read files"
   ]
  },
  {
   "cell_type": "code",
   "execution_count": 70,
   "id": "38ad862b-0695-4c31-965c-24529a9ae448",
   "metadata": {},
   "outputs": [],
   "source": [
    "path = 'data/'"
   ]
  },
  {
   "cell_type": "code",
   "execution_count": 71,
   "id": "287d5813-0d22-459c-9f93-26f9ca4e07f6",
   "metadata": {},
   "outputs": [],
   "source": [
    "def save_graph(G, graph_name):\n",
    "    filepath = path + 'graph/' + graph_name + '.gexf'\n",
    "    nx.write_gexf(G, filepath)"
   ]
  },
  {
   "cell_type": "code",
   "execution_count": 72,
   "id": "a596699a-025e-4213-ab1a-7787417f1bf7",
   "metadata": {},
   "outputs": [],
   "source": [
    "def save_csv(df, file_name):\n",
    "    filepath = path + file_name + '.csv'\n",
    "    df.to_csv(filepath, index = False)  "
   ]
  },
  {
   "cell_type": "code",
   "execution_count": 74,
   "id": "534aa363-8bc1-4ac5-b23a-34315faa686b",
   "metadata": {},
   "outputs": [],
   "source": [
    "file_three_js_task_user = 'three.js-id_commit-user.csv'"
   ]
  },
  {
   "cell_type": "code",
   "execution_count": 75,
   "id": "4bf9de29-45eb-4ad9-a7be-2fc294edd08c",
   "metadata": {},
   "outputs": [],
   "source": [
    "df_three_users_merged_no_dupl = pd.read_csv(path + file_three_js_task_user)"
   ]
  },
  {
   "cell_type": "markdown",
   "id": "a9e568f7-cac2-4e35-8169-69990ee67164",
   "metadata": {},
   "source": [
    "# test microsoft"
   ]
  },
  {
   "cell_type": "code",
   "execution_count": 455,
   "id": "9da5fb53-6a00-4b20-9bb0-8d4f54642172",
   "metadata": {},
   "outputs": [],
   "source": [
    "repository = '[microsoft]TypeScript'"
   ]
  },
  {
   "cell_type": "code",
   "execution_count": 456,
   "id": "d62a19a5-52b3-4ad5-ada8-316311dfa5fc",
   "metadata": {},
   "outputs": [],
   "source": [
    "df_three_comments = df_comments[df_comments['Repository'] == repository]\n",
    "df_three = df_issues[df_issues['Repository'] == repository]"
   ]
  },
  {
   "cell_type": "code",
   "execution_count": 457,
   "id": "06003554-82ac-4bd9-b7d3-85c87866b8f8",
   "metadata": {},
   "outputs": [
    {
     "data": {
      "text/html": [
       "<div>\n",
       "<style scoped>\n",
       "    .dataframe tbody tr th:only-of-type {\n",
       "        vertical-align: middle;\n",
       "    }\n",
       "\n",
       "    .dataframe tbody tr th {\n",
       "        vertical-align: top;\n",
       "    }\n",
       "\n",
       "    .dataframe thead th {\n",
       "        text-align: right;\n",
       "    }\n",
       "</style>\n",
       "<table border=\"1\" class=\"dataframe\">\n",
       "  <thead>\n",
       "    <tr style=\"text-align: right;\">\n",
       "      <th></th>\n",
       "      <th>Repository</th>\n",
       "      <th>ID</th>\n",
       "      <th>User</th>\n",
       "      <th>Type</th>\n",
       "      <th>State</th>\n",
       "      <th>CommitId</th>\n",
       "      <th>CreatedAt</th>\n",
       "      <th>ClosedAt</th>\n",
       "      <th>IsMerged</th>\n",
       "      <th>CountReactions</th>\n",
       "      <th>CountLike</th>\n",
       "      <th>CountDislike</th>\n",
       "    </tr>\n",
       "  </thead>\n",
       "  <tbody>\n",
       "    <tr>\n",
       "      <th>226328</th>\n",
       "      <td>[microsoft]TypeScript</td>\n",
       "      <td>1</td>\n",
       "      <td>RyanCavanaugh</td>\n",
       "      <td>issue</td>\n",
       "      <td>closed</td>\n",
       "      <td>NaN</td>\n",
       "      <td>2014-07-14</td>\n",
       "      <td>2014-09-19</td>\n",
       "      <td>False</td>\n",
       "      <td>0</td>\n",
       "      <td>0</td>\n",
       "      <td>0</td>\n",
       "    </tr>\n",
       "    <tr>\n",
       "      <th>226329</th>\n",
       "      <td>[microsoft]TypeScript</td>\n",
       "      <td>2</td>\n",
       "      <td>danquirk</td>\n",
       "      <td>pull</td>\n",
       "      <td>closed</td>\n",
       "      <td>e9cd8a0e884d5c363b00facd5c6cf26045f46432</td>\n",
       "      <td>2014-07-14</td>\n",
       "      <td>2014-07-15</td>\n",
       "      <td>True</td>\n",
       "      <td>0</td>\n",
       "      <td>0</td>\n",
       "      <td>0</td>\n",
       "    </tr>\n",
       "    <tr>\n",
       "      <th>226330</th>\n",
       "      <td>[microsoft]TypeScript</td>\n",
       "      <td>3</td>\n",
       "      <td>danquirk</td>\n",
       "      <td>pull</td>\n",
       "      <td>closed</td>\n",
       "      <td>e9cd8a0e884d5c363b00facd5c6cf26045f46432</td>\n",
       "      <td>2014-07-15</td>\n",
       "      <td>2014-07-15</td>\n",
       "      <td>False</td>\n",
       "      <td>0</td>\n",
       "      <td>0</td>\n",
       "      <td>0</td>\n",
       "    </tr>\n",
       "    <tr>\n",
       "      <th>226331</th>\n",
       "      <td>[microsoft]TypeScript</td>\n",
       "      <td>4</td>\n",
       "      <td>DanielRosenwasser</td>\n",
       "      <td>pull</td>\n",
       "      <td>closed</td>\n",
       "      <td>455364cf5a2e4f9cece69599475677bb41e2ac36</td>\n",
       "      <td>2014-07-15</td>\n",
       "      <td>2014-07-15</td>\n",
       "      <td>False</td>\n",
       "      <td>0</td>\n",
       "      <td>0</td>\n",
       "      <td>0</td>\n",
       "    </tr>\n",
       "    <tr>\n",
       "      <th>226332</th>\n",
       "      <td>[microsoft]TypeScript</td>\n",
       "      <td>5</td>\n",
       "      <td>RyanCavanaugh</td>\n",
       "      <td>issue</td>\n",
       "      <td>closed</td>\n",
       "      <td>NaN</td>\n",
       "      <td>2014-07-15</td>\n",
       "      <td>2015-01-14</td>\n",
       "      <td>False</td>\n",
       "      <td>0</td>\n",
       "      <td>0</td>\n",
       "      <td>0</td>\n",
       "    </tr>\n",
       "  </tbody>\n",
       "</table>\n",
       "</div>"
      ],
      "text/plain": [
       "                   Repository  ID               User   Type   State  \\\n",
       "226328  [microsoft]TypeScript   1      RyanCavanaugh  issue  closed   \n",
       "226329  [microsoft]TypeScript   2           danquirk   pull  closed   \n",
       "226330  [microsoft]TypeScript   3           danquirk   pull  closed   \n",
       "226331  [microsoft]TypeScript   4  DanielRosenwasser   pull  closed   \n",
       "226332  [microsoft]TypeScript   5      RyanCavanaugh  issue  closed   \n",
       "\n",
       "                                        CommitId   CreatedAt    ClosedAt  \\\n",
       "226328                                       NaN  2014-07-14  2014-09-19   \n",
       "226329  e9cd8a0e884d5c363b00facd5c6cf26045f46432  2014-07-14  2014-07-15   \n",
       "226330  e9cd8a0e884d5c363b00facd5c6cf26045f46432  2014-07-15  2014-07-15   \n",
       "226331  455364cf5a2e4f9cece69599475677bb41e2ac36  2014-07-15  2014-07-15   \n",
       "226332                                       NaN  2014-07-15  2015-01-14   \n",
       "\n",
       "        IsMerged  CountReactions  CountLike  CountDislike  \n",
       "226328     False               0          0             0  \n",
       "226329      True               0          0             0  \n",
       "226330     False               0          0             0  \n",
       "226331     False               0          0             0  \n",
       "226332     False               0          0             0  "
      ]
     },
     "execution_count": 457,
     "metadata": {},
     "output_type": "execute_result"
    }
   ],
   "source": [
    "df_three.head()"
   ]
  },
  {
   "cell_type": "code",
   "execution_count": 458,
   "id": "0befc4af-34ee-41c2-ae85-9a83e1eed0a3",
   "metadata": {},
   "outputs": [
    {
     "data": {
      "text/html": [
       "<div>\n",
       "<style scoped>\n",
       "    .dataframe tbody tr th:only-of-type {\n",
       "        vertical-align: middle;\n",
       "    }\n",
       "\n",
       "    .dataframe tbody tr th {\n",
       "        vertical-align: top;\n",
       "    }\n",
       "\n",
       "    .dataframe thead th {\n",
       "        text-align: right;\n",
       "    }\n",
       "</style>\n",
       "<table border=\"1\" class=\"dataframe\">\n",
       "  <thead>\n",
       "    <tr style=\"text-align: right;\">\n",
       "      <th></th>\n",
       "      <th>Repository</th>\n",
       "      <th>ID</th>\n",
       "      <th>User</th>\n",
       "      <th>CreatedAt</th>\n",
       "      <th>CountReactions</th>\n",
       "      <th>CountLike</th>\n",
       "      <th>CountDislike</th>\n",
       "      <th>Sentiment</th>\n",
       "      <th>SentimentScore</th>\n",
       "    </tr>\n",
       "  </thead>\n",
       "  <tbody>\n",
       "    <tr>\n",
       "      <th>1007222</th>\n",
       "      <td>[microsoft]TypeScript</td>\n",
       "      <td>1</td>\n",
       "      <td>RyanCavanaugh</td>\n",
       "      <td>2014-07-28</td>\n",
       "      <td>0</td>\n",
       "      <td>0</td>\n",
       "      <td>0</td>\n",
       "      <td>POSITIVE</td>\n",
       "      <td>0.9978</td>\n",
       "    </tr>\n",
       "    <tr>\n",
       "      <th>1007223</th>\n",
       "      <td>[microsoft]TypeScript</td>\n",
       "      <td>1</td>\n",
       "      <td>philipbulley</td>\n",
       "      <td>2014-08-08</td>\n",
       "      <td>0</td>\n",
       "      <td>0</td>\n",
       "      <td>0</td>\n",
       "      <td>POSITIVE</td>\n",
       "      <td>0.9945</td>\n",
       "    </tr>\n",
       "    <tr>\n",
       "      <th>1007224</th>\n",
       "      <td>[microsoft]TypeScript</td>\n",
       "      <td>1</td>\n",
       "      <td>basarat</td>\n",
       "      <td>2014-08-11</td>\n",
       "      <td>0</td>\n",
       "      <td>0</td>\n",
       "      <td>0</td>\n",
       "      <td>POSITIVE</td>\n",
       "      <td>0.9945</td>\n",
       "    </tr>\n",
       "    <tr>\n",
       "      <th>1007225</th>\n",
       "      <td>[microsoft]TypeScript</td>\n",
       "      <td>1</td>\n",
       "      <td>diverted247</td>\n",
       "      <td>2014-08-12</td>\n",
       "      <td>0</td>\n",
       "      <td>0</td>\n",
       "      <td>0</td>\n",
       "      <td>POSITIVE</td>\n",
       "      <td>0.9988</td>\n",
       "    </tr>\n",
       "    <tr>\n",
       "      <th>1007226</th>\n",
       "      <td>[microsoft]TypeScript</td>\n",
       "      <td>1</td>\n",
       "      <td>galloscript</td>\n",
       "      <td>2014-08-23</td>\n",
       "      <td>0</td>\n",
       "      <td>0</td>\n",
       "      <td>0</td>\n",
       "      <td>NEGATIVE</td>\n",
       "      <td>0.9996</td>\n",
       "    </tr>\n",
       "  </tbody>\n",
       "</table>\n",
       "</div>"
      ],
      "text/plain": [
       "                    Repository  ID           User   CreatedAt  CountReactions  \\\n",
       "1007222  [microsoft]TypeScript   1  RyanCavanaugh  2014-07-28               0   \n",
       "1007223  [microsoft]TypeScript   1   philipbulley  2014-08-08               0   \n",
       "1007224  [microsoft]TypeScript   1        basarat  2014-08-11               0   \n",
       "1007225  [microsoft]TypeScript   1    diverted247  2014-08-12               0   \n",
       "1007226  [microsoft]TypeScript   1    galloscript  2014-08-23               0   \n",
       "\n",
       "         CountLike  CountDislike Sentiment  SentimentScore  \n",
       "1007222          0             0  POSITIVE          0.9978  \n",
       "1007223          0             0  POSITIVE          0.9945  \n",
       "1007224          0             0  POSITIVE          0.9945  \n",
       "1007225          0             0  POSITIVE          0.9988  \n",
       "1007226          0             0  NEGATIVE          0.9996  "
      ]
     },
     "execution_count": 458,
     "metadata": {},
     "output_type": "execute_result"
    }
   ],
   "source": [
    "df_three_comments.head()"
   ]
  },
  {
   "cell_type": "code",
   "execution_count": 459,
   "id": "c1d3eeb2-c2ce-4095-b07e-10d95b2d892e",
   "metadata": {},
   "outputs": [],
   "source": [
    "df_three_users_ac = df_three.copy()\n",
    "to_drop = ['Repository', 'Type', 'State', 'CommitId', 'CreatedAt', 'ClosedAt', 'IsMerged', 'CountReactions', 'CountLike', 'CountDislike']\n",
    "df_three_users_ac = df_three_users_ac.drop(columns = to_drop)"
   ]
  },
  {
   "cell_type": "code",
   "execution_count": 460,
   "id": "fabe0b31-c7b1-41ca-bb3d-a4e34b47d487",
   "metadata": {},
   "outputs": [
    {
     "data": {
      "text/html": [
       "<div>\n",
       "<style scoped>\n",
       "    .dataframe tbody tr th:only-of-type {\n",
       "        vertical-align: middle;\n",
       "    }\n",
       "\n",
       "    .dataframe tbody tr th {\n",
       "        vertical-align: top;\n",
       "    }\n",
       "\n",
       "    .dataframe thead th {\n",
       "        text-align: right;\n",
       "    }\n",
       "</style>\n",
       "<table border=\"1\" class=\"dataframe\">\n",
       "  <thead>\n",
       "    <tr style=\"text-align: right;\">\n",
       "      <th></th>\n",
       "      <th>ID</th>\n",
       "      <th>User</th>\n",
       "    </tr>\n",
       "  </thead>\n",
       "  <tbody>\n",
       "    <tr>\n",
       "      <th>226328</th>\n",
       "      <td>1</td>\n",
       "      <td>RyanCavanaugh</td>\n",
       "    </tr>\n",
       "    <tr>\n",
       "      <th>226329</th>\n",
       "      <td>2</td>\n",
       "      <td>danquirk</td>\n",
       "    </tr>\n",
       "    <tr>\n",
       "      <th>226330</th>\n",
       "      <td>3</td>\n",
       "      <td>danquirk</td>\n",
       "    </tr>\n",
       "    <tr>\n",
       "      <th>226331</th>\n",
       "      <td>4</td>\n",
       "      <td>DanielRosenwasser</td>\n",
       "    </tr>\n",
       "    <tr>\n",
       "      <th>226332</th>\n",
       "      <td>5</td>\n",
       "      <td>RyanCavanaugh</td>\n",
       "    </tr>\n",
       "  </tbody>\n",
       "</table>\n",
       "</div>"
      ],
      "text/plain": [
       "        ID               User\n",
       "226328   1      RyanCavanaugh\n",
       "226329   2           danquirk\n",
       "226330   3           danquirk\n",
       "226331   4  DanielRosenwasser\n",
       "226332   5      RyanCavanaugh"
      ]
     },
     "execution_count": 460,
     "metadata": {},
     "output_type": "execute_result"
    }
   ],
   "source": [
    "df_three_users_ac.head()"
   ]
  },
  {
   "cell_type": "code",
   "execution_count": 461,
   "id": "837cff81-53ed-43e4-8dd2-195ee4aea298",
   "metadata": {},
   "outputs": [],
   "source": [
    "df_three_users_c = df_three_comments.copy()\n",
    "to_drop = ['Repository', 'CreatedAt', 'CountReactions', 'CountLike', 'CountDislike', 'Sentiment', 'SentimentScore']\n",
    "df_three_users_c = df_three_users_c.drop(columns = to_drop)"
   ]
  },
  {
   "cell_type": "code",
   "execution_count": 462,
   "id": "ef070475-6f5d-409a-8df9-5e14b28cf9d2",
   "metadata": {},
   "outputs": [
    {
     "data": {
      "text/html": [
       "<div>\n",
       "<style scoped>\n",
       "    .dataframe tbody tr th:only-of-type {\n",
       "        vertical-align: middle;\n",
       "    }\n",
       "\n",
       "    .dataframe tbody tr th {\n",
       "        vertical-align: top;\n",
       "    }\n",
       "\n",
       "    .dataframe thead th {\n",
       "        text-align: right;\n",
       "    }\n",
       "</style>\n",
       "<table border=\"1\" class=\"dataframe\">\n",
       "  <thead>\n",
       "    <tr style=\"text-align: right;\">\n",
       "      <th></th>\n",
       "      <th>ID</th>\n",
       "      <th>User</th>\n",
       "    </tr>\n",
       "  </thead>\n",
       "  <tbody>\n",
       "    <tr>\n",
       "      <th>1007222</th>\n",
       "      <td>1</td>\n",
       "      <td>RyanCavanaugh</td>\n",
       "    </tr>\n",
       "    <tr>\n",
       "      <th>1007223</th>\n",
       "      <td>1</td>\n",
       "      <td>philipbulley</td>\n",
       "    </tr>\n",
       "    <tr>\n",
       "      <th>1007224</th>\n",
       "      <td>1</td>\n",
       "      <td>basarat</td>\n",
       "    </tr>\n",
       "    <tr>\n",
       "      <th>1007225</th>\n",
       "      <td>1</td>\n",
       "      <td>diverted247</td>\n",
       "    </tr>\n",
       "    <tr>\n",
       "      <th>1007226</th>\n",
       "      <td>1</td>\n",
       "      <td>galloscript</td>\n",
       "    </tr>\n",
       "  </tbody>\n",
       "</table>\n",
       "</div>"
      ],
      "text/plain": [
       "         ID           User\n",
       "1007222   1  RyanCavanaugh\n",
       "1007223   1   philipbulley\n",
       "1007224   1        basarat\n",
       "1007225   1    diverted247\n",
       "1007226   1    galloscript"
      ]
     },
     "execution_count": 462,
     "metadata": {},
     "output_type": "execute_result"
    }
   ],
   "source": [
    "df_three_users_c.head()"
   ]
  },
  {
   "cell_type": "code",
   "execution_count": 463,
   "id": "bb4f747b-025e-4cd4-bf5f-1445a4731c32",
   "metadata": {},
   "outputs": [],
   "source": [
    "frames = [df_three_users_ac, df_three_users_c]\n",
    "df_three_users_merged = pd.concat(frames)\n",
    "df_three_users_merged = df_three_users_merged.sort_values(by='ID', ascending = True)"
   ]
  },
  {
   "cell_type": "markdown",
   "id": "344cab31-0a59-446c-853a-15b69639703b",
   "metadata": {},
   "source": [
    "## Merged"
   ]
  },
  {
   "cell_type": "code",
   "execution_count": 464,
   "id": "b881cf7c-ad64-4113-a348-3f1826de4d94",
   "metadata": {},
   "outputs": [
    {
     "data": {
      "text/html": [
       "<div>\n",
       "<style scoped>\n",
       "    .dataframe tbody tr th:only-of-type {\n",
       "        vertical-align: middle;\n",
       "    }\n",
       "\n",
       "    .dataframe tbody tr th {\n",
       "        vertical-align: top;\n",
       "    }\n",
       "\n",
       "    .dataframe thead th {\n",
       "        text-align: right;\n",
       "    }\n",
       "</style>\n",
       "<table border=\"1\" class=\"dataframe\">\n",
       "  <thead>\n",
       "    <tr style=\"text-align: right;\">\n",
       "      <th></th>\n",
       "      <th>ID</th>\n",
       "      <th>User</th>\n",
       "    </tr>\n",
       "  </thead>\n",
       "  <tbody>\n",
       "    <tr>\n",
       "      <th>226328</th>\n",
       "      <td>1</td>\n",
       "      <td>RyanCavanaugh</td>\n",
       "    </tr>\n",
       "    <tr>\n",
       "      <th>1007247</th>\n",
       "      <td>1</td>\n",
       "      <td>ahejlsberg</td>\n",
       "    </tr>\n",
       "    <tr>\n",
       "      <th>1007246</th>\n",
       "      <td>1</td>\n",
       "      <td>jntrnr</td>\n",
       "    </tr>\n",
       "    <tr>\n",
       "      <th>1007245</th>\n",
       "      <td>1</td>\n",
       "      <td>NoelAbrahams</td>\n",
       "    </tr>\n",
       "    <tr>\n",
       "      <th>1007244</th>\n",
       "      <td>1</td>\n",
       "      <td>RyanCavanaugh</td>\n",
       "    </tr>\n",
       "  </tbody>\n",
       "</table>\n",
       "</div>"
      ],
      "text/plain": [
       "         ID           User\n",
       "226328    1  RyanCavanaugh\n",
       "1007247   1     ahejlsberg\n",
       "1007246   1         jntrnr\n",
       "1007245   1   NoelAbrahams\n",
       "1007244   1  RyanCavanaugh"
      ]
     },
     "execution_count": 464,
     "metadata": {},
     "output_type": "execute_result"
    }
   ],
   "source": [
    "df_three_users_merged.head()"
   ]
  },
  {
   "cell_type": "code",
   "execution_count": 465,
   "id": "45914763-5183-47ed-9b3c-25755fd356c6",
   "metadata": {},
   "outputs": [],
   "source": [
    "df_three_users_merged_no_dupl = df_three_users_merged.drop_duplicates()"
   ]
  },
  {
   "cell_type": "code",
   "execution_count": 466,
   "id": "ce6c7873-6709-4189-8c5e-84b42e483fac",
   "metadata": {},
   "outputs": [
    {
     "data": {
      "text/html": [
       "<div>\n",
       "<style scoped>\n",
       "    .dataframe tbody tr th:only-of-type {\n",
       "        vertical-align: middle;\n",
       "    }\n",
       "\n",
       "    .dataframe tbody tr th {\n",
       "        vertical-align: top;\n",
       "    }\n",
       "\n",
       "    .dataframe thead th {\n",
       "        text-align: right;\n",
       "    }\n",
       "</style>\n",
       "<table border=\"1\" class=\"dataframe\">\n",
       "  <thead>\n",
       "    <tr style=\"text-align: right;\">\n",
       "      <th></th>\n",
       "      <th>ID</th>\n",
       "      <th>User</th>\n",
       "    </tr>\n",
       "  </thead>\n",
       "  <tbody>\n",
       "    <tr>\n",
       "      <th>226328</th>\n",
       "      <td>1</td>\n",
       "      <td>RyanCavanaugh</td>\n",
       "    </tr>\n",
       "    <tr>\n",
       "      <th>1007247</th>\n",
       "      <td>1</td>\n",
       "      <td>ahejlsberg</td>\n",
       "    </tr>\n",
       "    <tr>\n",
       "      <th>1007246</th>\n",
       "      <td>1</td>\n",
       "      <td>jntrnr</td>\n",
       "    </tr>\n",
       "    <tr>\n",
       "      <th>1007245</th>\n",
       "      <td>1</td>\n",
       "      <td>NoelAbrahams</td>\n",
       "    </tr>\n",
       "    <tr>\n",
       "      <th>1007243</th>\n",
       "      <td>1</td>\n",
       "      <td>csnover</td>\n",
       "    </tr>\n",
       "  </tbody>\n",
       "</table>\n",
       "</div>"
      ],
      "text/plain": [
       "         ID           User\n",
       "226328    1  RyanCavanaugh\n",
       "1007247   1     ahejlsberg\n",
       "1007246   1         jntrnr\n",
       "1007245   1   NoelAbrahams\n",
       "1007243   1        csnover"
      ]
     },
     "execution_count": 466,
     "metadata": {},
     "output_type": "execute_result"
    }
   ],
   "source": [
    "df_three_users_merged_no_dupl.head()"
   ]
  },
  {
   "cell_type": "code",
   "execution_count": 467,
   "id": "24637f54-673e-451b-92ac-e06e93520aba",
   "metadata": {},
   "outputs": [
    {
     "data": {
      "text/plain": [
       "33389"
      ]
     },
     "execution_count": 467,
     "metadata": {},
     "output_type": "execute_result"
    }
   ],
   "source": [
    "len(df_three_users_merged_no_dupl)"
   ]
  },
  {
   "cell_type": "markdown",
   "id": "06e1ddfb-9baf-4ae6-9fbe-889061aca6ea",
   "metadata": {},
   "source": [
    "## prepare data"
   ]
  },
  {
   "cell_type": "code",
   "execution_count": 468,
   "id": "ab4f0944-deaf-4a8c-bff4-8ce4b7a14642",
   "metadata": {},
   "outputs": [],
   "source": [
    "df_tmp = df_three_users_merged_no_dupl\n",
    "id_pri = list(df_tmp[\"ID\"].unique())\n",
    "id_user = list(df_tmp[\"User\"].unique())\n",
    "nb_links = len(df_tmp)"
   ]
  },
  {
   "cell_type": "code",
   "execution_count": 469,
   "id": "69a1daa4-29d7-4269-9c81-bddaec16752f",
   "metadata": {},
   "outputs": [],
   "source": [
    "size = range(0, nb_links)\n",
    "\n",
    "edge_list = []\n",
    "for i in size:\n",
    "    left = df_tmp['ID'].iloc[i]\n",
    "    right = df_tmp['User'].iloc[i]\n",
    "    pair = (left, right)\n",
    "    edge_list.append(pair)"
   ]
  },
  {
   "cell_type": "markdown",
   "id": "12b00705-7aff-494d-8f1a-76917a7ca9cd",
   "metadata": {},
   "source": [
    "### bipartite graph microsoft"
   ]
  },
  {
   "cell_type": "code",
   "execution_count": 470,
   "id": "e7c570f4-1598-4f1e-a5f6-5cd790f5e8af",
   "metadata": {},
   "outputs": [],
   "source": [
    "# Create a bipartite graph\n",
    "B = nx.Graph()\n",
    "B.add_nodes_from(id_pri, node_type = \"PRI\", bipartite = 0)\n",
    "B.add_nodes_from(id_user, node_type = \"User\", bipartite = 1)\n",
    "B.add_edges_from(edge_list)"
   ]
  },
  {
   "cell_type": "code",
   "execution_count": 471,
   "id": "7015ecf9-d567-40b2-8bf1-d0e484e8fa56",
   "metadata": {},
   "outputs": [],
   "source": [
    "### users"
   ]
  },
  {
   "cell_type": "code",
   "execution_count": 472,
   "id": "9ac443e2-6918-43ad-a29f-55bd261cc139",
   "metadata": {},
   "outputs": [],
   "source": [
    "G_users = bipartite.weighted_projected_graph(B, id_user)"
   ]
  },
  {
   "cell_type": "code",
   "execution_count": 473,
   "id": "884ce229-3fd3-4de6-b8bd-5c04f95a97f5",
   "metadata": {},
   "outputs": [],
   "source": [
    "save_graph(G_users, 'graph_users_microsoft')"
   ]
  },
  {
   "cell_type": "markdown",
   "id": "1e9d2ccf-2e49-44cb-944c-5c8cc08740b4",
   "metadata": {},
   "source": [
    "### Save edge/node files"
   ]
  },
  {
   "cell_type": "code",
   "execution_count": 238,
   "id": "10760104-282a-4ab9-bc7e-3255a9025ca7",
   "metadata": {},
   "outputs": [],
   "source": [
    "# path = 'data/'\n",
    "filepath = path + '2_nodes.csv'\n",
    "df_three_users.to_csv(filepath, index = False)  "
   ]
  },
  {
   "cell_type": "code",
   "execution_count": 242,
   "id": "bd2599b5-2089-461c-9888-f23865d60f59",
   "metadata": {},
   "outputs": [],
   "source": [
    "filepath = path + '2_edges.csv'\n",
    "df_pri_c.to_csv(filepath, index = False)  "
   ]
  }
 ],
 "metadata": {
  "kernelspec": {
   "display_name": "DSCourse",
   "language": "python",
   "name": "dscourse"
  },
  "language_info": {
   "codemirror_mode": {
    "name": "ipython",
    "version": 3
   },
   "file_extension": ".py",
   "mimetype": "text/x-python",
   "name": "python",
   "nbconvert_exporter": "python",
   "pygments_lexer": "ipython3",
   "version": "3.10.8"
  }
 },
 "nbformat": 4,
 "nbformat_minor": 5
}
